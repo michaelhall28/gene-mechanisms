{
 "cells": [
  {
   "cell_type": "markdown",
   "metadata": {},
   "source": [
    "This notebook runs the statistical tests for the ligand-binding region of NOTCH1 in normal skin using a variety of assumptions to build the mutational spectrum for the null model. "
   ]
  },
  {
   "cell_type": "code",
   "execution_count": 1,
   "metadata": {
    "ExecuteTime": {
     "end_time": "2021-06-22T13:18:43.491363Z",
     "start_time": "2021-06-22T13:18:40.646961Z"
    }
   },
   "outputs": [],
   "source": [
    "import numpy as np\n",
    "import pandas as pd\n",
    "import matplotlib.pyplot as plt\n",
    "%matplotlib inline\n",
    "import matplotlib\n",
    "matplotlib.rcParams['figure.figsize'] = [8, 6]"
   ]
  },
  {
   "cell_type": "code",
   "execution_count": 2,
   "metadata": {
    "ExecuteTime": {
     "end_time": "2021-06-22T13:18:47.100632Z",
     "start_time": "2021-06-22T13:18:43.525665Z"
    }
   },
   "outputs": [
    {
     "name": "stderr",
     "output_type": "stream",
     "text": [
      "/Users/mh28/miniconda3/envs/dsenv3/lib/python3.8/site-packages/tqdm/auto.py:22: TqdmWarning: IProgress not found. Please update jupyter and ipywidgets. See https://ipywidgets.readthedocs.io/en/stable/user_install.html\n",
      "  from .autonotebook import tqdm as notebook_tqdm\n",
      "/Users/mh28/miniconda3/envs/dsenv3/lib/python3.8/site-packages/MDAnalysis/coordinates/TRJ.py:1209: DeprecationWarning: Please use `netcdf_file` from the `scipy.io` namespace, the `scipy.io.netcdf` namespace is deprecated.\n",
      "  class NCDFPicklable(scipy.io.netcdf.netcdf_file):\n"
     ]
    }
   ],
   "source": [
    "from darwinian_shift import DarwinianShift, GlobalKmerSpectrum, TranscriptKmerSpectrum, EvenMutationalSpectrum\n",
    "from darwinian_shift import CDFMonteCarloTest, BinomTest\n",
    "from darwinian_shift import FoldXLookup, SequenceDistanceLookup, MutationExclusionLookup, StructureDistanceLookup\n",
    "from darwinian_shift import MutationExclusionLookup, ORLookup\n",
    "from darwinian_shift import hide_top_and_right_axes"
   ]
  },
  {
   "cell_type": "markdown",
   "metadata": {},
   "source": [
    "# Setup"
   ]
  },
  {
   "cell_type": "code",
   "execution_count": 3,
   "metadata": {
    "ExecuteTime": {
     "end_time": "2021-06-22T13:18:47.128051Z",
     "start_time": "2021-06-22T13:18:47.120332Z"
    }
   },
   "outputs": [],
   "source": [
    "# Define the region to test\n",
    "notch1_section_definition_egf11_12 = {\n",
    "    'transcript_id': 'ENST00000277541', 'pdb_id': '2vj3', 'pdb_chain': 'A', \n",
    "    'start': 412, 'end': 488, # Restrict to the residues in EGF11-12\n",
    "    'interface_residues': [413, 415, 418, 420, 421, 422, 423, 424, 425, \n",
    "                         435, 436, 444, 447, 448, 450, 451, 452, 454, \n",
    "                         466, 467, 468, 469, 470, 471, 475, 477, 478, \n",
    "                         479, 480],   # defined in Luca et al 2017\n",
    "    'ca_binding_residues': [412, 413, 415, 431, 432, 435, 452, 453, 455, 469, 470]  # Defined by MetalPDB\n",
    "}"
   ]
  },
  {
   "cell_type": "code",
   "execution_count": 4,
   "metadata": {
    "ExecuteTime": {
     "end_time": "2021-06-22T13:20:06.265762Z",
     "start_time": "2021-06-22T13:20:06.247804Z"
    }
   },
   "outputs": [],
   "source": [
    "# Directories\n",
    "sifts_directory=\"SIFTS_files\"\n",
    "pdb_directory = \"PDB_files\"\n",
    "\n",
    "# Colours\n",
    "unobserved_colour = '#BBBBBB'  \n",
    "observed_colour = '#EE7733'\n",
    "foldx_expected_colour = '#EE6677'\n",
    "foldx_observed_colour = '#CC3311'\n",
    "interface_expected_colour = '#88CCEE'\n",
    "interface_observed_colour = '#0077BB'\n",
    "calcium_expected_colour = '#8DE0D7'\n",
    "calcium_observed_colour = '#009988'"
   ]
  },
  {
   "cell_type": "markdown",
   "metadata": {},
   "source": [
    "# Define the metrics"
   ]
  },
  {
   "cell_type": "markdown",
   "metadata": {},
   "source": [
    "## Individual metrics"
   ]
  },
  {
   "cell_type": "code",
   "execution_count": 5,
   "metadata": {
    "ExecuteTime": {
     "end_time": "2021-06-22T13:20:06.305028Z",
     "start_time": "2021-06-22T13:20:06.298102Z"
    }
   },
   "outputs": [],
   "source": [
    "# Define the FoldX lookup\n",
    "fold = FoldXLookup(foldx_results_directory=\"FoldX_results\",\n",
    "                   sifts_directory=sifts_directory,\n",
    "                   foldx_file_name_start=\"PS_f*\", download_sifts=True)"
   ]
  },
  {
   "cell_type": "code",
   "execution_count": 6,
   "metadata": {
    "ExecuteTime": {
     "end_time": "2021-06-22T13:20:06.325220Z",
     "start_time": "2021-06-22T13:20:06.309309Z"
    }
   },
   "outputs": [],
   "source": [
    "# Define a lookup object which determines whether mutations are on the NOTCH1-ligand interface. \n",
    "interface_lookup = SequenceDistanceLookup(\n",
    "    boolean=True,   # Just a boolean on/off interface. \n",
    "    target_key='interface_residues',   # Use this entry in the section_definition dict to define the target residues\n",
    "    position_type='residue',   # Use the residue number (as opposed to cdspos or chromosomal position)\n",
    "    name='On interface'  # Label to appear on plot axes\n",
    ")"
   ]
  },
  {
   "cell_type": "code",
   "execution_count": 7,
   "metadata": {
    "ExecuteTime": {
     "end_time": "2021-06-22T13:20:06.341232Z",
     "start_time": "2021-06-22T13:20:06.330403Z"
    }
   },
   "outputs": [],
   "source": [
    "ca_lookup = SequenceDistanceLookup(\n",
    "    boolean=True,   # Just a boolean binding/not binding. \n",
    "    target_key='ca_binding_residues',   # Use this entry in the section_definition dict to define the target residues\n",
    "    position_type='residue',   # Use the residue number (as opposed to cdspos or chromosomal position)\n",
    "    name='Calcium binding'  # Label to appear on plot axes\n",
    ")"
   ]
  },
  {
   "cell_type": "markdown",
   "metadata": {},
   "source": [
    "## Conditional tests "
   ]
  },
  {
   "cell_type": "code",
   "execution_count": 8,
   "metadata": {
    "ExecuteTime": {
     "end_time": "2021-06-22T13:20:06.372637Z",
     "start_time": "2021-06-22T13:20:06.344908Z"
    }
   },
   "outputs": [],
   "source": [
    "# First define a lookup that is 1 if the mutation is on the interface and or calcium binding\n",
    "interface_or_ca_lookup = ORLookup(\n",
    "    lookups=[interface_lookup, ca_lookup],  \n",
    "    thresholds=[0.5, 0.5],  # Set thresholds at 0.5\n",
    "    directions=[1, 1],  # Want to exclude mutations which score 1 for interface or calcium binding.\n",
    ")\n",
    "\n",
    "\n",
    "# Define the combined lookup.\n",
    "excllook_foldx = MutationExclusionLookup(\n",
    "    lookup=fold,   # Use the calcium binding lookup for the test\n",
    "    exclusion_lookup=interface_or_ca_lookup,\n",
    "    exclusion_threshold=0.5,  #  Scores from the exclusion are either 0, or 1, so can put threshold anywhere in between.\n",
    "    exclusion_direction=1,   # Exclude mutations with a score above the exclusion_threhold from the exclusion_lookup.\n",
    "    name=fold.name\n",
    ")"
   ]
  },
  {
   "cell_type": "code",
   "execution_count": 9,
   "metadata": {
    "ExecuteTime": {
     "end_time": "2021-06-22T13:20:06.383773Z",
     "start_time": "2021-06-22T13:20:06.376463Z"
    }
   },
   "outputs": [],
   "source": [
    "# Define a lookup to test the interface while excluding destabilising mutations. \n",
    "excllook_interface_foldx_only = MutationExclusionLookup(\n",
    "    lookup=interface_lookup,   # Use the interface lookup for the test\n",
    "    exclusion_lookup=fold,   \n",
    "    exclusion_threshold=2,  #  Exclude mutations with ∆∆G higher than 2kcal/mol.\n",
    "    exclusion_direction=1,   # Exclude mutations with a score above the exclusion_threhold from the exclusion_lookup.\n",
    "    name=interface_lookup.name\n",
    ")"
   ]
  },
  {
   "cell_type": "code",
   "execution_count": 10,
   "metadata": {
    "ExecuteTime": {
     "end_time": "2021-06-22T13:20:06.402761Z",
     "start_time": "2021-06-22T13:20:06.388799Z"
    }
   },
   "outputs": [],
   "source": [
    "# First define a lookup that is 1 if the mutation is destabilising or calcium binding\n",
    "destabilising_or_ca_lookup = ORLookup(\n",
    "    lookups=[fold, ca_lookup],  \n",
    "    thresholds=[2, 0.5],  # Use 2kcal/mol as the ∆∆G threshold. Ca score is 0 or 1, so set threshold at 0.5\n",
    "    directions=[1, 1],  # Want to exclude mutations which score 1 for calcium binding or > 2 for ∆G.\n",
    ")\n",
    "\n",
    "\n",
    "# Define the combined lookup.\n",
    "excllook_interface = MutationExclusionLookup(\n",
    "    lookup=interface_lookup,   # Use the inteface lookup for the test\n",
    "    exclusion_lookup=destabilising_or_ca_lookup,   \n",
    "    exclusion_threshold=0.5,  #  Scores from the exclusion are either 0, or 1, so can put threshold anywhere in between.\n",
    "    exclusion_direction=1,   # Exclude mutations with a score above the exclusion_threhold from the exclusion_lookup.\n",
    "    name=interface_lookup.name\n",
    ")"
   ]
  },
  {
   "cell_type": "code",
   "execution_count": 11,
   "metadata": {
    "ExecuteTime": {
     "end_time": "2021-06-22T13:20:06.419589Z",
     "start_time": "2021-06-22T13:20:06.412180Z"
    }
   },
   "outputs": [],
   "source": [
    "# First define a lookup that is 1 if the mutation is destabilising or on the interface and 0 otherwise.\n",
    "destabilising_or_interface_lookup = ORLookup(\n",
    "    lookups=[fold, interface_lookup],  # Use the FoldX and the interface lookups.  \n",
    "    thresholds=[2, 0.5],  # Again pick a threshold of 2kcal/mol for the FoldX result, interface results are either 0 or 1 so set threshold at 0.5. \n",
    "    directions=[1, 1],  # Want to exclude mutations with scores greater than the thresholds, so directions are both 1.\n",
    ")\n",
    "\n",
    "\n",
    "# Define the combined lookup.\n",
    "excllook_ca = MutationExclusionLookup(\n",
    "    lookup=ca_lookup,   # Use the calcium binding lookup for the test\n",
    "    exclusion_lookup=destabilising_or_interface_lookup,   \n",
    "    exclusion_threshold=0.5,  #  Scores from the exclusion are either 0, or 1, so can put threshold anywhere in between.\n",
    "    exclusion_direction=1,   # Exclude mutations with a score above the exclusion_threhold from the exclusion_lookup.\n",
    "    name=ca_lookup.name\n",
    ")"
   ]
  },
  {
   "cell_type": "markdown",
   "metadata": {},
   "source": [
    "# Alternative mutational spectra"
   ]
  },
  {
   "cell_type": "markdown",
   "metadata": {},
   "source": [
    "## Skin"
   ]
  },
  {
   "cell_type": "code",
   "execution_count": 12,
   "metadata": {},
   "outputs": [],
   "source": [
    "# Create a list of all the spectra needed. \n",
    "supp_fig_spectra = [EvenMutationalSpectrum()]\n",
    "for glob in [1, 0]: # Global or per transcript spectrum\n",
    "    for k in [1, 3, 5]:  # Nucleotide context. No wider context, trinucleotide and pentanucleotide\n",
    "        for ignore_strand in [1, 0]:  # Combine transcribed/non-transcribed strand or not\n",
    "            for deduplicate_spectrum in [0, 1]:  # Don't/do remove duplicate mutations as these may be positively selected\n",
    "                num_rates = 6*4**(k-1)\n",
    "                if not ignore_strand:\n",
    "                    num_rates *= 2\n",
    "                if deduplicate_spectrum:\n",
    "                    dedup = '_dedup'\n",
    "                else:\n",
    "                    dedup = ''\n",
    "                \n",
    "                if glob:\n",
    "                    # Add a global spectrum (all genes assumed to have the same spectrum)\n",
    "                    spec = GlobalKmerSpectrum(\n",
    "                        k=k, ignore_strand=ignore_strand, deduplicate_spectrum=deduplicate_spectrum, \n",
    "                        # Spectra need unique names for creation of dataframe columns\n",
    "                        name='global_{}{}'.format(num_rates, dedup) \n",
    "                    )\n",
    "                    supp_fig_spectra.append(spec)\n",
    "                else:\n",
    "                    # Add transcript spectrum (all transcripts assumed to have their own unique spectrum)\n",
    "                    spec = TranscriptKmerSpectrum(\n",
    "                        k=k, ignore_strand=ignore_strand, deduplicate_spectrum=deduplicate_spectrum, \n",
    "                        # Spectra need unique names for creation of dataframe columns\n",
    "                        name='transcript_{}{}'.format(num_rates, dedup)\n",
    "                    )\n",
    "                    supp_fig_spectra.append(spec)\n"
   ]
  },
  {
   "cell_type": "code",
   "execution_count": 13,
   "metadata": {},
   "outputs": [],
   "source": [
    "# This will take a long time because of the multiple spectra that have to be calculated\n",
    "d_skin = DarwinianShift(\n",
    "    data = pd.read_excel('248092_3_supp_6645104_q35h43.xlsx', sheet_name='Table S4', skiprows=4),\n",
    "    source_genome='GRCh37',\n",
    "    spectra=supp_fig_spectra,\n",
    "    included_mutation_types='missense'\n",
    ")"
   ]
  },
  {
   "cell_type": "code",
   "execution_count": 14,
   "metadata": {
    "ExecuteTime": {
     "end_time": "2021-06-22T13:24:53.642656Z",
     "start_time": "2021-06-22T13:24:53.635691Z"
    }
   },
   "outputs": [],
   "source": [
    "spectra_colours = []\n",
    "for spectrum in supp_fig_spectra:\n",
    "    if isinstance(spectrum, EvenMutationalSpectrum):\n",
    "        spectra_colours.append('k')\n",
    "    elif isinstance(spectrum, GlobalKmerSpectrum):\n",
    "        spectra_colours.append('#bdbdbd')\n",
    "    elif isinstance(spectrum, TranscriptKmerSpectrum):\n",
    "        spectra_colours.append('#636363')"
   ]
  },
  {
   "cell_type": "markdown",
   "metadata": {},
   "source": [
    "### FoldX"
   ]
  },
  {
   "cell_type": "code",
   "execution_count": 15,
   "metadata": {
    "ExecuteTime": {
     "end_time": "2021-06-22T13:27:12.232761Z",
     "start_time": "2021-06-22T13:24:53.646652Z"
    },
    "scrolled": true
   },
   "outputs": [],
   "source": [
    "s_fold_specta = d_skin.run_section(notch1_section_definition_egf11_12, lookup=excllook_foldx, \n",
    "                                         statistics=CDFMonteCarloTest(num_draws=100000))"
   ]
  },
  {
   "cell_type": "code",
   "execution_count": 16,
   "metadata": {
    "ExecuteTime": {
     "end_time": "2021-06-22T13:27:13.429893Z",
     "start_time": "2021-06-22T13:27:12.234377Z"
    }
   },
   "outputs": [
    {
     "data": {
      "image/png": "[encoded data removed]",
      "text/plain": [
       "<Figure size 288x288 with 1 Axes>"
      ]
     },
     "metadata": {
      "needs_background": "light"
     },
     "output_type": "display_data"
    }
   ],
   "source": [
    "s_fold_specta.plot_cdfs(figsize=(4, 4), plot_scale='symlog', show_legend=False,\n",
    "                       colours=[foldx_observed_colour] + spectra_colours)\n",
    "hide_top_and_right_axes()\n",
    "plt.tight_layout()"
   ]
  },
  {
   "cell_type": "code",
   "execution_count": 17,
   "metadata": {
    "ExecuteTime": {
     "end_time": "2021-06-22T13:27:13.442775Z",
     "start_time": "2021-06-22T13:27:13.434379Z"
    }
   },
   "outputs": [],
   "source": [
    "fold_spectra_res = s_fold_specta.get_results_dictionary()"
   ]
  },
  {
   "cell_type": "markdown",
   "metadata": {},
   "source": [
    "### Interface"
   ]
  },
  {
   "cell_type": "code",
   "execution_count": 18,
   "metadata": {
    "ExecuteTime": {
     "end_time": "2021-06-22T13:28:44.293512Z",
     "start_time": "2021-06-22T13:27:13.456065Z"
    }
   },
   "outputs": [],
   "source": [
    "# This excludes mutationsn with ∆∆G > 2kcal/mol\n",
    "s_interface_spectra = d_skin.run_section(notch1_section_definition_egf11_12, lookup=excllook_interface, \n",
    "                                               statistics=BinomTest())"
   ]
  },
  {
   "cell_type": "code",
   "execution_count": 19,
   "metadata": {
    "ExecuteTime": {
     "end_time": "2021-06-22T13:29:16.439514Z",
     "start_time": "2021-06-22T13:28:44.295189Z"
    }
   },
   "outputs": [
    {
     "data": {
      "image/png": "[encoded data removed]",
      "text/plain": [
       "<Figure size 576x288 with 1 Axes>"
      ]
     },
     "metadata": {
      "needs_background": "light"
     },
     "output_type": "display_data"
    }
   ],
   "source": [
    "s_interface_spectra.plot_binned_counts(\n",
    "    figsize=(8, 4), show_legend=False,\n",
    "    colours=[interface_observed_colour] + spectra_colours,\n",
    "    linewidth=1 \n",
    ")\n",
    "hide_top_and_right_axes()\n",
    "plt.title('')\n",
    "plt.xticks(plt.gca().get_xticks(), ['False', 'True'])\n",
    "plt.xlabel('On interface')\n",
    "plt.subplots_adjust(left=0.3, bottom=0.3, right=1, top=1)"
   ]
  },
  {
   "cell_type": "code",
   "execution_count": 20,
   "metadata": {
    "ExecuteTime": {
     "end_time": "2021-06-22T13:29:16.450581Z",
     "start_time": "2021-06-22T13:29:16.444427Z"
    }
   },
   "outputs": [],
   "source": [
    "interface_spectra_res = s_interface_spectra.get_results_dictionary()"
   ]
  },
  {
   "cell_type": "markdown",
   "metadata": {},
   "source": [
    "### Calcium binding"
   ]
  },
  {
   "cell_type": "code",
   "execution_count": 21,
   "metadata": {
    "ExecuteTime": {
     "end_time": "2021-06-22T13:30:22.047064Z",
     "start_time": "2021-06-22T13:29:16.457337Z"
    }
   },
   "outputs": [],
   "source": [
    "# This excludes mutationsn with ∆∆G > 2kcal/mol and on the ligand-binding interface\n",
    "s_calcium_spectra = d_skin.run_section(notch1_section_definition_egf11_12,  lookup=excllook_ca, \n",
    "                                             statistics=BinomTest())"
   ]
  },
  {
   "cell_type": "code",
   "execution_count": 22,
   "metadata": {
    "ExecuteTime": {
     "end_time": "2021-06-22T13:30:51.545652Z",
     "start_time": "2021-06-22T13:30:22.049854Z"
    }
   },
   "outputs": [
    {
     "data": {
      "image/png": "[encoded data removed]",
      "text/plain": [
       "<Figure size 576x288 with 1 Axes>"
      ]
     },
     "metadata": {
      "needs_background": "light"
     },
     "output_type": "display_data"
    }
   ],
   "source": [
    "s_calcium_spectra.plot_binned_counts(\n",
    "    figsize=(8, 4), show_legend=False, \n",
    "    colours=[calcium_observed_colour] + spectra_colours,\n",
    "    linewidth=1\n",
    ")\n",
    "hide_top_and_right_axes()\n",
    "plt.title('')\n",
    "plt.xticks(plt.gca().get_xticks(), ['False', 'True'])\n",
    "plt.xlabel('Calcium binding')\n",
    "plt.subplots_adjust(left=0.3, bottom=0.3, right=1, top=1)"
   ]
  },
  {
   "cell_type": "code",
   "execution_count": 23,
   "metadata": {
    "ExecuteTime": {
     "end_time": "2021-06-22T13:30:51.552709Z",
     "start_time": "2021-06-22T13:30:51.548513Z"
    }
   },
   "outputs": [],
   "source": [
    "calcium_spectra_res = s_calcium_spectra.get_results_dictionary()"
   ]
  },
  {
   "cell_type": "markdown",
   "metadata": {},
   "source": [
    "### Alternative spectra pvalues"
   ]
  },
  {
   "cell_type": "code",
   "execution_count": 24,
   "metadata": {
    "ExecuteTime": {
     "end_time": "2021-06-22T13:30:51.588853Z",
     "start_time": "2021-06-22T13:30:51.583615Z"
    }
   },
   "outputs": [],
   "source": [
    "calcium_spectra_res['feature'] = 'CA'\n",
    "interface_spectra_res['feature'] = 'interface'\n",
    "fold_spectra_res['feature'] = 'FoldX'"
   ]
  },
  {
   "cell_type": "code",
   "execution_count": 25,
   "metadata": {
    "ExecuteTime": {
     "end_time": "2021-06-22T13:30:51.628547Z",
     "start_time": "2021-06-22T13:30:51.591020Z"
    }
   },
   "outputs": [
    {
     "data": {
      "text/html": [
       "<div>\n",
       "<style scoped>\n",
       "    .dataframe tbody tr th:only-of-type {\n",
       "        vertical-align: middle;\n",
       "    }\n",
       "\n",
       "    .dataframe tbody tr th {\n",
       "        vertical-align: top;\n",
       "    }\n",
       "\n",
       "    .dataframe thead th {\n",
       "        text-align: right;\n",
       "    }\n",
       "</style>\n",
       "<table border=\"1\" class=\"dataframe\">\n",
       "  <thead>\n",
       "    <tr style=\"text-align: right;\">\n",
       "      <th></th>\n",
       "      <th>gene</th>\n",
       "      <th>transcript_id</th>\n",
       "      <th>chrom</th>\n",
       "      <th>section_id</th>\n",
       "      <th>num_mutations</th>\n",
       "      <th>observed_median</th>\n",
       "      <th>observed_mean</th>\n",
       "      <th>expected_median_EvenMutationalSpectrum</th>\n",
       "      <th>median_shift_EvenMutationalSpectrum</th>\n",
       "      <th>expected_mean_EvenMutationalSpectrum</th>\n",
       "      <th>...</th>\n",
       "      <th>binom_transcript_3072_dedup_pvalue</th>\n",
       "      <th>binom_transcript_3072_dedup_expected_proportion</th>\n",
       "      <th>binom_transcript_3072_dedup_observed_proportion</th>\n",
       "      <th>binom_transcript_3072_dedup_expected_count</th>\n",
       "      <th>binom_transcript_3072_dedup_observed_count</th>\n",
       "      <th>binom_transcript_3072_dedup_threshold</th>\n",
       "      <th>binom_transcript_3072_dedup_expected_CI_high</th>\n",
       "      <th>binom_transcript_3072_dedup_expected_CI_low</th>\n",
       "      <th>binom_transcript_3072_dedup_observed_CI_low</th>\n",
       "      <th>binom_transcript_3072_dedup_observed_CI_high</th>\n",
       "    </tr>\n",
       "  </thead>\n",
       "  <tbody>\n",
       "    <tr>\n",
       "      <th>0</th>\n",
       "      <td>NOTCH1</td>\n",
       "      <td>ENST00000277541</td>\n",
       "      <td>9</td>\n",
       "      <td>2vj3:A</td>\n",
       "      <td>452</td>\n",
       "      <td>4.31605</td>\n",
       "      <td>5.585752</td>\n",
       "      <td>1.209925</td>\n",
       "      <td>3.106125</td>\n",
       "      <td>3.409786</td>\n",
       "      <td>...</td>\n",
       "      <td>NaN</td>\n",
       "      <td>NaN</td>\n",
       "      <td>NaN</td>\n",
       "      <td>NaN</td>\n",
       "      <td>NaN</td>\n",
       "      <td>NaN</td>\n",
       "      <td>NaN</td>\n",
       "      <td>NaN</td>\n",
       "      <td>NaN</td>\n",
       "      <td>NaN</td>\n",
       "    </tr>\n",
       "    <tr>\n",
       "      <th>1</th>\n",
       "      <td>NOTCH1</td>\n",
       "      <td>ENST00000277541</td>\n",
       "      <td>9</td>\n",
       "      <td>2vj3:A</td>\n",
       "      <td>315</td>\n",
       "      <td>1.00000</td>\n",
       "      <td>0.685714</td>\n",
       "      <td>0.000000</td>\n",
       "      <td>1.000000</td>\n",
       "      <td>0.433333</td>\n",
       "      <td>...</td>\n",
       "      <td>8.829355e-08</td>\n",
       "      <td>0.536383</td>\n",
       "      <td>0.685714</td>\n",
       "      <td>168.960573</td>\n",
       "      <td>216.0</td>\n",
       "      <td>0.5</td>\n",
       "      <td>186.0</td>\n",
       "      <td>152.0</td>\n",
       "      <td>199.0</td>\n",
       "      <td>232.0</td>\n",
       "    </tr>\n",
       "    <tr>\n",
       "      <th>2</th>\n",
       "      <td>NOTCH1</td>\n",
       "      <td>ENST00000277541</td>\n",
       "      <td>9</td>\n",
       "      <td>2vj3:A</td>\n",
       "      <td>195</td>\n",
       "      <td>0.00000</td>\n",
       "      <td>0.492308</td>\n",
       "      <td>0.000000</td>\n",
       "      <td>0.000000</td>\n",
       "      <td>0.172973</td>\n",
       "      <td>...</td>\n",
       "      <td>1.101765e-16</td>\n",
       "      <td>0.221297</td>\n",
       "      <td>0.492308</td>\n",
       "      <td>43.152871</td>\n",
       "      <td>96.0</td>\n",
       "      <td>0.5</td>\n",
       "      <td>55.0</td>\n",
       "      <td>32.0</td>\n",
       "      <td>82.0</td>\n",
       "      <td>109.0</td>\n",
       "    </tr>\n",
       "  </tbody>\n",
       "</table>\n",
       "<p>3 rows × 458 columns</p>\n",
       "</div>"
      ],
      "text/plain": [
       "     gene    transcript_id chrom section_id  num_mutations  observed_median  \\\n",
       "0  NOTCH1  ENST00000277541     9     2vj3:A            452          4.31605   \n",
       "1  NOTCH1  ENST00000277541     9     2vj3:A            315          1.00000   \n",
       "2  NOTCH1  ENST00000277541     9     2vj3:A            195          0.00000   \n",
       "\n",
       "   observed_mean  expected_median_EvenMutationalSpectrum  \\\n",
       "0       5.585752                                1.209925   \n",
       "1       0.685714                                0.000000   \n",
       "2       0.492308                                0.000000   \n",
       "\n",
       "   median_shift_EvenMutationalSpectrum  expected_mean_EvenMutationalSpectrum  \\\n",
       "0                             3.106125                              3.409786   \n",
       "1                             1.000000                              0.433333   \n",
       "2                             0.000000                              0.172973   \n",
       "\n",
       "   ...  binom_transcript_3072_dedup_pvalue  \\\n",
       "0  ...                                 NaN   \n",
       "1  ...                        8.829355e-08   \n",
       "2  ...                        1.101765e-16   \n",
       "\n",
       "   binom_transcript_3072_dedup_expected_proportion  \\\n",
       "0                                              NaN   \n",
       "1                                         0.536383   \n",
       "2                                         0.221297   \n",
       "\n",
       "   binom_transcript_3072_dedup_observed_proportion  \\\n",
       "0                                              NaN   \n",
       "1                                         0.685714   \n",
       "2                                         0.492308   \n",
       "\n",
       "   binom_transcript_3072_dedup_expected_count  \\\n",
       "0                                         NaN   \n",
       "1                                  168.960573   \n",
       "2                                   43.152871   \n",
       "\n",
       "   binom_transcript_3072_dedup_observed_count  \\\n",
       "0                                         NaN   \n",
       "1                                       216.0   \n",
       "2                                        96.0   \n",
       "\n",
       "   binom_transcript_3072_dedup_threshold  \\\n",
       "0                                    NaN   \n",
       "1                                    0.5   \n",
       "2                                    0.5   \n",
       "\n",
       "   binom_transcript_3072_dedup_expected_CI_high  \\\n",
       "0                                           NaN   \n",
       "1                                         186.0   \n",
       "2                                          55.0   \n",
       "\n",
       "   binom_transcript_3072_dedup_expected_CI_low  \\\n",
       "0                                          NaN   \n",
       "1                                        152.0   \n",
       "2                                         32.0   \n",
       "\n",
       "   binom_transcript_3072_dedup_observed_CI_low  \\\n",
       "0                                          NaN   \n",
       "1                                        199.0   \n",
       "2                                         82.0   \n",
       "\n",
       "   binom_transcript_3072_dedup_observed_CI_high  \n",
       "0                                           NaN  \n",
       "1                                         232.0  \n",
       "2                                         109.0  \n",
       "\n",
       "[3 rows x 458 columns]"
      ]
     },
     "execution_count": 25,
     "metadata": {},
     "output_type": "execute_result"
    }
   ],
   "source": [
    "pd.DataFrame([fold_spectra_res, interface_spectra_res, calcium_spectra_res])"
   ]
  },
  {
   "cell_type": "markdown",
   "metadata": {},
   "source": [
    "## Oesophagus"
   ]
  },
  {
   "cell_type": "code",
   "execution_count": 26,
   "metadata": {},
   "outputs": [],
   "source": [
    "# Create a list of all the spectra needed. \n",
    "supp_fig_spectra = [EvenMutationalSpectrum()]\n",
    "for glob in [1, 0]: # Global or per transcript spectrum\n",
    "    for k in [1, 3, 5]:  # Nucleotide context. No wider context, trinucleotide and pentanucleotide\n",
    "        for ignore_strand in [1, 0]:  # Combine transcribed/non-transcribed strand or not\n",
    "            for deduplicate_spectrum in [0, 1]:  # Don't/do remove duplicate mutations as these may be positively selected\n",
    "                num_rates = 6*4**(k-1)\n",
    "                if not ignore_strand:\n",
    "                    num_rates *= 2\n",
    "                if deduplicate_spectrum:\n",
    "                    dedup = '_dedup'\n",
    "                else:\n",
    "                    dedup = ''\n",
    "                \n",
    "                if glob:\n",
    "                    # Add a global spectrum (all genes assumed to have the same spectrum)\n",
    "                    spec = GlobalKmerSpectrum(\n",
    "                        k=k, ignore_strand=ignore_strand, deduplicate_spectrum=deduplicate_spectrum, \n",
    "                        # Spectra need unique names for creation of dataframe columns\n",
    "                        name='global_{}{}'.format(num_rates, dedup) \n",
    "                    )\n",
    "                    supp_fig_spectra.append(spec)\n",
    "                else:\n",
    "                    # Add transcript spectrum (all transcripts assumed to have their own unique spectrum)\n",
    "                    spec = TranscriptKmerSpectrum(\n",
    "                        k=k, ignore_strand=ignore_strand, deduplicate_spectrum=deduplicate_spectrum, \n",
    "                        # Spectra need unique names for creation of dataframe columns\n",
    "                        name='transcript_{}{}'.format(num_rates, dedup)\n",
    "                    )\n",
    "                    supp_fig_spectra.append(spec)"
   ]
  },
  {
   "cell_type": "code",
   "execution_count": 27,
   "metadata": {},
   "outputs": [],
   "source": [
    "d_oe = DarwinianShift(\n",
    "    data=pd.read_excel('aau3879_TableS2.xlsx',\n",
    "                       sheet_name='Mutations_collapsed_by_distance', skiprows=17),\n",
    "    source_genome='GRCh37',\n",
    "    spectra=supp_fig_spectra,\n",
    "    included_mutation_types='missense'\n",
    ")"
   ]
  },
  {
   "cell_type": "markdown",
   "metadata": {},
   "source": [
    "### FoldX"
   ]
  },
  {
   "cell_type": "code",
   "execution_count": 28,
   "metadata": {},
   "outputs": [],
   "source": [
    "s_fold_specta = d_oe.run_section(notch1_section_definition_egf11_12, lookup=excllook_foldx, \n",
    "                                         statistics=CDFMonteCarloTest(num_draws=100000))"
   ]
  },
  {
   "cell_type": "code",
   "execution_count": 29,
   "metadata": {},
   "outputs": [
    {
     "data": {
      "image/png": "[encoded data removed]",
      "text/plain": [
       "<Figure size 288x288 with 1 Axes>"
      ]
     },
     "metadata": {
      "needs_background": "light"
     },
     "output_type": "display_data"
    }
   ],
   "source": [
    "s_fold_specta.plot_cdfs(figsize=(4, 4), plot_scale='symlog', show_legend=False,\n",
    "                       colours=[foldx_observed_colour] + spectra_colours)\n",
    "hide_top_and_right_axes()\n",
    "plt.tight_layout()"
   ]
  },
  {
   "cell_type": "code",
   "execution_count": 30,
   "metadata": {},
   "outputs": [],
   "source": [
    "fold_spectra_res = s_fold_specta.get_results_dictionary()"
   ]
  },
  {
   "cell_type": "markdown",
   "metadata": {},
   "source": [
    "### Interface"
   ]
  },
  {
   "cell_type": "code",
   "execution_count": 31,
   "metadata": {},
   "outputs": [],
   "source": [
    "s_interface_spectra = d_oe.run_section(notch1_section_definition_egf11_12, lookup=excllook_interface, \n",
    "                                               statistics=BinomTest())"
   ]
  },
  {
   "cell_type": "code",
   "execution_count": 32,
   "metadata": {},
   "outputs": [
    {
     "data": {
      "image/png": "[encoded data removed]",
      "text/plain": [
       "<Figure size 576x288 with 1 Axes>"
      ]
     },
     "metadata": {
      "needs_background": "light"
     },
     "output_type": "display_data"
    }
   ],
   "source": [
    "s_interface_spectra.plot_binned_counts(\n",
    "    figsize=(8, 4), show_legend=False,\n",
    "    colours=[interface_observed_colour] + spectra_colours,\n",
    "    linewidth=1 \n",
    ")\n",
    "hide_top_and_right_axes()\n",
    "plt.title('')\n",
    "plt.xticks(plt.gca().get_xticks(), ['False', 'True'])\n",
    "plt.xlabel('On interface')\n",
    "plt.subplots_adjust(left=0.3, bottom=0.3, right=1, top=1)"
   ]
  },
  {
   "cell_type": "code",
   "execution_count": 33,
   "metadata": {},
   "outputs": [],
   "source": [
    "interface_spectra_res = s_interface_spectra.get_results_dictionary()"
   ]
  },
  {
   "cell_type": "markdown",
   "metadata": {},
   "source": [
    "### Calcium binding"
   ]
  },
  {
   "cell_type": "code",
   "execution_count": 34,
   "metadata": {},
   "outputs": [],
   "source": [
    "s_calcium_spectra = d_oe.run_section(notch1_section_definition_egf11_12,  lookup=excllook_ca, \n",
    "                                             statistics=BinomTest())"
   ]
  },
  {
   "cell_type": "code",
   "execution_count": 35,
   "metadata": {},
   "outputs": [
    {
     "data": {
      "image/png": "[encoded data removed]",
      "text/plain": [
       "<Figure size 576x288 with 1 Axes>"
      ]
     },
     "metadata": {
      "needs_background": "light"
     },
     "output_type": "display_data"
    }
   ],
   "source": [
    "s_calcium_spectra.plot_binned_counts(\n",
    "    figsize=(8, 4), show_legend=False, \n",
    "    colours=[calcium_observed_colour] + spectra_colours,\n",
    "    linewidth=1\n",
    ")\n",
    "hide_top_and_right_axes()\n",
    "plt.title('')\n",
    "plt.xticks(plt.gca().get_xticks(), ['False', 'True'])\n",
    "plt.xlabel('Calcium binding')\n",
    "plt.subplots_adjust(left=0.3, bottom=0.3, right=1, top=1)"
   ]
  },
  {
   "cell_type": "code",
   "execution_count": 36,
   "metadata": {},
   "outputs": [],
   "source": [
    "calcium_spectra_res = s_calcium_spectra.get_results_dictionary()"
   ]
  },
  {
   "cell_type": "markdown",
   "metadata": {},
   "source": [
    "### Alternative spectra pvalues"
   ]
  },
  {
   "cell_type": "code",
   "execution_count": 37,
   "metadata": {},
   "outputs": [
    {
     "data": {
      "text/html": [
       "<div>\n",
       "<style scoped>\n",
       "    .dataframe tbody tr th:only-of-type {\n",
       "        vertical-align: middle;\n",
       "    }\n",
       "\n",
       "    .dataframe tbody tr th {\n",
       "        vertical-align: top;\n",
       "    }\n",
       "\n",
       "    .dataframe thead th {\n",
       "        text-align: right;\n",
       "    }\n",
       "</style>\n",
       "<table border=\"1\" class=\"dataframe\">\n",
       "  <thead>\n",
       "    <tr style=\"text-align: right;\">\n",
       "      <th></th>\n",
       "      <th>gene</th>\n",
       "      <th>transcript_id</th>\n",
       "      <th>chrom</th>\n",
       "      <th>section_id</th>\n",
       "      <th>num_mutations</th>\n",
       "      <th>observed_median</th>\n",
       "      <th>observed_mean</th>\n",
       "      <th>expected_median_EvenMutationalSpectrum</th>\n",
       "      <th>median_shift_EvenMutationalSpectrum</th>\n",
       "      <th>expected_mean_EvenMutationalSpectrum</th>\n",
       "      <th>...</th>\n",
       "      <th>binom_transcript_3072_dedup_pvalue</th>\n",
       "      <th>binom_transcript_3072_dedup_expected_proportion</th>\n",
       "      <th>binom_transcript_3072_dedup_observed_proportion</th>\n",
       "      <th>binom_transcript_3072_dedup_expected_count</th>\n",
       "      <th>binom_transcript_3072_dedup_observed_count</th>\n",
       "      <th>binom_transcript_3072_dedup_threshold</th>\n",
       "      <th>binom_transcript_3072_dedup_expected_CI_high</th>\n",
       "      <th>binom_transcript_3072_dedup_expected_CI_low</th>\n",
       "      <th>binom_transcript_3072_dedup_observed_CI_low</th>\n",
       "      <th>binom_transcript_3072_dedup_observed_CI_high</th>\n",
       "    </tr>\n",
       "  </thead>\n",
       "  <tbody>\n",
       "    <tr>\n",
       "      <th>0</th>\n",
       "      <td>NOTCH1</td>\n",
       "      <td>ENST00000277541</td>\n",
       "      <td>9</td>\n",
       "      <td>2vj3:A</td>\n",
       "      <td>181</td>\n",
       "      <td>4.48213</td>\n",
       "      <td>8.343828</td>\n",
       "      <td>1.209925</td>\n",
       "      <td>3.272205</td>\n",
       "      <td>3.409786</td>\n",
       "      <td>...</td>\n",
       "      <td>NaN</td>\n",
       "      <td>NaN</td>\n",
       "      <td>NaN</td>\n",
       "      <td>NaN</td>\n",
       "      <td>NaN</td>\n",
       "      <td>NaN</td>\n",
       "      <td>NaN</td>\n",
       "      <td>NaN</td>\n",
       "      <td>NaN</td>\n",
       "      <td>NaN</td>\n",
       "    </tr>\n",
       "    <tr>\n",
       "      <th>1</th>\n",
       "      <td>NOTCH1</td>\n",
       "      <td>ENST00000277541</td>\n",
       "      <td>9</td>\n",
       "      <td>2vj3:A</td>\n",
       "      <td>69</td>\n",
       "      <td>1.00000</td>\n",
       "      <td>0.768116</td>\n",
       "      <td>0.000000</td>\n",
       "      <td>1.000000</td>\n",
       "      <td>0.433333</td>\n",
       "      <td>...</td>\n",
       "      <td>8.939091e-04</td>\n",
       "      <td>0.570712</td>\n",
       "      <td>0.768116</td>\n",
       "      <td>39.379143</td>\n",
       "      <td>53.0</td>\n",
       "      <td>0.5</td>\n",
       "      <td>47.0</td>\n",
       "      <td>31.0</td>\n",
       "      <td>46.0</td>\n",
       "      <td>60.0</td>\n",
       "    </tr>\n",
       "    <tr>\n",
       "      <th>2</th>\n",
       "      <td>NOTCH1</td>\n",
       "      <td>ENST00000277541</td>\n",
       "      <td>9</td>\n",
       "      <td>2vj3:A</td>\n",
       "      <td>39</td>\n",
       "      <td>1.00000</td>\n",
       "      <td>0.589744</td>\n",
       "      <td>0.000000</td>\n",
       "      <td>1.000000</td>\n",
       "      <td>0.172973</td>\n",
       "      <td>...</td>\n",
       "      <td>1.090641e-12</td>\n",
       "      <td>0.113439</td>\n",
       "      <td>0.589744</td>\n",
       "      <td>4.424113</td>\n",
       "      <td>23.0</td>\n",
       "      <td>0.5</td>\n",
       "      <td>9.0</td>\n",
       "      <td>1.0</td>\n",
       "      <td>17.0</td>\n",
       "      <td>29.0</td>\n",
       "    </tr>\n",
       "  </tbody>\n",
       "</table>\n",
       "<p>3 rows × 458 columns</p>\n",
       "</div>"
      ],
      "text/plain": [
       "     gene    transcript_id chrom section_id  num_mutations  observed_median  \\\n",
       "0  NOTCH1  ENST00000277541     9     2vj3:A            181          4.48213   \n",
       "1  NOTCH1  ENST00000277541     9     2vj3:A             69          1.00000   \n",
       "2  NOTCH1  ENST00000277541     9     2vj3:A             39          1.00000   \n",
       "\n",
       "   observed_mean  expected_median_EvenMutationalSpectrum  \\\n",
       "0       8.343828                                1.209925   \n",
       "1       0.768116                                0.000000   \n",
       "2       0.589744                                0.000000   \n",
       "\n",
       "   median_shift_EvenMutationalSpectrum  expected_mean_EvenMutationalSpectrum  \\\n",
       "0                             3.272205                              3.409786   \n",
       "1                             1.000000                              0.433333   \n",
       "2                             1.000000                              0.172973   \n",
       "\n",
       "   ...  binom_transcript_3072_dedup_pvalue  \\\n",
       "0  ...                                 NaN   \n",
       "1  ...                        8.939091e-04   \n",
       "2  ...                        1.090641e-12   \n",
       "\n",
       "   binom_transcript_3072_dedup_expected_proportion  \\\n",
       "0                                              NaN   \n",
       "1                                         0.570712   \n",
       "2                                         0.113439   \n",
       "\n",
       "   binom_transcript_3072_dedup_observed_proportion  \\\n",
       "0                                              NaN   \n",
       "1                                         0.768116   \n",
       "2                                         0.589744   \n",
       "\n",
       "   binom_transcript_3072_dedup_expected_count  \\\n",
       "0                                         NaN   \n",
       "1                                   39.379143   \n",
       "2                                    4.424113   \n",
       "\n",
       "   binom_transcript_3072_dedup_observed_count  \\\n",
       "0                                         NaN   \n",
       "1                                        53.0   \n",
       "2                                        23.0   \n",
       "\n",
       "   binom_transcript_3072_dedup_threshold  \\\n",
       "0                                    NaN   \n",
       "1                                    0.5   \n",
       "2                                    0.5   \n",
       "\n",
       "   binom_transcript_3072_dedup_expected_CI_high  \\\n",
       "0                                           NaN   \n",
       "1                                          47.0   \n",
       "2                                           9.0   \n",
       "\n",
       "   binom_transcript_3072_dedup_expected_CI_low  \\\n",
       "0                                          NaN   \n",
       "1                                         31.0   \n",
       "2                                          1.0   \n",
       "\n",
       "   binom_transcript_3072_dedup_observed_CI_low  \\\n",
       "0                                          NaN   \n",
       "1                                         46.0   \n",
       "2                                         17.0   \n",
       "\n",
       "   binom_transcript_3072_dedup_observed_CI_high  \n",
       "0                                           NaN  \n",
       "1                                          60.0  \n",
       "2                                          29.0  \n",
       "\n",
       "[3 rows x 458 columns]"
      ]
     },
     "execution_count": 37,
     "metadata": {},
     "output_type": "execute_result"
    }
   ],
   "source": [
    "calcium_spectra_res['feature'] = 'CA'\n",
    "interface_spectra_res['feature'] = 'interface'\n",
    "fold_spectra_res['feature'] = 'FoldX'\n",
    "\n",
    "pd.DataFrame([fold_spectra_res, interface_spectra_res, calcium_spectra_res])"
   ]
  },
  {
   "cell_type": "code",
   "execution_count": null,
   "metadata": {},
   "outputs": [],
   "source": []
  }
 ],
 "metadata": {
  "kernelspec": {
   "display_name": "Python 3 (ipykernel)",
   "language": "python",
   "name": "python3"
  },
  "language_info": {
   "codemirror_mode": {
    "name": "ipython",
    "version": 3
   },
   "file_extension": ".py",
   "mimetype": "text/x-python",
   "name": "python",
   "nbconvert_exporter": "python",
   "pygments_lexer": "ipython3",
   "version": "3.8.13"
  }
 },
 "nbformat": 4,
 "nbformat_minor": 4
}
