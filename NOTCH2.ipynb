{
 "cells": [
  {
   "cell_type": "code",
   "execution_count": 1,
   "id": "fb469aff",
   "metadata": {
    "ExecuteTime": {
     "end_time": "2022-06-23T15:09:08.441234Z",
     "start_time": "2022-06-23T15:09:06.947217Z"
    }
   },
   "outputs": [],
   "source": [
    "import numpy as np\n",
    "import pandas as pd\n",
    "import matplotlib.pyplot as plt\n",
    "%matplotlib inline"
   ]
  },
  {
   "cell_type": "code",
   "execution_count": 2,
   "id": "1f695d46",
   "metadata": {
    "ExecuteTime": {
     "end_time": "2022-06-23T15:09:10.760662Z",
     "start_time": "2022-06-23T15:09:08.445250Z"
    }
   },
   "outputs": [
    {
     "name": "stderr",
     "output_type": "stream",
     "text": [
      "/Users/mh28/miniconda3/envs/dsenv3/lib/python3.8/site-packages/tqdm/auto.py:22: TqdmWarning: IProgress not found. Please update jupyter and ipywidgets. See https://ipywidgets.readthedocs.io/en/stable/user_install.html\n",
      "  from .autonotebook import tqdm as notebook_tqdm\n",
      "/Users/mh28/miniconda3/envs/dsenv3/lib/python3.8/site-packages/MDAnalysis/coordinates/TRJ.py:1209: DeprecationWarning: Please use `netcdf_file` from the `scipy.io` namespace, the `scipy.io.netcdf` namespace is deprecated.\n",
      "  class NCDFPicklable(scipy.io.netcdf.netcdf_file):\n"
     ]
    }
   ],
   "source": [
    "from darwinian_shift import DarwinianShift\n",
    "from darwinian_shift import CDFMonteCarloTest, BinomTest\n",
    "from darwinian_shift import FoldXLookup, SequenceDistanceLookup, MutationExclusionLookup, StructureDistanceLookup\n",
    "from darwinian_shift import MutationExclusionLookup, ORLookup, UniprotLookup\n",
    "from darwinian_shift import hide_top_and_right_axes, get_bins_for_uniprot_features, plot_domain_structure\n",
    "from darwinian_shift import plot_scatter_two_scores"
   ]
  },
  {
   "cell_type": "code",
   "execution_count": 3,
   "id": "eead2c48",
   "metadata": {
    "ExecuteTime": {
     "end_time": "2022-06-23T15:09:37.231683Z",
     "start_time": "2022-06-23T15:09:10.764554Z"
    }
   },
   "outputs": [],
   "source": [
    "d_skin = DarwinianShift(\n",
    "    data = pd.read_excel('248092_3_supp_6645104_q35h43.xlsx', sheet_name='Table S4', skiprows=4),\n",
    "    source_genome='GRCh37',\n",
    "    spectra='skin_trinuc_spectrum.txt',\n",
    "    included_mutation_types='missense'\n",
    ")"
   ]
  },
  {
   "cell_type": "code",
   "execution_count": 4,
   "id": "d6850597",
   "metadata": {
    "ExecuteTime": {
     "end_time": "2022-06-23T15:09:42.990021Z",
     "start_time": "2022-06-23T15:09:37.235827Z"
    }
   },
   "outputs": [],
   "source": [
    "d_oe = DarwinianShift(\n",
    "    data=pd.read_excel('aau3879_TableS2.xlsx',\n",
    "                       sheet_name='Mutations_collapsed_by_distance', skiprows=17),\n",
    "    source_genome='GRCh37',\n",
    "    spectra='oesophagus_trinuc_spectrum.txt',\n",
    "    included_mutation_types='missense'\n",
    ")"
   ]
  },
  {
   "cell_type": "markdown",
   "id": "c62d9ef7",
   "metadata": {},
   "source": [
    "# Mutations per domain"
   ]
  },
  {
   "cell_type": "code",
   "execution_count": 5,
   "id": "848bfb9f",
   "metadata": {
    "ExecuteTime": {
     "end_time": "2022-06-23T15:09:43.002402Z",
     "start_time": "2022-06-23T15:09:42.995046Z"
    }
   },
   "outputs": [],
   "source": [
    "# Colours \n",
    "egf_colour = '#88CCEE'\n",
    "egf_11_12_colour = '#0077BB'\n",
    "LNR_colour = '#EE7733'\n",
    "ANK_colour = '#009988'\n",
    "transmembrane_colour = '#CC3311'\n",
    "non_domain_colour = '#888888'  #'#BBBBBB'"
   ]
  },
  {
   "cell_type": "code",
   "execution_count": 6,
   "id": "1fa9f8b1",
   "metadata": {
    "ExecuteTime": {
     "end_time": "2022-06-23T15:09:43.642869Z",
     "start_time": "2022-06-23T15:09:43.007447Z"
    }
   },
   "outputs": [],
   "source": [
    "# Use uniprot data to define domain boundaries\n",
    "u = UniprotLookup()"
   ]
  },
  {
   "cell_type": "code",
   "execution_count": 7,
   "id": "259c80f3",
   "metadata": {
    "ExecuteTime": {
     "end_time": "2022-06-23T15:09:48.788045Z",
     "start_time": "2022-06-23T15:09:43.645812Z"
    }
   },
   "outputs": [],
   "source": [
    "notch2_skin = d_skin.make_section(gene='NOTCH2')\n",
    "notch2_oe = d_oe.make_section(gene='NOTCH2')"
   ]
  },
  {
   "cell_type": "code",
   "execution_count": 8,
   "id": "32a1fff9",
   "metadata": {
    "ExecuteTime": {
     "end_time": "2022-06-23T15:09:48.798278Z",
     "start_time": "2022-06-23T15:09:48.790428Z"
    }
   },
   "outputs": [],
   "source": [
    "last_residue = notch2_skin.null_mutations['residue'].max()"
   ]
  },
  {
   "cell_type": "code",
   "execution_count": 9,
   "id": "57d0c74f",
   "metadata": {
    "ExecuteTime": {
     "end_time": "2022-06-23T15:09:49.334565Z",
     "start_time": "2022-06-23T15:09:48.800827Z"
    }
   },
   "outputs": [],
   "source": [
    "NOTCH2_uniprot = u.get_uniprot_data('ENST00000256646')\n",
    "\n",
    "bins, types, descriptions = get_bins_for_uniprot_features(NOTCH2_uniprot, min_gap=1, last_residue=last_residue, \n",
    "                                                         feature_types=['domain', 'transmembrane region', 'repeat'])\n",
    "colours = []\n",
    "for t, desc in zip(types, descriptions):\n",
    "    if desc in ['EGF-like 11; calcium-binding', 'EGF-like 12; calcium-binding']:\n",
    "        colours.append(egf_11_12_colour)\n",
    "    elif t == 'domain':\n",
    "        colours.append(egf_colour)\n",
    "    elif t == 'repeat':\n",
    "        if 'LNR' in desc:\n",
    "            colours.append(LNR_colour)\n",
    "        elif 'ANK' in desc:\n",
    "            colours.append(ANK_colour)\n",
    "    elif t == 'transmembrane region':\n",
    "        colours.append(transmembrane_colour)\n",
    "    elif t is None and desc is None:\n",
    "        colours.append(non_domain_colour)\n",
    "        \n",
    "colours_domain_plot = [None if c == non_domain_colour else c for c in colours]"
   ]
  },
  {
   "cell_type": "code",
   "execution_count": 10,
   "id": "4c281eab",
   "metadata": {
    "ExecuteTime": {
     "end_time": "2022-06-23T15:09:50.153292Z",
     "start_time": "2022-06-23T15:09:49.337284Z"
    }
   },
   "outputs": [
    {
     "data": {
      "image/png": "[encoded data removed]",
      "text/plain": [
       "<Figure size 720x468 with 3 Axes>"
      ]
     },
     "metadata": {
      "needs_background": "light"
     },
     "output_type": "display_data"
    }
   ],
   "source": [
    "fig, (ax1, ax_dom, ax2) = plt.subplots(3, 1, figsize=(10, 6.5), sharex=True, \n",
    "                                       gridspec_kw={'height_ratios': (3, 0.5, 3), 'hspace': 0.05})\n",
    "linewidth = 1.3\n",
    "notch2_skin.plot_bar_observations(figsize=(10, 3), binning_regions=bins, \n",
    "             normalise_by_region_size=True, facecolour=colours, linewidth=linewidth, ax=ax1)\n",
    "ax1.set_xlim([0, last_residue+10])\n",
    "hide_top_and_right_axes(ax1)\n",
    "ax1.set_xticks([])\n",
    "ax1.set_xlabel('')\n",
    "ax1.set_ylabel('')\n",
    "\n",
    "notch2_oe.plot_bar_observations(figsize=(10, 3), binning_regions=bins, \n",
    "             normalise_by_region_size=True, facecolour=colours, linewidth=linewidth, ax=ax2)\n",
    "ax2.set_xlim([0, last_residue+10])\n",
    "ax2.spines['right'].set_visible(False)\n",
    "ax2.spines['bottom'].set_visible(False)\n",
    "ax2.invert_yaxis()\n",
    "ax2.set_xticks([])\n",
    "ax2.set_xlabel('')\n",
    "ax2.set_ylabel('')\n",
    "\n",
    "plot_domain_structure(bins, colours_domain_plot, height=1, ax=ax_dom)\n",
    "\n",
    "fig.text(0.06, 0.5, 'Mutations per codon', va='center', rotation='vertical', fontsize=15);"
   ]
  },
  {
   "cell_type": "markdown",
   "id": "80b69925",
   "metadata": {},
   "source": [
    "# Selection"
   ]
  },
  {
   "cell_type": "code",
   "execution_count": 11,
   "id": "7dbb8f79",
   "metadata": {
    "ExecuteTime": {
     "end_time": "2022-06-23T15:09:50.163113Z",
     "start_time": "2022-06-23T15:09:50.156755Z"
    }
   },
   "outputs": [],
   "source": [
    "# Directories\n",
    "sifts_directory=\"SIFTS_files\"\n",
    "pdb_directory = \"PDB_files\"\n",
    "\n",
    "# Colours\n",
    "unobserved_colour = '#BBBBBB'  \n",
    "observed_colour = '#EE7733'\n",
    "foldx_expected_colour = '#EE6677'\n",
    "foldx_observed_colour = '#CC3311'\n",
    "interface_expected_colour = '#88CCEE'\n",
    "interface_observed_colour = '#0077BB'\n",
    "calcium_expected_colour = '#8DE0D7'\n",
    "calcium_observed_colour = '#009988'"
   ]
  },
  {
   "cell_type": "code",
   "execution_count": 12,
   "id": "99dfde40",
   "metadata": {
    "ExecuteTime": {
     "end_time": "2022-06-23T15:09:50.175620Z",
     "start_time": "2022-06-23T15:09:50.166844Z"
    }
   },
   "outputs": [],
   "source": [
    "# Define the region to test\n",
    "notch2_section_definition_egf11_12 = {\n",
    "    'transcript_id': 'ENST00000256646', 'pdb_id': '5mwb', 'pdb_chain': 'A', \n",
    "    'start': 415, 'end': 492, # Restrict to the residues in EGF11-12\n",
    "    'interface_residues': [418, 421, 424, 425, 426, 428, 429, 439, 440, 452, 454, 456, 470, 472, 473, 481],\n",
    "    'ca_binding_residues': [415, 416, 418, 435, 436, 439, 456, 457, 459, 473, 474]\n",
    "}"
   ]
  },
  {
   "cell_type": "markdown",
   "id": "4c25795e",
   "metadata": {},
   "source": [
    "## Define the metrics"
   ]
  },
  {
   "cell_type": "markdown",
   "id": "6c918eee",
   "metadata": {},
   "source": [
    "### Individual metrics"
   ]
  },
  {
   "cell_type": "code",
   "execution_count": 13,
   "id": "5d955568",
   "metadata": {
    "ExecuteTime": {
     "end_time": "2022-06-23T15:09:50.189381Z",
     "start_time": "2022-06-23T15:09:50.178554Z"
    }
   },
   "outputs": [],
   "source": [
    "# Define the FoldX lookup\n",
    "fold = FoldXLookup(foldx_results_directory=\"FoldX_results\",\n",
    "                   sifts_directory=sifts_directory,\n",
    "                   foldx_file_name_start=\"PS_f*\", download_sifts=True)\n",
    "\n",
    "# Define a lookup object which determines whether mutations are on the NOTCH2-ligand interface. \n",
    "interface_lookup = SequenceDistanceLookup(\n",
    "    boolean=True,   # Just a boolean on/off interface. \n",
    "    target_key='interface_residues',   # Use this entry in the section_definition dict to define the target residues\n",
    "    position_type='residue',   # Use the residue number (as opposed to cdspos or chromosomal position)\n",
    "    name='On interface'  # Label to appear on plot axes\n",
    ")\n",
    "\n",
    "ca_lookup = SequenceDistanceLookup(\n",
    "    boolean=True,   # Just a boolean binding/not binding. \n",
    "    target_key='ca_binding_residues',   # Use this entry in the section_definition dict to define the target residues\n",
    "    position_type='residue',   # Use the residue number (as opposed to cdspos or chromosomal position)\n",
    "    name='Calcium binding'  # Label to appear on plot axes\n",
    ")"
   ]
  },
  {
   "cell_type": "markdown",
   "id": "a2231494",
   "metadata": {},
   "source": [
    "### Conditional tests "
   ]
  },
  {
   "cell_type": "code",
   "execution_count": 14,
   "id": "4a15d78b",
   "metadata": {
    "ExecuteTime": {
     "end_time": "2022-06-23T15:09:50.220193Z",
     "start_time": "2022-06-23T15:09:50.201404Z"
    }
   },
   "outputs": [],
   "source": [
    "# First define a lookup that is 1 if the mutation is on the interface and or calcium binding\n",
    "interface_or_ca_lookup = ORLookup(\n",
    "    lookups=[interface_lookup, ca_lookup],  \n",
    "    thresholds=[0.5, 0.5],  # Set thresholds at 0.5\n",
    "    directions=[1, 1],  # Want to exclude mutations which score 1 for interface or calcium binding.\n",
    ")\n",
    "\n",
    "\n",
    "# Define the combined lookup.\n",
    "excllook_foldx = MutationExclusionLookup(\n",
    "    lookup=fold,   # Use the calcium binding lookup for the test\n",
    "    exclusion_lookup=interface_or_ca_lookup,\n",
    "    exclusion_threshold=0.5,  #  Scores from the exclusion are either 0, or 1, so can put threshold anywhere in between.\n",
    "    exclusion_direction=1,   # Exclude mutations with a score above the exclusion_threhold from the exclusion_lookup.\n",
    "    name=fold.name\n",
    ")"
   ]
  },
  {
   "cell_type": "code",
   "execution_count": 15,
   "id": "1aba2982",
   "metadata": {
    "ExecuteTime": {
     "end_time": "2022-06-23T15:09:50.250473Z",
     "start_time": "2022-06-23T15:09:50.226327Z"
    }
   },
   "outputs": [],
   "source": [
    "# First define a lookup that is 1 if the mutation is destabilising or calcium binding\n",
    "destabilising_or_ca_lookup = ORLookup(\n",
    "    lookups=[fold, ca_lookup],  \n",
    "    thresholds=[2, 0.5],  # Use 2kcal/mol as the ∆∆G threshold. Ca score is 0 or 1, so set threshold at 0.5\n",
    "    directions=[1, 1],  # Want to exclude mutations which score 1 for calcium binding or > 2 for ∆G.\n",
    ")\n",
    "\n",
    "# Define the combined lookup.\n",
    "excllook_interface = MutationExclusionLookup(\n",
    "    lookup=interface_lookup,   # Use the inteface lookup for the test\n",
    "    exclusion_lookup=destabilising_or_ca_lookup,   \n",
    "    exclusion_threshold=0.5,  #  Scores from the exclusion are either 0, or 1, so can put threshold anywhere in between.\n",
    "    exclusion_direction=1,   # Exclude mutations with a score above the exclusion_threhold from the exclusion_lookup.\n",
    "    name=interface_lookup.name\n",
    ")"
   ]
  },
  {
   "cell_type": "code",
   "execution_count": 16,
   "id": "6513e301",
   "metadata": {
    "ExecuteTime": {
     "end_time": "2022-06-23T15:09:50.267940Z",
     "start_time": "2022-06-23T15:09:50.254729Z"
    }
   },
   "outputs": [],
   "source": [
    "# First define a lookup that is 1 if the mutation is destabilising or on the interface and 0 otherwise.\n",
    "destabilising_or_interface_lookup = ORLookup(\n",
    "    lookups=[fold, interface_lookup],  # Use the FoldX and the interface lookups.  \n",
    "    thresholds=[2, 0.5],  # Again pick a threshold of 2kcal/mol for the FoldX result, interface results are either 0 or 1 so set threshold at 0.5. \n",
    "    directions=[1, 1],  # Want to exclude mutations with scores greater than the thresholds, so directions are both 1.\n",
    ")\n",
    "\n",
    "\n",
    "# Define the combined lookup.\n",
    "excllook_ca = MutationExclusionLookup(\n",
    "    lookup=ca_lookup,   # Use the calcium binding lookup for the test\n",
    "    exclusion_lookup=destabilising_or_interface_lookup,   \n",
    "    exclusion_threshold=0.5,  #  Scores from the exclusion are either 0, or 1, so can put threshold anywhere in between.\n",
    "    exclusion_direction=1,   # Exclude mutations with a score above the exclusion_threhold from the exclusion_lookup.\n",
    "    name=ca_lookup.name\n",
    ")"
   ]
  },
  {
   "cell_type": "markdown",
   "id": "cfa4aeb9",
   "metadata": {},
   "source": [
    "## Skin"
   ]
  },
  {
   "cell_type": "markdown",
   "id": "fb562439",
   "metadata": {},
   "source": [
    "FoldX test excluding interface and calcium binding mutations"
   ]
  },
  {
   "cell_type": "code",
   "execution_count": 17,
   "id": "fa0fe66f",
   "metadata": {
    "ExecuteTime": {
     "end_time": "2022-06-23T15:09:53.455934Z",
     "start_time": "2022-06-23T15:09:50.272861Z"
    }
   },
   "outputs": [],
   "source": [
    "s = d_skin.run_section(notch2_section_definition_egf11_12, lookup=excllook_foldx, \n",
    "                      statistics=CDFMonteCarloTest(num_draws=100000))"
   ]
  },
  {
   "cell_type": "code",
   "execution_count": 18,
   "id": "1414e085",
   "metadata": {
    "ExecuteTime": {
     "end_time": "2022-06-23T15:09:53.468517Z",
     "start_time": "2022-06-23T15:09:53.458536Z"
    }
   },
   "outputs": [
    {
     "data": {
      "text/plain": [
       "{'gene': 'NOTCH2',\n",
       " 'transcript_id': 'ENST00000256646',\n",
       " 'chrom': '1',\n",
       " 'section_id': '5mwb:A',\n",
       " 'num_mutations': 98,\n",
       " 'observed_median': 3.8769,\n",
       " 'observed_mean': 9.2694815,\n",
       " 'expected_median_glob_k3': 1.76611,\n",
       " 'median_shift_glob_k3': 2.1107899999999997,\n",
       " 'expected_mean_glob_k3': 3.8958263561784214,\n",
       " 'mean_shift_glob_k3': 5.373655143821578,\n",
       " 'CDF_MC_glob_k3_num_smaller_or_equal': 100001,\n",
       " 'CDF_MC_glob_k3_num_larger_or_equal': 1,\n",
       " 'CDF_MC_glob_k3_pvalue': 1.999980000199998e-05,\n",
       " 'CDF_MC_glob_k3_cdf_mean': 0.6976231750615607}"
      ]
     },
     "execution_count": 18,
     "metadata": {},
     "output_type": "execute_result"
    }
   ],
   "source": [
    "s.get_results_dictionary()"
   ]
  },
  {
   "cell_type": "code",
   "execution_count": 19,
   "id": "54680696",
   "metadata": {
    "ExecuteTime": {
     "end_time": "2022-06-23T15:09:54.224753Z",
     "start_time": "2022-06-23T15:09:53.471523Z"
    }
   },
   "outputs": [
    {
     "data": {
      "image/png": "[encoded data removed]",
      "text/plain": [
       "<Figure size 180x216 with 1 Axes>"
      ]
     },
     "metadata": {
      "needs_background": "light"
     },
     "output_type": "display_data"
    }
   ],
   "source": [
    "s.plot_boxplot(figsize=(2.5, 3), plot_scale='symlog',\n",
    "                    colours=[foldx_observed_colour, foldx_expected_colour])\n",
    "hide_top_and_right_axes()\n",
    "plt.xticks(plt.gca().get_xticks(), ['Exp.', 'Obs.'])\n",
    "plt.tight_layout()"
   ]
  },
  {
   "cell_type": "markdown",
   "id": "5f163d3e",
   "metadata": {},
   "source": [
    "Ligand-binding interface test excluding high ∆∆G and calcium-binding mutations"
   ]
  },
  {
   "cell_type": "code",
   "execution_count": 20,
   "id": "8c07ce4d",
   "metadata": {
    "ExecuteTime": {
     "end_time": "2022-06-23T15:09:57.492868Z",
     "start_time": "2022-06-23T15:09:54.228675Z"
    }
   },
   "outputs": [],
   "source": [
    "s = d_skin.run_section(notch2_section_definition_egf11_12, lookup=excllook_interface, \n",
    "                      statistics=BinomTest())"
   ]
  },
  {
   "cell_type": "code",
   "execution_count": 21,
   "id": "82ef0681",
   "metadata": {
    "ExecuteTime": {
     "end_time": "2022-06-23T15:09:57.507408Z",
     "start_time": "2022-06-23T15:09:57.495472Z"
    }
   },
   "outputs": [
    {
     "data": {
      "text/plain": [
       "{'gene': 'NOTCH2',\n",
       " 'transcript_id': 'ENST00000256646',\n",
       " 'chrom': '1',\n",
       " 'section_id': '5mwb:A',\n",
       " 'num_mutations': 48,\n",
       " 'observed_median': 1.0,\n",
       " 'observed_mean': 0.5625,\n",
       " 'expected_median_glob_k3': 0.0,\n",
       " 'median_shift_glob_k3': 1.0,\n",
       " 'expected_mean_glob_k3': 0.2653253802521213,\n",
       " 'mean_shift_glob_k3': 0.2971746197478787,\n",
       " 'binom_glob_k3_pvalue': 1.977714302630375e-05,\n",
       " 'binom_glob_k3_expected_proportion': 0.2653253802521213,\n",
       " 'binom_glob_k3_observed_proportion': 0.5625,\n",
       " 'binom_glob_k3_expected_count': 12.735618252101823,\n",
       " 'binom_glob_k3_observed_count': 27,\n",
       " 'binom_glob_k3_threshold': 0.5,\n",
       " 'binom_glob_k3_expected_CI_high': 19.0,\n",
       " 'binom_glob_k3_expected_CI_low': 7.0,\n",
       " 'binom_glob_k3_observed_CI_low': 20.0,\n",
       " 'binom_glob_k3_observed_CI_high': 34.0}"
      ]
     },
     "execution_count": 21,
     "metadata": {},
     "output_type": "execute_result"
    }
   ],
   "source": [
    "s.get_results_dictionary()"
   ]
  },
  {
   "cell_type": "code",
   "execution_count": 22,
   "id": "d3f0cd2c",
   "metadata": {
    "ExecuteTime": {
     "end_time": "2022-06-23T15:09:57.701386Z",
     "start_time": "2022-06-23T15:09:57.510870Z"
    }
   },
   "outputs": [
    {
     "data": {
      "image/png": "[encoded data removed]",
      "text/plain": [
       "<Figure size 144x216 with 1 Axes>"
      ]
     },
     "metadata": {
      "needs_background": "light"
     },
     "output_type": "display_data"
    }
   ],
   "source": [
    "s.plot_binomial(figsize=(2, 3), show_legend=False, colours=[interface_observed_colour, interface_expected_colour])\n",
    "plt.title(\"\")\n",
    "plt.ylabel('Mutations on interface')\n",
    "hide_top_and_right_axes(plt.gca())\n",
    "plt.tight_layout();"
   ]
  },
  {
   "cell_type": "markdown",
   "id": "91cf50cf",
   "metadata": {},
   "source": [
    "Calcium-binding mutation test excluding high ∆∆G and interface mutations. "
   ]
  },
  {
   "cell_type": "code",
   "execution_count": 23,
   "id": "1a860e14",
   "metadata": {
    "ExecuteTime": {
     "end_time": "2022-06-23T15:10:01.689067Z",
     "start_time": "2022-06-23T15:09:57.707122Z"
    }
   },
   "outputs": [],
   "source": [
    "s = d_skin.run_section(notch2_section_definition_egf11_12, lookup=excllook_ca, \n",
    "                      statistics=BinomTest())"
   ]
  },
  {
   "cell_type": "code",
   "execution_count": 24,
   "id": "205b58c7",
   "metadata": {
    "ExecuteTime": {
     "end_time": "2022-06-23T15:10:01.702851Z",
     "start_time": "2022-06-23T15:10:01.691529Z"
    }
   },
   "outputs": [
    {
     "data": {
      "text/plain": [
       "{'gene': 'NOTCH2',\n",
       " 'transcript_id': 'ENST00000256646',\n",
       " 'chrom': '1',\n",
       " 'section_id': '5mwb:A',\n",
       " 'num_mutations': 32,\n",
       " 'observed_median': 0.0,\n",
       " 'observed_mean': 0.34375,\n",
       " 'expected_median_glob_k3': 0.0,\n",
       " 'median_shift_glob_k3': 0.0,\n",
       " 'expected_mean_glob_k3': 0.13975105424028386,\n",
       " 'mean_shift_glob_k3': 0.20399894575971614,\n",
       " 'binom_glob_k3_pvalue': 0.002984622472663585,\n",
       " 'binom_glob_k3_expected_proportion': 0.1397510542402839,\n",
       " 'binom_glob_k3_observed_proportion': 0.34375,\n",
       " 'binom_glob_k3_expected_count': 4.4720337356890845,\n",
       " 'binom_glob_k3_observed_count': 11,\n",
       " 'binom_glob_k3_threshold': 0.5,\n",
       " 'binom_glob_k3_expected_CI_high': 9.0,\n",
       " 'binom_glob_k3_expected_CI_low': 1.0,\n",
       " 'binom_glob_k3_observed_CI_low': 6.0,\n",
       " 'binom_glob_k3_observed_CI_high': 16.0}"
      ]
     },
     "execution_count": 24,
     "metadata": {},
     "output_type": "execute_result"
    }
   ],
   "source": [
    "s.get_results_dictionary()"
   ]
  },
  {
   "cell_type": "code",
   "execution_count": 25,
   "id": "0af133bc",
   "metadata": {
    "ExecuteTime": {
     "end_time": "2022-06-23T15:10:01.893755Z",
     "start_time": "2022-06-23T15:10:01.705656Z"
    }
   },
   "outputs": [
    {
     "data": {
      "image/png": "[encoded data removed]",
      "text/plain": [
       "<Figure size 144x216 with 1 Axes>"
      ]
     },
     "metadata": {
      "needs_background": "light"
     },
     "output_type": "display_data"
    }
   ],
   "source": [
    "s.plot_binomial(figsize=(2, 3), show_legend=False, colours=[calcium_observed_colour, calcium_expected_colour])\n",
    "plt.title(\"\")\n",
    "plt.ylabel('Calcium binding mutations')\n",
    "hide_top_and_right_axes(plt.gca())\n",
    "plt.tight_layout();"
   ]
  },
  {
   "cell_type": "markdown",
   "id": "9e733f95",
   "metadata": {},
   "source": [
    "## Oesophagus"
   ]
  },
  {
   "cell_type": "markdown",
   "id": "ac75e61b",
   "metadata": {},
   "source": [
    "FoldX test excluding interface and calcium binding mutations"
   ]
  },
  {
   "cell_type": "code",
   "execution_count": 26,
   "id": "5292eeed",
   "metadata": {
    "ExecuteTime": {
     "end_time": "2022-06-23T15:10:04.882780Z",
     "start_time": "2022-06-23T15:10:01.903002Z"
    }
   },
   "outputs": [],
   "source": [
    "s = d_oe.run_section(notch2_section_definition_egf11_12, lookup=excllook_foldx, \n",
    "                      statistics=CDFMonteCarloTest(num_draws=100000))"
   ]
  },
  {
   "cell_type": "code",
   "execution_count": 27,
   "id": "f1b9c5a5",
   "metadata": {
    "ExecuteTime": {
     "end_time": "2022-06-23T15:10:04.895860Z",
     "start_time": "2022-06-23T15:10:04.887317Z"
    }
   },
   "outputs": [
    {
     "data": {
      "text/plain": [
       "{'gene': 'NOTCH2',\n",
       " 'transcript_id': 'ENST00000256646',\n",
       " 'chrom': '1',\n",
       " 'section_id': '5mwb:A',\n",
       " 'num_mutations': 25,\n",
       " 'observed_median': 4.7953,\n",
       " 'observed_mean': 10.04823932,\n",
       " 'expected_median_glob_k3': 1.75118,\n",
       " 'median_shift_glob_k3': 3.0441200000000004,\n",
       " 'expected_mean_glob_k3': 4.521538266322293,\n",
       " 'mean_shift_glob_k3': 5.526701053677708,\n",
       " 'CDF_MC_glob_k3_num_smaller_or_equal': 99999,\n",
       " 'CDF_MC_glob_k3_num_larger_or_equal': 3,\n",
       " 'CDF_MC_glob_k3_pvalue': 5.999940000599994e-05,\n",
       " 'CDF_MC_glob_k3_cdf_mean': 0.7434356417364506}"
      ]
     },
     "execution_count": 27,
     "metadata": {},
     "output_type": "execute_result"
    }
   ],
   "source": [
    "s.get_results_dictionary()"
   ]
  },
  {
   "cell_type": "code",
   "execution_count": 28,
   "id": "9dc0b375",
   "metadata": {
    "ExecuteTime": {
     "end_time": "2022-06-23T15:10:05.376637Z",
     "start_time": "2022-06-23T15:10:04.900220Z"
    }
   },
   "outputs": [
    {
     "data": {
      "image/png": "[encoded data removed]",
      "text/plain": [
       "<Figure size 180x216 with 1 Axes>"
      ]
     },
     "metadata": {
      "needs_background": "light"
     },
     "output_type": "display_data"
    }
   ],
   "source": [
    "s.plot_boxplot(figsize=(2.5, 3), plot_scale='symlog',\n",
    "                    colours=[foldx_observed_colour, foldx_expected_colour])\n",
    "hide_top_and_right_axes()\n",
    "plt.xticks(plt.gca().get_xticks(), ['Exp.', 'Obs.'])\n",
    "plt.tight_layout()"
   ]
  },
  {
   "cell_type": "markdown",
   "id": "6e30d479",
   "metadata": {},
   "source": [
    "Ligand-binding interface test excluding high ∆∆G and calcium-binding mutations"
   ]
  },
  {
   "cell_type": "code",
   "execution_count": 29,
   "id": "83bc41d3",
   "metadata": {
    "ExecuteTime": {
     "end_time": "2022-06-23T15:10:08.828263Z",
     "start_time": "2022-06-23T15:10:05.379901Z"
    }
   },
   "outputs": [],
   "source": [
    "s = d_oe.run_section(notch2_section_definition_egf11_12, lookup=excllook_interface, \n",
    "                      statistics=BinomTest())"
   ]
  },
  {
   "cell_type": "code",
   "execution_count": 30,
   "id": "ca108e73",
   "metadata": {
    "ExecuteTime": {
     "end_time": "2022-06-23T15:10:08.840587Z",
     "start_time": "2022-06-23T15:10:08.830958Z"
    }
   },
   "outputs": [
    {
     "data": {
      "text/plain": [
       "{'gene': 'NOTCH2',\n",
       " 'transcript_id': 'ENST00000256646',\n",
       " 'chrom': '1',\n",
       " 'section_id': '5mwb:A',\n",
       " 'num_mutations': 6,\n",
       " 'observed_median': 1.0,\n",
       " 'observed_mean': 0.6666666666666666,\n",
       " 'expected_median_glob_k3': 0.0,\n",
       " 'median_shift_glob_k3': 1.0,\n",
       " 'expected_mean_glob_k3': 0.23179988258816256,\n",
       " 'mean_shift_glob_k3': 0.4348667840785041,\n",
       " 'binom_glob_k3_pvalue': 0.028795671044638062,\n",
       " 'binom_glob_k3_expected_proportion': 0.2317998825881626,\n",
       " 'binom_glob_k3_observed_proportion': 0.6666666666666666,\n",
       " 'binom_glob_k3_expected_count': 1.3907992955289754,\n",
       " 'binom_glob_k3_observed_count': 4,\n",
       " 'binom_glob_k3_threshold': 0.5,\n",
       " 'binom_glob_k3_expected_CI_high': 4.0,\n",
       " 'binom_glob_k3_expected_CI_low': 0.0,\n",
       " 'binom_glob_k3_observed_CI_low': 2.0,\n",
       " 'binom_glob_k3_observed_CI_high': 6.0}"
      ]
     },
     "execution_count": 30,
     "metadata": {},
     "output_type": "execute_result"
    }
   ],
   "source": [
    "s.get_results_dictionary()"
   ]
  },
  {
   "cell_type": "code",
   "execution_count": 31,
   "id": "03cb7d01",
   "metadata": {
    "ExecuteTime": {
     "end_time": "2022-06-23T15:10:09.010824Z",
     "start_time": "2022-06-23T15:10:08.846322Z"
    }
   },
   "outputs": [
    {
     "data": {
      "image/png": "[encoded data removed]",
      "text/plain": [
       "<Figure size 144x216 with 1 Axes>"
      ]
     },
     "metadata": {
      "needs_background": "light"
     },
     "output_type": "display_data"
    }
   ],
   "source": [
    "s.plot_binomial(figsize=(2, 3), show_legend=False, colours=[interface_observed_colour, interface_expected_colour])\n",
    "plt.title(\"\")\n",
    "plt.ylabel('Mutations on interface')\n",
    "hide_top_and_right_axes(plt.gca())\n",
    "plt.tight_layout();"
   ]
  },
  {
   "cell_type": "markdown",
   "id": "75f90f58",
   "metadata": {},
   "source": [
    "Calcium-binding mutation test excluding high ∆∆G and interface mutations. "
   ]
  },
  {
   "cell_type": "code",
   "execution_count": 32,
   "id": "31345f64",
   "metadata": {
    "ExecuteTime": {
     "end_time": "2022-06-23T15:10:12.381747Z",
     "start_time": "2022-06-23T15:10:09.017653Z"
    }
   },
   "outputs": [],
   "source": [
    "s = d_oe.run_section(notch2_section_definition_egf11_12, lookup=excllook_ca, \n",
    "                      statistics=BinomTest())"
   ]
  },
  {
   "cell_type": "code",
   "execution_count": 33,
   "id": "207f43c2",
   "metadata": {
    "ExecuteTime": {
     "end_time": "2022-06-23T15:10:12.395078Z",
     "start_time": "2022-06-23T15:10:12.384391Z"
    }
   },
   "outputs": [
    {
     "data": {
      "text/plain": [
       "{'gene': 'NOTCH2',\n",
       " 'transcript_id': 'ENST00000256646',\n",
       " 'chrom': '1',\n",
       " 'section_id': '5mwb:A',\n",
       " 'num_mutations': 5,\n",
       " 'observed_median': 1.0,\n",
       " 'observed_mean': 0.6,\n",
       " 'expected_median_glob_k3': 0.0,\n",
       " 'median_shift_glob_k3': 1.0,\n",
       " 'expected_mean_glob_k3': 0.1508178166040458,\n",
       " 'mean_shift_glob_k3': 0.44918218339595417,\n",
       " 'binom_glob_k3_pvalue': 0.02701250599203724,\n",
       " 'binom_glob_k3_expected_proportion': 0.1508178166040458,\n",
       " 'binom_glob_k3_observed_proportion': 0.6,\n",
       " 'binom_glob_k3_expected_count': 0.754089083020229,\n",
       " 'binom_glob_k3_observed_count': 3,\n",
       " 'binom_glob_k3_threshold': 0.5,\n",
       " 'binom_glob_k3_expected_CI_high': 3.0,\n",
       " 'binom_glob_k3_expected_CI_low': 0.0,\n",
       " 'binom_glob_k3_observed_CI_low': 1.0,\n",
       " 'binom_glob_k3_observed_CI_high': 5.0}"
      ]
     },
     "execution_count": 33,
     "metadata": {},
     "output_type": "execute_result"
    }
   ],
   "source": [
    "s.get_results_dictionary()"
   ]
  },
  {
   "cell_type": "code",
   "execution_count": 34,
   "id": "7c15d218",
   "metadata": {
    "ExecuteTime": {
     "end_time": "2022-06-23T15:10:12.566480Z",
     "start_time": "2022-06-23T15:10:12.397923Z"
    }
   },
   "outputs": [
    {
     "data": {
      "image/png": "[encoded data removed]",
      "text/plain": [
       "<Figure size 144x216 with 1 Axes>"
      ]
     },
     "metadata": {
      "needs_background": "light"
     },
     "output_type": "display_data"
    }
   ],
   "source": [
    "s.plot_binomial(figsize=(2, 3), show_legend=False, colours=[calcium_observed_colour, calcium_expected_colour])\n",
    "plt.title(\"\")\n",
    "plt.ylabel('Calcium binding mutations')\n",
    "hide_top_and_right_axes(plt.gca())\n",
    "plt.tight_layout();"
   ]
  },
  {
   "cell_type": "markdown",
   "id": "5ae10513",
   "metadata": {},
   "source": [
    "# All mutation categories"
   ]
  },
  {
   "cell_type": "code",
   "execution_count": 35,
   "id": "f86565ad",
   "metadata": {
    "ExecuteTime": {
     "end_time": "2022-06-23T15:10:12.584964Z",
     "start_time": "2022-06-23T15:10:12.572466Z"
    }
   },
   "outputs": [],
   "source": [
    "target_selection_string = 'protein and segid A and resid {} and name CA'.format(\n",
    "    \" \".join([str(int(p)) for p in notch2_section_definition_egf11_12['interface_residues']]))\n",
    "notch2_section_definition_egf11_12['interface_residues_3D'] = target_selection_string\n",
    "\n",
    "# Define the lookup that measure the distance in the structure from these selected residues\n",
    "interface_lookup3D = StructureDistanceLookup(\n",
    "    boolean=False,  # This time we use the distance\n",
    "    target_key='interface_residues_3D', \n",
    "    name='Distance from interface residues (A)',\n",
    "    \n",
    "    # Uses the pdb file and SIFTS. Provide paths to directories including those files.\n",
    "    pdb_directory=pdb_directory,\n",
    "    sifts_directory=sifts_directory, \n",
    "    download_sifts=True   # Download the SIFTS file if not already in the directory\n",
    "\n",
    ")"
   ]
  },
  {
   "cell_type": "code",
   "execution_count": 36,
   "id": "e9007000",
   "metadata": {
    "ExecuteTime": {
     "end_time": "2022-06-23T15:10:22.606125Z",
     "start_time": "2022-06-23T15:10:12.594058Z"
    }
   },
   "outputs": [
    {
     "data": {
      "image/png": "[encoded data removed]",
      "text/plain": [
       "<Figure size 360x360 with 1 Axes>"
      ]
     },
     "metadata": {
      "needs_background": "light"
     },
     "output_type": "display_data"
    }
   ],
   "source": [
    "s_interface3D = d_skin.run_section(notch2_section_definition_egf11_12, statistics=[], lookup=interface_lookup3D)\n",
    "s_ca_all = d_skin.run_section(notch2_section_definition_egf11_12, statistics=[], lookup=ca_lookup)\n",
    "s_interface_all = d_skin.run_section(notch2_section_definition_egf11_12, statistics=[], lookup=interface_lookup)\n",
    "s_fold_all = d_skin.run_section(notch2_section_definition_egf11_12, statistics=[], lookup=fold)\n",
    "\n",
    "\n",
    "plot_scatter_two_scores(s_interface3D, s_fold_all, \n",
    "                        sections_for_colours=[s_fold_all, s_interface3D, s_ca_all], \n",
    "                        score_regions_for_colours=[[2, 100], [-1, 0.1], [0.9,1.1]],\n",
    "                        score_region_colours=[foldx_observed_colour, interface_observed_colour, \n",
    "                                              calcium_observed_colour],\n",
    "                        unobserved_mutation_colour=unobserved_colour, \n",
    "                        missense_mutation_colour=observed_colour,\n",
    "                        plot_yscale='symlog', show_legend=False, figsize=(5, 5), unmutated_marker_size=10,\n",
    "                        base_marker_size=20)\n",
    "hide_top_and_right_axes()\n",
    "plt.tight_layout()"
   ]
  },
  {
   "cell_type": "code",
   "execution_count": 37,
   "id": "b37579b9",
   "metadata": {
    "ExecuteTime": {
     "end_time": "2022-06-23T15:10:32.649210Z",
     "start_time": "2022-06-23T15:10:22.613304Z"
    }
   },
   "outputs": [
    {
     "data": {
      "image/png": "[encoded data removed]",
      "text/plain": [
       "<Figure size 360x360 with 1 Axes>"
      ]
     },
     "metadata": {
      "needs_background": "light"
     },
     "output_type": "display_data"
    }
   ],
   "source": [
    "s_interface3D = d_oe.run_section(notch2_section_definition_egf11_12, statistics=[], lookup=interface_lookup3D)\n",
    "s_ca_all = d_oe.run_section(notch2_section_definition_egf11_12, statistics=[], lookup=ca_lookup)\n",
    "s_interface_all = d_oe.run_section(notch2_section_definition_egf11_12, statistics=[], lookup=interface_lookup)\n",
    "s_fold_all = d_oe.run_section(notch2_section_definition_egf11_12, statistics=[], lookup=fold)\n",
    "\n",
    "plot_scatter_two_scores(s_interface3D, s_fold_all, \n",
    "                        sections_for_colours=[s_fold_all, s_interface3D, s_ca_all], \n",
    "                        score_regions_for_colours=[[2, 100], [-1, 0.1], [0.9,1.1]],\n",
    "                        score_region_colours=[foldx_observed_colour, interface_observed_colour, \n",
    "                                              calcium_observed_colour],\n",
    "                        unobserved_mutation_colour=unobserved_colour, \n",
    "                        missense_mutation_colour=observed_colour,\n",
    "                        plot_yscale='symlog', show_legend=False, figsize=(5, 5), unmutated_marker_size=10,\n",
    "                        base_marker_size=20)\n",
    "hide_top_and_right_axes()\n",
    "plt.tight_layout()"
   ]
  },
  {
   "cell_type": "code",
   "execution_count": null,
   "id": "847115a6",
   "metadata": {},
   "outputs": [],
   "source": []
  }
 ],
 "metadata": {
  "kernelspec": {
   "display_name": "Python 3 (ipykernel)",
   "language": "python",
   "name": "python3"
  },
  "language_info": {
   "codemirror_mode": {
    "name": "ipython",
    "version": 3
   },
   "file_extension": ".py",
   "mimetype": "text/x-python",
   "name": "python",
   "nbconvert_exporter": "python",
   "pygments_lexer": "ipython3",
   "version": "3.8.13"
  }
 },
 "nbformat": 4,
 "nbformat_minor": 5
}
