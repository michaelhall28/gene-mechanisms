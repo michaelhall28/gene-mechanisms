{
 "cells": [
  {
   "cell_type": "code",
   "execution_count": 1,
   "metadata": {
    "ExecuteTime": {
     "end_time": "2022-06-24T11:08:45.410319Z",
     "start_time": "2022-06-24T11:08:44.073745Z"
    }
   },
   "outputs": [],
   "source": [
    "import numpy as np\n",
    "import pandas as pd\n",
    "import matplotlib.pyplot as plt\n",
    "%matplotlib inline\n",
    "import matplotlib"
   ]
  },
  {
   "cell_type": "code",
   "execution_count": 2,
   "metadata": {
    "ExecuteTime": {
     "end_time": "2022-06-24T11:08:47.476374Z",
     "start_time": "2022-06-24T11:08:45.414297Z"
    }
   },
   "outputs": [
    {
     "name": "stderr",
     "output_type": "stream",
     "text": [
      "/Users/mh28/miniconda3/envs/dsenv3/lib/python3.8/site-packages/tqdm/auto.py:22: TqdmWarning: IProgress not found. Please update jupyter and ipywidgets. See https://ipywidgets.readthedocs.io/en/stable/user_install.html\n",
      "  from .autonotebook import tqdm as notebook_tqdm\n",
      "/Users/mh28/miniconda3/envs/dsenv3/lib/python3.8/site-packages/MDAnalysis/coordinates/TRJ.py:1209: DeprecationWarning: Please use `netcdf_file` from the `scipy.io` namespace, the `scipy.io.netcdf` namespace is deprecated.\n",
      "  class NCDFPicklable(scipy.io.netcdf.netcdf_file):\n"
     ]
    }
   ],
   "source": [
    "from darwinian_shift import DarwinianShift, BinomTest\n",
    "from darwinian_shift import SequenceDistanceLookup, MutationExclusionLookup, ANDLookup, ORLookup, ClinvarLookup\n",
    "from darwinian_shift import hide_top_and_right_axes"
   ]
  },
  {
   "cell_type": "code",
   "execution_count": 3,
   "metadata": {
    "ExecuteTime": {
     "end_time": "2022-06-24T11:08:47.485826Z",
     "start_time": "2022-06-24T11:08:47.479253Z"
    }
   },
   "outputs": [],
   "source": [
    "from statsmodels.stats.multitest import multipletests"
   ]
  },
  {
   "cell_type": "code",
   "execution_count": 4,
   "metadata": {
    "ExecuteTime": {
     "end_time": "2022-06-24T11:09:12.372407Z",
     "start_time": "2022-06-24T11:08:47.488386Z"
    }
   },
   "outputs": [],
   "source": [
    "d_skin = DarwinianShift(\n",
    "    data = pd.read_excel('248092_3_supp_6645104_q35h43.xlsx', sheet_name='Table S4', skiprows=4),\n",
    "    source_genome='GRCh37',\n",
    "    spectra='skin_trinuc_spectrum.txt',\n",
    "    included_mutation_types='missense', \n",
    "    statistics=BinomTest()\n",
    ")"
   ]
  },
  {
   "cell_type": "code",
   "execution_count": 5,
   "metadata": {
    "ExecuteTime": {
     "end_time": "2022-06-24T11:09:17.917826Z",
     "start_time": "2022-06-24T11:09:12.377361Z"
    }
   },
   "outputs": [],
   "source": [
    "d_oe = DarwinianShift(\n",
    "    data=pd.read_excel('aau3879_TableS2.xlsx',\n",
    "                       sheet_name='Mutations_collapsed_by_distance', skiprows=17),\n",
    "    source_genome='GRCh37',\n",
    "    spectra='oesophagus_trinuc_spectrum.txt',\n",
    "    included_mutation_types='missense', \n",
    "    statistics=BinomTest()\n",
    ")"
   ]
  },
  {
   "cell_type": "code",
   "execution_count": 6,
   "metadata": {
    "ExecuteTime": {
     "end_time": "2022-06-24T11:09:17.928296Z",
     "start_time": "2022-06-24T11:09:17.921245Z"
    }
   },
   "outputs": [],
   "source": [
    "# Directories\n",
    "sifts_directory=\"SIFTS_files\"\n",
    "pdb_directory = \"PDB_files\"\n",
    " \n",
    "# Colours\n",
    "unobserved_colour = '#BBBBBB'\n",
    "observed_colour = '#EE7733'\n",
    "foldx_expected_colour = '#EE6677'\n",
    "foldx_observed_colour = '#CC3311'\n",
    "interface_expected_colour = '#88CCEE'\n",
    "interface_observed_colour = '#0077BB'\n",
    "calcium_expected_colour = '#8DE0D7'\n",
    "calcium_observed_colour = '#009988'"
   ]
  },
  {
   "cell_type": "code",
   "execution_count": 7,
   "metadata": {
    "ExecuteTime": {
     "end_time": "2022-06-24T11:09:17.939739Z",
     "start_time": "2022-06-24T11:09:17.930752Z"
    }
   },
   "outputs": [],
   "source": [
    "# Regions from https://www.pnas.org/content/109/38/15259.full \n",
    "# which contain mutations with effects on PIK3CA function.\n",
    "regions = {\n",
    "    '100_119': np.arange(100, 120),  \n",
    "     '120_127': np.arange(120, 128),  \n",
    "     '335_342': np.arange(335, 343),  \n",
    "     '343_350': np.arange(343, 351),  \n",
    "     '444_473': np.arange(444, 474),  \n",
    "     '532_551': np.arange(532, 552),  \n",
    "     '720_744':np.arange(720, 745),  \n",
    "     '848_859':np.arange(848, 860),\n",
    "     '930_956':np.arange(930, 957), \n",
    "     '962_980':np.arange(962, 981), \n",
    "     '1039_1055': np.arange(1039, 1056)  \n",
    "    \n",
    "}\n",
    "\n",
    "\n",
    "pik3ca_section_definition = {'transcript_id':'ENST00000263967', 'included_mutation_types': 'missense',\n",
    "                            'pdb_id': '4l1b', 'pdb_chain': 'A', \n",
    "                             'start_residue': [0],\n",
    "                             \n",
    "                             # Targets for structural distance\n",
    "                            'p85_target': 'segid B',\n",
    "                            }\n",
    "pik3ca_section_definition.update(regions)"
   ]
  },
  {
   "cell_type": "markdown",
   "metadata": {},
   "source": [
    "# Clinvar"
   ]
  },
  {
   "cell_type": "code",
   "execution_count": 8,
   "metadata": {
    "ExecuteTime": {
     "end_time": "2022-06-24T11:09:25.973700Z",
     "start_time": "2022-06-24T11:09:17.943365Z"
    }
   },
   "outputs": [
    {
     "name": "stderr",
     "output_type": "stream",
     "text": [
      "/var/folders/fz/0b7ldhcd0rb8rnh3wct1_92c000gly/T/ipykernel_18003/1403685766.py:1: DtypeWarning: Columns (18) have mixed types.Specify dtype option on import or set low_memory=False.\n",
      "  cl = ClinvarLookup(clinvar_variant_summary_file=\"ClinVar_variant_summary.txt\",\n"
     ]
    }
   ],
   "source": [
    "cl = ClinvarLookup(clinvar_variant_summary_file=\"ClinVar_variant_summary.txt\", \n",
    "                   assembly=\"GRCh37\", clinsigsimple=False)"
   ]
  },
  {
   "cell_type": "markdown",
   "metadata": {},
   "source": [
    "## Skin"
   ]
  },
  {
   "cell_type": "code",
   "execution_count": 9,
   "metadata": {
    "ExecuteTime": {
     "end_time": "2022-06-24T11:09:29.374105Z",
     "start_time": "2022-06-24T11:09:25.976392Z"
    }
   },
   "outputs": [],
   "source": [
    "s = d_skin.run_gene('PIK3CA', lookup=cl)"
   ]
  },
  {
   "cell_type": "code",
   "execution_count": 10,
   "metadata": {
    "ExecuteTime": {
     "end_time": "2022-06-24T11:09:29.392042Z",
     "start_time": "2022-06-24T11:09:29.376785Z"
    }
   },
   "outputs": [
    {
     "data": {
      "text/plain": [
       "{'gene': 'PIK3CA',\n",
       " 'transcript_id': 'ENST00000263967',\n",
       " 'chrom': '3',\n",
       " 'section_id': 'ENST00000263967',\n",
       " 'num_mutations': 167,\n",
       " 'observed_median': 0.0,\n",
       " 'observed_mean': 0.11976047904191617,\n",
       " 'expected_median_glob_k3': 0.0,\n",
       " 'median_shift_glob_k3': 0.0,\n",
       " 'expected_mean_glob_k3': 0.02365676941238351,\n",
       " 'mean_shift_glob_k3': 0.09610370962953266,\n",
       " 'binom_glob_k3_pvalue': 3.838415502839384e-09,\n",
       " 'binom_glob_k3_expected_proportion': 0.02365676941238351,\n",
       " 'binom_glob_k3_observed_proportion': 0.11976047904191617,\n",
       " 'binom_glob_k3_expected_count': 3.950680491868046,\n",
       " 'binom_glob_k3_observed_count': 20,\n",
       " 'binom_glob_k3_threshold': 0.5,\n",
       " 'binom_glob_k3_expected_CI_high': 8.0,\n",
       " 'binom_glob_k3_expected_CI_low': 1.0,\n",
       " 'binom_glob_k3_observed_CI_low': 12.0,\n",
       " 'binom_glob_k3_observed_CI_high': 29.0}"
      ]
     },
     "execution_count": 10,
     "metadata": {},
     "output_type": "execute_result"
    }
   ],
   "source": [
    "s.get_results_dictionary()"
   ]
  },
  {
   "cell_type": "code",
   "execution_count": 11,
   "metadata": {
    "ExecuteTime": {
     "end_time": "2022-06-24T11:09:29.646228Z",
     "start_time": "2022-06-24T11:09:29.396716Z"
    }
   },
   "outputs": [
    {
     "data": {
      "image/png": "[encoded data removed]",
      "text/plain": [
       "<Figure size 144x216 with 1 Axes>"
      ]
     },
     "metadata": {
      "needs_background": "light"
     },
     "output_type": "display_data"
    }
   ],
   "source": [
    "s.plot_binomial(figsize=(2, 3), show_legend=False, colours=['#CC3311', '#EE6677'])\n",
    "plt.title(\"\")\n",
    "plt.ylabel('Pathogenic mutations in Clinvar')\n",
    "hide_top_and_right_axes(plt.gca())\n",
    "plt.tight_layout()"
   ]
  },
  {
   "cell_type": "markdown",
   "metadata": {},
   "source": [
    "## Oeosphagus"
   ]
  },
  {
   "cell_type": "code",
   "execution_count": 12,
   "metadata": {
    "ExecuteTime": {
     "end_time": "2022-06-24T11:09:32.635422Z",
     "start_time": "2022-06-24T11:09:29.651866Z"
    }
   },
   "outputs": [],
   "source": [
    "s = d_oe.run_gene('PIK3CA', lookup=cl)"
   ]
  },
  {
   "cell_type": "code",
   "execution_count": 13,
   "metadata": {
    "ExecuteTime": {
     "end_time": "2022-06-24T11:09:32.647512Z",
     "start_time": "2022-06-24T11:09:32.638604Z"
    }
   },
   "outputs": [
    {
     "data": {
      "text/plain": [
       "{'gene': 'PIK3CA',\n",
       " 'transcript_id': 'ENST00000263967',\n",
       " 'chrom': '3',\n",
       " 'section_id': 'ENST00000263967',\n",
       " 'num_mutations': 49,\n",
       " 'observed_median': 0.0,\n",
       " 'observed_mean': 0.4489795918367347,\n",
       " 'expected_median_glob_k3': 0.0,\n",
       " 'median_shift_glob_k3': 0.0,\n",
       " 'expected_mean_glob_k3': 0.018657991056523736,\n",
       " 'mean_shift_glob_k3': 0.430321600780211,\n",
       " 'binom_glob_k3_pvalue': 2.781755653692384e-25,\n",
       " 'binom_glob_k3_expected_proportion': 0.018657991056523736,\n",
       " 'binom_glob_k3_observed_proportion': 0.4489795918367347,\n",
       " 'binom_glob_k3_expected_count': 0.9142415617696631,\n",
       " 'binom_glob_k3_observed_count': 22,\n",
       " 'binom_glob_k3_threshold': 0.5,\n",
       " 'binom_glob_k3_expected_CI_high': 3.0,\n",
       " 'binom_glob_k3_expected_CI_low': 0.0,\n",
       " 'binom_glob_k3_observed_CI_low': 15.0,\n",
       " 'binom_glob_k3_observed_CI_high': 29.0}"
      ]
     },
     "execution_count": 13,
     "metadata": {},
     "output_type": "execute_result"
    }
   ],
   "source": [
    "s.get_results_dictionary()"
   ]
  },
  {
   "cell_type": "code",
   "execution_count": 14,
   "metadata": {
    "ExecuteTime": {
     "end_time": "2022-06-24T11:09:32.858326Z",
     "start_time": "2022-06-24T11:09:32.654451Z"
    }
   },
   "outputs": [
    {
     "data": {
      "image/png": "[encoded data removed]",
      "text/plain": [
       "<Figure size 144x216 with 1 Axes>"
      ]
     },
     "metadata": {
      "needs_background": "light"
     },
     "output_type": "display_data"
    }
   ],
   "source": [
    "s.plot_binomial(figsize=(2, 3), show_legend=False, colours=['#CC3311', '#EE6677'])\n",
    "plt.title(\"\")\n",
    "plt.ylabel('Pathogenic mutations in Clinvar')\n",
    "hide_top_and_right_axes(plt.gca())\n",
    "plt.tight_layout()"
   ]
  },
  {
   "cell_type": "markdown",
   "metadata": {},
   "source": [
    "# Enrichment of mutations in key regions"
   ]
  },
  {
   "cell_type": "markdown",
   "metadata": {},
   "source": [
    "## Lookups"
   ]
  },
  {
   "cell_type": "code",
   "execution_count": 15,
   "metadata": {
    "ExecuteTime": {
     "end_time": "2022-06-24T11:09:32.884867Z",
     "start_time": "2022-06-24T11:09:32.868667Z"
    }
   },
   "outputs": [],
   "source": [
    "# Make a lookup for each of the regions to test. \n",
    "lookups = {}\n",
    "lookups['l100'] = SequenceDistanceLookup(target_key='100_119', boolean=True)\n",
    "lookups['l120'] = SequenceDistanceLookup(target_key='120_127', boolean=True)\n",
    "lookups['l335'] = SequenceDistanceLookup(target_key='335_342', boolean=True)\n",
    "lookups['l343'] = SequenceDistanceLookup(target_key='343_350', boolean=True)\n",
    "lookups['l444'] = SequenceDistanceLookup(target_key='444_473', boolean=True)\n",
    "lookups['l532'] = SequenceDistanceLookup(target_key='532_551', boolean=True)\n",
    "lookups['l720'] = SequenceDistanceLookup(target_key='720_744', boolean=True)\n",
    "lookups['l848'] = SequenceDistanceLookup(target_key='848_859', boolean=True)\n",
    "lookups['l930'] = SequenceDistanceLookup(target_key='930_956', boolean=True)\n",
    "lookups['l962'] = SequenceDistanceLookup(target_key='962_980', boolean=True)\n",
    "lookups['l1039'] = SequenceDistanceLookup(target_key='1039_1055', boolean=True)"
   ]
  },
  {
   "cell_type": "markdown",
   "metadata": {},
   "source": [
    "## Skin"
   ]
  },
  {
   "cell_type": "code",
   "execution_count": 16,
   "metadata": {
    "ExecuteTime": {
     "end_time": "2022-06-24T11:10:06.303250Z",
     "start_time": "2022-06-24T11:09:32.895623Z"
    },
    "scrolled": true
   },
   "outputs": [],
   "source": [
    "# Analyse each of the sections individually and collect the results. \n",
    "all_muts_res_skin = []\n",
    "for k, v in lookups.items():\n",
    "    s = d_skin.run_section(pik3ca_section_definition, lookup=v)\n",
    "    r = s.get_results_dictionary()\n",
    "    r['lookup'] = k\n",
    "    all_muts_res_skin.append(r)\n",
    "    \n",
    "all_muts_res_skin = pd.DataFrame(all_muts_res_skin)\n",
    "# Run multiple test correction on the p-values\n",
    "all_muts_res_skin['binom_glob_k3_qvalue'] = multipletests(all_muts_res_skin['binom_glob_k3_pvalue'], \n",
    "                                                          method='fdr_bh')[1]"
   ]
  },
  {
   "cell_type": "code",
   "execution_count": 17,
   "metadata": {
    "ExecuteTime": {
     "end_time": "2022-06-24T11:10:06.346829Z",
     "start_time": "2022-06-24T11:10:06.305920Z"
    }
   },
   "outputs": [
    {
     "data": {
      "text/html": [
       "<div>\n",
       "<style scoped>\n",
       "    .dataframe tbody tr th:only-of-type {\n",
       "        vertical-align: middle;\n",
       "    }\n",
       "\n",
       "    .dataframe tbody tr th {\n",
       "        vertical-align: top;\n",
       "    }\n",
       "\n",
       "    .dataframe thead th {\n",
       "        text-align: right;\n",
       "    }\n",
       "</style>\n",
       "<table border=\"1\" class=\"dataframe\">\n",
       "  <thead>\n",
       "    <tr style=\"text-align: right;\">\n",
       "      <th></th>\n",
       "      <th>gene</th>\n",
       "      <th>transcript_id</th>\n",
       "      <th>chrom</th>\n",
       "      <th>section_id</th>\n",
       "      <th>num_mutations</th>\n",
       "      <th>observed_median</th>\n",
       "      <th>observed_mean</th>\n",
       "      <th>expected_median_glob_k3</th>\n",
       "      <th>median_shift_glob_k3</th>\n",
       "      <th>expected_mean_glob_k3</th>\n",
       "      <th>...</th>\n",
       "      <th>binom_glob_k3_observed_proportion</th>\n",
       "      <th>binom_glob_k3_expected_count</th>\n",
       "      <th>binom_glob_k3_observed_count</th>\n",
       "      <th>binom_glob_k3_threshold</th>\n",
       "      <th>binom_glob_k3_expected_CI_high</th>\n",
       "      <th>binom_glob_k3_expected_CI_low</th>\n",
       "      <th>binom_glob_k3_observed_CI_low</th>\n",
       "      <th>binom_glob_k3_observed_CI_high</th>\n",
       "      <th>lookup</th>\n",
       "      <th>binom_glob_k3_qvalue</th>\n",
       "    </tr>\n",
       "  </thead>\n",
       "  <tbody>\n",
       "    <tr>\n",
       "      <th>0</th>\n",
       "      <td>PIK3CA</td>\n",
       "      <td>ENST00000263967</td>\n",
       "      <td>3</td>\n",
       "      <td>4l1b:A</td>\n",
       "      <td>167</td>\n",
       "      <td>0.0</td>\n",
       "      <td>0.089820</td>\n",
       "      <td>0.0</td>\n",
       "      <td>0.0</td>\n",
       "      <td>0.019995</td>\n",
       "      <td>...</td>\n",
       "      <td>0.089820</td>\n",
       "      <td>3.339192</td>\n",
       "      <td>15</td>\n",
       "      <td>0.5</td>\n",
       "      <td>7.0</td>\n",
       "      <td>0.0</td>\n",
       "      <td>8.0</td>\n",
       "      <td>23.0</td>\n",
       "      <td>l100</td>\n",
       "      <td>0.000009</td>\n",
       "    </tr>\n",
       "    <tr>\n",
       "      <th>1</th>\n",
       "      <td>PIK3CA</td>\n",
       "      <td>ENST00000263967</td>\n",
       "      <td>3</td>\n",
       "      <td>4l1b:A</td>\n",
       "      <td>167</td>\n",
       "      <td>0.0</td>\n",
       "      <td>0.011976</td>\n",
       "      <td>0.0</td>\n",
       "      <td>0.0</td>\n",
       "      <td>0.006735</td>\n",
       "      <td>...</td>\n",
       "      <td>0.011976</td>\n",
       "      <td>1.124700</td>\n",
       "      <td>2</td>\n",
       "      <td>0.5</td>\n",
       "      <td>4.0</td>\n",
       "      <td>0.0</td>\n",
       "      <td>0.0</td>\n",
       "      <td>5.0</td>\n",
       "      <td>l120</td>\n",
       "      <td>0.487389</td>\n",
       "    </tr>\n",
       "    <tr>\n",
       "      <th>2</th>\n",
       "      <td>PIK3CA</td>\n",
       "      <td>ENST00000263967</td>\n",
       "      <td>3</td>\n",
       "      <td>4l1b:A</td>\n",
       "      <td>167</td>\n",
       "      <td>0.0</td>\n",
       "      <td>0.000000</td>\n",
       "      <td>0.0</td>\n",
       "      <td>0.0</td>\n",
       "      <td>0.005986</td>\n",
       "      <td>...</td>\n",
       "      <td>0.000000</td>\n",
       "      <td>0.999630</td>\n",
       "      <td>0</td>\n",
       "      <td>0.5</td>\n",
       "      <td>3.0</td>\n",
       "      <td>0.0</td>\n",
       "      <td>0.0</td>\n",
       "      <td>0.0</td>\n",
       "      <td>l335</td>\n",
       "      <td>0.728128</td>\n",
       "    </tr>\n",
       "    <tr>\n",
       "      <th>3</th>\n",
       "      <td>PIK3CA</td>\n",
       "      <td>ENST00000263967</td>\n",
       "      <td>3</td>\n",
       "      <td>4l1b:A</td>\n",
       "      <td>167</td>\n",
       "      <td>0.0</td>\n",
       "      <td>0.017964</td>\n",
       "      <td>0.0</td>\n",
       "      <td>0.0</td>\n",
       "      <td>0.007197</td>\n",
       "      <td>...</td>\n",
       "      <td>0.017964</td>\n",
       "      <td>1.201873</td>\n",
       "      <td>3</td>\n",
       "      <td>0.5</td>\n",
       "      <td>4.0</td>\n",
       "      <td>0.0</td>\n",
       "      <td>0.0</td>\n",
       "      <td>7.0</td>\n",
       "      <td>l343</td>\n",
       "      <td>0.264640</td>\n",
       "    </tr>\n",
       "    <tr>\n",
       "      <th>4</th>\n",
       "      <td>PIK3CA</td>\n",
       "      <td>ENST00000263967</td>\n",
       "      <td>3</td>\n",
       "      <td>4l1b:A</td>\n",
       "      <td>167</td>\n",
       "      <td>0.0</td>\n",
       "      <td>0.107784</td>\n",
       "      <td>0.0</td>\n",
       "      <td>0.0</td>\n",
       "      <td>0.037540</td>\n",
       "      <td>...</td>\n",
       "      <td>0.107784</td>\n",
       "      <td>6.269177</td>\n",
       "      <td>18</td>\n",
       "      <td>0.5</td>\n",
       "      <td>11.0</td>\n",
       "      <td>2.0</td>\n",
       "      <td>11.0</td>\n",
       "      <td>26.0</td>\n",
       "      <td>l444</td>\n",
       "      <td>0.000236</td>\n",
       "    </tr>\n",
       "    <tr>\n",
       "      <th>5</th>\n",
       "      <td>PIK3CA</td>\n",
       "      <td>ENST00000263967</td>\n",
       "      <td>3</td>\n",
       "      <td>4l1b:A</td>\n",
       "      <td>167</td>\n",
       "      <td>0.0</td>\n",
       "      <td>0.000000</td>\n",
       "      <td>0.0</td>\n",
       "      <td>0.0</td>\n",
       "      <td>0.021418</td>\n",
       "      <td>...</td>\n",
       "      <td>0.000000</td>\n",
       "      <td>3.576862</td>\n",
       "      <td>0</td>\n",
       "      <td>0.5</td>\n",
       "      <td>8.0</td>\n",
       "      <td>0.0</td>\n",
       "      <td>0.0</td>\n",
       "      <td>0.0</td>\n",
       "      <td>l532</td>\n",
       "      <td>0.151766</td>\n",
       "    </tr>\n",
       "    <tr>\n",
       "      <th>6</th>\n",
       "      <td>PIK3CA</td>\n",
       "      <td>ENST00000263967</td>\n",
       "      <td>3</td>\n",
       "      <td>4l1b:A</td>\n",
       "      <td>167</td>\n",
       "      <td>0.0</td>\n",
       "      <td>0.005988</td>\n",
       "      <td>0.0</td>\n",
       "      <td>0.0</td>\n",
       "      <td>0.022561</td>\n",
       "      <td>...</td>\n",
       "      <td>0.005988</td>\n",
       "      <td>3.767636</td>\n",
       "      <td>1</td>\n",
       "      <td>0.5</td>\n",
       "      <td>8.0</td>\n",
       "      <td>0.0</td>\n",
       "      <td>0.0</td>\n",
       "      <td>3.0</td>\n",
       "      <td>l720</td>\n",
       "      <td>0.353809</td>\n",
       "    </tr>\n",
       "    <tr>\n",
       "      <th>7</th>\n",
       "      <td>PIK3CA</td>\n",
       "      <td>ENST00000263967</td>\n",
       "      <td>3</td>\n",
       "      <td>4l1b:A</td>\n",
       "      <td>167</td>\n",
       "      <td>0.0</td>\n",
       "      <td>0.011976</td>\n",
       "      <td>0.0</td>\n",
       "      <td>0.0</td>\n",
       "      <td>0.011166</td>\n",
       "      <td>...</td>\n",
       "      <td>0.011976</td>\n",
       "      <td>1.864770</td>\n",
       "      <td>2</td>\n",
       "      <td>0.5</td>\n",
       "      <td>5.0</td>\n",
       "      <td>0.0</td>\n",
       "      <td>0.0</td>\n",
       "      <td>5.0</td>\n",
       "      <td>l848</td>\n",
       "      <td>0.728128</td>\n",
       "    </tr>\n",
       "    <tr>\n",
       "      <th>8</th>\n",
       "      <td>PIK3CA</td>\n",
       "      <td>ENST00000263967</td>\n",
       "      <td>3</td>\n",
       "      <td>4l1b:A</td>\n",
       "      <td>167</td>\n",
       "      <td>0.0</td>\n",
       "      <td>0.011976</td>\n",
       "      <td>0.0</td>\n",
       "      <td>0.0</td>\n",
       "      <td>0.024971</td>\n",
       "      <td>...</td>\n",
       "      <td>0.011976</td>\n",
       "      <td>4.170090</td>\n",
       "      <td>2</td>\n",
       "      <td>0.5</td>\n",
       "      <td>8.0</td>\n",
       "      <td>1.0</td>\n",
       "      <td>0.0</td>\n",
       "      <td>5.0</td>\n",
       "      <td>l930</td>\n",
       "      <td>0.619867</td>\n",
       "    </tr>\n",
       "    <tr>\n",
       "      <th>9</th>\n",
       "      <td>PIK3CA</td>\n",
       "      <td>ENST00000263967</td>\n",
       "      <td>3</td>\n",
       "      <td>4l1b:A</td>\n",
       "      <td>167</td>\n",
       "      <td>0.0</td>\n",
       "      <td>0.083832</td>\n",
       "      <td>0.0</td>\n",
       "      <td>0.0</td>\n",
       "      <td>0.014892</td>\n",
       "      <td>...</td>\n",
       "      <td>0.083832</td>\n",
       "      <td>2.487030</td>\n",
       "      <td>14</td>\n",
       "      <td>0.5</td>\n",
       "      <td>6.0</td>\n",
       "      <td>0.0</td>\n",
       "      <td>7.0</td>\n",
       "      <td>21.0</td>\n",
       "      <td>l962</td>\n",
       "      <td>0.000003</td>\n",
       "    </tr>\n",
       "    <tr>\n",
       "      <th>10</th>\n",
       "      <td>PIK3CA</td>\n",
       "      <td>ENST00000263967</td>\n",
       "      <td>3</td>\n",
       "      <td>4l1b:A</td>\n",
       "      <td>167</td>\n",
       "      <td>0.0</td>\n",
       "      <td>0.005988</td>\n",
       "      <td>0.0</td>\n",
       "      <td>0.0</td>\n",
       "      <td>0.012457</td>\n",
       "      <td>...</td>\n",
       "      <td>0.005988</td>\n",
       "      <td>2.080274</td>\n",
       "      <td>1</td>\n",
       "      <td>0.5</td>\n",
       "      <td>5.0</td>\n",
       "      <td>0.0</td>\n",
       "      <td>0.0</td>\n",
       "      <td>3.0</td>\n",
       "      <td>l1039</td>\n",
       "      <td>0.728128</td>\n",
       "    </tr>\n",
       "  </tbody>\n",
       "</table>\n",
       "<p>11 rows × 23 columns</p>\n",
       "</div>"
      ],
      "text/plain": [
       "      gene    transcript_id chrom section_id  num_mutations  observed_median  \\\n",
       "0   PIK3CA  ENST00000263967     3     4l1b:A            167              0.0   \n",
       "1   PIK3CA  ENST00000263967     3     4l1b:A            167              0.0   \n",
       "2   PIK3CA  ENST00000263967     3     4l1b:A            167              0.0   \n",
       "3   PIK3CA  ENST00000263967     3     4l1b:A            167              0.0   \n",
       "4   PIK3CA  ENST00000263967     3     4l1b:A            167              0.0   \n",
       "5   PIK3CA  ENST00000263967     3     4l1b:A            167              0.0   \n",
       "6   PIK3CA  ENST00000263967     3     4l1b:A            167              0.0   \n",
       "7   PIK3CA  ENST00000263967     3     4l1b:A            167              0.0   \n",
       "8   PIK3CA  ENST00000263967     3     4l1b:A            167              0.0   \n",
       "9   PIK3CA  ENST00000263967     3     4l1b:A            167              0.0   \n",
       "10  PIK3CA  ENST00000263967     3     4l1b:A            167              0.0   \n",
       "\n",
       "    observed_mean  expected_median_glob_k3  median_shift_glob_k3  \\\n",
       "0        0.089820                      0.0                   0.0   \n",
       "1        0.011976                      0.0                   0.0   \n",
       "2        0.000000                      0.0                   0.0   \n",
       "3        0.017964                      0.0                   0.0   \n",
       "4        0.107784                      0.0                   0.0   \n",
       "5        0.000000                      0.0                   0.0   \n",
       "6        0.005988                      0.0                   0.0   \n",
       "7        0.011976                      0.0                   0.0   \n",
       "8        0.011976                      0.0                   0.0   \n",
       "9        0.083832                      0.0                   0.0   \n",
       "10       0.005988                      0.0                   0.0   \n",
       "\n",
       "    expected_mean_glob_k3  ...  binom_glob_k3_observed_proportion  \\\n",
       "0                0.019995  ...                           0.089820   \n",
       "1                0.006735  ...                           0.011976   \n",
       "2                0.005986  ...                           0.000000   \n",
       "3                0.007197  ...                           0.017964   \n",
       "4                0.037540  ...                           0.107784   \n",
       "5                0.021418  ...                           0.000000   \n",
       "6                0.022561  ...                           0.005988   \n",
       "7                0.011166  ...                           0.011976   \n",
       "8                0.024971  ...                           0.011976   \n",
       "9                0.014892  ...                           0.083832   \n",
       "10               0.012457  ...                           0.005988   \n",
       "\n",
       "    binom_glob_k3_expected_count  binom_glob_k3_observed_count  \\\n",
       "0                       3.339192                            15   \n",
       "1                       1.124700                             2   \n",
       "2                       0.999630                             0   \n",
       "3                       1.201873                             3   \n",
       "4                       6.269177                            18   \n",
       "5                       3.576862                             0   \n",
       "6                       3.767636                             1   \n",
       "7                       1.864770                             2   \n",
       "8                       4.170090                             2   \n",
       "9                       2.487030                            14   \n",
       "10                      2.080274                             1   \n",
       "\n",
       "    binom_glob_k3_threshold  binom_glob_k3_expected_CI_high  \\\n",
       "0                       0.5                             7.0   \n",
       "1                       0.5                             4.0   \n",
       "2                       0.5                             3.0   \n",
       "3                       0.5                             4.0   \n",
       "4                       0.5                            11.0   \n",
       "5                       0.5                             8.0   \n",
       "6                       0.5                             8.0   \n",
       "7                       0.5                             5.0   \n",
       "8                       0.5                             8.0   \n",
       "9                       0.5                             6.0   \n",
       "10                      0.5                             5.0   \n",
       "\n",
       "    binom_glob_k3_expected_CI_low  binom_glob_k3_observed_CI_low  \\\n",
       "0                             0.0                            8.0   \n",
       "1                             0.0                            0.0   \n",
       "2                             0.0                            0.0   \n",
       "3                             0.0                            0.0   \n",
       "4                             2.0                           11.0   \n",
       "5                             0.0                            0.0   \n",
       "6                             0.0                            0.0   \n",
       "7                             0.0                            0.0   \n",
       "8                             1.0                            0.0   \n",
       "9                             0.0                            7.0   \n",
       "10                            0.0                            0.0   \n",
       "\n",
       "    binom_glob_k3_observed_CI_high  lookup  binom_glob_k3_qvalue  \n",
       "0                             23.0    l100              0.000009  \n",
       "1                              5.0    l120              0.487389  \n",
       "2                              0.0    l335              0.728128  \n",
       "3                              7.0    l343              0.264640  \n",
       "4                             26.0    l444              0.000236  \n",
       "5                              0.0    l532              0.151766  \n",
       "6                              3.0    l720              0.353809  \n",
       "7                              5.0    l848              0.728128  \n",
       "8                              5.0    l930              0.619867  \n",
       "9                             21.0    l962              0.000003  \n",
       "10                             3.0   l1039              0.728128  \n",
       "\n",
       "[11 rows x 23 columns]"
      ]
     },
     "execution_count": 17,
     "metadata": {},
     "output_type": "execute_result"
    }
   ],
   "source": [
    "all_muts_res_skin"
   ]
  },
  {
   "cell_type": "code",
   "execution_count": 18,
   "metadata": {
    "ExecuteTime": {
     "end_time": "2022-06-24T11:10:06.375728Z",
     "start_time": "2022-06-24T11:10:06.353887Z"
    }
   },
   "outputs": [
    {
     "data": {
      "text/html": [
       "<div>\n",
       "<style scoped>\n",
       "    .dataframe tbody tr th:only-of-type {\n",
       "        vertical-align: middle;\n",
       "    }\n",
       "\n",
       "    .dataframe tbody tr th {\n",
       "        vertical-align: top;\n",
       "    }\n",
       "\n",
       "    .dataframe thead th {\n",
       "        text-align: right;\n",
       "    }\n",
       "</style>\n",
       "<table border=\"1\" class=\"dataframe\">\n",
       "  <thead>\n",
       "    <tr style=\"text-align: right;\">\n",
       "      <th></th>\n",
       "      <th>num_mutations</th>\n",
       "      <th>binom_glob_k3_expected_count</th>\n",
       "      <th>binom_glob_k3_observed_count</th>\n",
       "      <th>lookup</th>\n",
       "      <th>binom_glob_k3_pvalue</th>\n",
       "      <th>binom_glob_k3_qvalue</th>\n",
       "    </tr>\n",
       "  </thead>\n",
       "  <tbody>\n",
       "    <tr>\n",
       "      <th>9</th>\n",
       "      <td>167</td>\n",
       "      <td>2.487030</td>\n",
       "      <td>14</td>\n",
       "      <td>l962</td>\n",
       "      <td>2.695359e-07</td>\n",
       "      <td>0.000003</td>\n",
       "    </tr>\n",
       "    <tr>\n",
       "      <th>0</th>\n",
       "      <td>167</td>\n",
       "      <td>3.339192</td>\n",
       "      <td>15</td>\n",
       "      <td>l100</td>\n",
       "      <td>1.642572e-06</td>\n",
       "      <td>0.000009</td>\n",
       "    </tr>\n",
       "    <tr>\n",
       "      <th>4</th>\n",
       "      <td>167</td>\n",
       "      <td>6.269177</td>\n",
       "      <td>18</td>\n",
       "      <td>l444</td>\n",
       "      <td>6.444364e-05</td>\n",
       "      <td>0.000236</td>\n",
       "    </tr>\n",
       "    <tr>\n",
       "      <th>5</th>\n",
       "      <td>167</td>\n",
       "      <td>3.576862</td>\n",
       "      <td>0</td>\n",
       "      <td>l532</td>\n",
       "      <td>5.518772e-02</td>\n",
       "      <td>0.151766</td>\n",
       "    </tr>\n",
       "    <tr>\n",
       "      <th>3</th>\n",
       "      <td>167</td>\n",
       "      <td>1.201873</td>\n",
       "      <td>3</td>\n",
       "      <td>l343</td>\n",
       "      <td>1.202911e-01</td>\n",
       "      <td>0.264640</td>\n",
       "    </tr>\n",
       "    <tr>\n",
       "      <th>6</th>\n",
       "      <td>167</td>\n",
       "      <td>3.767636</td>\n",
       "      <td>1</td>\n",
       "      <td>l720</td>\n",
       "      <td>1.929866e-01</td>\n",
       "      <td>0.353809</td>\n",
       "    </tr>\n",
       "    <tr>\n",
       "      <th>1</th>\n",
       "      <td>167</td>\n",
       "      <td>1.124700</td>\n",
       "      <td>2</td>\n",
       "      <td>l120</td>\n",
       "      <td>3.101567e-01</td>\n",
       "      <td>0.487389</td>\n",
       "    </tr>\n",
       "    <tr>\n",
       "      <th>8</th>\n",
       "      <td>167</td>\n",
       "      <td>4.170090</td>\n",
       "      <td>2</td>\n",
       "      <td>l930</td>\n",
       "      <td>4.508120e-01</td>\n",
       "      <td>0.619867</td>\n",
       "    </tr>\n",
       "    <tr>\n",
       "      <th>2</th>\n",
       "      <td>167</td>\n",
       "      <td>0.999630</td>\n",
       "      <td>0</td>\n",
       "      <td>l335</td>\n",
       "      <td>6.310153e-01</td>\n",
       "      <td>0.728128</td>\n",
       "    </tr>\n",
       "    <tr>\n",
       "      <th>7</th>\n",
       "      <td>167</td>\n",
       "      <td>1.864770</td>\n",
       "      <td>2</td>\n",
       "      <td>l848</td>\n",
       "      <td>7.108740e-01</td>\n",
       "      <td>0.728128</td>\n",
       "    </tr>\n",
       "    <tr>\n",
       "      <th>10</th>\n",
       "      <td>167</td>\n",
       "      <td>2.080274</td>\n",
       "      <td>1</td>\n",
       "      <td>l1039</td>\n",
       "      <td>7.281279e-01</td>\n",
       "      <td>0.728128</td>\n",
       "    </tr>\n",
       "  </tbody>\n",
       "</table>\n",
       "</div>"
      ],
      "text/plain": [
       "    num_mutations  binom_glob_k3_expected_count  binom_glob_k3_observed_count  \\\n",
       "9             167                      2.487030                            14   \n",
       "0             167                      3.339192                            15   \n",
       "4             167                      6.269177                            18   \n",
       "5             167                      3.576862                             0   \n",
       "3             167                      1.201873                             3   \n",
       "6             167                      3.767636                             1   \n",
       "1             167                      1.124700                             2   \n",
       "8             167                      4.170090                             2   \n",
       "2             167                      0.999630                             0   \n",
       "7             167                      1.864770                             2   \n",
       "10            167                      2.080274                             1   \n",
       "\n",
       "   lookup  binom_glob_k3_pvalue  binom_glob_k3_qvalue  \n",
       "9    l962          2.695359e-07              0.000003  \n",
       "0    l100          1.642572e-06              0.000009  \n",
       "4    l444          6.444364e-05              0.000236  \n",
       "5    l532          5.518772e-02              0.151766  \n",
       "3    l343          1.202911e-01              0.264640  \n",
       "6    l720          1.929866e-01              0.353809  \n",
       "1    l120          3.101567e-01              0.487389  \n",
       "8    l930          4.508120e-01              0.619867  \n",
       "2    l335          6.310153e-01              0.728128  \n",
       "7    l848          7.108740e-01              0.728128  \n",
       "10  l1039          7.281279e-01              0.728128  "
      ]
     },
     "execution_count": 18,
     "metadata": {},
     "output_type": "execute_result"
    }
   ],
   "source": [
    "all_muts_res_skin.sort_values('binom_glob_k3_qvalue')[\n",
    "    ['num_mutations', 'binom_glob_k3_expected_count', 'binom_glob_k3_observed_count', \n",
    "     'lookup', 'binom_glob_k3_pvalue', 'binom_glob_k3_qvalue']\n",
    "]"
   ]
  },
  {
   "cell_type": "markdown",
   "metadata": {},
   "source": [
    "## OE"
   ]
  },
  {
   "cell_type": "code",
   "execution_count": 19,
   "metadata": {
    "ExecuteTime": {
     "end_time": "2022-06-24T11:10:36.969489Z",
     "start_time": "2022-06-24T11:10:06.378992Z"
    }
   },
   "outputs": [],
   "source": [
    "# Analyse each of the sections individually and collect the results. \n",
    "all_muts_res_oe = []\n",
    "for k, v in lookups.items():\n",
    "    s = d_oe.run_section(pik3ca_section_definition, lookup=v)\n",
    "    r = s.get_results_dictionary()\n",
    "    r['lookup'] = k\n",
    "    all_muts_res_oe.append(r)\n",
    "    \n",
    "all_muts_res_oe = pd.DataFrame(all_muts_res_oe)\n",
    "# Run multiple test correction on the p-values\n",
    "all_muts_res_oe['binom_glob_k3_qvalue'] = multipletests(all_muts_res_oe['binom_glob_k3_pvalue'], \n",
    "                                                        method='fdr_bh')[1]"
   ]
  },
  {
   "cell_type": "code",
   "execution_count": 20,
   "metadata": {
    "ExecuteTime": {
     "end_time": "2022-06-24T11:10:36.989987Z",
     "start_time": "2022-06-24T11:10:36.972372Z"
    }
   },
   "outputs": [
    {
     "data": {
      "text/html": [
       "<div>\n",
       "<style scoped>\n",
       "    .dataframe tbody tr th:only-of-type {\n",
       "        vertical-align: middle;\n",
       "    }\n",
       "\n",
       "    .dataframe tbody tr th {\n",
       "        vertical-align: top;\n",
       "    }\n",
       "\n",
       "    .dataframe thead th {\n",
       "        text-align: right;\n",
       "    }\n",
       "</style>\n",
       "<table border=\"1\" class=\"dataframe\">\n",
       "  <thead>\n",
       "    <tr style=\"text-align: right;\">\n",
       "      <th></th>\n",
       "      <th>num_mutations</th>\n",
       "      <th>binom_glob_k3_expected_count</th>\n",
       "      <th>binom_glob_k3_observed_count</th>\n",
       "      <th>lookup</th>\n",
       "      <th>binom_glob_k3_pvalue</th>\n",
       "      <th>binom_glob_k3_qvalue</th>\n",
       "    </tr>\n",
       "  </thead>\n",
       "  <tbody>\n",
       "    <tr>\n",
       "      <th>10</th>\n",
       "      <td>49</td>\n",
       "      <td>0.873310</td>\n",
       "      <td>17</td>\n",
       "      <td>l1039</td>\n",
       "      <td>6.977094e-18</td>\n",
       "      <td>7.674803e-17</td>\n",
       "    </tr>\n",
       "    <tr>\n",
       "      <th>0</th>\n",
       "      <td>49</td>\n",
       "      <td>0.939670</td>\n",
       "      <td>8</td>\n",
       "      <td>l100</td>\n",
       "      <td>4.089185e-06</td>\n",
       "      <td>2.249052e-05</td>\n",
       "    </tr>\n",
       "    <tr>\n",
       "      <th>1</th>\n",
       "      <td>49</td>\n",
       "      <td>0.552159</td>\n",
       "      <td>0</td>\n",
       "      <td>l120</td>\n",
       "      <td>1.000000e+00</td>\n",
       "      <td>1.000000e+00</td>\n",
       "    </tr>\n",
       "    <tr>\n",
       "      <th>2</th>\n",
       "      <td>49</td>\n",
       "      <td>0.373910</td>\n",
       "      <td>0</td>\n",
       "      <td>l335</td>\n",
       "      <td>1.000000e+00</td>\n",
       "      <td>1.000000e+00</td>\n",
       "    </tr>\n",
       "    <tr>\n",
       "      <th>3</th>\n",
       "      <td>49</td>\n",
       "      <td>0.546007</td>\n",
       "      <td>1</td>\n",
       "      <td>l343</td>\n",
       "      <td>4.225145e-01</td>\n",
       "      <td>1.000000e+00</td>\n",
       "    </tr>\n",
       "    <tr>\n",
       "      <th>4</th>\n",
       "      <td>49</td>\n",
       "      <td>1.261599</td>\n",
       "      <td>1</td>\n",
       "      <td>l444</td>\n",
       "      <td>1.000000e+00</td>\n",
       "      <td>1.000000e+00</td>\n",
       "    </tr>\n",
       "    <tr>\n",
       "      <th>5</th>\n",
       "      <td>49</td>\n",
       "      <td>0.801225</td>\n",
       "      <td>0</td>\n",
       "      <td>l532</td>\n",
       "      <td>1.000000e+00</td>\n",
       "      <td>1.000000e+00</td>\n",
       "    </tr>\n",
       "    <tr>\n",
       "      <th>6</th>\n",
       "      <td>49</td>\n",
       "      <td>0.959270</td>\n",
       "      <td>0</td>\n",
       "      <td>l720</td>\n",
       "      <td>1.000000e+00</td>\n",
       "      <td>1.000000e+00</td>\n",
       "    </tr>\n",
       "    <tr>\n",
       "      <th>7</th>\n",
       "      <td>49</td>\n",
       "      <td>0.746929</td>\n",
       "      <td>0</td>\n",
       "      <td>l848</td>\n",
       "      <td>1.000000e+00</td>\n",
       "      <td>1.000000e+00</td>\n",
       "    </tr>\n",
       "    <tr>\n",
       "      <th>8</th>\n",
       "      <td>49</td>\n",
       "      <td>1.316708</td>\n",
       "      <td>0</td>\n",
       "      <td>l930</td>\n",
       "      <td>6.438305e-01</td>\n",
       "      <td>1.000000e+00</td>\n",
       "    </tr>\n",
       "    <tr>\n",
       "      <th>9</th>\n",
       "      <td>49</td>\n",
       "      <td>0.660688</td>\n",
       "      <td>0</td>\n",
       "      <td>l962</td>\n",
       "      <td>1.000000e+00</td>\n",
       "      <td>1.000000e+00</td>\n",
       "    </tr>\n",
       "  </tbody>\n",
       "</table>\n",
       "</div>"
      ],
      "text/plain": [
       "    num_mutations  binom_glob_k3_expected_count  binom_glob_k3_observed_count  \\\n",
       "10             49                      0.873310                            17   \n",
       "0              49                      0.939670                             8   \n",
       "1              49                      0.552159                             0   \n",
       "2              49                      0.373910                             0   \n",
       "3              49                      0.546007                             1   \n",
       "4              49                      1.261599                             1   \n",
       "5              49                      0.801225                             0   \n",
       "6              49                      0.959270                             0   \n",
       "7              49                      0.746929                             0   \n",
       "8              49                      1.316708                             0   \n",
       "9              49                      0.660688                             0   \n",
       "\n",
       "   lookup  binom_glob_k3_pvalue  binom_glob_k3_qvalue  \n",
       "10  l1039          6.977094e-18          7.674803e-17  \n",
       "0    l100          4.089185e-06          2.249052e-05  \n",
       "1    l120          1.000000e+00          1.000000e+00  \n",
       "2    l335          1.000000e+00          1.000000e+00  \n",
       "3    l343          4.225145e-01          1.000000e+00  \n",
       "4    l444          1.000000e+00          1.000000e+00  \n",
       "5    l532          1.000000e+00          1.000000e+00  \n",
       "6    l720          1.000000e+00          1.000000e+00  \n",
       "7    l848          1.000000e+00          1.000000e+00  \n",
       "8    l930          6.438305e-01          1.000000e+00  \n",
       "9    l962          1.000000e+00          1.000000e+00  "
      ]
     },
     "execution_count": 20,
     "metadata": {},
     "output_type": "execute_result"
    }
   ],
   "source": [
    "all_muts_res_oe.sort_values('binom_glob_k3_qvalue')[\n",
    "    ['num_mutations', 'binom_glob_k3_expected_count', 'binom_glob_k3_observed_count', \n",
    "     'lookup', 'binom_glob_k3_pvalue', 'binom_glob_k3_qvalue']\n",
    "]"
   ]
  },
  {
   "cell_type": "markdown",
   "metadata": {},
   "source": [
    "# Plotting signficant results"
   ]
  },
  {
   "cell_type": "markdown",
   "metadata": {},
   "source": [
    "## Skin"
   ]
  },
  {
   "cell_type": "code",
   "execution_count": 21,
   "metadata": {
    "ExecuteTime": {
     "end_time": "2022-06-24T11:10:40.062754Z",
     "start_time": "2022-06-24T11:10:36.993345Z"
    }
   },
   "outputs": [
    {
     "name": "stdout",
     "output_type": "stream",
     "text": [
      "{'gene': 'PIK3CA', 'transcript_id': 'ENST00000263967', 'chrom': '3', 'section_id': '4l1b:A', 'num_mutations': 167, 'observed_median': 0.0, 'observed_mean': 0.08982035928143713, 'expected_median_glob_k3': 0.0, 'median_shift_glob_k3': 0.0, 'expected_mean_glob_k3': 0.01999516307720108, 'mean_shift_glob_k3': 0.06982519620423605, 'binom_glob_k3_pvalue': 1.642571601387811e-06, 'binom_glob_k3_expected_proportion': 0.019995163077201082, 'binom_glob_k3_observed_proportion': 0.08982035928143713, 'binom_glob_k3_expected_count': 3.3391922338925806, 'binom_glob_k3_observed_count': 15, 'binom_glob_k3_threshold': 0.5, 'binom_glob_k3_expected_CI_high': 7.0, 'binom_glob_k3_expected_CI_low': 0.0, 'binom_glob_k3_observed_CI_low': 8.0, 'binom_glob_k3_observed_CI_high': 23.0}\n"
     ]
    },
    {
     "data": {
      "image/png": "[encoded data removed]",
      "text/plain": [
       "<Figure size 144x216 with 1 Axes>"
      ]
     },
     "metadata": {
      "needs_background": "light"
     },
     "output_type": "display_data"
    }
   ],
   "source": [
    "# 100-119\n",
    "v = lookups['l100']\n",
    "s = d_skin.run_section(pik3ca_section_definition, lookup=v)\n",
    "print(s.get_results_dictionary())\n",
    "\n",
    "s.plot_binomial(figsize=(2, 3), show_legend=False, colours=['#f9c648', '#f9d98a'])\n",
    "plt.title(\"\")\n",
    "section_name = \"-\".join(v.target_key.split('_'))\n",
    "plt.ylabel('Mutations in residues {}'.format(section_name))\n",
    "hide_top_and_right_axes(plt.gca())\n",
    "plt.tight_layout()"
   ]
  },
  {
   "cell_type": "code",
   "execution_count": 22,
   "metadata": {
    "ExecuteTime": {
     "end_time": "2022-06-24T11:10:43.262173Z",
     "start_time": "2022-06-24T11:10:40.066021Z"
    }
   },
   "outputs": [
    {
     "name": "stdout",
     "output_type": "stream",
     "text": [
      "{'gene': 'PIK3CA', 'transcript_id': 'ENST00000263967', 'chrom': '3', 'section_id': '4l1b:A', 'num_mutations': 167, 'observed_median': 0.0, 'observed_mean': 0.10778443113772455, 'expected_median_glob_k3': 0.0, 'median_shift_glob_k3': 0.0, 'expected_mean_glob_k3': 0.03753998077046632, 'mean_shift_glob_k3': 0.07024445036725824, 'binom_glob_k3_pvalue': 6.444363917088163e-05, 'binom_glob_k3_expected_proportion': 0.03753998077046632, 'binom_glob_k3_observed_proportion': 0.10778443113772455, 'binom_glob_k3_expected_count': 6.269176788667876, 'binom_glob_k3_observed_count': 18, 'binom_glob_k3_threshold': 0.5, 'binom_glob_k3_expected_CI_high': 11.0, 'binom_glob_k3_expected_CI_low': 2.0, 'binom_glob_k3_observed_CI_low': 10.0, 'binom_glob_k3_observed_CI_high': 26.0}\n"
     ]
    },
    {
     "data": {
      "image/png": "[encoded data removed]",
      "text/plain": [
       "<Figure size 144x216 with 1 Axes>"
      ]
     },
     "metadata": {
      "needs_background": "light"
     },
     "output_type": "display_data"
    }
   ],
   "source": [
    "# 444-473\n",
    "v = lookups['l444']\n",
    "s = d_skin.run_section(pik3ca_section_definition, lookup=v)\n",
    "print(s.get_results_dictionary())\n",
    "\n",
    "s.plot_binomial(figsize=(2, 3), show_legend=False, colours=['#2395aa', '#8cd1e8'])\n",
    "plt.title(\"\")\n",
    "section_name = \"-\".join(v.target_key.split('_'))\n",
    "plt.ylabel('Mutations in residues {}'.format(section_name))\n",
    "hide_top_and_right_axes(plt.gca())\n",
    "plt.tight_layout()"
   ]
  },
  {
   "cell_type": "code",
   "execution_count": 23,
   "metadata": {
    "ExecuteTime": {
     "end_time": "2022-06-24T11:10:46.495173Z",
     "start_time": "2022-06-24T11:10:43.265284Z"
    }
   },
   "outputs": [
    {
     "name": "stdout",
     "output_type": "stream",
     "text": [
      "{'gene': 'PIK3CA', 'transcript_id': 'ENST00000263967', 'chrom': '3', 'section_id': '4l1b:A', 'num_mutations': 167, 'observed_median': 0.0, 'observed_mean': 0.08383233532934131, 'expected_median_glob_k3': 0.0, 'median_shift_glob_k3': 0.0, 'expected_mean_glob_k3': 0.014892396498306306, 'mean_shift_glob_k3': 0.06893993883103501, 'binom_glob_k3_pvalue': 2.695358753521695e-07, 'binom_glob_k3_expected_proportion': 0.014892396498306303, 'binom_glob_k3_observed_proportion': 0.08383233532934131, 'binom_glob_k3_expected_count': 2.4870302152171524, 'binom_glob_k3_observed_count': 14, 'binom_glob_k3_threshold': 0.5, 'binom_glob_k3_expected_CI_high': 6.0, 'binom_glob_k3_expected_CI_low': 0.0, 'binom_glob_k3_observed_CI_low': 7.0, 'binom_glob_k3_observed_CI_high': 21.0}\n"
     ]
    },
    {
     "data": {
      "image/png": "[encoded data removed]",
      "text/plain": [
       "<Figure size 144x216 with 1 Axes>"
      ]
     },
     "metadata": {
      "needs_background": "light"
     },
     "output_type": "display_data"
    }
   ],
   "source": [
    "# 962-980\n",
    "v = lookups['l962']\n",
    "s = d_skin.run_section(pik3ca_section_definition, lookup=v)\n",
    "print(s.get_results_dictionary())\n",
    "\n",
    "s.plot_binomial(figsize=(2, 3), show_legend=False, colours=['#98329b', '#b06bb2'])\n",
    "plt.title(\"\")\n",
    "section_name = \"-\".join(v.target_key.split('_'))\n",
    "plt.ylabel('Mutations in residues {}'.format(section_name))\n",
    "hide_top_and_right_axes(plt.gca())\n",
    "plt.tight_layout()"
   ]
  },
  {
   "cell_type": "markdown",
   "metadata": {},
   "source": [
    "## Oesophagus/"
   ]
  },
  {
   "cell_type": "code",
   "execution_count": 24,
   "metadata": {
    "ExecuteTime": {
     "end_time": "2022-06-24T11:10:49.571560Z",
     "start_time": "2022-06-24T11:10:46.498440Z"
    }
   },
   "outputs": [
    {
     "name": "stdout",
     "output_type": "stream",
     "text": [
      "{'gene': 'PIK3CA', 'transcript_id': 'ENST00000263967', 'chrom': '3', 'section_id': '4l1b:A', 'num_mutations': 49, 'observed_median': 0.0, 'observed_mean': 0.16326530612244897, 'expected_median_glob_k3': 0.0, 'median_shift_glob_k3': 0.0, 'expected_mean_glob_k3': 0.01917694588821233, 'mean_shift_glob_k3': 0.14408836023423663, 'binom_glob_k3_pvalue': 4.0891849377005535e-06, 'binom_glob_k3_expected_proportion': 0.019176945888212334, 'binom_glob_k3_observed_proportion': 0.16326530612244897, 'binom_glob_k3_expected_count': 0.9396703485224044, 'binom_glob_k3_observed_count': 8, 'binom_glob_k3_threshold': 0.5, 'binom_glob_k3_expected_CI_high': 3.0, 'binom_glob_k3_expected_CI_low': 0.0, 'binom_glob_k3_observed_CI_low': 3.0, 'binom_glob_k3_observed_CI_high': 13.0}\n"
     ]
    },
    {
     "data": {
      "image/png": "[encoded data removed]",
      "text/plain": [
       "<Figure size 144x216 with 1 Axes>"
      ]
     },
     "metadata": {
      "needs_background": "light"
     },
     "output_type": "display_data"
    }
   ],
   "source": [
    "# 100-119\n",
    "v = lookups['l100']\n",
    "s = d_oe.run_section(pik3ca_section_definition, lookup=v)\n",
    "print(s.get_results_dictionary())\n",
    "\n",
    "s.plot_binomial(figsize=(2, 3), show_legend=False, colours=['#f9c648', '#f9d98a'])\n",
    "plt.title(\"\")\n",
    "section_name = \"-\".join(v.target_key.split('_'))\n",
    "plt.ylabel('Mutations in residues {}'.format(section_name))\n",
    "hide_top_and_right_axes(plt.gca())\n",
    "plt.tight_layout()"
   ]
  },
  {
   "cell_type": "code",
   "execution_count": 25,
   "metadata": {
    "ExecuteTime": {
     "end_time": "2022-06-24T11:10:52.583250Z",
     "start_time": "2022-06-24T11:10:49.574676Z"
    }
   },
   "outputs": [
    {
     "name": "stdout",
     "output_type": "stream",
     "text": [
      "{'gene': 'PIK3CA', 'transcript_id': 'ENST00000263967', 'chrom': '3', 'section_id': '4l1b:A', 'num_mutations': 49, 'observed_median': 0.0, 'observed_mean': 0.3469387755102041, 'expected_median_glob_k3': 0.0, 'median_shift_glob_k3': 0.0, 'expected_mean_glob_k3': 0.017822655293002525, 'mean_shift_glob_k3': 0.32911612021720155, 'binom_glob_k3_pvalue': 6.977093512673382e-18, 'binom_glob_k3_expected_proportion': 0.017822655293002528, 'binom_glob_k3_observed_proportion': 0.3469387755102041, 'binom_glob_k3_expected_count': 0.8733101093571238, 'binom_glob_k3_observed_count': 17, 'binom_glob_k3_threshold': 0.5, 'binom_glob_k3_expected_CI_high': 3.0, 'binom_glob_k3_expected_CI_low': 0.0, 'binom_glob_k3_observed_CI_low': 11.0, 'binom_glob_k3_observed_CI_high': 24.0}\n"
     ]
    },
    {
     "data": {
      "image/png": "[encoded data removed]",
      "text/plain": [
       "<Figure size 144x216 with 1 Axes>"
      ]
     },
     "metadata": {
      "needs_background": "light"
     },
     "output_type": "display_data"
    }
   ],
   "source": [
    "# 1039-1055\n",
    "v = lookups['l1039']\n",
    "s = d_oe.run_section(pik3ca_section_definition, lookup=v)\n",
    "print(s.get_results_dictionary())\n",
    "\n",
    "s.plot_binomial(figsize=(2, 3), show_legend=False, colours=['#145e2b', '#4a8e5d'])\n",
    "plt.title(\"\")\n",
    "section_name = \"-\".join(v.target_key.split('_'))\n",
    "plt.ylabel('Mutations in residues {}'.format(section_name))\n",
    "hide_top_and_right_axes(plt.gca())\n",
    "plt.tight_layout()"
   ]
  },
  {
   "cell_type": "markdown",
   "metadata": {},
   "source": [
    "# Exclusion and deduplication"
   ]
  },
  {
   "cell_type": "markdown",
   "metadata": {},
   "source": [
    "Tests for each region, deduplicating mutations (only counting each recurrent mutation once) and excluding other selected regions from the tests. "
   ]
  },
  {
   "cell_type": "code",
   "execution_count": 26,
   "metadata": {
    "ExecuteTime": {
     "end_time": "2022-06-24T11:11:21.650093Z",
     "start_time": "2022-06-24T11:10:52.586529Z"
    }
   },
   "outputs": [],
   "source": [
    "d_skin_dedup = DarwinianShift(\n",
    "    data = pd.read_excel('248092_3_supp_6645104_q35h43.xlsx', sheet_name='Table S4', skiprows=4),\n",
    "    source_genome='GRCh37',\n",
    "    spectra='skin_trinuc_spectrum.txt',\n",
    "    included_mutation_types='missense', \n",
    "    statistics=BinomTest(), \n",
    "    deduplicate=True\n",
    ")"
   ]
  },
  {
   "cell_type": "code",
   "execution_count": 27,
   "metadata": {
    "ExecuteTime": {
     "end_time": "2022-06-24T11:11:28.535406Z",
     "start_time": "2022-06-24T11:11:21.653889Z"
    }
   },
   "outputs": [],
   "source": [
    "d_oe_dedup = DarwinianShift(\n",
    "    data=pd.read_excel('aau3879_TableS2.xlsx',\n",
    "                       sheet_name='Mutations_collapsed_by_distance', skiprows=17),\n",
    "    source_genome='GRCh37',\n",
    "    spectra='oesophagus_trinuc_spectrum.txt',\n",
    "    included_mutation_types='missense', \n",
    "    statistics=BinomTest(), \n",
    "    deduplicate=True\n",
    ")"
   ]
  },
  {
   "cell_type": "code",
   "execution_count": 28,
   "metadata": {
    "ExecuteTime": {
     "end_time": "2022-06-24T11:11:28.555235Z",
     "start_time": "2022-06-24T11:11:28.541570Z"
    }
   },
   "outputs": [],
   "source": [
    "all_muts_res_exclusion_and_dedup = []"
   ]
  },
  {
   "cell_type": "markdown",
   "metadata": {},
   "source": [
    "## Skin"
   ]
  },
  {
   "cell_type": "code",
   "execution_count": 29,
   "metadata": {
    "ExecuteTime": {
     "end_time": "2022-06-24T11:11:28.569880Z",
     "start_time": "2022-06-24T11:11:28.558826Z"
    }
   },
   "outputs": [],
   "source": [
    "other_lookups = [lookups['l444'], lookups['l962']]\n",
    "selected_others = ORLookup(\n",
    "    lookups=other_lookups,  \n",
    "    thresholds=[0.5]*len(other_lookups),\n",
    "    directions=[1]*len(other_lookups), \n",
    ")\n",
    "l100_excl = MutationExclusionLookup(\n",
    "    lookup=lookups['l100'], \n",
    "    exclusion_lookup=selected_others,   \n",
    "    exclusion_threshold=0.5, \n",
    "    exclusion_direction=1,  \n",
    "    name='100-119'\n",
    ")\n",
    "\n",
    "other_lookups = [lookups['l100'], lookups['l962']]\n",
    "selected_others = ORLookup(\n",
    "    lookups=other_lookups,  \n",
    "    thresholds=[0.5]*len(other_lookups),\n",
    "    directions=[1]*len(other_lookups), \n",
    ")\n",
    "l444_excl = MutationExclusionLookup(\n",
    "    lookup=lookups['l444'], \n",
    "    exclusion_lookup=selected_others,   \n",
    "    exclusion_threshold=0.5, \n",
    "    exclusion_direction=1,  \n",
    "    name='444-473'\n",
    ")\n",
    "\n",
    "other_lookups = [lookups['l100'], lookups['l444']]\n",
    "selected_others = ORLookup(\n",
    "    lookups=other_lookups,  \n",
    "    thresholds=[0.5]*len(other_lookups),\n",
    "    directions=[1]*len(other_lookups), \n",
    ")\n",
    "l962_excl = MutationExclusionLookup(\n",
    "    lookup=lookups['l962'], \n",
    "    exclusion_lookup=selected_others,   \n",
    "    exclusion_threshold=0.5, \n",
    "    exclusion_direction=1,  \n",
    "    name='962-980'\n",
    ")"
   ]
  },
  {
   "cell_type": "code",
   "execution_count": 30,
   "metadata": {
    "ExecuteTime": {
     "end_time": "2022-06-24T11:11:40.322763Z",
     "start_time": "2022-06-24T11:11:28.573056Z"
    }
   },
   "outputs": [],
   "source": [
    "for v in [l100_excl, l444_excl, l962_excl] :\n",
    "    \n",
    "    s = d_skin_dedup.run_section(pik3ca_section_definition, lookup=v)\n",
    "    res = s.get_results_dictionary()\n",
    "    res['tissue'] = 'skin'\n",
    "    res['test'] = v.name\n",
    "    all_muts_res_exclusion_and_dedup.append(res)"
   ]
  },
  {
   "cell_type": "markdown",
   "metadata": {},
   "source": [
    "### OE"
   ]
  },
  {
   "cell_type": "code",
   "execution_count": 31,
   "metadata": {
    "ExecuteTime": {
     "end_time": "2022-06-24T11:11:40.333732Z",
     "start_time": "2022-06-24T11:11:40.326161Z"
    }
   },
   "outputs": [],
   "source": [
    "l100_excl = MutationExclusionLookup(\n",
    "    lookup=lookups['l100'], \n",
    "    exclusion_lookup=lookups['l1039'],   \n",
    "    exclusion_threshold=0.5, \n",
    "    exclusion_direction=1,  \n",
    "    name='100-199'\n",
    ")\n",
    "\n",
    "\n",
    "l1039_excl = MutationExclusionLookup(\n",
    "    lookup=lookups['l1039'], \n",
    "    exclusion_lookup=lookups['l100'],   \n",
    "    exclusion_threshold=0.5, \n",
    "    exclusion_direction=1,  \n",
    "    name='1039-1055'\n",
    ")\n"
   ]
  },
  {
   "cell_type": "code",
   "execution_count": 32,
   "metadata": {
    "ExecuteTime": {
     "end_time": "2022-06-24T11:11:47.125407Z",
     "start_time": "2022-06-24T11:11:40.337071Z"
    }
   },
   "outputs": [],
   "source": [
    "for v in [l100_excl, l1039_excl] :\n",
    "    s = d_oe_dedup.run_section(pik3ca_section_definition, lookup=v)\n",
    "    res = s.get_results_dictionary()\n",
    "    res['tissue'] = 'Oesophagus'\n",
    "    res['test'] = v.name\n",
    "    all_muts_res_exclusion_and_dedup.append(res)"
   ]
  },
  {
   "cell_type": "code",
   "execution_count": 33,
   "metadata": {
    "ExecuteTime": {
     "end_time": "2022-06-24T11:11:47.144711Z",
     "start_time": "2022-06-24T11:11:47.127698Z"
    }
   },
   "outputs": [
    {
     "data": {
      "text/html": [
       "<div>\n",
       "<style scoped>\n",
       "    .dataframe tbody tr th:only-of-type {\n",
       "        vertical-align: middle;\n",
       "    }\n",
       "\n",
       "    .dataframe tbody tr th {\n",
       "        vertical-align: top;\n",
       "    }\n",
       "\n",
       "    .dataframe thead th {\n",
       "        text-align: right;\n",
       "    }\n",
       "</style>\n",
       "<table border=\"1\" class=\"dataframe\">\n",
       "  <thead>\n",
       "    <tr style=\"text-align: right;\">\n",
       "      <th></th>\n",
       "      <th>tissue</th>\n",
       "      <th>test</th>\n",
       "      <th>num_mutations</th>\n",
       "      <th>binom_glob_k3_expected_proportion</th>\n",
       "      <th>binom_glob_k3_observed_proportion</th>\n",
       "      <th>binom_glob_k3_pvalue</th>\n",
       "    </tr>\n",
       "  </thead>\n",
       "  <tbody>\n",
       "    <tr>\n",
       "      <th>0</th>\n",
       "      <td>skin</td>\n",
       "      <td>100-119</td>\n",
       "      <td>114</td>\n",
       "      <td>0.021102</td>\n",
       "      <td>0.087719</td>\n",
       "      <td>1.619288e-04</td>\n",
       "    </tr>\n",
       "    <tr>\n",
       "      <th>1</th>\n",
       "      <td>skin</td>\n",
       "      <td>444-473</td>\n",
       "      <td>112</td>\n",
       "      <td>0.038897</td>\n",
       "      <td>0.071429</td>\n",
       "      <td>8.301969e-02</td>\n",
       "    </tr>\n",
       "    <tr>\n",
       "      <th>2</th>\n",
       "      <td>skin</td>\n",
       "      <td>962-980</td>\n",
       "      <td>109</td>\n",
       "      <td>0.015802</td>\n",
       "      <td>0.045872</td>\n",
       "      <td>2.987455e-02</td>\n",
       "    </tr>\n",
       "    <tr>\n",
       "      <th>3</th>\n",
       "      <td>Oesophagus</td>\n",
       "      <td>100-199</td>\n",
       "      <td>30</td>\n",
       "      <td>0.019525</td>\n",
       "      <td>0.233333</td>\n",
       "      <td>1.483453e-06</td>\n",
       "    </tr>\n",
       "    <tr>\n",
       "      <th>4</th>\n",
       "      <td>Oesophagus</td>\n",
       "      <td>1039-1055</td>\n",
       "      <td>31</td>\n",
       "      <td>0.018171</td>\n",
       "      <td>0.258065</td>\n",
       "      <td>6.453285e-08</td>\n",
       "    </tr>\n",
       "  </tbody>\n",
       "</table>\n",
       "</div>"
      ],
      "text/plain": [
       "       tissue       test  num_mutations  binom_glob_k3_expected_proportion  \\\n",
       "0        skin    100-119            114                           0.021102   \n",
       "1        skin    444-473            112                           0.038897   \n",
       "2        skin    962-980            109                           0.015802   \n",
       "3  Oesophagus    100-199             30                           0.019525   \n",
       "4  Oesophagus  1039-1055             31                           0.018171   \n",
       "\n",
       "   binom_glob_k3_observed_proportion  binom_glob_k3_pvalue  \n",
       "0                           0.087719          1.619288e-04  \n",
       "1                           0.071429          8.301969e-02  \n",
       "2                           0.045872          2.987455e-02  \n",
       "3                           0.233333          1.483453e-06  \n",
       "4                           0.258065          6.453285e-08  "
      ]
     },
     "execution_count": 33,
     "metadata": {},
     "output_type": "execute_result"
    }
   ],
   "source": [
    "pd.DataFrame(all_muts_res_exclusion_and_dedup)[[\n",
    "    'tissue', 'test', 'num_mutations', \n",
    "    'binom_glob_k3_expected_proportion', 'binom_glob_k3_observed_proportion', \n",
    "    'binom_glob_k3_pvalue']\n",
    "]"
   ]
  },
  {
   "cell_type": "code",
   "execution_count": null,
   "metadata": {},
   "outputs": [],
   "source": []
  }
 ],
 "metadata": {
  "kernelspec": {
   "display_name": "Python 3 (ipykernel)",
   "language": "python",
   "name": "python3"
  },
  "language_info": {
   "codemirror_mode": {
    "name": "ipython",
    "version": 3
   },
   "file_extension": ".py",
   "mimetype": "text/x-python",
   "name": "python",
   "nbconvert_exporter": "python",
   "pygments_lexer": "ipython3",
   "version": "3.8.13"
  }
 },
 "nbformat": 4,
 "nbformat_minor": 4
}
