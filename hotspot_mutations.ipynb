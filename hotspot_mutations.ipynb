{
 "cells": [
  {
   "cell_type": "markdown",
   "metadata": {},
   "source": [
    "This notebook contains the code for recreating the plots and the statistics for analysis of missense mutations in the ligand-binding region of NOTCH1 in normal skin and oesophagus after deduplicating the mutations (only counting mutations with the same chromosome, position and alternate nucleotide once).   "
   ]
  },
  {
   "cell_type": "code",
   "execution_count": 1,
   "metadata": {
    "ExecuteTime": {
     "end_time": "2022-06-22T15:29:00.742160Z",
     "start_time": "2022-06-22T15:28:58.882184Z"
    }
   },
   "outputs": [],
   "source": [
    "import numpy as np\n",
    "import pandas as pd\n",
    "import matplotlib.pyplot as plt\n",
    "%matplotlib inline\n",
    "import matplotlib"
   ]
  },
  {
   "cell_type": "code",
   "execution_count": 2,
   "metadata": {
    "ExecuteTime": {
     "end_time": "2022-06-22T15:29:03.624123Z",
     "start_time": "2022-06-22T15:29:00.746581Z"
    }
   },
   "outputs": [
    {
     "name": "stderr",
     "output_type": "stream",
     "text": [
      "/Users/mh28/miniconda3/envs/dsenv3/lib/python3.8/site-packages/tqdm/auto.py:22: TqdmWarning: IProgress not found. Please update jupyter and ipywidgets. See https://ipywidgets.readthedocs.io/en/stable/user_install.html\n",
      "  from .autonotebook import tqdm as notebook_tqdm\n",
      "/Users/mh28/miniconda3/envs/dsenv3/lib/python3.8/site-packages/MDAnalysis/coordinates/TRJ.py:1209: DeprecationWarning: Please use `netcdf_file` from the `scipy.io` namespace, the `scipy.io.netcdf` namespace is deprecated.\n",
      "  class NCDFPicklable(scipy.io.netcdf.netcdf_file):\n"
     ]
    }
   ],
   "source": [
    "from darwinian_shift import DarwinianShift, GlobalKmerSpectrum\n",
    "from darwinian_shift import CDFMonteCarloTest, BinomTest\n",
    "from darwinian_shift import FoldXLookup, SequenceDistanceLookup, MutationExclusionLookup, StructureDistanceLookup\n",
    "from darwinian_shift import MutationExclusionLookup, ORLookup\n",
    "from darwinian_shift import hide_top_and_right_axes\n",
    "from darwinian_shift import plot_scatter_two_scores"
   ]
  },
  {
   "cell_type": "markdown",
   "metadata": {},
   "source": [
    "# Setup"
   ]
  },
  {
   "cell_type": "code",
   "execution_count": 3,
   "metadata": {
    "ExecuteTime": {
     "end_time": "2022-06-22T15:29:03.638257Z",
     "start_time": "2022-06-22T15:29:03.628181Z"
    }
   },
   "outputs": [],
   "source": [
    "# Define the region to test\n",
    "notch1_section_definition_egf11_12 = {\n",
    "    'transcript_id': 'ENST00000277541', 'pdb_id': '2vj3', 'pdb_chain': 'A', \n",
    "    'start': 412, 'end': 488, # Restrict to the residues in EGF11-12\n",
    "    'interface_residues': [413, 415, 418, 420, 421, 422, 423, 424, 425, \n",
    "                         435, 436, 444, 447, 448, 450, 451, 452, 454, \n",
    "                         466, 467, 468, 469, 470, 471, 475, 477, 478, \n",
    "                         479, 480],   # defined in Luca et al 2017\n",
    "    'ca_binding_residues': [412, 413, 415, 431, 432, 435, 452, 453, 455, 469, 470]  # Defined by MetalPDB\n",
    "}"
   ]
  },
  {
   "cell_type": "code",
   "execution_count": 4,
   "metadata": {
    "ExecuteTime": {
     "end_time": "2022-06-22T15:32:11.720167Z",
     "start_time": "2022-06-22T15:29:03.642765Z"
    }
   },
   "outputs": [],
   "source": [
    "d_skin = DarwinianShift(\n",
    "    data = pd.read_excel('248092_3_supp_6645104_q35h43.xlsx', sheet_name='Table S4', skiprows=4),\n",
    "    source_genome='GRCh37',\n",
    "    spectra=['skin_trinuc_spectrum.txt', GlobalKmerSpectrum(deduplicate_spectrum=True, name='dedup')],\n",
    "    included_mutation_types='missense', \n",
    "    deduplicate=True,   # Only count each mutation once\n",
    ")"
   ]
  },
  {
   "cell_type": "code",
   "execution_count": 5,
   "metadata": {
    "ExecuteTime": {
     "end_time": "2022-06-22T15:35:05.555883Z",
     "start_time": "2022-06-22T15:32:11.771464Z"
    }
   },
   "outputs": [],
   "source": [
    "d_oe = DarwinianShift(\n",
    "    data=pd.read_excel('aau3879_TableS2.xlsx',\n",
    "                       sheet_name='Mutations_collapsed_by_distance', skiprows=17),\n",
    "    source_genome='GRCh37',\n",
    "    spectra=['oesophagus_trinuc_spectrum.txt', GlobalKmerSpectrum(deduplicate_spectrum=True, name='dedup')],\n",
    "    included_mutation_types='missense',\n",
    "    deduplicate=True,   # Only count each mutation once\n",
    ")"
   ]
  },
  {
   "cell_type": "code",
   "execution_count": 6,
   "metadata": {
    "ExecuteTime": {
     "end_time": "2022-06-22T15:35:05.594348Z",
     "start_time": "2022-06-22T15:35:05.570785Z"
    }
   },
   "outputs": [],
   "source": [
    "# Directories\n",
    "sifts_directory=\"SIFTS_files\"\n",
    "pdb_directory = \"PDB_files\"\n",
    "\n",
    "# Colours\n",
    "unobserved_colour = '#BBBBBB'  \n",
    "observed_colour = '#EE7733'\n",
    "foldx_expected_colour = '#EE6677'\n",
    "foldx_expected_colour_full_spectrum = '#fcbba1'\n",
    "foldx_observed_colour = '#CC3311'\n",
    "interface_expected_colour_full_spectrum = '#DBEDFF'\n",
    "interface_expected_colour = '#88CCEE'\n",
    "interface_observed_colour = '#0077BB'\n",
    "calcium_expected_colour_full_spectrum = '#E7F9F3'\n",
    "calcium_expected_colour = '#8DE0D7'\n",
    "calcium_observed_colour = '#009988'"
   ]
  },
  {
   "cell_type": "markdown",
   "metadata": {},
   "source": [
    "# Toy example"
   ]
  },
  {
   "cell_type": "code",
   "execution_count": 7,
   "metadata": {
    "ExecuteTime": {
     "end_time": "2022-06-22T15:35:05.660233Z",
     "start_time": "2022-06-22T15:35:05.609036Z"
    }
   },
   "outputs": [],
   "source": [
    "# Create some fake data from the real data\n",
    "# Get some NOTCH1 mutations from EGF11-12 \n",
    "# Remove hotspots, so we just have our own example to add. \n",
    "example_mutations = d_oe.data[(d_oe.data['gene'] == 'NOTCH1') & (d_oe.data['pos'] >= 139411815) & \n",
    "                              (d_oe.data['pos'] <= 139412610) & \n",
    "                       (d_oe.data['impact'] == 'Missense')].drop_duplicates(subset=['chr', 'pos', 'ref', 'mut'])\n",
    "\n",
    "# Take 75 mutations at random\n",
    "example_mutations = example_mutations.sample(n=75, replace=False, random_state=0, axis=0)\n",
    "\n",
    "# Duplicate a single mutation so it appears 25 times\n",
    "hotspot = example_mutations.sample(n=1, random_state=1, axis=0)\n",
    "example_mutations = pd.concat([example_mutations] +[hotspot]*24)"
   ]
  },
  {
   "cell_type": "code",
   "execution_count": 8,
   "metadata": {
    "ExecuteTime": {
     "end_time": "2022-06-22T15:35:05.704280Z",
     "start_time": "2022-06-22T15:35:05.670643Z"
    }
   },
   "outputs": [],
   "source": [
    "# Make some fake scores\n",
    "class DummyScores:\n",
    "    # Score each unique mutation. \n",
    "    # Will make sure the score is consistent for the two tests. \n",
    "    # Set up using the null mutations for the region.\n",
    "    def __init__(self, null_data, name='Dummy Values'):\n",
    "        self.null_data = null_data\n",
    "        self.null_data['score'] = np.random.random(len(self.null_data))\n",
    "        self.name = name  # Will appear on some plot axes\n",
    "\n",
    "    def __call__(self, seq_object):\n",
    "        return self._get_scores(seq_object.null_mutations, seq_object.chrom)\n",
    "\n",
    "    def _get_scores(self, df, chrom):\n",
    "        merged_df = pd.merge(df, self.null_data,\n",
    "                             on=['pos', 'ref', 'mut'], how='left')\n",
    "        return merged_df['score']"
   ]
  },
  {
   "cell_type": "code",
   "execution_count": 9,
   "metadata": {
    "ExecuteTime": {
     "end_time": "2022-06-22T15:35:11.711877Z",
     "start_time": "2022-06-22T15:35:05.707103Z"
    }
   },
   "outputs": [],
   "source": [
    "d_example = DarwinianShift(\n",
    "    data=example_mutations, \n",
    "    source_genome='GRCh37',\n",
    "    spectra='oesophagus_trinuc_spectrum.txt',  # Use the precalculated spectra from the full oesophagus data set\n",
    "    statistics=CDFMonteCarloTest(num_draws=100000),\n",
    "    included_mutation_types='missense'\n",
    ")"
   ]
  },
  {
   "cell_type": "code",
   "execution_count": 10,
   "metadata": {
    "ExecuteTime": {
     "end_time": "2022-06-22T15:35:17.677935Z",
     "start_time": "2022-06-22T15:35:11.741569Z"
    }
   },
   "outputs": [],
   "source": [
    "# Need to generate a random score for each mutation.\n",
    "# First generate all possible mutations in the region\n",
    "section_for_null = d_example.make_section(notch1_section_definition_egf11_12)\n",
    "section_for_null.load_section_mutations()\n",
    "\n",
    "# Then generate the random scores for each possible mutation.\n",
    "np.random.seed(0)\n",
    "random_score_generator = DummyScores(section_for_null.null_mutations)"
   ]
  },
  {
   "cell_type": "code",
   "execution_count": 11,
   "metadata": {
    "ExecuteTime": {
     "end_time": "2022-06-22T15:35:25.356626Z",
     "start_time": "2022-06-22T15:35:17.698804Z"
    }
   },
   "outputs": [],
   "source": [
    "s_example = d_example.run_section(notch1_section_definition_egf11_12, lookup=random_score_generator)"
   ]
  },
  {
   "cell_type": "code",
   "execution_count": 12,
   "metadata": {
    "ExecuteTime": {
     "end_time": "2022-06-22T15:35:25.668387Z",
     "start_time": "2022-06-22T15:35:25.360725Z"
    }
   },
   "outputs": [
    {
     "data": {
      "image/png": "[encoded data removed]",
      "text/plain": [
       "<Figure size 432x216 with 1 Axes>"
      ]
     },
     "metadata": {},
     "output_type": "display_data"
    }
   ],
   "source": [
    "s_example.plot_scatter(figsize=(6, 3), show_legend=False, \n",
    "                    unobserved_mutation_colour=unobserved_colour, \n",
    "                    missense_mutation_colour=observed_colour, \n",
    "                    unmutated_marker_size=15, base_marker_size=15,\n",
    "                   )\n",
    "hide_top_and_right_axes()\n",
    "plt.xticks([])\n",
    "plt.yticks([])\n",
    "plt.tight_layout()"
   ]
  },
  {
   "cell_type": "code",
   "execution_count": 13,
   "metadata": {
    "ExecuteTime": {
     "end_time": "2022-06-22T15:35:25.951976Z",
     "start_time": "2022-06-22T15:35:25.673861Z"
    }
   },
   "outputs": [
    {
     "data": {
      "image/png": "[encoded data removed]",
      "text/plain": [
       "<Figure size 216x216 with 1 Axes>"
      ]
     },
     "metadata": {},
     "output_type": "display_data"
    }
   ],
   "source": [
    "s_example.plot_cdfs(figsize=(3, 3), colours=[observed_colour, unobserved_colour], show_legend=False, show_CI=False)\n",
    "hide_top_and_right_axes()\n",
    "plt.ylabel('CDF')\n",
    "plt.xticks([])\n",
    "plt.yticks([])\n",
    "plt.tight_layout()"
   ]
  },
  {
   "cell_type": "code",
   "execution_count": 14,
   "metadata": {
    "ExecuteTime": {
     "end_time": "2022-06-22T15:35:25.983563Z",
     "start_time": "2022-06-22T15:35:25.965238Z"
    }
   },
   "outputs": [
    {
     "data": {
      "text/plain": [
       "{'gene': 'NOTCH1',\n",
       " 'transcript_id': 'ENST00000277541',\n",
       " 'chrom': '9',\n",
       " 'section_id': '2vj3:A',\n",
       " 'num_mutations': 99,\n",
       " 'observed_median': 0.6399210213275238,\n",
       " 'observed_mean': 0.5594944553444312,\n",
       " 'expected_median_glob_k3': 0.45615033221654855,\n",
       " 'median_shift_glob_k3': 0.18377068911097527,\n",
       " 'expected_mean_glob_k3': 0.48005384869026946,\n",
       " 'mean_shift_glob_k3': 0.07944060665416175,\n",
       " 'CDF_MC_glob_k3_num_smaller_or_equal': 99778,\n",
       " 'CDF_MC_glob_k3_num_larger_or_equal': 224,\n",
       " 'CDF_MC_glob_k3_pvalue': 0.004479955200447996,\n",
       " 'CDF_MC_glob_k3_cdf_mean': 0.5822155649303664}"
      ]
     },
     "execution_count": 14,
     "metadata": {},
     "output_type": "execute_result"
    }
   ],
   "source": [
    "s_example.get_results_dictionary()"
   ]
  },
  {
   "cell_type": "code",
   "execution_count": 15,
   "metadata": {
    "ExecuteTime": {
     "end_time": "2022-06-22T15:35:33.738330Z",
     "start_time": "2022-06-22T15:35:26.102887Z"
    }
   },
   "outputs": [],
   "source": [
    "d_example_dedup = DarwinianShift(\n",
    "    data=example_mutations, \n",
    "    source_genome='GRCh37',\n",
    "    spectra='oesophagus_trinuc_spectrum.txt',  # Use the precalculated spectra from the full oesophagus data set\n",
    "    statistics=CDFMonteCarloTest(num_draws=100000),\n",
    "    included_mutation_types='missense', \n",
    "    deduplicate=True, \n",
    ")"
   ]
  },
  {
   "cell_type": "code",
   "execution_count": 16,
   "metadata": {
    "ExecuteTime": {
     "end_time": "2022-06-22T15:35:41.914380Z",
     "start_time": "2022-06-22T15:35:33.770757Z"
    }
   },
   "outputs": [],
   "source": [
    "s_example_dedup = d_example_dedup.run_section(notch1_section_definition_egf11_12, lookup=random_score_generator)"
   ]
  },
  {
   "cell_type": "code",
   "execution_count": 17,
   "metadata": {
    "ExecuteTime": {
     "end_time": "2022-06-22T15:35:42.221051Z",
     "start_time": "2022-06-22T15:35:41.927746Z"
    }
   },
   "outputs": [
    {
     "data": {
      "image/png": "[encoded data removed]",
      "text/plain": [
       "<Figure size 432x216 with 1 Axes>"
      ]
     },
     "metadata": {},
     "output_type": "display_data"
    }
   ],
   "source": [
    "s_example_dedup.plot_scatter(figsize=(6, 3), show_legend=False, \n",
    "                    unobserved_mutation_colour=unobserved_colour, \n",
    "                    missense_mutation_colour=observed_colour, \n",
    "                    unmutated_marker_size=15, base_marker_size=15,\n",
    "                   )\n",
    "hide_top_and_right_axes()\n",
    "plt.xticks([])\n",
    "plt.yticks([])\n",
    "plt.tight_layout()"
   ]
  },
  {
   "cell_type": "code",
   "execution_count": 18,
   "metadata": {
    "ExecuteTime": {
     "end_time": "2022-06-22T15:35:42.709791Z",
     "start_time": "2022-06-22T15:35:42.225330Z"
    }
   },
   "outputs": [
    {
     "data": {
      "image/png": "[encoded data removed]",
      "text/plain": [
       "<Figure size 216x216 with 1 Axes>"
      ]
     },
     "metadata": {},
     "output_type": "display_data"
    }
   ],
   "source": [
    "s_example_dedup.plot_cdfs(figsize=(3, 3), \n",
    "                          colours=[observed_colour, unobserved_colour], show_legend=False, show_CI=False)\n",
    "hide_top_and_right_axes()\n",
    "plt.ylabel('CDF')\n",
    "plt.xticks([])\n",
    "plt.yticks([])\n",
    "plt.tight_layout()"
   ]
  },
  {
   "cell_type": "code",
   "execution_count": 19,
   "metadata": {
    "ExecuteTime": {
     "end_time": "2022-06-22T15:35:42.746427Z",
     "start_time": "2022-06-22T15:35:42.726566Z"
    }
   },
   "outputs": [
    {
     "data": {
      "text/plain": [
       "{'gene': 'NOTCH1',\n",
       " 'transcript_id': 'ENST00000277541',\n",
       " 'chrom': '9',\n",
       " 'section_id': '2vj3:A',\n",
       " 'num_mutations': 75,\n",
       " 'observed_median': 0.5356328030249583,\n",
       " 'observed_mean': 0.5131200724391187,\n",
       " 'expected_median_glob_k3': 0.45615033221654855,\n",
       " 'median_shift_glob_k3': 0.07948247080840976,\n",
       " 'expected_mean_glob_k3': 0.48005384869026946,\n",
       " 'mean_shift_glob_k3': 0.033066223748849266,\n",
       " 'CDF_MC_glob_k3_num_smaller_or_equal': 84807,\n",
       " 'CDF_MC_glob_k3_num_larger_or_equal': 15196,\n",
       " 'CDF_MC_glob_k3_pvalue': 0.3039169608303917,\n",
       " 'CDF_MC_glob_k3_cdf_mean': 0.5346253176777739}"
      ]
     },
     "execution_count": 19,
     "metadata": {},
     "output_type": "execute_result"
    }
   ],
   "source": [
    "s_example_dedup.get_results_dictionary()"
   ]
  },
  {
   "cell_type": "markdown",
   "metadata": {},
   "source": [
    "# Define the metrics"
   ]
  },
  {
   "cell_type": "markdown",
   "metadata": {},
   "source": [
    "## Individual metrics"
   ]
  },
  {
   "cell_type": "code",
   "execution_count": 20,
   "metadata": {
    "ExecuteTime": {
     "end_time": "2022-06-22T15:35:42.771745Z",
     "start_time": "2022-06-22T15:35:42.757964Z"
    }
   },
   "outputs": [],
   "source": [
    "# Define the FoldX lookup\n",
    "fold = FoldXLookup(foldx_results_directory=\"FoldX_results\",\n",
    "                   sifts_directory=sifts_directory,\n",
    "                   foldx_file_name_start=\"PS_f*\", download_sifts=True)"
   ]
  },
  {
   "cell_type": "code",
   "execution_count": 21,
   "metadata": {
    "ExecuteTime": {
     "end_time": "2022-06-22T15:35:42.790748Z",
     "start_time": "2022-06-22T15:35:42.775878Z"
    }
   },
   "outputs": [],
   "source": [
    "# Define a lookup object which determines whether mutations are on the NOTCH1-ligand interface. \n",
    "interface_lookup = SequenceDistanceLookup(\n",
    "    boolean=True,   # Just a boolean on/off interface. \n",
    "    target_key='interface_residues',   # Use this entry in the section_definition dict to define the target residues\n",
    "    position_type='residue',   # Use the residue number (as opposed to cdspos or chromosomal position)\n",
    "    name='On interface'  # Label to appear on plot axes\n",
    ")"
   ]
  },
  {
   "cell_type": "code",
   "execution_count": 22,
   "metadata": {
    "ExecuteTime": {
     "end_time": "2022-06-22T15:35:42.810659Z",
     "start_time": "2022-06-22T15:35:42.800846Z"
    }
   },
   "outputs": [],
   "source": [
    "ca_lookup = SequenceDistanceLookup(\n",
    "    boolean=True,   # Just a boolean binding/not binding. \n",
    "    target_key='ca_binding_residues',   # Use this entry in the section_definition dict to define the target residues\n",
    "    position_type='residue',   # Use the residue number (as opposed to cdspos or chromosomal position)\n",
    "    name='Calcium binding'  # Label to appear on plot axes\n",
    ")"
   ]
  },
  {
   "cell_type": "markdown",
   "metadata": {},
   "source": [
    "## Conditional tests "
   ]
  },
  {
   "cell_type": "code",
   "execution_count": 23,
   "metadata": {
    "ExecuteTime": {
     "end_time": "2022-06-22T15:35:42.842332Z",
     "start_time": "2022-06-22T15:35:42.833239Z"
    }
   },
   "outputs": [],
   "source": [
    "# First define a lookup that is 1 if the mutation is on the interface and or calcium binding\n",
    "interface_or_ca_lookup = ORLookup(\n",
    "    lookups=[interface_lookup, ca_lookup],  \n",
    "    thresholds=[0.5, 0.5],  # Set thresholds at 0.5\n",
    "    directions=[1, 1],  # Want to exclude mutations which score 1 for interface or calcium binding.\n",
    ")\n",
    "\n",
    "\n",
    "# Define the combined lookup.\n",
    "excllook_foldx = MutationExclusionLookup(\n",
    "    lookup=fold,   # Use the calcium binding lookup for the test\n",
    "    exclusion_lookup=interface_or_ca_lookup,\n",
    "    exclusion_threshold=0.5,  #  Scores from the exclusion are either 0, or 1, so can put threshold anywhere in between.\n",
    "    exclusion_direction=1,   # Exclude mutations with a score above the exclusion_threhold from the exclusion_lookup.\n",
    "    name=fold.name\n",
    ")"
   ]
  },
  {
   "cell_type": "code",
   "execution_count": 24,
   "metadata": {
    "ExecuteTime": {
     "end_time": "2022-06-22T15:35:42.874482Z",
     "start_time": "2022-06-22T15:35:42.847457Z"
    }
   },
   "outputs": [],
   "source": [
    "# First define a lookup that is 1 if the mutation is destabilising or calcium binding\n",
    "destabilising_or_ca_lookup = ORLookup(\n",
    "    lookups=[fold, ca_lookup],  \n",
    "    thresholds=[2, 0.5],  # Use 2kcal/mol as the ∆∆G threshold. Ca score is 0 or 1, so set threshold at 0.5\n",
    "    directions=[1, 1],  # Want to exclude mutations which score 1 for calcium binding or > 2 for ∆G.\n",
    ")\n",
    "\n",
    "\n",
    "# Define the combined lookup.\n",
    "excllook_interface = MutationExclusionLookup(\n",
    "    lookup=interface_lookup,   # Use the inteface lookup for the test\n",
    "    exclusion_lookup=destabilising_or_ca_lookup,   \n",
    "    exclusion_threshold=0.5,  #  Scores from the exclusion are either 0, or 1, so can put threshold anywhere in between.\n",
    "    exclusion_direction=1,   # Exclude mutations with a score above the exclusion_threhold from the exclusion_lookup.\n",
    "    name=interface_lookup.name\n",
    ")"
   ]
  },
  {
   "cell_type": "code",
   "execution_count": 25,
   "metadata": {
    "ExecuteTime": {
     "end_time": "2022-06-22T15:35:43.013412Z",
     "start_time": "2022-06-22T15:35:42.877139Z"
    }
   },
   "outputs": [],
   "source": [
    "# First define a lookup that is 1 if the mutation is destabilising or on the interface and 0 otherwise.\n",
    "destabilising_or_interface_lookup = ORLookup(\n",
    "    lookups=[fold, interface_lookup],  # Use the FoldX and the interface lookups.  \n",
    "    thresholds=[2, 0.5],  # Again pick a threshold of 2kcal/mol for the FoldX result, interface results are either 0 or 1 so set threshold at 0.5. \n",
    "    directions=[1, 1],  # Want to exclude mutations with scores greater than the thresholds, so directions are both 1.\n",
    ")\n",
    "\n",
    "\n",
    "# Define the combined lookup.\n",
    "excllook_ca = MutationExclusionLookup(\n",
    "    lookup=ca_lookup,   # Use the calcium binding lookup for the test\n",
    "    exclusion_lookup=destabilising_or_interface_lookup,   \n",
    "    exclusion_threshold=0.5,  #  Scores from the exclusion are either 0, or 1, so can put threshold anywhere in between.\n",
    "    exclusion_direction=1,   # Exclude mutations with a score above the exclusion_threhold from the exclusion_lookup.\n",
    "    name=ca_lookup.name\n",
    ")"
   ]
  },
  {
   "cell_type": "markdown",
   "metadata": {},
   "source": [
    "# Skin"
   ]
  },
  {
   "cell_type": "markdown",
   "metadata": {},
   "source": [
    "## FoldX"
   ]
  },
  {
   "cell_type": "code",
   "execution_count": 26,
   "metadata": {
    "ExecuteTime": {
     "end_time": "2022-06-22T15:35:54.639954Z",
     "start_time": "2022-06-22T15:35:43.050230Z"
    }
   },
   "outputs": [],
   "source": [
    "# Exclude the interface and calcium binding mutations from the test\n",
    "s = d_skin.run_section(notch1_section_definition_egf11_12, lookup=excllook_foldx, \n",
    "                     statistics=CDFMonteCarloTest(num_draws=100000))"
   ]
  },
  {
   "cell_type": "code",
   "execution_count": 27,
   "metadata": {
    "ExecuteTime": {
     "end_time": "2022-06-22T15:35:54.685893Z",
     "start_time": "2022-06-22T15:35:54.654349Z"
    }
   },
   "outputs": [
    {
     "data": {
      "text/plain": [
       "{'gene': 'NOTCH1',\n",
       " 'transcript_id': 'ENST00000277541',\n",
       " 'chrom': '9',\n",
       " 'section_id': '2vj3:A',\n",
       " 'num_mutations': 113,\n",
       " 'observed_median': 4.10174,\n",
       " 'observed_mean': 5.997173185840708,\n",
       " 'expected_median_glob_k3': 0.85534,\n",
       " 'median_shift_glob_k3': 3.2464000000000004,\n",
       " 'expected_mean_glob_k3': 2.2953249579660078,\n",
       " 'mean_shift_glob_k3': 3.7018482278747005,\n",
       " 'CDF_MC_glob_k3_num_smaller_or_equal': 100001,\n",
       " 'CDF_MC_glob_k3_num_larger_or_equal': 1,\n",
       " 'CDF_MC_glob_k3_pvalue': 1.999980000199998e-05,\n",
       " 'CDF_MC_glob_k3_cdf_mean': 0.740941739299,\n",
       " 'expected_median_dedup': 1.06148,\n",
       " 'median_shift_dedup': 3.0402600000000004,\n",
       " 'expected_mean_dedup': 2.6526179632508353,\n",
       " 'mean_shift_dedup': 3.344555222589873,\n",
       " 'CDF_MC_dedup_num_smaller_or_equal': 100001,\n",
       " 'CDF_MC_dedup_num_larger_or_equal': 1,\n",
       " 'CDF_MC_dedup_pvalue': 1.999980000199998e-05,\n",
       " 'CDF_MC_dedup_cdf_mean': 0.7137990499556645}"
      ]
     },
     "execution_count": 27,
     "metadata": {},
     "output_type": "execute_result"
    }
   ],
   "source": [
    "s.get_results_dictionary()"
   ]
  },
  {
   "cell_type": "code",
   "execution_count": 28,
   "metadata": {
    "ExecuteTime": {
     "end_time": "2022-06-22T15:35:57.653061Z",
     "start_time": "2022-06-22T15:35:54.915932Z"
    }
   },
   "outputs": [
    {
     "data": {
      "image/png": "[encoded data removed]",
      "text/plain": [
       "<Figure size 180x216 with 1 Axes>"
      ]
     },
     "metadata": {
      "needs_background": "light"
     },
     "output_type": "display_data"
    }
   ],
   "source": [
    "s.plot_boxplot(figsize=(2.5, 3), plot_scale='symlog', \n",
    "                    colours=[foldx_observed_colour, foldx_expected_colour_full_spectrum, \n",
    "                             foldx_expected_colour])\n",
    "plt.xticks(range(3), ['Exp.\\nfull', 'Exp.\\ndedup.', 'Obs.'])\n",
    "hide_top_and_right_axes()\n",
    "plt.tight_layout()"
   ]
  },
  {
   "cell_type": "markdown",
   "metadata": {},
   "source": [
    "## Interface"
   ]
  },
  {
   "cell_type": "code",
   "execution_count": 29,
   "metadata": {
    "ExecuteTime": {
     "end_time": "2022-06-22T15:36:14.002373Z",
     "start_time": "2022-06-22T15:35:57.669692Z"
    }
   },
   "outputs": [],
   "source": [
    "# Exclude the high ∆∆G and calcium binding mutations from the test\n",
    "s = d_skin.run_section(notch1_section_definition_egf11_12, lookup=excllook_interface, \n",
    "                    statistics=BinomTest())"
   ]
  },
  {
   "cell_type": "code",
   "execution_count": 30,
   "metadata": {
    "ExecuteTime": {
     "end_time": "2022-06-22T15:36:14.030643Z",
     "start_time": "2022-06-22T15:36:14.006198Z"
    }
   },
   "outputs": [
    {
     "data": {
      "text/plain": [
       "{'gene': 'NOTCH1',\n",
       " 'transcript_id': 'ENST00000277541',\n",
       " 'chrom': '9',\n",
       " 'section_id': '2vj3:A',\n",
       " 'num_mutations': 65,\n",
       " 'observed_median': 1.0,\n",
       " 'observed_mean': 0.6307692307692307,\n",
       " 'expected_median_glob_k3': 0.0,\n",
       " 'median_shift_glob_k3': 1.0,\n",
       " 'expected_mean_glob_k3': 0.3947996496593131,\n",
       " 'mean_shift_glob_k3': 0.23596958110991767,\n",
       " 'binom_glob_k3_pvalue': 0.00017922709143172228,\n",
       " 'binom_glob_k3_expected_proportion': 0.39479964965931313,\n",
       " 'binom_glob_k3_observed_proportion': 0.6307692307692307,\n",
       " 'binom_glob_k3_expected_count': 25.661977227855353,\n",
       " 'binom_glob_k3_observed_count': 41,\n",
       " 'binom_glob_k3_threshold': 0.5,\n",
       " 'binom_glob_k3_expected_CI_high': 34.0,\n",
       " 'binom_glob_k3_expected_CI_low': 18.0,\n",
       " 'binom_glob_k3_observed_CI_low': 33.0,\n",
       " 'binom_glob_k3_observed_CI_high': 48.0,\n",
       " 'expected_median_dedup': 0.0,\n",
       " 'median_shift_dedup': 1.0,\n",
       " 'expected_mean_dedup': 0.4181743743336176,\n",
       " 'mean_shift_dedup': 0.21259485643561316,\n",
       " 'binom_dedup_pvalue': 0.0006161366733427173,\n",
       " 'binom_dedup_expected_proportion': 0.41817437433361754,\n",
       " 'binom_dedup_observed_proportion': 0.6307692307692307,\n",
       " 'binom_dedup_expected_count': 27.18133433168514,\n",
       " 'binom_dedup_observed_count': 41,\n",
       " 'binom_dedup_threshold': 0.5,\n",
       " 'binom_dedup_expected_CI_high': 35.0,\n",
       " 'binom_dedup_expected_CI_low': 19.0,\n",
       " 'binom_dedup_observed_CI_low': 33.0,\n",
       " 'binom_dedup_observed_CI_high': 48.0}"
      ]
     },
     "execution_count": 30,
     "metadata": {},
     "output_type": "execute_result"
    }
   ],
   "source": [
    "s.get_results_dictionary()"
   ]
  },
  {
   "cell_type": "code",
   "execution_count": 31,
   "metadata": {
    "ExecuteTime": {
     "end_time": "2022-06-22T15:36:22.429812Z",
     "start_time": "2022-06-22T15:36:14.038237Z"
    }
   },
   "outputs": [
    {
     "data": {
      "image/png": "[encoded data removed]",
      "text/plain": [
       "<Figure size 216x288 with 1 Axes>"
      ]
     },
     "metadata": {
      "needs_background": "light"
     },
     "output_type": "display_data"
    }
   ],
   "source": [
    "s.plot_binned_counts(figsize=(3, 4), show_legend=False, \n",
    "                     colours=[interface_observed_colour, \n",
    "                              interface_expected_colour_full_spectrum, \n",
    "                              interface_expected_colour], \n",
    "                     bins=[-1, 0.5, 1], linewidth=1)\n",
    "plt.title('')\n",
    "hide_top_and_right_axes()\n",
    "plt.xticks(plt.gca().get_xticks(), ['False', 'True'])\n",
    "plt.xlabel('On interface')\n",
    "plt.subplots_adjust(left=0.3, bottom=0.3, right=1, top=1)"
   ]
  },
  {
   "cell_type": "markdown",
   "metadata": {},
   "source": [
    "## CA binding"
   ]
  },
  {
   "cell_type": "code",
   "execution_count": 32,
   "metadata": {
    "ExecuteTime": {
     "end_time": "2022-06-22T15:36:35.902541Z",
     "start_time": "2022-06-22T15:36:22.435548Z"
    }
   },
   "outputs": [],
   "source": [
    "# Exclude the high ∆∆G and ligand-binding interface mutations from the test\n",
    "s = d_skin.run_section(notch1_section_definition_egf11_12, lookup=excllook_ca, \n",
    "                    statistics=BinomTest())"
   ]
  },
  {
   "cell_type": "code",
   "execution_count": 33,
   "metadata": {
    "ExecuteTime": {
     "end_time": "2022-06-22T15:36:35.933906Z",
     "start_time": "2022-06-22T15:36:35.919062Z"
    }
   },
   "outputs": [
    {
     "data": {
      "text/plain": [
       "{'gene': 'NOTCH1',\n",
       " 'transcript_id': 'ENST00000277541',\n",
       " 'chrom': '9',\n",
       " 'section_id': '2vj3:A',\n",
       " 'num_mutations': 40,\n",
       " 'observed_median': 0.0,\n",
       " 'observed_mean': 0.4,\n",
       " 'expected_median_glob_k3': 0.0,\n",
       " 'median_shift_glob_k3': 0.0,\n",
       " 'expected_mean_glob_k3': 0.18461014601780223,\n",
       " 'mean_shift_glob_k3': 0.2153898539821978,\n",
       " 'binom_glob_k3_pvalue': 0.0015169198200354619,\n",
       " 'binom_glob_k3_expected_proportion': 0.18461014601780223,\n",
       " 'binom_glob_k3_observed_proportion': 0.4,\n",
       " 'binom_glob_k3_expected_count': 7.384405840712089,\n",
       " 'binom_glob_k3_observed_count': 16,\n",
       " 'binom_glob_k3_threshold': 0.5,\n",
       " 'binom_glob_k3_expected_CI_high': 12.0,\n",
       " 'binom_glob_k3_expected_CI_low': 3.0,\n",
       " 'binom_glob_k3_observed_CI_low': 10.0,\n",
       " 'binom_glob_k3_observed_CI_high': 22.0,\n",
       " 'expected_median_dedup': 0.0,\n",
       " 'median_shift_dedup': 0.0,\n",
       " 'expected_mean_dedup': 0.19627681061156735,\n",
       " 'mean_shift_dedup': 0.20372318938843267,\n",
       " 'binom_dedup_pvalue': 0.004126737798692212,\n",
       " 'binom_dedup_expected_proportion': 0.19627681061156732,\n",
       " 'binom_dedup_observed_proportion': 0.4,\n",
       " 'binom_dedup_expected_count': 7.851072424462693,\n",
       " 'binom_dedup_observed_count': 16,\n",
       " 'binom_dedup_threshold': 0.5,\n",
       " 'binom_dedup_expected_CI_high': 13.0,\n",
       " 'binom_dedup_expected_CI_low': 3.0,\n",
       " 'binom_dedup_observed_CI_low': 10.0,\n",
       " 'binom_dedup_observed_CI_high': 22.0}"
      ]
     },
     "execution_count": 33,
     "metadata": {},
     "output_type": "execute_result"
    }
   ],
   "source": [
    "s.get_results_dictionary()"
   ]
  },
  {
   "cell_type": "code",
   "execution_count": 34,
   "metadata": {
    "ExecuteTime": {
     "end_time": "2022-06-22T15:36:44.402398Z",
     "start_time": "2022-06-22T15:36:35.939484Z"
    }
   },
   "outputs": [
    {
     "data": {
      "image/png": "[encoded data removed]",
      "text/plain": [
       "<Figure size 216x288 with 1 Axes>"
      ]
     },
     "metadata": {
      "needs_background": "light"
     },
     "output_type": "display_data"
    }
   ],
   "source": [
    "s.plot_binned_counts(figsize=(3, 4), show_legend=False, \n",
    "                     colours=[calcium_observed_colour, \n",
    "                              calcium_expected_colour_full_spectrum, \n",
    "                              calcium_expected_colour], \n",
    "                     linewidth=1, bins=[-1, 0.5, 1]\n",
    "                        )\n",
    "hide_top_and_right_axes()\n",
    "plt.title('')\n",
    "plt.xticks(plt.gca().get_xticks(), ['False', 'True'])\n",
    "plt.xlabel('Calcium binding')\n",
    "plt.subplots_adjust(left=0.3, bottom=0.3, right=1, top=1)"
   ]
  },
  {
   "cell_type": "markdown",
   "metadata": {},
   "source": [
    "# Oesophagus"
   ]
  },
  {
   "cell_type": "code",
   "execution_count": 35,
   "metadata": {
    "ExecuteTime": {
     "end_time": "2022-06-22T15:36:53.580820Z",
     "start_time": "2022-06-22T15:36:44.409857Z"
    }
   },
   "outputs": [],
   "source": [
    "# Exclude the interface and calcium binding mutations from the test\n",
    "s = d_oe.run_section(notch1_section_definition_egf11_12, lookup=excllook_foldx, \n",
    "                     statistics=CDFMonteCarloTest(num_draws=100000))"
   ]
  },
  {
   "cell_type": "code",
   "execution_count": 36,
   "metadata": {
    "ExecuteTime": {
     "end_time": "2022-06-22T15:36:53.655660Z",
     "start_time": "2022-06-22T15:36:53.604035Z"
    }
   },
   "outputs": [
    {
     "data": {
      "text/plain": [
       "{'gene': 'NOTCH1',\n",
       " 'transcript_id': 'ENST00000277541',\n",
       " 'chrom': '9',\n",
       " 'section_id': '2vj3:A',\n",
       " 'num_mutations': 76,\n",
       " 'observed_median': 4.1399550000000005,\n",
       " 'observed_mean': 7.18855957894737,\n",
       " 'expected_median_glob_k3': 1.92008,\n",
       " 'median_shift_glob_k3': 2.2198750000000005,\n",
       " 'expected_mean_glob_k3': 4.684955577673519,\n",
       " 'mean_shift_glob_k3': 2.5036040012738505,\n",
       " 'CDF_MC_glob_k3_num_smaller_or_equal': 100001,\n",
       " 'CDF_MC_glob_k3_num_larger_or_equal': 1,\n",
       " 'CDF_MC_glob_k3_pvalue': 1.999980000199998e-05,\n",
       " 'CDF_MC_glob_k3_cdf_mean': 0.670400664338964,\n",
       " 'expected_median_dedup': 1.23736,\n",
       " 'median_shift_dedup': 2.9025950000000007,\n",
       " 'expected_mean_dedup': 4.160194166684001,\n",
       " 'mean_shift_dedup': 3.0283654122633683,\n",
       " 'CDF_MC_dedup_num_smaller_or_equal': 100001,\n",
       " 'CDF_MC_dedup_num_larger_or_equal': 1,\n",
       " 'CDF_MC_dedup_pvalue': 1.999980000199998e-05,\n",
       " 'CDF_MC_dedup_cdf_mean': 0.6966391572158637}"
      ]
     },
     "execution_count": 36,
     "metadata": {},
     "output_type": "execute_result"
    }
   ],
   "source": [
    "s.get_results_dictionary()"
   ]
  },
  {
   "cell_type": "code",
   "execution_count": 37,
   "metadata": {
    "ExecuteTime": {
     "end_time": "2022-06-22T15:36:56.049733Z",
     "start_time": "2022-06-22T15:36:53.669310Z"
    }
   },
   "outputs": [
    {
     "data": {
      "image/png": "[encoded data removed]",
      "text/plain": [
       "<Figure size 180x216 with 1 Axes>"
      ]
     },
     "metadata": {
      "needs_background": "light"
     },
     "output_type": "display_data"
    }
   ],
   "source": [
    "s.plot_boxplot(figsize=(2.5, 3), plot_scale='symlog', \n",
    "                    colours=[foldx_observed_colour, foldx_expected_colour_full_spectrum, \n",
    "                             foldx_expected_colour])\n",
    "plt.xticks(range(3), ['Exp.\\nfull', 'Exp.\\ndedup.', 'Obs.'])\n",
    "hide_top_and_right_axes()\n",
    "plt.tight_layout()"
   ]
  },
  {
   "cell_type": "markdown",
   "metadata": {},
   "source": [
    "## Interface"
   ]
  },
  {
   "cell_type": "code",
   "execution_count": 38,
   "metadata": {
    "ExecuteTime": {
     "end_time": "2022-06-22T15:37:09.118801Z",
     "start_time": "2022-06-22T15:36:56.065827Z"
    }
   },
   "outputs": [],
   "source": [
    "# Exclude the high ∆∆G and calcium binding mutations from the test\n",
    "s = d_oe.run_section(notch1_section_definition_egf11_12, lookup=excllook_interface, \n",
    "                    statistics=BinomTest())"
   ]
  },
  {
   "cell_type": "code",
   "execution_count": 39,
   "metadata": {
    "ExecuteTime": {
     "end_time": "2022-06-22T15:37:09.137547Z",
     "start_time": "2022-06-22T15:37:09.121598Z"
    }
   },
   "outputs": [
    {
     "data": {
      "text/plain": [
       "{'gene': 'NOTCH1',\n",
       " 'transcript_id': 'ENST00000277541',\n",
       " 'chrom': '9',\n",
       " 'section_id': '2vj3:A',\n",
       " 'num_mutations': 37,\n",
       " 'observed_median': 1.0,\n",
       " 'observed_mean': 0.7027027027027027,\n",
       " 'expected_median_glob_k3': 0.0,\n",
       " 'median_shift_glob_k3': 1.0,\n",
       " 'expected_mean_glob_k3': 0.4081390445988698,\n",
       " 'mean_shift_glob_k3': 0.29456365810383295,\n",
       " 'binom_glob_k3_pvalue': 0.00034422098156581486,\n",
       " 'binom_glob_k3_expected_proportion': 0.40813904459886974,\n",
       " 'binom_glob_k3_observed_proportion': 0.7027027027027027,\n",
       " 'binom_glob_k3_expected_count': 15.10114465015818,\n",
       " 'binom_glob_k3_observed_count': 26,\n",
       " 'binom_glob_k3_threshold': 0.5,\n",
       " 'binom_glob_k3_expected_CI_high': 21.0,\n",
       " 'binom_glob_k3_expected_CI_low': 9.0,\n",
       " 'binom_glob_k3_observed_CI_low': 20.0,\n",
       " 'binom_glob_k3_observed_CI_high': 31.0,\n",
       " 'expected_median_dedup': 0.0,\n",
       " 'median_shift_dedup': 1.0,\n",
       " 'expected_mean_dedup': 0.4025804354850389,\n",
       " 'mean_shift_dedup': 0.30012226721766383,\n",
       " 'binom_dedup_pvalue': 0.00029987954553930966,\n",
       " 'binom_dedup_expected_proportion': 0.402580435485039,\n",
       " 'binom_dedup_observed_proportion': 0.7027027027027027,\n",
       " 'binom_dedup_expected_count': 14.895476112946444,\n",
       " 'binom_dedup_observed_count': 26,\n",
       " 'binom_dedup_threshold': 0.5,\n",
       " 'binom_dedup_expected_CI_high': 21.0,\n",
       " 'binom_dedup_expected_CI_low': 9.0,\n",
       " 'binom_dedup_observed_CI_low': 20.0,\n",
       " 'binom_dedup_observed_CI_high': 31.0}"
      ]
     },
     "execution_count": 39,
     "metadata": {},
     "output_type": "execute_result"
    }
   ],
   "source": [
    "s.get_results_dictionary()"
   ]
  },
  {
   "cell_type": "code",
   "execution_count": 40,
   "metadata": {
    "ExecuteTime": {
     "end_time": "2022-06-22T15:37:18.428704Z",
     "start_time": "2022-06-22T15:37:09.145441Z"
    }
   },
   "outputs": [
    {
     "data": {
      "image/png": "[encoded data removed]",
      "text/plain": [
       "<Figure size 216x288 with 1 Axes>"
      ]
     },
     "metadata": {
      "needs_background": "light"
     },
     "output_type": "display_data"
    }
   ],
   "source": [
    "s.plot_binned_counts(figsize=(3, 4), show_legend=False, \n",
    "                     colours=[interface_observed_colour, \n",
    "                              interface_expected_colour_full_spectrum, \n",
    "                              interface_expected_colour], \n",
    "                     bins=[-1, 0.5, 1], linewidth=1)\n",
    "plt.title('')\n",
    "hide_top_and_right_axes()\n",
    "plt.xticks(plt.gca().get_xticks(), ['False', 'True'])\n",
    "plt.xlabel('On interface')\n",
    "plt.subplots_adjust(left=0.3, bottom=0.3, right=1, top=1)"
   ]
  },
  {
   "cell_type": "markdown",
   "metadata": {},
   "source": [
    "## CA binding"
   ]
  },
  {
   "cell_type": "code",
   "execution_count": 41,
   "metadata": {
    "ExecuteTime": {
     "end_time": "2022-06-22T15:37:30.464371Z",
     "start_time": "2022-06-22T15:37:18.440251Z"
    }
   },
   "outputs": [],
   "source": [
    "# Exclude the high ∆∆G and ligand-binding interface mutations from the test\n",
    "s = d_oe.run_section(notch1_section_definition_egf11_12, lookup=excllook_ca, \n",
    "                    statistics=BinomTest())"
   ]
  },
  {
   "cell_type": "code",
   "execution_count": 42,
   "metadata": {
    "ExecuteTime": {
     "end_time": "2022-06-22T15:37:30.516194Z",
     "start_time": "2022-06-22T15:37:30.479948Z"
    }
   },
   "outputs": [
    {
     "data": {
      "text/plain": [
       "{'gene': 'NOTCH1',\n",
       " 'transcript_id': 'ENST00000277541',\n",
       " 'chrom': '9',\n",
       " 'section_id': '2vj3:A',\n",
       " 'num_mutations': 20,\n",
       " 'observed_median': 0.0,\n",
       " 'observed_mean': 0.45,\n",
       " 'expected_median_glob_k3': 0.0,\n",
       " 'median_shift_glob_k3': 0.0,\n",
       " 'expected_mean_glob_k3': 0.1975591904274036,\n",
       " 'mean_shift_glob_k3': 0.2524408095725964,\n",
       " 'binom_glob_k3_pvalue': 0.009196042775008495,\n",
       " 'binom_glob_k3_expected_proportion': 0.1975591904274036,\n",
       " 'binom_glob_k3_observed_proportion': 0.45,\n",
       " 'binom_glob_k3_expected_count': 3.9511838085480724,\n",
       " 'binom_glob_k3_observed_count': 9,\n",
       " 'binom_glob_k3_threshold': 0.5,\n",
       " 'binom_glob_k3_expected_CI_high': 8.0,\n",
       " 'binom_glob_k3_expected_CI_low': 1.0,\n",
       " 'binom_glob_k3_observed_CI_low': 5.0,\n",
       " 'binom_glob_k3_observed_CI_high': 13.0,\n",
       " 'expected_median_dedup': 0.0,\n",
       " 'median_shift_dedup': 0.0,\n",
       " 'expected_mean_dedup': 0.2014140029696676,\n",
       " 'mean_shift_dedup': 0.2485859970303324,\n",
       " 'binom_dedup_pvalue': 0.010460616822099467,\n",
       " 'binom_dedup_expected_proportion': 0.2014140029696676,\n",
       " 'binom_dedup_observed_proportion': 0.45,\n",
       " 'binom_dedup_expected_count': 4.028280059393352,\n",
       " 'binom_dedup_observed_count': 9,\n",
       " 'binom_dedup_threshold': 0.5,\n",
       " 'binom_dedup_expected_CI_high': 8.0,\n",
       " 'binom_dedup_expected_CI_low': 1.0,\n",
       " 'binom_dedup_observed_CI_low': 5.0,\n",
       " 'binom_dedup_observed_CI_high': 13.0}"
      ]
     },
     "execution_count": 42,
     "metadata": {},
     "output_type": "execute_result"
    }
   ],
   "source": [
    "s.get_results_dictionary()"
   ]
  },
  {
   "cell_type": "code",
   "execution_count": 43,
   "metadata": {
    "ExecuteTime": {
     "end_time": "2022-06-22T15:37:38.365851Z",
     "start_time": "2022-06-22T15:37:30.539573Z"
    }
   },
   "outputs": [
    {
     "data": {
      "image/png": "[encoded data removed]",
      "text/plain": [
       "<Figure size 216x288 with 1 Axes>"
      ]
     },
     "metadata": {
      "needs_background": "light"
     },
     "output_type": "display_data"
    }
   ],
   "source": [
    "s.plot_binned_counts(figsize=(3, 4), show_legend=False, \n",
    "                     colours=[calcium_observed_colour, \n",
    "                              calcium_expected_colour_full_spectrum, \n",
    "                              calcium_expected_colour], \n",
    "                     linewidth=1, bins=[-1, 0.5, 1]\n",
    "                        )\n",
    "hide_top_and_right_axes()\n",
    "plt.title('')\n",
    "plt.xticks(plt.gca().get_xticks(), ['False', 'True'])\n",
    "plt.xlabel('Calcium binding')\n",
    "plt.subplots_adjust(left=0.3, bottom=0.3, right=1, top=1)"
   ]
  }
 ],
 "metadata": {
  "kernelspec": {
   "display_name": "Python 3 (ipykernel)",
   "language": "python",
   "name": "python3"
  },
  "language_info": {
   "codemirror_mode": {
    "name": "ipython",
    "version": 3
   },
   "file_extension": ".py",
   "mimetype": "text/x-python",
   "name": "python",
   "nbconvert_exporter": "python",
   "pygments_lexer": "ipython3",
   "version": "3.8.13"
  }
 },
 "nbformat": 4,
 "nbformat_minor": 4
}
