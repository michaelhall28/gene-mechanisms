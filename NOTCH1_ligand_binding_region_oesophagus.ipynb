{
 "cells": [
  {
   "cell_type": "markdown",
   "metadata": {},
   "source": [
    "This notebook contains the code for recreating the plots and the statistics for analysis of missense mutations in the ligand-binding region of NOTCH1 in normal oesophagus. "
   ]
  },
  {
   "cell_type": "code",
   "execution_count": 1,
   "metadata": {
    "ExecuteTime": {
     "end_time": "2021-06-22T13:18:43.491363Z",
     "start_time": "2021-06-22T13:18:40.646961Z"
    }
   },
   "outputs": [],
   "source": [
    "import numpy as np\n",
    "import pandas as pd\n",
    "import matplotlib.pyplot as plt\n",
    "%matplotlib inline\n",
    "import matplotlib"
   ]
  },
  {
   "cell_type": "code",
   "execution_count": 2,
   "metadata": {
    "ExecuteTime": {
     "end_time": "2021-06-22T13:18:47.100632Z",
     "start_time": "2021-06-22T13:18:43.525665Z"
    }
   },
   "outputs": [
    {
     "name": "stderr",
     "output_type": "stream",
     "text": [
      "/Users/mh28/miniconda3/envs/dsenv3/lib/python3.8/site-packages/tqdm/auto.py:22: TqdmWarning: IProgress not found. Please update jupyter and ipywidgets. See https://ipywidgets.readthedocs.io/en/stable/user_install.html\n",
      "  from .autonotebook import tqdm as notebook_tqdm\n",
      "/Users/mh28/miniconda3/envs/dsenv3/lib/python3.8/site-packages/MDAnalysis/coordinates/TRJ.py:1209: DeprecationWarning: Please use `netcdf_file` from the `scipy.io` namespace, the `scipy.io.netcdf` namespace is deprecated.\n",
      "  class NCDFPicklable(scipy.io.netcdf.netcdf_file):\n"
     ]
    }
   ],
   "source": [
    "from darwinian_shift import DarwinianShift\n",
    "from darwinian_shift import CDFMonteCarloTest, BinomTest\n",
    "from darwinian_shift import FoldXLookup, SequenceDistanceLookup, StructureDistanceLookup\n",
    "from darwinian_shift import MutationExclusionLookup, ORLookup\n",
    "from darwinian_shift import hide_top_and_right_axes\n",
    "from darwinian_shift import plot_scatter_two_scores"
   ]
  },
  {
   "cell_type": "markdown",
   "metadata": {},
   "source": [
    "# Setup"
   ]
  },
  {
   "cell_type": "code",
   "execution_count": 3,
   "metadata": {
    "ExecuteTime": {
     "end_time": "2021-06-22T13:18:47.128051Z",
     "start_time": "2021-06-22T13:18:47.120332Z"
    }
   },
   "outputs": [],
   "source": [
    "# Define the region to test\n",
    "notch1_section_definition_egf11_12 = {\n",
    "    'transcript_id': 'ENST00000277541', 'pdb_id': '2vj3', 'pdb_chain': 'A', \n",
    "    'start': 412, 'end': 488, # Restrict to the residues in EGF11-12\n",
    "    'interface_residues': [413, 415, 418, 420, 421, 422, 423, 424, 425, \n",
    "                         435, 436, 444, 447, 448, 450, 451, 452, 454, \n",
    "                         466, 467, 468, 469, 470, 471, 475, 477, 478, \n",
    "                         479, 480],   # defined in Luca et al 2017\n",
    "    'ca_binding_residues': [412, 413, 415, 431, 432, 435, 452, 453, 455, 469, 470]  # Defined by MetalPDB\n",
    "}"
   ]
  },
  {
   "cell_type": "code",
   "execution_count": 4,
   "metadata": {
    "ExecuteTime": {
     "end_time": "2021-06-22T13:20:06.243500Z",
     "start_time": "2021-06-22T13:19:48.965430Z"
    }
   },
   "outputs": [],
   "source": [
    "d_oe = DarwinianShift(\n",
    "    data=pd.read_excel('aau3879_TableS2.xlsx',\n",
    "                       sheet_name='Mutations_collapsed_by_distance', skiprows=17),\n",
    "    source_genome='GRCh37',\n",
    "    spectra='oesophagus_trinuc_spectrum.txt',\n",
    "    included_mutation_types='missense'\n",
    ")"
   ]
  },
  {
   "cell_type": "code",
   "execution_count": 5,
   "metadata": {
    "ExecuteTime": {
     "end_time": "2021-06-22T13:20:06.265762Z",
     "start_time": "2021-06-22T13:20:06.247804Z"
    }
   },
   "outputs": [],
   "source": [
    "# Directories\n",
    "sifts_directory=\"SIFTS_files\"\n",
    "pdb_directory = \"PDB_files\"\n",
    "\n",
    "# Colours\n",
    "unobserved_colour = '#BBBBBB'  \n",
    "observed_colour = '#EE7733'\n",
    "foldx_expected_colour = '#EE6677'\n",
    "foldx_observed_colour = '#CC3311'\n",
    "interface_expected_colour = '#88CCEE'\n",
    "interface_observed_colour = '#0077BB'\n",
    "calcium_expected_colour = '#8DE0D7'\n",
    "calcium_observed_colour = '#009988'"
   ]
  },
  {
   "cell_type": "markdown",
   "metadata": {},
   "source": [
    "# Define the metrics"
   ]
  },
  {
   "cell_type": "markdown",
   "metadata": {},
   "source": [
    "## Individual metrics"
   ]
  },
  {
   "cell_type": "code",
   "execution_count": 6,
   "metadata": {
    "ExecuteTime": {
     "end_time": "2021-06-22T13:20:06.305028Z",
     "start_time": "2021-06-22T13:20:06.298102Z"
    }
   },
   "outputs": [],
   "source": [
    "# Define the FoldX lookup\n",
    "fold = FoldXLookup(foldx_results_directory=\"FoldX_results\",\n",
    "                   sifts_directory=sifts_directory,\n",
    "                   foldx_file_name_start=\"PS_f*\", download_sifts=True)"
   ]
  },
  {
   "cell_type": "code",
   "execution_count": 7,
   "metadata": {
    "ExecuteTime": {
     "end_time": "2021-06-22T13:20:06.325220Z",
     "start_time": "2021-06-22T13:20:06.309309Z"
    }
   },
   "outputs": [],
   "source": [
    "# Define a lookup object which determines whether mutations are on the NOTCH1-ligand interface. \n",
    "interface_lookup = SequenceDistanceLookup(\n",
    "    boolean=True,   # Just a boolean on/off interface. \n",
    "    target_key='interface_residues',   # Use this entry in the section_definition dict to define the target residues\n",
    "    position_type='residue',   # Use the residue number (as opposed to cdspos or chromosomal position)\n",
    "    name='On interface'  # Label to appear on plot axes\n",
    ")"
   ]
  },
  {
   "cell_type": "code",
   "execution_count": 8,
   "metadata": {
    "ExecuteTime": {
     "end_time": "2021-06-22T13:20:06.341232Z",
     "start_time": "2021-06-22T13:20:06.330403Z"
    }
   },
   "outputs": [],
   "source": [
    "ca_lookup = SequenceDistanceLookup(\n",
    "    boolean=True,   # Just a boolean binding/not binding. \n",
    "    target_key='ca_binding_residues',   # Use this entry in the section_definition dict to define the target residues\n",
    "    position_type='residue',   # Use the residue number (as opposed to cdspos or chromosomal position)\n",
    "    name='Calcium binding'  # Label to appear on plot axes\n",
    ")"
   ]
  },
  {
   "cell_type": "markdown",
   "metadata": {},
   "source": [
    "## Conditional tests "
   ]
  },
  {
   "cell_type": "code",
   "execution_count": 9,
   "metadata": {
    "ExecuteTime": {
     "end_time": "2021-06-22T13:20:06.372637Z",
     "start_time": "2021-06-22T13:20:06.344908Z"
    }
   },
   "outputs": [],
   "source": [
    "# First define a lookup that is 1 if the mutation is on the interface and or calcium binding\n",
    "interface_or_ca_lookup = ORLookup(\n",
    "    lookups=[interface_lookup, ca_lookup],  \n",
    "    thresholds=[0.5, 0.5],  # Set thresholds at 0.5\n",
    "    directions=[1, 1],  # Want to exclude mutations which score 1 for interface or calcium binding.\n",
    ")\n",
    "\n",
    "\n",
    "# Define the combined lookup.\n",
    "excllook_foldx = MutationExclusionLookup(\n",
    "    lookup=fold,   # Use the calcium binding lookup for the test\n",
    "    exclusion_lookup=interface_or_ca_lookup,\n",
    "    exclusion_threshold=0.5,  #  Scores from the exclusion are either 0, or 1, so can put threshold anywhere in between.\n",
    "    exclusion_direction=1,   # Exclude mutations with a score above the exclusion_threhold from the exclusion_lookup.\n",
    "    name=fold.name\n",
    ")"
   ]
  },
  {
   "cell_type": "code",
   "execution_count": 10,
   "metadata": {
    "ExecuteTime": {
     "end_time": "2021-06-22T13:20:06.383773Z",
     "start_time": "2021-06-22T13:20:06.376463Z"
    }
   },
   "outputs": [],
   "source": [
    "# Define a lookup to test the interface while excluding destabilising mutations. \n",
    "excllook_interface_foldx_only = MutationExclusionLookup(\n",
    "    lookup=interface_lookup,   # Use the interface lookup for the test\n",
    "    exclusion_lookup=fold,   \n",
    "    exclusion_threshold=2,  #  Exclude mutations with ∆∆G higher than 2kcal/mol.\n",
    "    exclusion_direction=1,   # Exclude mutations with a score above the exclusion_threhold from the exclusion_lookup.\n",
    "    name=interface_lookup.name\n",
    ")"
   ]
  },
  {
   "cell_type": "code",
   "execution_count": 11,
   "metadata": {
    "ExecuteTime": {
     "end_time": "2021-06-22T13:20:06.402761Z",
     "start_time": "2021-06-22T13:20:06.388799Z"
    }
   },
   "outputs": [],
   "source": [
    "# First define a lookup that is 1 if the mutation is destabilising or calcium binding\n",
    "destabilising_or_ca_lookup = ORLookup(\n",
    "    lookups=[fold, ca_lookup],  \n",
    "    thresholds=[2, 0.5],  # Use 2kcal/mol as the ∆∆G threshold. Ca score is 0 or 1, so set threshold at 0.5\n",
    "    directions=[1, 1],  # Want to exclude mutations which score 1 for calcium binding or > 2 for ∆G.\n",
    ")\n",
    "\n",
    "\n",
    "# Define the combined lookup.\n",
    "excllook_interface = MutationExclusionLookup(\n",
    "    lookup=interface_lookup,   # Use the inteface lookup for the test\n",
    "    exclusion_lookup=destabilising_or_ca_lookup,   \n",
    "    exclusion_threshold=0.5,  #  Scores from the exclusion are either 0, or 1, so can put threshold anywhere in between.\n",
    "    exclusion_direction=1,   # Exclude mutations with a score above the exclusion_threhold from the exclusion_lookup.\n",
    "    name=interface_lookup.name\n",
    ")"
   ]
  },
  {
   "cell_type": "code",
   "execution_count": 12,
   "metadata": {
    "ExecuteTime": {
     "end_time": "2021-06-22T13:20:06.419589Z",
     "start_time": "2021-06-22T13:20:06.412180Z"
    }
   },
   "outputs": [],
   "source": [
    "# First define a lookup that is 1 if the mutation is destabilising or on the interface and 0 otherwise.\n",
    "destabilising_or_interface_lookup = ORLookup(\n",
    "    lookups=[fold, interface_lookup],  # Use the FoldX and the interface lookups.  \n",
    "    thresholds=[2, 0.5],  # Again pick a threshold of 2kcal/mol for the FoldX result, interface results are either 0 or 1 so set threshold at 0.5. \n",
    "    directions=[1, 1],  # Want to exclude mutations with scores greater than the thresholds, so directions are both 1.\n",
    ")\n",
    "\n",
    "\n",
    "# Define the combined lookup.\n",
    "excllook_ca = MutationExclusionLookup(\n",
    "    lookup=ca_lookup,   # Use the calcium binding lookup for the test\n",
    "    exclusion_lookup=destabilising_or_interface_lookup,   \n",
    "    exclusion_threshold=0.5,  #  Scores from the exclusion are either 0, or 1, so can put threshold anywhere in between.\n",
    "    exclusion_direction=1,   # Exclude mutations with a score above the exclusion_threhold from the exclusion_lookup.\n",
    "    name=ca_lookup.name\n",
    ")"
   ]
  },
  {
   "cell_type": "markdown",
   "metadata": {},
   "source": [
    "# Tests"
   ]
  },
  {
   "cell_type": "markdown",
   "metadata": {},
   "source": [
    "## FoldX"
   ]
  },
  {
   "cell_type": "markdown",
   "metadata": {},
   "source": [
    "### FoldX - no exclusions"
   ]
  },
  {
   "cell_type": "code",
   "execution_count": 13,
   "metadata": {
    "ExecuteTime": {
     "end_time": "2021-06-22T13:20:50.132162Z",
     "start_time": "2021-06-22T13:20:41.130273Z"
    }
   },
   "outputs": [],
   "source": [
    "# Run an analysis of FoldX scores using the CDF Monte Carlo Test\n",
    "s = d_oe.run_section(notch1_section_definition_egf11_12, lookup=fold, \n",
    "                     statistics=CDFMonteCarloTest(num_draws=100000))"
   ]
  },
  {
   "cell_type": "code",
   "execution_count": 14,
   "metadata": {},
   "outputs": [
    {
     "data": {
      "text/plain": [
       "{'gene': 'NOTCH1',\n",
       " 'transcript_id': 'ENST00000277541',\n",
       " 'chrom': '9',\n",
       " 'section_id': '2vj3:A',\n",
       " 'num_mutations': 308,\n",
       " 'observed_median': 3.48994,\n",
       " 'observed_mean': 6.178489875,\n",
       " 'expected_median_glob_k3': 0.988623,\n",
       " 'median_shift_glob_k3': 2.501317,\n",
       " 'expected_mean_glob_k3': 3.6133296576990634,\n",
       " 'mean_shift_glob_k3': 2.565160217300937,\n",
       " 'CDF_MC_glob_k3_num_smaller_or_equal': 100001,\n",
       " 'CDF_MC_glob_k3_num_larger_or_equal': 1,\n",
       " 'CDF_MC_glob_k3_pvalue': 1.999980000199998e-05,\n",
       " 'CDF_MC_glob_k3_cdf_mean': 0.666729200249985}"
      ]
     },
     "execution_count": 14,
     "metadata": {},
     "output_type": "execute_result"
    }
   ],
   "source": [
    "s.get_results_dictionary()"
   ]
  },
  {
   "cell_type": "code",
   "execution_count": 15,
   "metadata": {},
   "outputs": [
    {
     "data": {
      "image/png": "[encoded data removed]",
      "text/plain": [
       "<Figure size 432x216 with 1 Axes>"
      ]
     },
     "metadata": {
      "needs_background": "light"
     },
     "output_type": "display_data"
    }
   ],
   "source": [
    "s.plot_scatter(figsize=(6, 3), plot_scale='symlog', show_legend=False, \n",
    "                    unobserved_mutation_colour=unobserved_colour, \n",
    "                    missense_mutation_colour=foldx_observed_colour, \n",
    "                    unmutated_marker_size=5, base_marker_size=10,\n",
    "                   )\n",
    "hide_top_and_right_axes()\n",
    "xlim = plt.gca().get_xlim()\n",
    "plt.plot(xlim, [0, 0], 'k', linewidth=0.5, zorder=0)\n",
    "plt.gca().set_xlim(xlim);"
   ]
  },
  {
   "cell_type": "code",
   "execution_count": 16,
   "metadata": {
    "ExecuteTime": {
     "end_time": "2021-06-22T13:20:51.616715Z",
     "start_time": "2021-06-22T13:20:50.694231Z"
    }
   },
   "outputs": [
    {
     "data": {
      "image/png": "[encoded data removed]",
      "text/plain": [
       "<Figure size 180x216 with 1 Axes>"
      ]
     },
     "metadata": {
      "needs_background": "light"
     },
     "output_type": "display_data"
    }
   ],
   "source": [
    "s.plot_boxplot(figsize=(2.5, 3), plot_scale='symlog',\n",
    "                    colours=[foldx_observed_colour, foldx_expected_colour])\n",
    "hide_top_and_right_axes()\n",
    "plt.xticks(plt.gca().get_xticks(), ['Exp.', 'Obs.']);"
   ]
  },
  {
   "cell_type": "markdown",
   "metadata": {},
   "source": [
    "### Excluding CA binding and interface"
   ]
  },
  {
   "cell_type": "code",
   "execution_count": 17,
   "metadata": {
    "ExecuteTime": {
     "end_time": "2021-06-22T13:20:57.400923Z",
     "start_time": "2021-06-22T13:20:51.622915Z"
    }
   },
   "outputs": [],
   "source": [
    "# Run again, this time only on mutations which are not on the ligand-binding interface or calcium-binding residues.\n",
    "s = d_oe.run_section(notch1_section_definition_egf11_12, lookup=excllook_foldx, \n",
    "                     statistics=CDFMonteCarloTest(num_draws=100000))"
   ]
  },
  {
   "cell_type": "code",
   "execution_count": 18,
   "metadata": {},
   "outputs": [
    {
     "data": {
      "text/plain": [
       "{'gene': 'NOTCH1',\n",
       " 'transcript_id': 'ENST00000277541',\n",
       " 'chrom': '9',\n",
       " 'section_id': '2vj3:A',\n",
       " 'num_mutations': 181,\n",
       " 'observed_median': 4.48213,\n",
       " 'observed_mean': 8.34382832044199,\n",
       " 'expected_median_glob_k3': 1.92008,\n",
       " 'median_shift_glob_k3': 2.5620499999999997,\n",
       " 'expected_mean_glob_k3': 4.684955577673519,\n",
       " 'mean_shift_glob_k3': 3.6588727427684704,\n",
       " 'CDF_MC_glob_k3_num_smaller_or_equal': 100001,\n",
       " 'CDF_MC_glob_k3_num_larger_or_equal': 1,\n",
       " 'CDF_MC_glob_k3_pvalue': 1.999980000199998e-05,\n",
       " 'CDF_MC_glob_k3_cdf_mean': 0.7070813927831014}"
      ]
     },
     "execution_count": 18,
     "metadata": {},
     "output_type": "execute_result"
    }
   ],
   "source": [
    "s.get_results_dictionary()"
   ]
  },
  {
   "cell_type": "code",
   "execution_count": 19,
   "metadata": {
    "ExecuteTime": {
     "end_time": "2021-06-22T13:20:59.093973Z",
     "start_time": "2021-06-22T13:20:58.052376Z"
    }
   },
   "outputs": [
    {
     "data": {
      "image/png": "[encoded data removed]",
      "text/plain": [
       "<Figure size 180x216 with 1 Axes>"
      ]
     },
     "metadata": {
      "needs_background": "light"
     },
     "output_type": "display_data"
    }
   ],
   "source": [
    "s.plot_boxplot(figsize=(2.5, 3), plot_scale='symlog',\n",
    "                    colours=[foldx_observed_colour, foldx_expected_colour])\n",
    "hide_top_and_right_axes()\n",
    "plt.xticks(plt.gca().get_xticks(), ['Exp.', 'Obs.']);"
   ]
  },
  {
   "cell_type": "markdown",
   "metadata": {},
   "source": [
    "## Interface"
   ]
  },
  {
   "cell_type": "markdown",
   "metadata": {},
   "source": [
    "### Interface - no exclusions"
   ]
  },
  {
   "cell_type": "code",
   "execution_count": 20,
   "metadata": {
    "ExecuteTime": {
     "end_time": "2021-06-22T13:21:36.832301Z",
     "start_time": "2021-06-22T13:21:31.364656Z"
    }
   },
   "outputs": [],
   "source": [
    "# Test whether there is enrichment of mutations on the ligand-binding interface\n",
    "# Because the mutations are scored with only 1 and 0 (on/off the interface), we can use a binomial test\n",
    "s = d_oe.run_section(notch1_section_definition_egf11_12, lookup=interface_lookup, \n",
    "                    statistics=BinomTest())"
   ]
  },
  {
   "cell_type": "code",
   "execution_count": 21,
   "metadata": {
    "ExecuteTime": {
     "end_time": "2021-06-22T13:21:36.840002Z",
     "start_time": "2021-06-22T13:21:36.834351Z"
    }
   },
   "outputs": [
    {
     "data": {
      "text/plain": [
       "{'gene': 'NOTCH1',\n",
       " 'transcript_id': 'ENST00000277541',\n",
       " 'chrom': '9',\n",
       " 'section_id': '2vj3:A',\n",
       " 'num_mutations': 308,\n",
       " 'observed_median': 0.0,\n",
       " 'observed_mean': 0.3344155844155844,\n",
       " 'expected_median_glob_k3': 0.0,\n",
       " 'median_shift_glob_k3': 0.0,\n",
       " 'expected_mean_glob_k3': 0.34559638687080796,\n",
       " 'mean_shift_glob_k3': -0.01118080245522357,\n",
       " 'binom_glob_k3_pvalue': 0.7193713866593072,\n",
       " 'binom_glob_k3_expected_proportion': 0.345596386870808,\n",
       " 'binom_glob_k3_observed_proportion': 0.3344155844155844,\n",
       " 'binom_glob_k3_expected_count': 106.44368715620887,\n",
       " 'binom_glob_k3_observed_count': 103,\n",
       " 'binom_glob_k3_threshold': 0.5,\n",
       " 'binom_glob_k3_expected_CI_high': 123.0,\n",
       " 'binom_glob_k3_expected_CI_low': 90.0,\n",
       " 'binom_glob_k3_observed_CI_low': 87.0,\n",
       " 'binom_glob_k3_observed_CI_high': 119.0}"
      ]
     },
     "execution_count": 21,
     "metadata": {},
     "output_type": "execute_result"
    }
   ],
   "source": [
    "s.get_results_dictionary()"
   ]
  },
  {
   "cell_type": "code",
   "execution_count": 22,
   "metadata": {
    "ExecuteTime": {
     "end_time": "2021-06-22T13:21:38.555113Z",
     "start_time": "2021-06-22T13:21:37.039363Z"
    }
   },
   "outputs": [
    {
     "data": {
      "image/png": "[encoded data removed]",
      "text/plain": [
       "<Figure size 144x216 with 1 Axes>"
      ]
     },
     "metadata": {
      "needs_background": "light"
     },
     "output_type": "display_data"
    }
   ],
   "source": [
    "s.plot_binomial(figsize=(2, 3), show_legend=False, colours=[interface_observed_colour, interface_expected_colour])\n",
    "plt.title(\"\")\n",
    "plt.ylabel('Mutations on interface')\n",
    "hide_top_and_right_axes(plt.gca())"
   ]
  },
  {
   "cell_type": "markdown",
   "metadata": {},
   "source": [
    "### Interface - excluding foldx"
   ]
  },
  {
   "cell_type": "code",
   "execution_count": 23,
   "metadata": {
    "ExecuteTime": {
     "end_time": "2021-06-22T13:21:43.058238Z",
     "start_time": "2021-06-22T13:21:38.557975Z"
    }
   },
   "outputs": [],
   "source": [
    "# Test again, excluding mutations with high ∆∆G values\n",
    "s = d_oe.run_section(notch1_section_definition_egf11_12, lookup=excllook_interface_foldx_only, \n",
    "                    statistics=BinomTest())"
   ]
  },
  {
   "cell_type": "code",
   "execution_count": 24,
   "metadata": {
    "ExecuteTime": {
     "end_time": "2021-06-22T13:21:43.071240Z",
     "start_time": "2021-06-22T13:21:43.060287Z"
    }
   },
   "outputs": [
    {
     "data": {
      "text/plain": [
       "{'gene': 'NOTCH1',\n",
       " 'transcript_id': 'ENST00000277541',\n",
       " 'chrom': '9',\n",
       " 'section_id': '2vj3:A',\n",
       " 'num_mutations': 107,\n",
       " 'observed_median': 1.0,\n",
       " 'observed_mean': 0.6355140186915887,\n",
       " 'expected_median_glob_k3': 0.0,\n",
       " 'median_shift_glob_k3': 1.0,\n",
       " 'expected_mean_glob_k3': 0.4317494095414049,\n",
       " 'mean_shift_glob_k3': 0.20376460915018385,\n",
       " 'binom_glob_k3_pvalue': 3.2781415863033215e-05,\n",
       " 'binom_glob_k3_expected_proportion': 0.4317494095414049,\n",
       " 'binom_glob_k3_observed_proportion': 0.6355140186915887,\n",
       " 'binom_glob_k3_expected_count': 46.19718682093033,\n",
       " 'binom_glob_k3_observed_count': 68,\n",
       " 'binom_glob_k3_threshold': 0.5,\n",
       " 'binom_glob_k3_expected_CI_high': 56.0,\n",
       " 'binom_glob_k3_expected_CI_low': 36.0,\n",
       " 'binom_glob_k3_observed_CI_low': 58.0,\n",
       " 'binom_glob_k3_observed_CI_high': 78.0}"
      ]
     },
     "execution_count": 24,
     "metadata": {},
     "output_type": "execute_result"
    }
   ],
   "source": [
    "s.get_results_dictionary()"
   ]
  },
  {
   "cell_type": "code",
   "execution_count": 25,
   "metadata": {
    "ExecuteTime": {
     "end_time": "2021-06-22T13:21:44.665070Z",
     "start_time": "2021-06-22T13:21:43.337178Z"
    }
   },
   "outputs": [
    {
     "data": {
      "image/png": "[encoded data removed]",
      "text/plain": [
       "<Figure size 144x216 with 1 Axes>"
      ]
     },
     "metadata": {
      "needs_background": "light"
     },
     "output_type": "display_data"
    }
   ],
   "source": [
    "s.plot_binomial(figsize=(2, 3), show_legend=False, # binom_test=d_sms.statistics[-1],\n",
    "                                      colours=[interface_observed_colour, interface_expected_colour])\n",
    "plt.title(\"\")\n",
    "plt.ylabel('Mutations on interface')\n",
    "hide_top_and_right_axes(plt.gca())"
   ]
  },
  {
   "cell_type": "markdown",
   "metadata": {},
   "source": [
    "## CA binding"
   ]
  },
  {
   "cell_type": "markdown",
   "metadata": {},
   "source": [
    "### CA - no exclusions"
   ]
  },
  {
   "cell_type": "code",
   "execution_count": 26,
   "metadata": {
    "ExecuteTime": {
     "end_time": "2021-06-22T13:22:17.913171Z",
     "start_time": "2021-06-22T13:22:12.640811Z"
    }
   },
   "outputs": [],
   "source": [
    "# Test for enrichment of calcium-binding mutations. \n",
    "# 1/0 scores so can use the binomial test\n",
    "s = d_oe.run_section(notch1_section_definition_egf11_12, lookup=ca_lookup, \n",
    "                    statistics=BinomTest())"
   ]
  },
  {
   "cell_type": "code",
   "execution_count": 27,
   "metadata": {
    "ExecuteTime": {
     "end_time": "2021-06-22T13:22:17.920719Z",
     "start_time": "2021-06-22T13:22:17.914795Z"
    }
   },
   "outputs": [
    {
     "data": {
      "text/plain": [
       "{'gene': 'NOTCH1',\n",
       " 'transcript_id': 'ENST00000277541',\n",
       " 'chrom': '9',\n",
       " 'section_id': '2vj3:A',\n",
       " 'num_mutations': 308,\n",
       " 'observed_median': 0.0,\n",
       " 'observed_mean': 0.1396103896103896,\n",
       " 'expected_median_glob_k3': 0.0,\n",
       " 'median_shift_glob_k3': 0.0,\n",
       " 'expected_mean_glob_k3': 0.15623099878085714,\n",
       " 'mean_shift_glob_k3': -0.016620609170467537,\n",
       " 'binom_glob_k3_pvalue': 0.4798020054214637,\n",
       " 'binom_glob_k3_expected_proportion': 0.15623099878085714,\n",
       " 'binom_glob_k3_observed_proportion': 0.1396103896103896,\n",
       " 'binom_glob_k3_expected_count': 48.119147624504,\n",
       " 'binom_glob_k3_observed_count': 43,\n",
       " 'binom_glob_k3_threshold': 0.5,\n",
       " 'binom_glob_k3_expected_CI_high': 61.0,\n",
       " 'binom_glob_k3_expected_CI_low': 36.0,\n",
       " 'binom_glob_k3_observed_CI_low': 31.0,\n",
       " 'binom_glob_k3_observed_CI_high': 55.0}"
      ]
     },
     "execution_count": 27,
     "metadata": {},
     "output_type": "execute_result"
    }
   ],
   "source": [
    "s.get_results_dictionary()"
   ]
  },
  {
   "cell_type": "code",
   "execution_count": 28,
   "metadata": {
    "ExecuteTime": {
     "end_time": "2021-06-22T13:22:20.036695Z",
     "start_time": "2021-06-22T13:22:18.256417Z"
    }
   },
   "outputs": [
    {
     "data": {
      "image/png": "[encoded data removed]",
      "text/plain": [
       "<Figure size 144x216 with 1 Axes>"
      ]
     },
     "metadata": {
      "needs_background": "light"
     },
     "output_type": "display_data"
    }
   ],
   "source": [
    "s.plot_binomial(figsize=(2, 3), show_legend=False, # binom_test=d_sms.statistics[-1],\n",
    "                                      colours=[calcium_observed_colour, calcium_expected_colour])\n",
    "plt.title(\"\")\n",
    "plt.ylabel('Calcium binding mutations')\n",
    "hide_top_and_right_axes(plt.gca())"
   ]
  },
  {
   "cell_type": "markdown",
   "metadata": {},
   "source": [
    "### CA - excluding FoldX and interface mutations"
   ]
  },
  {
   "cell_type": "code",
   "execution_count": 29,
   "metadata": {
    "ExecuteTime": {
     "end_time": "2021-06-22T13:22:23.902058Z",
     "start_time": "2021-06-22T13:22:20.042834Z"
    }
   },
   "outputs": [],
   "source": [
    "# Test again, excluding mutations with high ∆∆G values and mutations on calcium-binding residues\n",
    "s = d_oe.run_section(notch1_section_definition_egf11_12, lookup=excllook_ca, statistics=BinomTest())"
   ]
  },
  {
   "cell_type": "code",
   "execution_count": 30,
   "metadata": {
    "ExecuteTime": {
     "end_time": "2021-06-22T13:22:23.928432Z",
     "start_time": "2021-06-22T13:22:23.920520Z"
    }
   },
   "outputs": [
    {
     "data": {
      "text/plain": [
       "{'gene': 'NOTCH1',\n",
       " 'transcript_id': 'ENST00000277541',\n",
       " 'chrom': '9',\n",
       " 'section_id': '2vj3:A',\n",
       " 'num_mutations': 39,\n",
       " 'observed_median': 1.0,\n",
       " 'observed_mean': 0.5897435897435898,\n",
       " 'expected_median_glob_k3': 0.0,\n",
       " 'median_shift_glob_k3': 1.0,\n",
       " 'expected_mean_glob_k3': 0.1975591904274036,\n",
       " 'mean_shift_glob_k3': 0.39218439931618615,\n",
       " 'binom_glob_k3_pvalue': 8.402296046252499e-08,\n",
       " 'binom_glob_k3_expected_proportion': 0.1975591904274036,\n",
       " 'binom_glob_k3_observed_proportion': 0.5897435897435898,\n",
       " 'binom_glob_k3_expected_count': 7.704808426668741,\n",
       " 'binom_glob_k3_observed_count': 23,\n",
       " 'binom_glob_k3_threshold': 0.5,\n",
       " 'binom_glob_k3_expected_CI_high': 13.0,\n",
       " 'binom_glob_k3_expected_CI_low': 3.0,\n",
       " 'binom_glob_k3_observed_CI_low': 17.0,\n",
       " 'binom_glob_k3_observed_CI_high': 29.0}"
      ]
     },
     "execution_count": 30,
     "metadata": {},
     "output_type": "execute_result"
    }
   ],
   "source": [
    "s.get_results_dictionary()"
   ]
  },
  {
   "cell_type": "code",
   "execution_count": 31,
   "metadata": {
    "ExecuteTime": {
     "end_time": "2021-06-22T13:22:25.739103Z",
     "start_time": "2021-06-22T13:22:24.173207Z"
    }
   },
   "outputs": [
    {
     "data": {
      "image/png": "[encoded data removed]",
      "text/plain": [
       "<Figure size 144x216 with 1 Axes>"
      ]
     },
     "metadata": {
      "needs_background": "light"
     },
     "output_type": "display_data"
    }
   ],
   "source": [
    "s.plot_binomial(figsize=(2, 3), show_legend=False, # binom_test=d_sms.statistics[-1],\n",
    "                                      colours=[calcium_observed_colour, calcium_expected_colour])\n",
    "plt.title(\"\")\n",
    "plt.ylabel('Calcium binding mutations')\n",
    "hide_top_and_right_axes(plt.gca())"
   ]
  },
  {
   "cell_type": "markdown",
   "metadata": {},
   "source": [
    "# All mutation categories"
   ]
  },
  {
   "cell_type": "markdown",
   "metadata": {},
   "source": [
    "Plot all of the mutations on one graph, highlighting the mutations in the different categories. "
   ]
  },
  {
   "cell_type": "code",
   "execution_count": 32,
   "metadata": {
    "ExecuteTime": {
     "end_time": "2021-06-22T13:22:25.847325Z",
     "start_time": "2021-06-22T13:22:25.838721Z"
    }
   },
   "outputs": [],
   "source": [
    "# Define the lookup that measures the distance in the structure from these selected residues\n",
    "\n",
    "target_selection_string = 'protein and segid A and resid {} and name CA'.format(\n",
    "    \" \".join([str(int(p)) for p in notch1_section_definition_egf11_12['interface_residues']]))\n",
    "notch1_section_definition_egf11_12['interface_residues_3D'] = target_selection_string\n",
    "\n",
    "\n",
    "interface_lookup3D = StructureDistanceLookup(\n",
    "    boolean=False,  # This time we use the distance\n",
    "    target_key='interface_residues_3D', \n",
    "    name='Distance from interface residues (A)',\n",
    "    \n",
    "    # Uses the pdb file and SIFTS. Provide paths to directories including those files.\n",
    "    pdb_directory=pdb_directory,\n",
    "    sifts_directory=sifts_directory, \n",
    "    download_sifts=True   # Download the SIFTS file if not already in the directory\n",
    "\n",
    ")"
   ]
  },
  {
   "cell_type": "code",
   "execution_count": 33,
   "metadata": {
    "ExecuteTime": {
     "end_time": "2021-06-22T13:22:48.960791Z",
     "start_time": "2021-06-22T13:22:38.606081Z"
    }
   },
   "outputs": [],
   "source": [
    "s_interface3D_notch1 = d_oe.run_section(notch1_section_definition_egf11_12, statistics=[], lookup=interface_lookup3D)\n",
    "s_ca_all_notch1 = d_oe.run_section(notch1_section_definition_egf11_12, statistics=[], lookup=ca_lookup)\n",
    "s_interface_all_notch1 = d_oe.run_section(notch1_section_definition_egf11_12, statistics=[], lookup=interface_lookup)\n",
    "s_fold_all_notch1 = d_oe.run_section(notch1_section_definition_egf11_12, statistics=[], lookup=fold)"
   ]
  },
  {
   "cell_type": "code",
   "execution_count": 34,
   "metadata": {},
   "outputs": [
    {
     "data": {
      "image/png": "[encoded data removed]",
      "text/plain": [
       "<Figure size 360x360 with 1 Axes>"
      ]
     },
     "metadata": {
      "needs_background": "light"
     },
     "output_type": "display_data"
    }
   ],
   "source": [
    "plot_scatter_two_scores(s_interface3D_notch1, s_fold_all_notch1, \n",
    "                        sections_for_colours=[s_fold_all_notch1, s_interface3D_notch1, s_ca_all_notch1], \n",
    "                        score_regions_for_colours=[[2, 100], [-1, 0.1], [0.9,1.1]],\n",
    "                        score_region_colours=[foldx_observed_colour, interface_observed_colour, \n",
    "                                              calcium_observed_colour],\n",
    "                        unobserved_mutation_colour=unobserved_colour, \n",
    "                        missense_mutation_colour=observed_colour,\n",
    "                        plot_yscale='symlog', show_legend=False, figsize=(5, 5), unmutated_marker_size=5,\n",
    "                        base_marker_size=10)\n",
    "hide_top_and_right_axes()"
   ]
  },
  {
   "cell_type": "markdown",
   "metadata": {
    "heading_collapsed": true
   },
   "source": [
    "## Proportion in three categories together"
   ]
  },
  {
   "cell_type": "markdown",
   "metadata": {
    "hidden": true
   },
   "source": [
    "Check the expected and observed proportions of mutations in three selected categories. "
   ]
  },
  {
   "cell_type": "code",
   "execution_count": 35,
   "metadata": {
    "ExecuteTime": {
     "end_time": "2021-06-22T13:22:51.674455Z",
     "start_time": "2021-06-22T13:22:51.669089Z"
    },
    "hidden": true
   },
   "outputs": [],
   "source": [
    "# Define the lookup to check if a mutations is in any of the categories\n",
    "destabilising_or_interface_or_calcium_lookup = ORLookup(\n",
    "    lookups=[fold, interface_lookup, ca_lookup],  # Use the FoldX, interface and calcium lookups.  \n",
    "    thresholds=[2, 0.5, 0.5],  # Again pick a threshold of 2kcal/mol for the FoldX result, interface and calcium results are either 0 or 1 so set threshold at 0.5. \n",
    "    directions=[1, 1, 1],  # Want to exclude mutations with scores greater than the thresholds, so directions are all 1.\n",
    ")"
   ]
  },
  {
   "cell_type": "code",
   "execution_count": 36,
   "metadata": {
    "ExecuteTime": {
     "end_time": "2021-06-22T13:23:10.938885Z",
     "start_time": "2021-06-22T13:23:04.177492Z"
    },
    "hidden": true
   },
   "outputs": [
    {
     "name": "stdout",
     "output_type": "stream",
     "text": [
      "0.7029126213592233\n",
      "0.7070863957265404\n",
      "0.948051948051948\n"
     ]
    }
   ],
   "source": [
    "s = d_oe.run_section(notch1_section_definition_egf11_12, lookup=destabilising_or_interface_or_calcium_lookup, \n",
    "                    statistics=BinomTest())\n",
    "# Proportion of mutations expected to occur in one of the three categories (not adjusting for spectrum)\n",
    "print(len(s.null_mutations[s.null_mutations['score'] == 1])/len(s.null_mutations))\n",
    "# Proportion of mutations expected to occur in one of the three categories (adjusting for spectrum)\n",
    "res = s.get_results_dictionary()\n",
    "print(res['binom_glob_k3_expected_proportion'])\n",
    "print(res['binom_glob_k3_observed_proportion'])"
   ]
  },
  {
   "cell_type": "markdown",
   "metadata": {},
   "source": [
    "# FoldX threshold checking"
   ]
  },
  {
   "cell_type": "code",
   "execution_count": 37,
   "metadata": {
    "ExecuteTime": {
     "end_time": "2021-06-22T13:23:17.160662Z",
     "start_time": "2021-06-22T13:23:17.154920Z"
    }
   },
   "outputs": [],
   "source": [
    " # Try different thresholds for excluding destabilising mutations to confirm the conclusions are not altered\n",
    "thresholds = [1, 1.5, 2, 2.5, 3] "
   ]
  },
  {
   "cell_type": "markdown",
   "metadata": {},
   "source": [
    "## Interface"
   ]
  },
  {
   "cell_type": "code",
   "execution_count": 38,
   "metadata": {
    "ExecuteTime": {
     "end_time": "2021-06-22T13:23:17.175384Z",
     "start_time": "2021-06-22T13:23:17.164578Z"
    }
   },
   "outputs": [],
   "source": [
    "excllookups = []\n",
    "for t in thresholds:\n",
    "    # First define a lookup that is 1 if the mutation is destabilising or calcium binding\n",
    "    l1 = ORLookup(\n",
    "        lookups=[fold, ca_lookup],  \n",
    "        thresholds=[t, 0.5],  \n",
    "        directions=[1, 1],  \n",
    "    )\n",
    "\n",
    "\n",
    "    # Define the combined lookup.\n",
    "    l2 = MutationExclusionLookup(\n",
    "        lookup=interface_lookup,   \n",
    "        exclusion_lookup=l1,   \n",
    "        exclusion_threshold=0.5,  \n",
    "        exclusion_direction=1,   \n",
    "        name=interface_lookup.name\n",
    "    )\n",
    "\n",
    "    excllookups.append(l2)"
   ]
  },
  {
   "cell_type": "code",
   "execution_count": 39,
   "metadata": {
    "ExecuteTime": {
     "end_time": "2021-06-22T13:23:47.018920Z",
     "start_time": "2021-06-22T13:23:17.177943Z"
    }
   },
   "outputs": [],
   "source": [
    "s_interfaces_with_thresholds = [\n",
    "    d_oe.run_section(notch1_section_definition_egf11_12, lookup=ll, statistics=BinomTest()) for ll in excllookups\n",
    "]\n",
    "results = [s.get_results_dictionary() for s in s_interfaces_with_thresholds]"
   ]
  },
  {
   "cell_type": "code",
   "execution_count": 40,
   "metadata": {
    "ExecuteTime": {
     "end_time": "2021-06-22T13:23:47.047584Z",
     "start_time": "2021-06-22T13:23:47.036073Z"
    }
   },
   "outputs": [],
   "source": [
    "observed_counts = np.array([r['binom_glob_k3_observed_count'] for r in results])\n",
    "expected_counts = np.array([r['binom_glob_k3_expected_count'] for r in results])\n",
    "observed_ci_low = np.array([r['binom_glob_k3_observed_CI_low'] for r in results])\n",
    "observed_ci_high = np.array([r['binom_glob_k3_observed_CI_high'] for r in results])\n",
    "expected_ci_low = np.array([r['binom_glob_k3_expected_CI_low'] for r in results])\n",
    "expected_ci_high = np.array([r['binom_glob_k3_expected_CI_high'] for r in results])\n",
    "pvalues_binom = [r['binom_glob_k3_pvalue'] for r in results]"
   ]
  },
  {
   "cell_type": "code",
   "execution_count": 41,
   "metadata": {
    "ExecuteTime": {
     "end_time": "2021-06-22T13:23:47.072324Z",
     "start_time": "2021-06-22T13:23:47.063964Z"
    }
   },
   "outputs": [
    {
     "data": {
      "text/plain": [
       "[9.776214084457353e-07,\n",
       " 1.8596899564471738e-08,\n",
       " 1.6574451292401049e-09,\n",
       " 7.312550527161934e-09,\n",
       " 0.00048258517671249387]"
      ]
     },
     "execution_count": 41,
     "metadata": {},
     "output_type": "execute_result"
    }
   ],
   "source": [
    "pvalues_binom"
   ]
  },
  {
   "cell_type": "code",
   "execution_count": 42,
   "metadata": {
    "ExecuteTime": {
     "end_time": "2021-06-22T13:23:47.808668Z",
     "start_time": "2021-06-22T13:23:47.075820Z"
    }
   },
   "outputs": [
    {
     "data": {
      "image/png": "[encoded data removed]",
      "text/plain": [
       "<Figure size 504x252 with 2 Axes>"
      ]
     },
     "metadata": {
      "needs_background": "light"
     },
     "output_type": "display_data"
    }
   ],
   "source": [
    "fig, ax = plt.subplots(figsize=(7, 3.5))\n",
    "width = 0.4\n",
    "x_pos = np.arange(5)\n",
    "\n",
    "plt.bar(x_pos, expected_counts, yerr=[expected_counts-expected_ci_low, expected_ci_high-expected_counts],\n",
    "        width=width, color=interface_expected_colour)\n",
    "plt.bar(x_pos+width, observed_counts, yerr=[observed_counts-observed_ci_low, observed_ci_high-observed_counts],\n",
    "        width=width, color=interface_observed_colour)\n",
    "plt.xticks(sorted(list(x_pos) + list(x_pos+width)), ['Exp.', 'Obs.']*5, fontsize=10)\n",
    "ax.tick_params(axis='x', direction='out', pad=2, length=0)\n",
    "fig.subplots_adjust(bottom=0.25)\n",
    "ax2 = plt.gca().twiny()\n",
    "ax2.patch.set_visible(False)\n",
    "hide_top_and_right_axes(ax2)\n",
    "hide_top_and_right_axes(ax)\n",
    "ax2.xaxis.set_ticks_position('bottom')\n",
    "ax2.xaxis.set_label_position('bottom')\n",
    "ax2.set_xticks(x_pos+width/2)\n",
    "ax2.set_xticklabels(['∆∆G≤{}'.format(t) for t in thresholds], fontsize=12, ha='center')\n",
    "ax2.set_xlim(ax.get_xlim())\n",
    "ax2.tick_params(axis='x', length=0, pad=15)\n",
    "ax.set_ylabel('Mutations on interface', fontsize=13)\n",
    "plt.subplots_adjust(left=0.1, bottom=0.2, right=0.9, top=0.9)"
   ]
  },
  {
   "cell_type": "code",
   "execution_count": 43,
   "metadata": {
    "ExecuteTime": {
     "end_time": "2021-06-22T13:23:47.834247Z",
     "start_time": "2021-06-22T13:23:47.819145Z"
    }
   },
   "outputs": [],
   "source": [
    "for r, t in zip(results, thresholds):\n",
    "    r['foldx_threshold'] = t"
   ]
  },
  {
   "cell_type": "code",
   "execution_count": 44,
   "metadata": {
    "ExecuteTime": {
     "end_time": "2021-06-22T13:23:47.922397Z",
     "start_time": "2021-06-22T13:23:47.855950Z"
    }
   },
   "outputs": [
    {
     "data": {
      "text/html": [
       "<div>\n",
       "<style scoped>\n",
       "    .dataframe tbody tr th:only-of-type {\n",
       "        vertical-align: middle;\n",
       "    }\n",
       "\n",
       "    .dataframe tbody tr th {\n",
       "        vertical-align: top;\n",
       "    }\n",
       "\n",
       "    .dataframe thead th {\n",
       "        text-align: right;\n",
       "    }\n",
       "</style>\n",
       "<table border=\"1\" class=\"dataframe\">\n",
       "  <thead>\n",
       "    <tr style=\"text-align: right;\">\n",
       "      <th></th>\n",
       "      <th>gene</th>\n",
       "      <th>transcript_id</th>\n",
       "      <th>chrom</th>\n",
       "      <th>section_id</th>\n",
       "      <th>num_mutations</th>\n",
       "      <th>observed_median</th>\n",
       "      <th>observed_mean</th>\n",
       "      <th>expected_median_glob_k3</th>\n",
       "      <th>median_shift_glob_k3</th>\n",
       "      <th>expected_mean_glob_k3</th>\n",
       "      <th>...</th>\n",
       "      <th>binom_glob_k3_expected_proportion</th>\n",
       "      <th>binom_glob_k3_observed_proportion</th>\n",
       "      <th>binom_glob_k3_expected_count</th>\n",
       "      <th>binom_glob_k3_observed_count</th>\n",
       "      <th>binom_glob_k3_threshold</th>\n",
       "      <th>binom_glob_k3_expected_CI_high</th>\n",
       "      <th>binom_glob_k3_expected_CI_low</th>\n",
       "      <th>binom_glob_k3_observed_CI_low</th>\n",
       "      <th>binom_glob_k3_observed_CI_high</th>\n",
       "      <th>foldx_threshold</th>\n",
       "    </tr>\n",
       "  </thead>\n",
       "  <tbody>\n",
       "    <tr>\n",
       "      <th>0</th>\n",
       "      <td>NOTCH1</td>\n",
       "      <td>ENST00000277541</td>\n",
       "      <td>9</td>\n",
       "      <td>2vj3:A</td>\n",
       "      <td>43</td>\n",
       "      <td>1.0</td>\n",
       "      <td>0.720930</td>\n",
       "      <td>0.0</td>\n",
       "      <td>1.0</td>\n",
       "      <td>0.349072</td>\n",
       "      <td>...</td>\n",
       "      <td>0.349072</td>\n",
       "      <td>0.720930</td>\n",
       "      <td>15.010088</td>\n",
       "      <td>31</td>\n",
       "      <td>0.5</td>\n",
       "      <td>21.000</td>\n",
       "      <td>9.0</td>\n",
       "      <td>25.0</td>\n",
       "      <td>36.025</td>\n",
       "      <td>1.0</td>\n",
       "    </tr>\n",
       "    <tr>\n",
       "      <th>1</th>\n",
       "      <td>NOTCH1</td>\n",
       "      <td>ENST00000277541</td>\n",
       "      <td>9</td>\n",
       "      <td>2vj3:A</td>\n",
       "      <td>56</td>\n",
       "      <td>1.0</td>\n",
       "      <td>0.767857</td>\n",
       "      <td>0.0</td>\n",
       "      <td>1.0</td>\n",
       "      <td>0.392823</td>\n",
       "      <td>...</td>\n",
       "      <td>0.392823</td>\n",
       "      <td>0.767857</td>\n",
       "      <td>21.998105</td>\n",
       "      <td>43</td>\n",
       "      <td>0.5</td>\n",
       "      <td>29.000</td>\n",
       "      <td>15.0</td>\n",
       "      <td>37.0</td>\n",
       "      <td>49.000</td>\n",
       "      <td>1.5</td>\n",
       "    </tr>\n",
       "    <tr>\n",
       "      <th>2</th>\n",
       "      <td>NOTCH1</td>\n",
       "      <td>ENST00000277541</td>\n",
       "      <td>9</td>\n",
       "      <td>2vj3:A</td>\n",
       "      <td>69</td>\n",
       "      <td>1.0</td>\n",
       "      <td>0.768116</td>\n",
       "      <td>0.0</td>\n",
       "      <td>1.0</td>\n",
       "      <td>0.408139</td>\n",
       "      <td>...</td>\n",
       "      <td>0.408139</td>\n",
       "      <td>0.768116</td>\n",
       "      <td>28.161594</td>\n",
       "      <td>53</td>\n",
       "      <td>0.5</td>\n",
       "      <td>36.025</td>\n",
       "      <td>20.0</td>\n",
       "      <td>46.0</td>\n",
       "      <td>60.000</td>\n",
       "      <td>2.0</td>\n",
       "    </tr>\n",
       "    <tr>\n",
       "      <th>3</th>\n",
       "      <td>NOTCH1</td>\n",
       "      <td>ENST00000277541</td>\n",
       "      <td>9</td>\n",
       "      <td>2vj3:A</td>\n",
       "      <td>74</td>\n",
       "      <td>1.0</td>\n",
       "      <td>0.743243</td>\n",
       "      <td>0.0</td>\n",
       "      <td>1.0</td>\n",
       "      <td>0.408142</td>\n",
       "      <td>...</td>\n",
       "      <td>0.408142</td>\n",
       "      <td>0.743243</td>\n",
       "      <td>30.202532</td>\n",
       "      <td>55</td>\n",
       "      <td>0.5</td>\n",
       "      <td>39.000</td>\n",
       "      <td>22.0</td>\n",
       "      <td>48.0</td>\n",
       "      <td>62.000</td>\n",
       "      <td>2.5</td>\n",
       "    </tr>\n",
       "    <tr>\n",
       "      <th>4</th>\n",
       "      <td>NOTCH1</td>\n",
       "      <td>ENST00000277541</td>\n",
       "      <td>9</td>\n",
       "      <td>2vj3:A</td>\n",
       "      <td>101</td>\n",
       "      <td>1.0</td>\n",
       "      <td>0.574257</td>\n",
       "      <td>0.0</td>\n",
       "      <td>1.0</td>\n",
       "      <td>0.397902</td>\n",
       "      <td>...</td>\n",
       "      <td>0.397902</td>\n",
       "      <td>0.574257</td>\n",
       "      <td>40.188058</td>\n",
       "      <td>58</td>\n",
       "      <td>0.5</td>\n",
       "      <td>50.000</td>\n",
       "      <td>31.0</td>\n",
       "      <td>48.0</td>\n",
       "      <td>68.000</td>\n",
       "      <td>3.0</td>\n",
       "    </tr>\n",
       "  </tbody>\n",
       "</table>\n",
       "<p>5 rows × 22 columns</p>\n",
       "</div>"
      ],
      "text/plain": [
       "     gene    transcript_id chrom section_id  num_mutations  observed_median  \\\n",
       "0  NOTCH1  ENST00000277541     9     2vj3:A             43              1.0   \n",
       "1  NOTCH1  ENST00000277541     9     2vj3:A             56              1.0   \n",
       "2  NOTCH1  ENST00000277541     9     2vj3:A             69              1.0   \n",
       "3  NOTCH1  ENST00000277541     9     2vj3:A             74              1.0   \n",
       "4  NOTCH1  ENST00000277541     9     2vj3:A            101              1.0   \n",
       "\n",
       "   observed_mean  expected_median_glob_k3  median_shift_glob_k3  \\\n",
       "0       0.720930                      0.0                   1.0   \n",
       "1       0.767857                      0.0                   1.0   \n",
       "2       0.768116                      0.0                   1.0   \n",
       "3       0.743243                      0.0                   1.0   \n",
       "4       0.574257                      0.0                   1.0   \n",
       "\n",
       "   expected_mean_glob_k3  ...  binom_glob_k3_expected_proportion  \\\n",
       "0               0.349072  ...                           0.349072   \n",
       "1               0.392823  ...                           0.392823   \n",
       "2               0.408139  ...                           0.408139   \n",
       "3               0.408142  ...                           0.408142   \n",
       "4               0.397902  ...                           0.397902   \n",
       "\n",
       "   binom_glob_k3_observed_proportion  binom_glob_k3_expected_count  \\\n",
       "0                           0.720930                     15.010088   \n",
       "1                           0.767857                     21.998105   \n",
       "2                           0.768116                     28.161594   \n",
       "3                           0.743243                     30.202532   \n",
       "4                           0.574257                     40.188058   \n",
       "\n",
       "   binom_glob_k3_observed_count  binom_glob_k3_threshold  \\\n",
       "0                            31                      0.5   \n",
       "1                            43                      0.5   \n",
       "2                            53                      0.5   \n",
       "3                            55                      0.5   \n",
       "4                            58                      0.5   \n",
       "\n",
       "   binom_glob_k3_expected_CI_high  binom_glob_k3_expected_CI_low  \\\n",
       "0                          21.000                            9.0   \n",
       "1                          29.000                           15.0   \n",
       "2                          36.025                           20.0   \n",
       "3                          39.000                           22.0   \n",
       "4                          50.000                           31.0   \n",
       "\n",
       "   binom_glob_k3_observed_CI_low  binom_glob_k3_observed_CI_high  \\\n",
       "0                           25.0                          36.025   \n",
       "1                           37.0                          49.000   \n",
       "2                           46.0                          60.000   \n",
       "3                           48.0                          62.000   \n",
       "4                           48.0                          68.000   \n",
       "\n",
       "   foldx_threshold  \n",
       "0              1.0  \n",
       "1              1.5  \n",
       "2              2.0  \n",
       "3              2.5  \n",
       "4              3.0  \n",
       "\n",
       "[5 rows x 22 columns]"
      ]
     },
     "execution_count": 44,
     "metadata": {},
     "output_type": "execute_result"
    }
   ],
   "source": [
    "pd.DataFrame(results)"
   ]
  },
  {
   "cell_type": "markdown",
   "metadata": {},
   "source": [
    "## CA binding"
   ]
  },
  {
   "cell_type": "code",
   "execution_count": 45,
   "metadata": {
    "ExecuteTime": {
     "end_time": "2021-06-22T13:23:48.005204Z",
     "start_time": "2021-06-22T13:23:47.971110Z"
    }
   },
   "outputs": [],
   "source": [
    "excllookups = []\n",
    "for t in thresholds:\n",
    "    # First define a lookup that is 1 if the mutation is destabilising or calcium binding\n",
    "    l1 = ORLookup(\n",
    "        lookups=[fold, interface_lookup],  \n",
    "        thresholds=[t, 0.5],  \n",
    "        directions=[1, 1],  \n",
    "    )\n",
    "\n",
    "\n",
    "    # Define the combined lookup.\n",
    "    l2 = MutationExclusionLookup(\n",
    "        lookup=ca_lookup,   \n",
    "        exclusion_lookup=l1,   \n",
    "        exclusion_threshold=0.5,  \n",
    "        exclusion_direction=1,   \n",
    "        name=ca_lookup.name\n",
    "    )\n",
    "    \n",
    "    excllookups.append(l2)"
   ]
  },
  {
   "cell_type": "code",
   "execution_count": 46,
   "metadata": {
    "ExecuteTime": {
     "end_time": "2021-06-22T13:24:13.450321Z",
     "start_time": "2021-06-22T13:23:48.008855Z"
    }
   },
   "outputs": [],
   "source": [
    "s_with_thresholds = [\n",
    "    d_oe.run_section(notch1_section_definition_egf11_12, lookup=ll, statistics=BinomTest()) for ll in excllookups\n",
    "]\n",
    "results = [s.get_results_dictionary() for s in s_with_thresholds]\n",
    "for r, t in zip(results, thresholds):\n",
    "    r['foldx_threshold'] = t"
   ]
  },
  {
   "cell_type": "code",
   "execution_count": 47,
   "metadata": {
    "ExecuteTime": {
     "end_time": "2021-06-22T13:24:13.467600Z",
     "start_time": "2021-06-22T13:24:13.453467Z"
    }
   },
   "outputs": [],
   "source": [
    "observed_counts = np.array([r['binom_glob_k3_observed_count'] for r in results])\n",
    "expected_counts = np.array([r['binom_glob_k3_expected_count'] for r in results])\n",
    "observed_ci_low = np.array([r['binom_glob_k3_observed_CI_low'] for r in results])\n",
    "observed_ci_high = np.array([r['binom_glob_k3_observed_CI_high'] for r in results])\n",
    "expected_ci_low = np.array([r['binom_glob_k3_expected_CI_low'] for r in results])\n",
    "expected_ci_high = np.array([r['binom_glob_k3_expected_CI_high'] for r in results])\n",
    "pvalues_binom = [r['binom_glob_k3_pvalue'] for r in results]"
   ]
  },
  {
   "cell_type": "code",
   "execution_count": 48,
   "metadata": {
    "ExecuteTime": {
     "end_time": "2021-06-22T13:24:13.491430Z",
     "start_time": "2021-06-22T13:24:13.482382Z"
    }
   },
   "outputs": [
    {
     "data": {
      "text/plain": [
       "[9.794662064649643e-07,\n",
       " 2.6658554639937293e-08,\n",
       " 8.402296046252499e-08,\n",
       " 3.691475743893698e-07,\n",
       " 0.0006379288640367253]"
      ]
     },
     "execution_count": 48,
     "metadata": {},
     "output_type": "execute_result"
    }
   ],
   "source": [
    "pvalues_binom"
   ]
  },
  {
   "cell_type": "code",
   "execution_count": 49,
   "metadata": {
    "ExecuteTime": {
     "end_time": "2021-06-22T13:24:14.064053Z",
     "start_time": "2021-06-22T13:24:13.494589Z"
    }
   },
   "outputs": [
    {
     "data": {
      "image/png": "[encoded data removed]",
      "text/plain": [
       "<Figure size 504x252 with 2 Axes>"
      ]
     },
     "metadata": {
      "needs_background": "light"
     },
     "output_type": "display_data"
    }
   ],
   "source": [
    "fig, ax = plt.subplots(figsize=(7, 3.5))\n",
    "width = 0.4\n",
    "x_pos = np.arange(5)\n",
    "\n",
    "plt.bar(x_pos, expected_counts, yerr=[expected_counts-expected_ci_low, expected_ci_high-expected_counts],\n",
    "        width=width, color=calcium_expected_colour)\n",
    "plt.bar(x_pos+width, observed_counts, yerr=[observed_counts-observed_ci_low, observed_ci_high-observed_counts],\n",
    "        width=width, color=calcium_observed_colour)\n",
    "plt.xticks(sorted(list(x_pos) + list(x_pos+width)), ['Exp.', 'Obs.']*5, fontsize=10) \n",
    "ax.tick_params(axis='x', direction='out', pad=2, length=0)\n",
    "fig.subplots_adjust(bottom=0.25)\n",
    "ax2 = plt.gca().twiny()\n",
    "ax2.patch.set_visible(False)\n",
    "hide_top_and_right_axes(ax2)\n",
    "hide_top_and_right_axes(ax)\n",
    "ax2.xaxis.set_ticks_position('bottom')\n",
    "ax2.xaxis.set_label_position('bottom')\n",
    "ax2.set_xticks(x_pos+width/2)\n",
    "ax2.set_xticklabels(['∆∆G≤{}'.format(t) for t in thresholds], fontsize=12, ha='center')\n",
    "ax2.set_xlim(ax.get_xlim())\n",
    "ax2.tick_params(axis='x', length=0, pad=15)\n",
    "ax.set_ylabel('Calcium binding mutations', fontsize=13)\n",
    "plt.subplots_adjust(left=0.1, bottom=0.2, right=0.9, top=0.9)"
   ]
  },
  {
   "cell_type": "code",
   "execution_count": 50,
   "metadata": {
    "ExecuteTime": {
     "end_time": "2021-06-22T13:24:14.088205Z",
     "start_time": "2021-06-22T13:24:14.072128Z"
    }
   },
   "outputs": [
    {
     "data": {
      "text/html": [
       "<div>\n",
       "<style scoped>\n",
       "    .dataframe tbody tr th:only-of-type {\n",
       "        vertical-align: middle;\n",
       "    }\n",
       "\n",
       "    .dataframe tbody tr th {\n",
       "        vertical-align: top;\n",
       "    }\n",
       "\n",
       "    .dataframe thead th {\n",
       "        text-align: right;\n",
       "    }\n",
       "</style>\n",
       "<table border=\"1\" class=\"dataframe\">\n",
       "  <thead>\n",
       "    <tr style=\"text-align: right;\">\n",
       "      <th></th>\n",
       "      <th>gene</th>\n",
       "      <th>transcript_id</th>\n",
       "      <th>chrom</th>\n",
       "      <th>section_id</th>\n",
       "      <th>num_mutations</th>\n",
       "      <th>observed_median</th>\n",
       "      <th>observed_mean</th>\n",
       "      <th>expected_median_glob_k3</th>\n",
       "      <th>median_shift_glob_k3</th>\n",
       "      <th>expected_mean_glob_k3</th>\n",
       "      <th>...</th>\n",
       "      <th>binom_glob_k3_expected_proportion</th>\n",
       "      <th>binom_glob_k3_observed_proportion</th>\n",
       "      <th>binom_glob_k3_expected_count</th>\n",
       "      <th>binom_glob_k3_observed_count</th>\n",
       "      <th>binom_glob_k3_threshold</th>\n",
       "      <th>binom_glob_k3_expected_CI_high</th>\n",
       "      <th>binom_glob_k3_expected_CI_low</th>\n",
       "      <th>binom_glob_k3_observed_CI_low</th>\n",
       "      <th>binom_glob_k3_observed_CI_high</th>\n",
       "      <th>foldx_threshold</th>\n",
       "    </tr>\n",
       "  </thead>\n",
       "  <tbody>\n",
       "    <tr>\n",
       "      <th>0</th>\n",
       "      <td>NOTCH1</td>\n",
       "      <td>ENST00000277541</td>\n",
       "      <td>9</td>\n",
       "      <td>2vj3:A</td>\n",
       "      <td>31</td>\n",
       "      <td>1.0</td>\n",
       "      <td>0.612903</td>\n",
       "      <td>0.0</td>\n",
       "      <td>1.0</td>\n",
       "      <td>0.206246</td>\n",
       "      <td>...</td>\n",
       "      <td>0.206246</td>\n",
       "      <td>0.612903</td>\n",
       "      <td>6.393622</td>\n",
       "      <td>19</td>\n",
       "      <td>0.5</td>\n",
       "      <td>11.0</td>\n",
       "      <td>2.0</td>\n",
       "      <td>14.000</td>\n",
       "      <td>24.0</td>\n",
       "      <td>1.0</td>\n",
       "    </tr>\n",
       "    <tr>\n",
       "      <th>1</th>\n",
       "      <td>NOTCH1</td>\n",
       "      <td>ENST00000277541</td>\n",
       "      <td>9</td>\n",
       "      <td>2vj3:A</td>\n",
       "      <td>36</td>\n",
       "      <td>1.0</td>\n",
       "      <td>0.638889</td>\n",
       "      <td>0.0</td>\n",
       "      <td>1.0</td>\n",
       "      <td>0.207948</td>\n",
       "      <td>...</td>\n",
       "      <td>0.207948</td>\n",
       "      <td>0.638889</td>\n",
       "      <td>7.486117</td>\n",
       "      <td>23</td>\n",
       "      <td>0.5</td>\n",
       "      <td>12.0</td>\n",
       "      <td>3.0</td>\n",
       "      <td>17.000</td>\n",
       "      <td>28.0</td>\n",
       "      <td>1.5</td>\n",
       "    </tr>\n",
       "    <tr>\n",
       "      <th>2</th>\n",
       "      <td>NOTCH1</td>\n",
       "      <td>ENST00000277541</td>\n",
       "      <td>9</td>\n",
       "      <td>2vj3:A</td>\n",
       "      <td>39</td>\n",
       "      <td>1.0</td>\n",
       "      <td>0.589744</td>\n",
       "      <td>0.0</td>\n",
       "      <td>1.0</td>\n",
       "      <td>0.197559</td>\n",
       "      <td>...</td>\n",
       "      <td>0.197559</td>\n",
       "      <td>0.589744</td>\n",
       "      <td>7.704808</td>\n",
       "      <td>23</td>\n",
       "      <td>0.5</td>\n",
       "      <td>13.0</td>\n",
       "      <td>3.0</td>\n",
       "      <td>17.000</td>\n",
       "      <td>29.0</td>\n",
       "      <td>2.0</td>\n",
       "    </tr>\n",
       "    <tr>\n",
       "      <th>3</th>\n",
       "      <td>NOTCH1</td>\n",
       "      <td>ENST00000277541</td>\n",
       "      <td>9</td>\n",
       "      <td>2vj3:A</td>\n",
       "      <td>42</td>\n",
       "      <td>1.0</td>\n",
       "      <td>0.547619</td>\n",
       "      <td>0.0</td>\n",
       "      <td>1.0</td>\n",
       "      <td>0.193703</td>\n",
       "      <td>...</td>\n",
       "      <td>0.193703</td>\n",
       "      <td>0.547619</td>\n",
       "      <td>8.135509</td>\n",
       "      <td>23</td>\n",
       "      <td>0.5</td>\n",
       "      <td>13.0</td>\n",
       "      <td>3.0</td>\n",
       "      <td>17.000</td>\n",
       "      <td>29.0</td>\n",
       "      <td>2.5</td>\n",
       "    </tr>\n",
       "    <tr>\n",
       "      <th>4</th>\n",
       "      <td>NOTCH1</td>\n",
       "      <td>ENST00000277541</td>\n",
       "      <td>9</td>\n",
       "      <td>2vj3:A</td>\n",
       "      <td>67</td>\n",
       "      <td>0.0</td>\n",
       "      <td>0.358209</td>\n",
       "      <td>0.0</td>\n",
       "      <td>0.0</td>\n",
       "      <td>0.181289</td>\n",
       "      <td>...</td>\n",
       "      <td>0.181289</td>\n",
       "      <td>0.358209</td>\n",
       "      <td>12.146337</td>\n",
       "      <td>24</td>\n",
       "      <td>0.5</td>\n",
       "      <td>18.0</td>\n",
       "      <td>6.0</td>\n",
       "      <td>16.975</td>\n",
       "      <td>32.0</td>\n",
       "      <td>3.0</td>\n",
       "    </tr>\n",
       "  </tbody>\n",
       "</table>\n",
       "<p>5 rows × 22 columns</p>\n",
       "</div>"
      ],
      "text/plain": [
       "     gene    transcript_id chrom section_id  num_mutations  observed_median  \\\n",
       "0  NOTCH1  ENST00000277541     9     2vj3:A             31              1.0   \n",
       "1  NOTCH1  ENST00000277541     9     2vj3:A             36              1.0   \n",
       "2  NOTCH1  ENST00000277541     9     2vj3:A             39              1.0   \n",
       "3  NOTCH1  ENST00000277541     9     2vj3:A             42              1.0   \n",
       "4  NOTCH1  ENST00000277541     9     2vj3:A             67              0.0   \n",
       "\n",
       "   observed_mean  expected_median_glob_k3  median_shift_glob_k3  \\\n",
       "0       0.612903                      0.0                   1.0   \n",
       "1       0.638889                      0.0                   1.0   \n",
       "2       0.589744                      0.0                   1.0   \n",
       "3       0.547619                      0.0                   1.0   \n",
       "4       0.358209                      0.0                   0.0   \n",
       "\n",
       "   expected_mean_glob_k3  ...  binom_glob_k3_expected_proportion  \\\n",
       "0               0.206246  ...                           0.206246   \n",
       "1               0.207948  ...                           0.207948   \n",
       "2               0.197559  ...                           0.197559   \n",
       "3               0.193703  ...                           0.193703   \n",
       "4               0.181289  ...                           0.181289   \n",
       "\n",
       "   binom_glob_k3_observed_proportion  binom_glob_k3_expected_count  \\\n",
       "0                           0.612903                      6.393622   \n",
       "1                           0.638889                      7.486117   \n",
       "2                           0.589744                      7.704808   \n",
       "3                           0.547619                      8.135509   \n",
       "4                           0.358209                     12.146337   \n",
       "\n",
       "   binom_glob_k3_observed_count  binom_glob_k3_threshold  \\\n",
       "0                            19                      0.5   \n",
       "1                            23                      0.5   \n",
       "2                            23                      0.5   \n",
       "3                            23                      0.5   \n",
       "4                            24                      0.5   \n",
       "\n",
       "   binom_glob_k3_expected_CI_high  binom_glob_k3_expected_CI_low  \\\n",
       "0                            11.0                            2.0   \n",
       "1                            12.0                            3.0   \n",
       "2                            13.0                            3.0   \n",
       "3                            13.0                            3.0   \n",
       "4                            18.0                            6.0   \n",
       "\n",
       "   binom_glob_k3_observed_CI_low  binom_glob_k3_observed_CI_high  \\\n",
       "0                         14.000                            24.0   \n",
       "1                         17.000                            28.0   \n",
       "2                         17.000                            29.0   \n",
       "3                         17.000                            29.0   \n",
       "4                         16.975                            32.0   \n",
       "\n",
       "   foldx_threshold  \n",
       "0              1.0  \n",
       "1              1.5  \n",
       "2              2.0  \n",
       "3              2.5  \n",
       "4              3.0  \n",
       "\n",
       "[5 rows x 22 columns]"
      ]
     },
     "execution_count": 50,
     "metadata": {},
     "output_type": "execute_result"
    }
   ],
   "source": [
    "pd.DataFrame(results)"
   ]
  }
 ],
 "metadata": {
  "kernelspec": {
   "display_name": "Python 3 (ipykernel)",
   "language": "python",
   "name": "python3"
  },
  "language_info": {
   "codemirror_mode": {
    "name": "ipython",
    "version": 3
   },
   "file_extension": ".py",
   "mimetype": "text/x-python",
   "name": "python",
   "nbconvert_exporter": "python",
   "pygments_lexer": "ipython3",
   "version": "3.8.13"
  }
 },
 "nbformat": 4,
 "nbformat_minor": 4
}
