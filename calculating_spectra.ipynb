{
 "cells": [
  {
   "cell_type": "markdown",
   "metadata": {},
   "source": [
    "For each statistical analysis the mutational spectrum of the dataset has to be calculated.  \n",
    "To save computation time, the spectrum and be calculated once and stored in a file for reuse.   \n",
    "\n",
    "This notebook just reads in the data from the oesophagus and skin datasets and saves the trinucleotide spectrum files for use in the other notebooks.  "
   ]
  },
  {
   "cell_type": "code",
   "execution_count": 1,
   "metadata": {
    "ExecuteTime": {
     "end_time": "2022-06-21T08:39:15.966242Z",
     "start_time": "2022-06-21T08:39:14.904165Z"
    }
   },
   "outputs": [],
   "source": [
    "import os\n",
    "import numpy as np\n",
    "import pandas as pd"
   ]
  },
  {
   "cell_type": "code",
   "execution_count": 2,
   "metadata": {
    "ExecuteTime": {
     "end_time": "2022-06-21T08:39:20.088661Z",
     "start_time": "2022-06-21T08:39:15.969739Z"
    }
   },
   "outputs": [
    {
     "name": "stderr",
     "output_type": "stream",
     "text": [
      "/Users/mh28/miniconda3/envs/dsenv3/lib/python3.8/site-packages/tqdm/auto.py:22: TqdmWarning: IProgress not found. Please update jupyter and ipywidgets. See https://ipywidgets.readthedocs.io/en/stable/user_install.html\n",
      "  from .autonotebook import tqdm as notebook_tqdm\n",
      "/Users/mh28/miniconda3/envs/dsenv3/lib/python3.8/site-packages/MDAnalysis/coordinates/TRJ.py:1209: DeprecationWarning: Please use `netcdf_file` from the `scipy.io` namespace, the `scipy.io.netcdf` namespace is deprecated.\n",
      "  class NCDFPicklable(scipy.io.netcdf.netcdf_file):\n"
     ]
    }
   ],
   "source": [
    "from darwinian_shift import DarwinianShift"
   ]
  },
  {
   "cell_type": "code",
   "execution_count": 3,
   "metadata": {
    "ExecuteTime": {
     "end_time": "2022-06-21T08:41:01.896514Z",
     "start_time": "2022-06-21T08:39:20.092455Z"
    }
   },
   "outputs": [],
   "source": [
    "# Load the oesophagus data. The trinucleotide spectrum is the defaul option and will be calculated.  \n",
    "d_oe = DarwinianShift(\n",
    "    data=pd.read_excel('aau3879_TableS2.xlsx', sheet_name='Mutations_collapsed_by_distance', skiprows=17),\n",
    "    source_genome='GRCh37'\n",
    ")"
   ]
  },
  {
   "cell_type": "code",
   "execution_count": 4,
   "metadata": {
    "ExecuteTime": {
     "end_time": "2022-06-21T08:41:28.080042Z",
     "start_time": "2022-06-21T08:41:28.063663Z"
    }
   },
   "outputs": [],
   "source": [
    "# Output the spectrum to file\n",
    "d_oe.spectra[0].write_to_file(\"oesophagus_trinuc_spectrum.txt\")"
   ]
  },
  {
   "cell_type": "code",
   "execution_count": 5,
   "metadata": {
    "ExecuteTime": {
     "end_time": "2022-06-21T08:44:14.126905Z",
     "start_time": "2022-06-21T08:42:38.855818Z"
    }
   },
   "outputs": [],
   "source": [
    "# Do the same for the skin data\n",
    "d_skin = DarwinianShift(\n",
    "    data=pd.read_excel('248092_3_supp_6645104_q35h43.xlsx', sheet_name='Table S4', skiprows=4),\n",
    "    source_genome='GRCh37'\n",
    ")"
   ]
  },
  {
   "cell_type": "code",
   "execution_count": 6,
   "metadata": {
    "ExecuteTime": {
     "end_time": "2022-06-21T08:44:14.139765Z",
     "start_time": "2022-06-21T08:44:14.130325Z"
    }
   },
   "outputs": [],
   "source": [
    "d_skin.spectra[0].write_to_file(\"skin_trinuc_spectrum.txt\")"
   ]
  },
  {
   "cell_type": "code",
   "execution_count": null,
   "metadata": {},
   "outputs": [],
   "source": []
  }
 ],
 "metadata": {
  "kernelspec": {
   "display_name": "Python 3 (ipykernel)",
   "language": "python",
   "name": "python3"
  },
  "language_info": {
   "codemirror_mode": {
    "name": "ipython",
    "version": 3
   },
   "file_extension": ".py",
   "mimetype": "text/x-python",
   "name": "python",
   "nbconvert_exporter": "python",
   "pygments_lexer": "ipython3",
   "version": "3.8.13"
  }
 },
 "nbformat": 4,
 "nbformat_minor": 4
}
