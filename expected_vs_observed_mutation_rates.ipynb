{
 "cells": [
  {
   "cell_type": "code",
   "execution_count": 1,
   "metadata": {
    "ExecuteTime": {
     "end_time": "2021-06-22T13:18:43.491363Z",
     "start_time": "2021-06-22T13:18:40.646961Z"
    }
   },
   "outputs": [],
   "source": [
    "import numpy as np\n",
    "import pandas as pd\n",
    "import matplotlib.pyplot as plt\n",
    "%matplotlib inline\n",
    "import matplotlib\n",
    "matplotlib.rcParams['figure.figsize'] = [8, 6]"
   ]
  },
  {
   "cell_type": "code",
   "execution_count": 2,
   "metadata": {
    "ExecuteTime": {
     "end_time": "2021-06-22T13:18:47.100632Z",
     "start_time": "2021-06-22T13:18:43.525665Z"
    }
   },
   "outputs": [
    {
     "name": "stderr",
     "output_type": "stream",
     "text": [
      "/Users/mh28/miniconda3/envs/dsenv3/lib/python3.8/site-packages/tqdm/auto.py:22: TqdmWarning: IProgress not found. Please update jupyter and ipywidgets. See https://ipywidgets.readthedocs.io/en/stable/user_install.html\n",
      "  from .autonotebook import tqdm as notebook_tqdm\n",
      "/Users/mh28/miniconda3/envs/dsenv3/lib/python3.8/site-packages/MDAnalysis/coordinates/TRJ.py:1209: DeprecationWarning: Please use `netcdf_file` from the `scipy.io` namespace, the `scipy.io.netcdf` namespace is deprecated.\n",
      "  class NCDFPicklable(scipy.io.netcdf.netcdf_file):\n"
     ]
    }
   ],
   "source": [
    "from darwinian_shift import DarwinianShift\n",
    "from darwinian_shift import FoldXLookup, SequenceDistanceLookup, MutationExclusionLookup, StructureDistanceLookup\n",
    "from darwinian_shift import MutationExclusionLookup, ORLookup\n",
    "from darwinian_shift import hide_top_and_right_axes"
   ]
  },
  {
   "cell_type": "code",
   "execution_count": 3,
   "metadata": {
    "ExecuteTime": {
     "end_time": "2021-06-22T13:18:47.116540Z",
     "start_time": "2021-06-22T13:18:47.103295Z"
    }
   },
   "outputs": [],
   "source": [
    "from scipy.stats import linregress"
   ]
  },
  {
   "cell_type": "markdown",
   "metadata": {},
   "source": [
    "# Setup"
   ]
  },
  {
   "cell_type": "code",
   "execution_count": 4,
   "metadata": {
    "ExecuteTime": {
     "end_time": "2021-06-22T13:18:47.128051Z",
     "start_time": "2021-06-22T13:18:47.120332Z"
    }
   },
   "outputs": [],
   "source": [
    "# Define the region to test\n",
    "notch1_section_definition_egf11_12 = {\n",
    "    'transcript_id': 'ENST00000277541', 'pdb_id': '2vj3', 'pdb_chain': 'A', \n",
    "    'start': 412, 'end': 488, # Restrict to the residues in EGF11-12\n",
    "    'interface_residues': [413, 415, 418, 420, 421, 422, 423, 424, 425, \n",
    "                         435, 436, 444, 447, 448, 450, 451, 452, 454, \n",
    "                         466, 467, 468, 469, 470, 471, 475, 477, 478, \n",
    "                         479, 480],   # defined in Luca et al 2017\n",
    "    'ca_binding_residues': [412, 413, 415, 431, 432, 435, 452, 453, 455, 469, 470]  # Defined by MetalPDB\n",
    "}"
   ]
  },
  {
   "cell_type": "code",
   "execution_count": 5,
   "metadata": {
    "ExecuteTime": {
     "end_time": "2021-06-22T13:19:48.961888Z",
     "start_time": "2021-06-22T13:18:47.131892Z"
    }
   },
   "outputs": [],
   "source": [
    "d_skin = DarwinianShift(\n",
    "    data = pd.read_excel('248092_3_supp_6645104_q35h43.xlsx', sheet_name='Table S4', skiprows=4),\n",
    "    source_genome='GRCh37',\n",
    "    spectra='skin_trinuc_spectrum.txt',\n",
    "    included_mutation_types='missense'\n",
    ")"
   ]
  },
  {
   "cell_type": "code",
   "execution_count": 6,
   "metadata": {
    "ExecuteTime": {
     "end_time": "2021-06-22T13:20:06.243500Z",
     "start_time": "2021-06-22T13:19:48.965430Z"
    }
   },
   "outputs": [],
   "source": [
    "d_oe = DarwinianShift(\n",
    "    data=pd.read_excel('aau3879_TableS2.xlsx',\n",
    "                       sheet_name='Mutations_collapsed_by_distance', skiprows=17),\n",
    "    source_genome='GRCh37',\n",
    "    spectra='oesophagus_trinuc_spectrum.txt',\n",
    "    included_mutation_types='missense'\n",
    ")"
   ]
  },
  {
   "cell_type": "code",
   "execution_count": 7,
   "metadata": {},
   "outputs": [],
   "source": [
    "# Directories\n",
    "sifts_directory=\"SIFTS_files\"\n",
    "pdb_directory = \"PDB_files\"\n",
    "\n"
   ]
  },
  {
   "cell_type": "code",
   "execution_count": 8,
   "metadata": {},
   "outputs": [],
   "source": [
    "# Define the FoldX lookup\n",
    "fold = FoldXLookup(foldx_results_directory=\"FoldX_results\",\n",
    "                   sifts_directory=sifts_directory,\n",
    "                   foldx_file_name_start=\"PS_f*\", download_sifts=True)"
   ]
  },
  {
   "cell_type": "code",
   "execution_count": 9,
   "metadata": {},
   "outputs": [],
   "source": [
    "# Define a lookup object which determines whether mutations are on the NOTCH1-ligand interface. \n",
    "interface_lookup = SequenceDistanceLookup(\n",
    "    boolean=True,   # Just a boolean on/off interface. \n",
    "    target_key='interface_residues',   # Use this entry in the section_definition dict to define the target residues\n",
    "    position_type='residue',   # Use the residue number (as opposed to cdspos or chromosomal position)\n",
    "    name='On interface'  # Label to appear on plot axes\n",
    ")"
   ]
  },
  {
   "cell_type": "code",
   "execution_count": 10,
   "metadata": {},
   "outputs": [],
   "source": [
    "ca_lookup = SequenceDistanceLookup(\n",
    "    boolean=True,   # Just a boolean binding/not binding. \n",
    "    target_key='ca_binding_residues',   # Use this entry in the section_definition dict to define the target residues\n",
    "    position_type='residue',   # Use the residue number (as opposed to cdspos or chromosomal position)\n",
    "    name='Calcium binding'  # Label to appear on plot axes\n",
    ")"
   ]
  },
  {
   "cell_type": "code",
   "execution_count": 11,
   "metadata": {},
   "outputs": [],
   "source": [
    "destabilising_or_interface_or_calcium_lookup = ORLookup(\n",
    "    lookups=[fold, interface_lookup, ca_lookup],  # Use the FoldX, interface and calcium lookups.  \n",
    "    thresholds=[2, 0.5, 0.5],  # Again pick a threshold of 2kcal/mol for the FoldX result, interface and calcium results are either 0 or 1 so set threshold at 0.5. \n",
    "    directions=[1, 1, 1],  # Want to exclude mutations with scores greater than the thresholds, so directions are all 1.\n",
    ")"
   ]
  },
  {
   "cell_type": "markdown",
   "metadata": {},
   "source": [
    "# Mutation rate vs observed mutations"
   ]
  },
  {
   "cell_type": "markdown",
   "metadata": {},
   "source": [
    "## Skin"
   ]
  },
  {
   "cell_type": "code",
   "execution_count": 12,
   "metadata": {
    "ExecuteTime": {
     "end_time": "2021-06-22T13:24:16.172796Z",
     "start_time": "2021-06-22T13:24:14.109637Z"
    }
   },
   "outputs": [],
   "source": [
    "s = d_skin.run_section(notch1_section_definition_egf11_12, lookup=destabilising_or_interface_or_calcium_lookup)\n",
    "obs_counts = s.observed_mutations['ds_mut_id'].value_counts()\n",
    "all_potential_mutations = s.null_mutations.copy()\n",
    "all_potential_mutations['obs_count'] = all_potential_mutations.apply(\n",
    "    lambda x: obs_counts.get(x['ds_mut_id'], 0), axis=1)"
   ]
  },
  {
   "cell_type": "code",
   "execution_count": 13,
   "metadata": {},
   "outputs": [],
   "source": [
    "# Split mutations in any of the three categories from the rest\n",
    "# The lookup score will be 1 for any of the categories, and 0 otherwise. \n",
    "all_potential_mutations_categories = all_potential_mutations[all_potential_mutations['score'] == 1]\n",
    "all_potential_mutations_other = all_potential_mutations[all_potential_mutations['score'] == 0]"
   ]
  },
  {
   "cell_type": "code",
   "execution_count": 14,
   "metadata": {
    "ExecuteTime": {
     "end_time": "2021-06-22T13:24:16.749864Z",
     "start_time": "2021-06-22T13:24:16.174923Z"
    }
   },
   "outputs": [
    {
     "name": "stdout",
     "output_type": "stream",
     "text": [
      "r-squared= 0.3559040376372226 p-value= 2.862725603366477e-36\n"
     ]
    },
    {
     "data": {
      "image/png": "[encoded data removed]",
      "text/plain": [
       "<Figure size 288x288 with 1 Axes>"
      ]
     },
     "metadata": {
      "needs_background": "light"
     },
     "output_type": "display_data"
    }
   ],
   "source": [
    "plt.figure(figsize=(4, 4))\n",
    "x = all_potential_mutations_categories[d_skin.spectra[0].rate_column]\n",
    "y = all_potential_mutations_categories['obs_count']\n",
    "plt.scatter(x, y, c='k', s=5)\n",
    "slope, intercept, r_value, p_value, std_err = linregress(x,y)\n",
    "print('r-squared=', r_value**2, 'p-value=', p_value)\n",
    "plt.plot(np.unique(x), intercept + slope*np.unique(x), 'k--')\n",
    "plt.ylabel('Frequency of mutation')\n",
    "plt.xlabel('Expected mutation rate (AU)');\n",
    "plt.xlim(left=0)\n",
    "plt.ylim(bottom=0)\n",
    "hide_top_and_right_axes()\n",
    "plt.tight_layout()"
   ]
  },
  {
   "cell_type": "code",
   "execution_count": 15,
   "metadata": {},
   "outputs": [
    {
     "name": "stdout",
     "output_type": "stream",
     "text": [
      "r-squared= 0.13010241372246223 p-value= 4.6468875656715345e-06\n"
     ]
    },
    {
     "data": {
      "image/png": "[encoded data removed]",
      "text/plain": [
       "<Figure size 288x288 with 1 Axes>"
      ]
     },
     "metadata": {
      "needs_background": "light"
     },
     "output_type": "display_data"
    }
   ],
   "source": [
    "plt.figure(figsize=(4, 4))\n",
    "x = all_potential_mutations_other[d_skin.spectra[0].rate_column]\n",
    "y = all_potential_mutations_other['obs_count']\n",
    "plt.scatter(x, y, c='k', s=5)\n",
    "slope, intercept, r_value, p_value, std_err = linregress(x,y)\n",
    "print('r-squared=', r_value**2, 'p-value=', p_value)\n",
    "plt.plot(np.unique(x), intercept + slope*np.unique(x), 'k--')\n",
    "plt.ylabel('Frequency of mutation')\n",
    "plt.xlabel('Expected mutation rate (AU)');\n",
    "plt.xlim(left=0)\n",
    "plt.ylim(bottom=0)\n",
    "hide_top_and_right_axes()\n",
    "plt.tight_layout()"
   ]
  },
  {
   "cell_type": "markdown",
   "metadata": {},
   "source": [
    "## OE"
   ]
  },
  {
   "cell_type": "code",
   "execution_count": 16,
   "metadata": {
    "ExecuteTime": {
     "end_time": "2021-06-22T13:24:18.738026Z",
     "start_time": "2021-06-22T13:24:16.762847Z"
    }
   },
   "outputs": [],
   "source": [
    "s = d_oe.run_section(notch1_section_definition_egf11_12, lookup=destabilising_or_interface_or_calcium_lookup)\n",
    "obs_counts = s.observed_mutations['ds_mut_id'].value_counts()\n",
    "all_potential_mutations = s.null_mutations.copy()\n",
    "all_potential_mutations['obs_count'] = all_potential_mutations.apply(\n",
    "    lambda x: obs_counts.get(x['ds_mut_id'], 0), axis=1)"
   ]
  },
  {
   "cell_type": "code",
   "execution_count": 17,
   "metadata": {},
   "outputs": [],
   "source": [
    "# Split mutations in any of the three categories from the rest\n",
    "# The lookup score will be 1 for any of the categories, and 0 otherwise. \n",
    "all_potential_mutations_categories = all_potential_mutations[all_potential_mutations['score'] == 1]\n",
    "all_potential_mutations_other = all_potential_mutations[all_potential_mutations['score'] == 0]"
   ]
  },
  {
   "cell_type": "code",
   "execution_count": 18,
   "metadata": {},
   "outputs": [
    {
     "name": "stdout",
     "output_type": "stream",
     "text": [
      "r-squared= 0.23896793120680693 p-value= 3.829210384066054e-23\n"
     ]
    },
    {
     "data": {
      "image/png": "[encoded data removed]",
      "text/plain": [
       "<Figure size 288x288 with 1 Axes>"
      ]
     },
     "metadata": {
      "needs_background": "light"
     },
     "output_type": "display_data"
    }
   ],
   "source": [
    "plt.figure(figsize=(4, 4))\n",
    "x = all_potential_mutations_categories[d_oe.spectra[0].rate_column]\n",
    "y = all_potential_mutations_categories['obs_count']\n",
    "plt.scatter(x, y, c='k', s=5)\n",
    "slope, intercept, r_value, p_value, std_err = linregress(x,y)\n",
    "print('r-squared=', r_value**2, 'p-value=', p_value)\n",
    "plt.plot(np.unique(x), intercept + slope*np.unique(x), 'k--')\n",
    "plt.ylabel('Frequency of mutation')\n",
    "plt.xlabel('Expected mutation rate (AU)');\n",
    "plt.xlim(left=0)\n",
    "plt.ylim(bottom=0)\n",
    "hide_top_and_right_axes()\n",
    "plt.tight_layout()"
   ]
  },
  {
   "cell_type": "code",
   "execution_count": 19,
   "metadata": {
    "ExecuteTime": {
     "end_time": "2021-06-22T13:24:19.256573Z",
     "start_time": "2021-06-22T13:24:18.740743Z"
    }
   },
   "outputs": [
    {
     "name": "stdout",
     "output_type": "stream",
     "text": [
      "r-squared= 0.04686181051406044 p-value= 0.007195765020770231\n"
     ]
    },
    {
     "data": {
      "image/png": "[encoded data removed]",
      "text/plain": [
       "<Figure size 288x288 with 1 Axes>"
      ]
     },
     "metadata": {
      "needs_background": "light"
     },
     "output_type": "display_data"
    }
   ],
   "source": [
    "plt.figure(figsize=(4, 4))\n",
    "x = all_potential_mutations_other[d_oe.spectra[0].rate_column]\n",
    "y = all_potential_mutations_other['obs_count']\n",
    "plt.scatter(x, y, c='k', s=5)\n",
    "slope, intercept, r_value, p_value, std_err = linregress(x,y)\n",
    "print('r-squared=', r_value**2, 'p-value=', p_value)\n",
    "plt.plot(np.unique(x), intercept + slope*np.unique(x), 'k--')\n",
    "plt.ylabel('Frequency of mutation')\n",
    "plt.xlabel('Expected mutation rate (AU)');\n",
    "plt.xlim(left=0)\n",
    "plt.ylim(bottom=0)\n",
    "hide_top_and_right_axes()\n",
    "plt.tight_layout()"
   ]
  }
 ],
 "metadata": {
  "kernelspec": {
   "display_name": "Python 3 (ipykernel)",
   "language": "python",
   "name": "python3"
  },
  "language_info": {
   "codemirror_mode": {
    "name": "ipython",
    "version": 3
   },
   "file_extension": ".py",
   "mimetype": "text/x-python",
   "name": "python",
   "nbconvert_exporter": "python",
   "pygments_lexer": "ipython3",
   "version": "3.8.13"
  }
 },
 "nbformat": 4,
 "nbformat_minor": 4
}
