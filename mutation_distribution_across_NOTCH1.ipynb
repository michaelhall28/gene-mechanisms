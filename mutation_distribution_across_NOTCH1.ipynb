{
 "cells": [
  {
   "cell_type": "markdown",
   "metadata": {},
   "source": [
    "# Setup"
   ]
  },
  {
   "cell_type": "code",
   "execution_count": 1,
   "metadata": {
    "ExecuteTime": {
     "end_time": "2022-06-23T09:00:39.126444Z",
     "start_time": "2022-06-23T09:00:37.611604Z"
    }
   },
   "outputs": [],
   "source": [
    "import numpy as np\n",
    "import pandas as pd\n",
    "import matplotlib.pyplot as plt\n",
    "%matplotlib inline"
   ]
  },
  {
   "cell_type": "code",
   "execution_count": 2,
   "metadata": {
    "ExecuteTime": {
     "end_time": "2022-06-23T09:00:41.623659Z",
     "start_time": "2022-06-23T09:00:39.130503Z"
    },
    "scrolled": true
   },
   "outputs": [
    {
     "name": "stderr",
     "output_type": "stream",
     "text": [
      "/Users/mh28/miniconda3/envs/dsenv3/lib/python3.8/site-packages/tqdm/auto.py:22: TqdmWarning: IProgress not found. Please update jupyter and ipywidgets. See https://ipywidgets.readthedocs.io/en/stable/user_install.html\n",
      "  from .autonotebook import tqdm as notebook_tqdm\n",
      "/Users/mh28/miniconda3/envs/dsenv3/lib/python3.8/site-packages/MDAnalysis/coordinates/TRJ.py:1209: DeprecationWarning: Please use `netcdf_file` from the `scipy.io` namespace, the `scipy.io.netcdf` namespace is deprecated.\n",
      "  class NCDFPicklable(scipy.io.netcdf.netcdf_file):\n"
     ]
    }
   ],
   "source": [
    "from darwinian_shift import DarwinianShift, BinomTest\n",
    "from darwinian_shift import UniprotLookup, get_bins_for_uniprot_features, plot_domain_structure\n",
    "from darwinian_shift import hide_top_and_right_axes"
   ]
  },
  {
   "cell_type": "code",
   "execution_count": 3,
   "metadata": {
    "ExecuteTime": {
     "end_time": "2022-06-23T09:01:06.932879Z",
     "start_time": "2022-06-23T09:00:41.627058Z"
    }
   },
   "outputs": [],
   "source": [
    "d_skin = DarwinianShift(\n",
    "    data = pd.read_excel('248092_3_supp_6645104_q35h43.xlsx', sheet_name='Table S4', skiprows=4),\n",
    "    source_genome='GRCh37',\n",
    "    spectra='skin_trinuc_spectrum.txt',\n",
    "    statistics=BinomTest()\n",
    ")"
   ]
  },
  {
   "cell_type": "code",
   "execution_count": 4,
   "metadata": {
    "ExecuteTime": {
     "end_time": "2022-06-23T09:01:12.491703Z",
     "start_time": "2022-06-23T09:01:06.937326Z"
    }
   },
   "outputs": [],
   "source": [
    "d_oe = DarwinianShift(\n",
    "    data=pd.read_excel('aau3879_TableS2.xlsx',\n",
    "                       sheet_name='Mutations_collapsed_by_distance', skiprows=17),\n",
    "    source_genome='GRCh37',\n",
    "    spectra='oesophagus_trinuc_spectrum.txt',\n",
    "    statistics=BinomTest()\n",
    ")"
   ]
  },
  {
   "cell_type": "markdown",
   "metadata": {},
   "source": [
    "# Missense mutations per domain"
   ]
  },
  {
   "cell_type": "code",
   "execution_count": 5,
   "metadata": {
    "ExecuteTime": {
     "end_time": "2022-06-23T09:01:12.505348Z",
     "start_time": "2022-06-23T09:01:12.496071Z"
    }
   },
   "outputs": [],
   "source": [
    "# Colours \n",
    "egf_colour = '#88CCEE'\n",
    "egf_11_12_colour = '#0077BB'\n",
    "LNR_colour = '#EE7733'\n",
    "ANK_colour = '#009988'\n",
    "transmembrane_colour = '#CC3311'\n",
    "non_domain_colour = '#888888' "
   ]
  },
  {
   "cell_type": "code",
   "execution_count": 6,
   "metadata": {
    "ExecuteTime": {
     "end_time": "2022-06-23T09:01:13.377610Z",
     "start_time": "2022-06-23T09:01:12.508219Z"
    }
   },
   "outputs": [],
   "source": [
    "# Use UniProt data to define domain boundaries\n",
    "u = UniprotLookup(\n",
    "    transcript_uniprot_mapping={'ENST00000277541': 'P46531'}  # Must manually define the correct mapping for NOTCH1\n",
    ")\n",
    "NOTCH1_uniprot = u.get_uniprot_data('ENST00000277541')"
   ]
  },
  {
   "cell_type": "code",
   "execution_count": 7,
   "metadata": {
    "ExecuteTime": {
     "end_time": "2022-06-23T09:01:15.387028Z",
     "start_time": "2022-06-23T09:01:13.381271Z"
    }
   },
   "outputs": [],
   "source": [
    "notch1_skin = d_skin.make_section(gene='NOTCH1', included_mutation_types='missense')"
   ]
  },
  {
   "cell_type": "code",
   "execution_count": 8,
   "metadata": {
    "ExecuteTime": {
     "end_time": "2022-06-23T09:01:15.407207Z",
     "start_time": "2022-06-23T09:01:15.390525Z"
    }
   },
   "outputs": [],
   "source": [
    "last_residue = notch1_skin.null_mutations['residue'].max()\n",
    "\n",
    "# Get the boundaries of \"domains\", \"repeats\" and the transmembrane region from the UniProt data\n",
    "bins, types, descriptions = get_bins_for_uniprot_features(NOTCH1_uniprot, min_gap=1, last_residue=last_residue, \n",
    "                                                         feature_types=['domain', 'transmembrane region', 'repeat'])\n",
    "\n",
    "# Assign colours to each domain\n",
    "colours = []\n",
    "for t, desc in zip(types, descriptions):\n",
    "    if desc in ['EGF-like 11; calcium-binding', 'EGF-like 12; calcium-binding']:\n",
    "        colours.append(egf_11_12_colour)\n",
    "    elif t == 'domain':\n",
    "        colours.append(egf_colour)\n",
    "    elif t == 'repeat':\n",
    "        if 'LNR' in desc:\n",
    "            colours.append(LNR_colour)\n",
    "        elif 'ANK' in desc:\n",
    "            colours.append(ANK_colour)\n",
    "    elif t == 'transmembrane region':\n",
    "        colours.append(transmembrane_colour)\n",
    "    elif t is None and desc is None:\n",
    "        colours.append(non_domain_colour)\n",
    "\n",
    "colours_domain_plot = [None if c == non_domain_colour else c for c in colours]"
   ]
  },
  {
   "cell_type": "code",
   "execution_count": 9,
   "metadata": {
    "ExecuteTime": {
     "end_time": "2022-06-23T09:01:16.027360Z",
     "start_time": "2022-06-23T09:01:15.409643Z"
    }
   },
   "outputs": [
    {
     "data": {
      "image/png": "[encoded data removed]",
      "text/plain": [
       "<Figure size 720x252 with 2 Axes>"
      ]
     },
     "metadata": {
      "needs_background": "light"
     },
     "output_type": "display_data"
    }
   ],
   "source": [
    "# Plot for skin\n",
    "\n",
    "fig, (ax1, ax_dom) = plt.subplots(2, 1, figsize=(10, 3.5), sharex=True, \n",
    "                                       gridspec_kw={'height_ratios': (3, 0.5), 'hspace': 0.05})\n",
    "linewidth = 1.3\n",
    "notch1_skin.plot_bar_observations(binning_regions=bins, \n",
    "             normalise_by_region_size=True, facecolour=colours, linewidth=linewidth, ax=ax1)\n",
    "ax1.set_xlim([0, last_residue+10])\n",
    "hide_top_and_right_axes(ax1)\n",
    "ax1.set_xticks([])\n",
    "ax1.set_xlabel('')\n",
    "ax1.set_ylabel('Mutations per codon', fontsize=13)\n",
    "\n",
    "plot_domain_structure(bins, colours_domain_plot, height=1, ax=ax_dom)"
   ]
  },
  {
   "cell_type": "code",
   "execution_count": 10,
   "metadata": {
    "ExecuteTime": {
     "end_time": "2022-06-23T09:01:18.358089Z",
     "start_time": "2022-06-23T09:01:16.033599Z"
    }
   },
   "outputs": [
    {
     "data": {
      "image/png": "[encoded data removed]",
      "text/plain": [
       "<Figure size 720x252 with 2 Axes>"
      ]
     },
     "metadata": {
      "needs_background": "light"
     },
     "output_type": "display_data"
    }
   ],
   "source": [
    "# plot for oesophagus\n",
    "\n",
    "notch1_oe = d_oe.make_section(gene='NOTCH1', included_mutation_types='missense')\n",
    "\n",
    "fig, (ax1, ax_dom) = plt.subplots(2, 1, figsize=(10, 3.5), sharex=True, \n",
    "                                       gridspec_kw={'height_ratios': (3, 0.5), 'hspace': 0.05})\n",
    "linewidth = 1.3\n",
    "notch1_oe.plot_bar_observations(binning_regions=bins, \n",
    "             normalise_by_region_size=True, facecolour=colours, linewidth=linewidth, ax=ax1)\n",
    "ax1.set_xlim([0, last_residue+10])\n",
    "hide_top_and_right_axes(ax1)\n",
    "ax1.set_xticks([])\n",
    "ax1.set_xlabel('')\n",
    "ax1.set_ylabel('Mutations per codon', fontsize=13)\n",
    "\n",
    "plot_domain_structure(bins, colours_domain_plot, height=1, ax=ax_dom)"
   ]
  },
  {
   "cell_type": "markdown",
   "metadata": {},
   "source": [
    "# Missense mutations sliding window"
   ]
  },
  {
   "cell_type": "code",
   "execution_count": 11,
   "metadata": {
    "ExecuteTime": {
     "end_time": "2022-06-23T09:01:18.367418Z",
     "start_time": "2022-06-23T09:01:18.361578Z"
    }
   },
   "outputs": [],
   "source": [
    "# Colours\n",
    "unobserved_colour = '#636363'\n",
    "observed_colour = '#EE7733'"
   ]
  },
  {
   "cell_type": "code",
   "execution_count": 12,
   "metadata": {
    "ExecuteTime": {
     "end_time": "2022-06-23T09:01:18.379541Z",
     "start_time": "2022-06-23T09:01:18.372123Z"
    }
   },
   "outputs": [],
   "source": [
    "notch1_section = {'transcript_id': 'ENST00000277541', 'included_mutation_types': 'missense'}"
   ]
  },
  {
   "cell_type": "markdown",
   "metadata": {},
   "source": [
    "## SMS"
   ]
  },
  {
   "cell_type": "code",
   "execution_count": 13,
   "metadata": {
    "ExecuteTime": {
     "end_time": "2022-06-23T09:01:20.331441Z",
     "start_time": "2022-06-23T09:01:18.382633Z"
    }
   },
   "outputs": [],
   "source": [
    "s = d_skin.make_section(notch1_section)"
   ]
  },
  {
   "cell_type": "code",
   "execution_count": 14,
   "metadata": {
    "ExecuteTime": {
     "end_time": "2022-06-23T09:01:21.549392Z",
     "start_time": "2022-06-23T09:01:20.335467Z"
    }
   },
   "outputs": [
    {
     "data": {
      "image/png": "[encoded data removed]",
      "text/plain": [
       "<Figure size 576x288 with 1 Axes>"
      ]
     },
     "metadata": {
      "needs_background": "light"
     },
     "output_type": "display_data"
    }
   ],
   "source": [
    "s.plot_sliding_window(show_legend=False, colours=[observed_colour, unobserved_colour], \n",
    "                                   figsize=(8, 4), window_size=30, window_step=3)\n",
    "hide_top_and_right_axes()"
   ]
  },
  {
   "cell_type": "markdown",
   "metadata": {},
   "source": [
    "## OE"
   ]
  },
  {
   "cell_type": "code",
   "execution_count": 15,
   "metadata": {
    "ExecuteTime": {
     "end_time": "2022-06-23T09:01:23.276100Z",
     "start_time": "2022-06-23T09:01:21.554306Z"
    }
   },
   "outputs": [],
   "source": [
    "s = d_oe.make_section(notch1_section)"
   ]
  },
  {
   "cell_type": "code",
   "execution_count": 16,
   "metadata": {
    "ExecuteTime": {
     "end_time": "2022-06-23T09:01:24.408755Z",
     "start_time": "2022-06-23T09:01:23.278253Z"
    }
   },
   "outputs": [
    {
     "data": {
      "image/png": "[encoded data removed]",
      "text/plain": [
       "<Figure size 576x288 with 1 Axes>"
      ]
     },
     "metadata": {
      "needs_background": "light"
     },
     "output_type": "display_data"
    }
   ],
   "source": [
    "s.plot_sliding_window(show_legend=False, colours=[observed_colour, unobserved_colour], \n",
    "                                   figsize=(8, 4), window_size=30, window_step=3)\n",
    "hide_top_and_right_axes()"
   ]
  },
  {
   "cell_type": "markdown",
   "metadata": {},
   "source": [
    "# Testing synonymous mutation enrichment in EGF11-12"
   ]
  },
  {
   "cell_type": "code",
   "execution_count": 17,
   "metadata": {
    "ExecuteTime": {
     "end_time": "2022-06-23T09:01:24.423405Z",
     "start_time": "2022-06-23T09:01:24.415185Z"
    }
   },
   "outputs": [],
   "source": [
    "from darwinian_shift import SequenceDistanceLookup"
   ]
  },
  {
   "cell_type": "code",
   "execution_count": 18,
   "metadata": {
    "ExecuteTime": {
     "end_time": "2022-06-23T09:01:24.436281Z",
     "start_time": "2022-06-23T09:01:24.428126Z"
    }
   },
   "outputs": [],
   "source": [
    "section_definition_egf11_12 = {\n",
    "    'transcript_id': 'ENST00000277541', \n",
    "    'included_mutation_types': 'synonymous',\n",
    "    'target_selection': np.arange(412, 488)\n",
    "}"
   ]
  },
  {
   "cell_type": "code",
   "execution_count": 19,
   "metadata": {
    "ExecuteTime": {
     "end_time": "2022-06-23T09:01:24.458803Z",
     "start_time": "2022-06-23T09:01:24.445031Z"
    }
   },
   "outputs": [],
   "source": [
    "S = SequenceDistanceLookup(boolean=True)"
   ]
  },
  {
   "cell_type": "markdown",
   "metadata": {},
   "source": [
    "## SMS"
   ]
  },
  {
   "cell_type": "code",
   "execution_count": 20,
   "metadata": {
    "ExecuteTime": {
     "end_time": "2022-06-23T09:01:27.247337Z",
     "start_time": "2022-06-23T09:01:24.465447Z"
    }
   },
   "outputs": [],
   "source": [
    "s = d_skin.run_section(section_definition_egf11_12, lookup=S)"
   ]
  },
  {
   "cell_type": "code",
   "execution_count": 21,
   "metadata": {
    "ExecuteTime": {
     "end_time": "2022-06-23T09:01:28.500249Z",
     "start_time": "2022-06-23T09:01:27.250019Z"
    }
   },
   "outputs": [
    {
     "data": {
      "image/png": "[encoded data removed]",
      "text/plain": [
       "<Figure size 288x288 with 1 Axes>"
      ]
     },
     "metadata": {
      "needs_background": "light"
     },
     "output_type": "display_data"
    }
   ],
   "source": [
    "s.plot_binned_counts(figsize=(4, 4), colours=[observed_colour, unobserved_colour], \n",
    "                                          show_legend=False, bins=[-1, 0.5, 2])\n",
    "hide_top_and_right_axes()\n",
    "plt.title('')\n",
    "plt.xticks(plt.gca().get_xticks(), ['False', 'True'])\n",
    "plt.xlabel('In EGF11-12')\n",
    "plt.subplots_adjust(left=0.3, bottom=0.3, right=1, top=1)"
   ]
  },
  {
   "cell_type": "code",
   "execution_count": 22,
   "metadata": {
    "ExecuteTime": {
     "end_time": "2022-06-23T09:01:28.515526Z",
     "start_time": "2022-06-23T09:01:28.504646Z"
    }
   },
   "outputs": [
    {
     "data": {
      "text/plain": [
       "{'gene': 'NOTCH1',\n",
       " 'transcript_id': 'ENST00000277541',\n",
       " 'chrom': '9',\n",
       " 'section_id': 'ENST00000277541',\n",
       " 'num_mutations': 404,\n",
       " 'observed_median': 0.0,\n",
       " 'observed_mean': 0.09158415841584158,\n",
       " 'expected_median_glob_k3': 0.0,\n",
       " 'median_shift_glob_k3': 0.0,\n",
       " 'expected_mean_glob_k3': 0.030648704942022747,\n",
       " 'mean_shift_glob_k3': 0.06093545347381883,\n",
       " 'binom_glob_k3_pvalue': 5.632274781926942e-09,\n",
       " 'binom_glob_k3_expected_proportion': 0.030648704942022747,\n",
       " 'binom_glob_k3_observed_proportion': 0.09158415841584158,\n",
       " 'binom_glob_k3_expected_count': 12.38207679657719,\n",
       " 'binom_glob_k3_observed_count': 37,\n",
       " 'binom_glob_k3_threshold': 0.5,\n",
       " 'binom_glob_k3_expected_CI_high': 19.0,\n",
       " 'binom_glob_k3_expected_CI_low': 6.0,\n",
       " 'binom_glob_k3_observed_CI_low': 26.0,\n",
       " 'binom_glob_k3_observed_CI_high': 49.0}"
      ]
     },
     "execution_count": 22,
     "metadata": {},
     "output_type": "execute_result"
    }
   ],
   "source": [
    "s.get_results_dictionary()"
   ]
  },
  {
   "cell_type": "markdown",
   "metadata": {},
   "source": [
    "## OE"
   ]
  },
  {
   "cell_type": "code",
   "execution_count": 23,
   "metadata": {
    "ExecuteTime": {
     "end_time": "2022-06-23T09:01:30.928721Z",
     "start_time": "2022-06-23T09:01:28.519332Z"
    }
   },
   "outputs": [],
   "source": [
    "s = d_oe.run_section(section_definition_egf11_12, lookup=S)"
   ]
  },
  {
   "cell_type": "code",
   "execution_count": 24,
   "metadata": {
    "ExecuteTime": {
     "end_time": "2022-06-23T09:01:31.868996Z",
     "start_time": "2022-06-23T09:01:30.931362Z"
    }
   },
   "outputs": [
    {
     "data": {
      "image/png": "[encoded data removed]",
      "text/plain": [
       "<Figure size 288x288 with 1 Axes>"
      ]
     },
     "metadata": {
      "needs_background": "light"
     },
     "output_type": "display_data"
    }
   ],
   "source": [
    "s.plot_binned_counts(figsize=(4, 4), colours=[observed_colour, unobserved_colour], \n",
    "                                          show_legend=False, bins=[-1, 0.5, 2])\n",
    "hide_top_and_right_axes()\n",
    "plt.title('')\n",
    "plt.xticks(plt.gca().get_xticks(), ['False', 'True'])\n",
    "plt.xlabel('In EGF11-12')\n",
    "plt.subplots_adjust(left=0.3, bottom=0.3, right=1, top=1)"
   ]
  },
  {
   "cell_type": "code",
   "execution_count": 25,
   "metadata": {
    "ExecuteTime": {
     "end_time": "2022-06-23T09:01:31.884003Z",
     "start_time": "2022-06-23T09:01:31.873259Z"
    }
   },
   "outputs": [
    {
     "data": {
      "text/plain": [
       "{'gene': 'NOTCH1',\n",
       " 'transcript_id': 'ENST00000277541',\n",
       " 'chrom': '9',\n",
       " 'section_id': 'ENST00000277541',\n",
       " 'num_mutations': 31,\n",
       " 'observed_median': 0.0,\n",
       " 'observed_mean': 0.1935483870967742,\n",
       " 'expected_median_glob_k3': 0.0,\n",
       " 'median_shift_glob_k3': 0.0,\n",
       " 'expected_mean_glob_k3': 0.032985125061272436,\n",
       " 'mean_shift_glob_k3': 0.16056326203550175,\n",
       " 'binom_glob_k3_pvalue': 0.00046553680030253074,\n",
       " 'binom_glob_k3_expected_proportion': 0.03298512506127243,\n",
       " 'binom_glob_k3_observed_proportion': 0.1935483870967742,\n",
       " 'binom_glob_k3_expected_count': 1.0225388768994452,\n",
       " 'binom_glob_k3_observed_count': 6,\n",
       " 'binom_glob_k3_threshold': 0.5,\n",
       " 'binom_glob_k3_expected_CI_high': 3.0,\n",
       " 'binom_glob_k3_expected_CI_low': 0.0,\n",
       " 'binom_glob_k3_observed_CI_low': 2.0,\n",
       " 'binom_glob_k3_observed_CI_high': 10.0}"
      ]
     },
     "execution_count": 25,
     "metadata": {},
     "output_type": "execute_result"
    }
   ],
   "source": [
    "s.get_results_dictionary()"
   ]
  },
  {
   "cell_type": "code",
   "execution_count": null,
   "metadata": {},
   "outputs": [],
   "source": []
  }
 ],
 "metadata": {
  "kernelspec": {
   "display_name": "Python 3 (ipykernel)",
   "language": "python",
   "name": "python3"
  },
  "language_info": {
   "codemirror_mode": {
    "name": "ipython",
    "version": 3
   },
   "file_extension": ".py",
   "mimetype": "text/x-python",
   "name": "python",
   "nbconvert_exporter": "python",
   "pygments_lexer": "ipython3",
   "version": "3.8.13"
  }
 },
 "nbformat": 4,
 "nbformat_minor": 2
}
