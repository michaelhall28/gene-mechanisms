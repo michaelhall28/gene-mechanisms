{
 "cells": [
  {
   "cell_type": "code",
   "execution_count": 1,
   "metadata": {
    "ExecuteTime": {
     "end_time": "2022-08-14T17:19:52.604070Z",
     "start_time": "2022-08-14T17:19:51.069130Z"
    }
   },
   "outputs": [],
   "source": [
    "import numpy as np\n",
    "import pandas as pd\n",
    "import matplotlib.pyplot as plt\n",
    "%matplotlib inline\n",
    "import matplotlib\n",
    "matplotlib.rcParams['figure.figsize'] = [8, 6]"
   ]
  },
  {
   "cell_type": "code",
   "execution_count": 2,
   "metadata": {
    "ExecuteTime": {
     "end_time": "2022-08-14T17:19:55.014141Z",
     "start_time": "2022-08-14T17:19:52.607848Z"
    }
   },
   "outputs": [
    {
     "name": "stderr",
     "output_type": "stream",
     "text": [
      "/Users/mh28/miniconda3/envs/dsenv3/lib/python3.8/site-packages/tqdm/auto.py:22: TqdmWarning: IProgress not found. Please update jupyter and ipywidgets. See https://ipywidgets.readthedocs.io/en/stable/user_install.html\n",
      "  from .autonotebook import tqdm as notebook_tqdm\n",
      "/Users/mh28/miniconda3/envs/dsenv3/lib/python3.8/site-packages/MDAnalysis/coordinates/TRJ.py:1209: DeprecationWarning: Please use `netcdf_file` from the `scipy.io` namespace, the `scipy.io.netcdf` namespace is deprecated.\n",
      "  class NCDFPicklable(scipy.io.netcdf.netcdf_file):\n"
     ]
    }
   ],
   "source": [
    "from darwinian_shift import DarwinianShift\n",
    "from darwinian_shift import CDFMonteCarloTest\n",
    "from darwinian_shift.lookup_classes.foldx_lookup import FoldXLookupError\n",
    "from darwinian_shift import hide_top_and_right_axes"
   ]
  },
  {
   "cell_type": "code",
   "execution_count": 3,
   "metadata": {
    "ExecuteTime": {
     "end_time": "2022-08-14T17:19:55.025791Z",
     "start_time": "2022-08-14T17:19:55.017091Z"
    }
   },
   "outputs": [],
   "source": [
    "from scipy.stats import pearsonr"
   ]
  },
  {
   "cell_type": "code",
   "execution_count": 4,
   "metadata": {
    "ExecuteTime": {
     "end_time": "2022-08-14T17:19:55.036006Z",
     "start_time": "2022-08-14T17:19:55.031845Z"
    }
   },
   "outputs": [],
   "source": [
    "import seaborn as sns"
   ]
  },
  {
   "cell_type": "code",
   "execution_count": 5,
   "metadata": {
    "ExecuteTime": {
     "end_time": "2022-08-14T17:20:02.603435Z",
     "start_time": "2022-08-14T17:19:55.041669Z"
    }
   },
   "outputs": [],
   "source": [
    "# This file can be downloaded from Colom et al 2020 https://www.nature.com/articles/s41588-020-0624-3\n",
    "muts = pd.read_excel(\"41588_2020_624_MOESM3_ESM.xlsx\", \n",
    "                    sheet_name='Supplementary Table 2', skiprows=23)"
   ]
  },
  {
   "cell_type": "code",
   "execution_count": 6,
   "metadata": {
    "ExecuteTime": {
     "end_time": "2022-08-14T17:20:02.625657Z",
     "start_time": "2022-08-14T17:20:02.612133Z"
    }
   },
   "outputs": [],
   "source": [
    "# Select the mutagen treated mice\n",
    "muts_DEN = muts[muts['mouse'].isin(['MD5695', 'MD5694', 'MD5693'])]"
   ]
  },
  {
   "cell_type": "code",
   "execution_count": 7,
   "metadata": {
    "ExecuteTime": {
     "end_time": "2022-08-14T17:20:02.650649Z",
     "start_time": "2022-08-14T17:20:02.628170Z"
    }
   },
   "outputs": [],
   "source": [
    "import os\n",
    "\n",
    "\n",
    "class FoldXLookup2:\n",
    "    \"\"\"\n",
    "    Class to read the FoldX results from CSV files.  \n",
    "    There must be one CSV per protein.  \n",
    "    The CSV file must contain the following columns\n",
    "     - 'mut_from' and 'mut_to' containing the three-letter amino acid codes\n",
    "     - 'gene_no' containing the residue number\n",
    "     - 'ddg' containing the ∆∆G result for that amino acid change. \n",
    "    Each file can contain results from multiple structures, if there is more than one structure covering \n",
    "    the same residue, the average ∆∆G for that mutation will be returned. \n",
    "    \"\"\"\n",
    "    \n",
    "    # Map of 3-letter codes to 1-letter code from http://foldxsuite.crg.eu/allowed-residues\n",
    "    AA_map = {'GLY': 'G', 'ALA': 'A', 'LEU': 'L', 'VAL': 'V', 'ILE': 'I', 'PRO': 'P', 'ARG': 'R',\n",
    "              'THR': 'T', 'SER': 'S', 'CYS': 'C', 'MET': 'M', 'LYS': 'K', 'GLU': 'E', 'GLN': 'Q',\n",
    "              'ASP': 'D', 'ASN': 'N', 'TRP': 'W', 'TYR': 'Y', 'PHE': 'F', 'HIS': 'H',\n",
    "              'PTR': 'T',  # phoshoporylated threonine\n",
    "              'TPO': 'Y',  # phosphorylated tyrosine\n",
    "              'SEP': 'S',  # phosphorylated serine\n",
    "              'HYP': 'P',  # hydroxiproline\n",
    "              'TYS': 'Y',  # sulfotyrosine\n",
    "              'MLZ': 'K',  # monomethylated lysine\n",
    "              'MLY': 'K',  # dimethylated lysine\n",
    "              'M3L': 'K',  # trimethylated lysine\n",
    "              'H1S': 'H',  # charged ND1 histidine\n",
    "              'H2S': 'H',  # charged NE2 histidine\n",
    "              'H3S': 'H'  # neutral histidine\n",
    "             }\n",
    "    \n",
    "    def __init__(self, foldx_results_dir):\n",
    "        self.foldx_results_dir = foldx_results_dir\n",
    "        \n",
    "    def __call__(self, seq_object):\n",
    "        return self._get_scores(seq_object)\n",
    "        \n",
    "    def get_foldx_results(self, seq_object):\n",
    "        try: \n",
    "            foldx_results = pd.read_csv(os.path.join(self.foldx_results_dir, f\"mouse_{seq_object.gene}.csv\"))\n",
    "        except FileNotFoundError as e:\n",
    "            raise FoldXLookupError('FoldX: Found no results for {}'.format(self.foldx_results_dir))\n",
    "        # convert to format that can be merged\n",
    "        foldx_results['aamut'] = foldx_results['mut_to'].apply(lambda x: self.AA_map[x])\n",
    "        foldx_results['aaref'] = foldx_results['mut_from'].apply(lambda x: self.AA_map[x])\n",
    "        # Keep the reference amino acid to ensure that any reference mismatches are not merged\n",
    "        foldx_results = foldx_results.groupby(['gene_no', 'aaref', 'aamut']).agg('mean').reset_index()\n",
    "        return foldx_results\n",
    "    \n",
    "    def _get_scores(self, seq_object):\n",
    "        foldx_results = self.get_foldx_results(seq_object)\n",
    "        merge_df = pd.merge(seq_object.null_mutations, foldx_results, left_on=['residue', 'aaref', 'aamut'], \n",
    "                    right_on=['gene_no', 'aaref', 'aamut'], how='left')\n",
    "        scores = merge_df['ddg'].values\n",
    "        return scores\n",
    "    \n",
    "    "
   ]
  },
  {
   "cell_type": "code",
   "execution_count": 8,
   "metadata": {
    "ExecuteTime": {
     "end_time": "2022-08-14T17:20:02.656857Z",
     "start_time": "2022-08-14T17:20:02.653387Z"
    }
   },
   "outputs": [],
   "source": [
    "# Set the path to the directory containing all of the mouse structure ∆∆G results\n",
    "f = FoldXLookup2(\"./MouseResults/\")"
   ]
  },
  {
   "cell_type": "markdown",
   "metadata": {},
   "source": [
    "# Correlation results"
   ]
  },
  {
   "cell_type": "code",
   "execution_count": 9,
   "metadata": {
    "ExecuteTime": {
     "end_time": "2022-08-14T17:20:04.414580Z",
     "start_time": "2022-08-14T17:20:02.660492Z"
    }
   },
   "outputs": [],
   "source": [
    "# This is a different sheet from the same file containing the mutations. \n",
    "dnds = pd.read_excel(\"41588_2020_624_MOESM3_ESM.xlsx\", \n",
    "                    sheet_name='Supplementary Table 3', skiprows=27)[:190]"
   ]
  },
  {
   "cell_type": "code",
   "execution_count": 10,
   "metadata": {
    "ExecuteTime": {
     "end_time": "2022-08-14T17:21:03.075678Z",
     "start_time": "2022-08-14T17:20:04.419258Z"
    }
   },
   "outputs": [],
   "source": [
    "# Run quickly to get a gene list\n",
    "d = DarwinianShift(muts_DEN, source_genome='mus_musculus', \n",
    "                  lookup=f)\n",
    "# save the spectrum\n",
    "d.spectra[0].write_to_file(\"mouse_DEN_glob_k3.txt\")"
   ]
  },
  {
   "cell_type": "code",
   "execution_count": 11,
   "metadata": {
    "ExecuteTime": {
     "end_time": "2022-08-14T17:21:03.085403Z",
     "start_time": "2022-08-14T17:21:03.078348Z"
    }
   },
   "outputs": [],
   "source": [
    "# Only look at the genes in both the Ensembl transcripts and the dN/dS results\n",
    "genes =set(d.get_gene_list()).intersection(dnds['gene_name'])"
   ]
  },
  {
   "cell_type": "code",
   "execution_count": 12,
   "metadata": {
    "ExecuteTime": {
     "end_time": "2022-08-14T17:21:04.380003Z",
     "start_time": "2022-08-14T17:21:03.088924Z"
    }
   },
   "outputs": [],
   "source": [
    "d = DarwinianShift(muts_DEN, source_genome='mus_musculus', \n",
    "                   spectra=\"mouse_DEN_glob_k3.txt\", \n",
    "                  lookup=f, gene_list=genes, statistics=CDFMonteCarloTest(num_draws=100000))"
   ]
  },
  {
   "cell_type": "code",
   "execution_count": 13,
   "metadata": {
    "ExecuteTime": {
     "end_time": "2022-08-14T17:25:47.741700Z",
     "start_time": "2022-08-14T17:21:04.382359Z"
    },
    "scrolled": true
   },
   "outputs": [
    {
     "name": "stdout",
     "output_type": "stream",
     "text": [
      "Running ENSMUST00000140079 St18\n",
      "Running ENSMUST00000166384 Sgk3\n",
      "Running ENSMUST00000027056 Prex2\n",
      "Running ENSMUST00000088448 Pkhd1\n",
      "FoldXLookupError FoldX: Found no results for /Users/mh28/Documents/Darwinian_shift_paper/2021/MouseResults/ - Unable to run for ENSMUST00000088448\n",
      "Running ENSMUST00000183034 Dst\n"
     ]
    },
    {
     "name": "stderr",
     "output_type": "stream",
     "text": [
      "/var/folders/fz/0b7ldhcd0rb8rnh3wct1_92c000gly/T/ipykernel_40291/4174190489.py:42: DtypeWarning: Columns (10) have mixed types.Specify dtype option on import or set low_memory=False.\n",
      "  foldx_results = self.get_foldx_results(seq_object)\n"
     ]
    },
    {
     "name": "stdout",
     "output_type": "stream",
     "text": [
      "Running ENSMUST00000238906 Aff3\n",
      "Running ENSMUST00000191201 Casp8\n",
      "Running ENSMUST00000119142 Erbb4\n",
      "Running ENSMUST00000055226 Fn1\n"
     ]
    },
    {
     "name": "stderr",
     "output_type": "stream",
     "text": [
      "/var/folders/fz/0b7ldhcd0rb8rnh3wct1_92c000gly/T/ipykernel_40291/4174190489.py:42: DtypeWarning: Columns (10) have mixed types.Specify dtype option on import or set low_memory=False.\n",
      "  foldx_results = self.get_foldx_results(seq_object)\n"
     ]
    },
    {
     "name": "stdout",
     "output_type": "stream",
     "text": [
      "Running ENSMUST00000163119 Cul3\n",
      "Running ENSMUST00000186485 Pign\n",
      "Running ENSMUST00000131855 Eif2d\n",
      "Running ENSMUST00000047714 Kdm5b\n",
      "Running ENSMUST00000074783 Hmcn1\n",
      "FoldXLookupError FoldX: Found no results for /Users/mh28/Documents/Darwinian_shift_paper/2021/MouseResults/ - Unable to run for ENSMUST00000074783\n",
      "Running ENSMUST00000192069 Tnr\n"
     ]
    },
    {
     "name": "stderr",
     "output_type": "stream",
     "text": [
      "/var/folders/fz/0b7ldhcd0rb8rnh3wct1_92c000gly/T/ipykernel_40291/4174190489.py:42: DtypeWarning: Columns (10) have mixed types.Specify dtype option on import or set low_memory=False.\n",
      "  foldx_results = self.get_foldx_results(seq_object)\n"
     ]
    },
    {
     "name": "stdout",
     "output_type": "stream",
     "text": [
      "Running ENSMUST00000027852 Adcy10\n",
      "Running ENSMUST00000194690 Ddr2\n",
      "Running ENSMUST00000027809 Opn3\n",
      "Running ENSMUST00000076521 Irf6\n",
      "Running ENSMUST00000210219 Cr2\n",
      "FoldXLookupError FoldX: Found no results for /Users/mh28/Documents/Darwinian_shift_paper/2021/MouseResults/ - Unable to run for ENSMUST00000210219\n",
      "Running ENSMUST00000020045 Ros1\n",
      "Running ENSMUST00000219238 Arid5b\n",
      "Running ENSMUST00000164107 Bcr\n",
      "Running ENSMUST00000020547 Vmn2r81\n"
     ]
    },
    {
     "name": "stderr",
     "output_type": "stream",
     "text": [
      "/var/folders/fz/0b7ldhcd0rb8rnh3wct1_92c000gly/T/ipykernel_40291/4174190489.py:42: DtypeWarning: Columns (10) have mixed types.Specify dtype option on import or set low_memory=False.\n",
      "  foldx_results = self.get_foldx_results(seq_object)\n"
     ]
    },
    {
     "name": "stdout",
     "output_type": "stream",
     "text": [
      "Running ENSMUST00000049149 Lrp1\n",
      "Running ENSMUST00000082059 Erbb3\n",
      "Running ENSMUST00000109910 Nf2\n",
      "Running ENSMUST00000020329 Egfr\n",
      "Running ENSMUST00000041231 Psme4\n",
      "Running ENSMUST00000059458 Maml1\n",
      "Running ENSMUST00000102703 Zfp39\n"
     ]
    },
    {
     "name": "stderr",
     "output_type": "stream",
     "text": [
      "/var/folders/fz/0b7ldhcd0rb8rnh3wct1_92c000gly/T/ipykernel_40291/4174190489.py:42: DtypeWarning: Columns (10) have mixed types.Specify dtype option on import or set low_memory=False.\n",
      "  foldx_results = self.get_foldx_results(seq_object)\n"
     ]
    },
    {
     "name": "stdout",
     "output_type": "stream",
     "text": [
      "Running ENSMUST00000108658 Trp53\n",
      "Running ENSMUST00000071325 Nf1\n",
      "Running ENSMUST00000108061 Bcas3\n",
      "Running ENSMUST00000058295 Erbb2\n",
      "Running ENSMUST00000105059 Krtap4-9\n",
      "Running ENSMUST00000103029 Rhbdf2\n",
      "Running ENSMUST00000092298 Zfp750\n",
      "Running ENSMUST00000020991 Dnmt3a\n",
      "Running ENSMUST00000037811 Apob\n",
      "FoldXLookupError FoldX: Found no results for /Users/mh28/Documents/Darwinian_shift_paper/2021/MouseResults/ - Unable to run for ENSMUST00000037811\n",
      "Running ENSMUST00000042299 Kcnh5\n",
      "Running ENSMUST00000041987 Dicer1\n",
      "FoldXLookupError FoldX: Found no results for /Users/mh28/Documents/Darwinian_shift_paper/2021/MouseResults/ - Unable to run for ENSMUST00000041987\n",
      "Running ENSMUST00000066060 Bcl11b\n",
      "Running ENSMUST00000001780 Akt1\n",
      "Running ENSMUST00000021750 Ryr2\n"
     ]
    },
    {
     "name": "stderr",
     "output_type": "stream",
     "text": [
      "/var/folders/fz/0b7ldhcd0rb8rnh3wct1_92c000gly/T/ipykernel_40291/4174190489.py:42: DtypeWarning: Columns (10) have mixed types.Specify dtype option on import or set low_memory=False.\n",
      "  foldx_results = self.get_foldx_results(seq_object)\n"
     ]
    },
    {
     "name": "stdout",
     "output_type": "stream",
     "text": [
      "Running ENSMUST00000099490 Nsd1\n",
      "Running ENSMUST00000021921 Ptch1\n"
     ]
    },
    {
     "name": "stderr",
     "output_type": "stream",
     "text": [
      "/var/folders/fz/0b7ldhcd0rb8rnh3wct1_92c000gly/T/ipykernel_40291/4174190489.py:42: DtypeWarning: Columns (10) have mixed types.Specify dtype option on import or set low_memory=False.\n",
      "  foldx_results = self.get_foldx_results(seq_object)\n"
     ]
    },
    {
     "name": "stdout",
     "output_type": "stream",
     "text": [
      "Running ENSMUST00000049705 Zfp457\n"
     ]
    },
    {
     "name": "stderr",
     "output_type": "stream",
     "text": [
      "/var/folders/fz/0b7ldhcd0rb8rnh3wct1_92c000gly/T/ipykernel_40291/4174190489.py:42: DtypeWarning: Columns (10) have mixed types.Specify dtype option on import or set low_memory=False.\n",
      "  foldx_results = self.get_foldx_results(seq_object)\n"
     ]
    },
    {
     "name": "stdout",
     "output_type": "stream",
     "text": [
      "Running ENSMUST00000109552 Rasa1\n",
      "Running ENSMUST00000112249 Cacna1d\n"
     ]
    },
    {
     "name": "stderr",
     "output_type": "stream",
     "text": [
      "/var/folders/fz/0b7ldhcd0rb8rnh3wct1_92c000gly/T/ipykernel_40291/4174190489.py:42: DtypeWarning: Columns (10) have mixed types.Specify dtype option on import or set low_memory=False.\n",
      "  foldx_results = self.get_foldx_results(seq_object)\n"
     ]
    },
    {
     "name": "stdout",
     "output_type": "stream",
     "text": [
      "Running ENSMUST00000111603 Rpgrip1\n",
      "Running ENSMUST00000054487 Ajuba\n",
      "Running ENSMUST00000022701 Rb1\n",
      "Running ENSMUST00000048646 Vps13b\n",
      "FoldXLookupError FoldX: Found no results for /Users/mh28/Documents/Darwinian_shift_paper/2021/MouseResults/ - Unable to run for ENSMUST00000048646\n",
      "Running ENSMUST00000041733 Taf2\n",
      "FoldXLookupError FoldX: Found no results for /Users/mh28/Documents/Darwinian_shift_paper/2021/MouseResults/ - Unable to run for ENSMUST00000041733\n",
      "Running ENSMUST00000068387 Ep300\n",
      "Running ENSMUST00000096250 Arid2\n",
      "Running ENSMUST00000059433 Pced1b\n",
      "Running ENSMUST00000023741 Kmt2d\n",
      "Running ENSMUST00000023709 Krt5\n",
      "Running ENSMUST00000023806 Soat2\n",
      "Running ENSMUST00000023165 Crebbp\n",
      "Running ENSMUST00000199708 Grin2a\n"
     ]
    },
    {
     "name": "stderr",
     "output_type": "stream",
     "text": [
      "/var/folders/fz/0b7ldhcd0rb8rnh3wct1_92c000gly/T/ipykernel_40291/4174190489.py:42: DtypeWarning: Columns (10) have mixed types.Specify dtype option on import or set low_memory=False.\n",
      "  foldx_results = self.get_foldx_results(seq_object)\n"
     ]
    },
    {
     "name": "stdout",
     "output_type": "stream",
     "text": [
      "Running ENSMUST00000115310 Trp63\n",
      "Running ENSMUST00000019386 Ripk4\n"
     ]
    },
    {
     "name": "stderr",
     "output_type": "stream",
     "text": [
      "/var/folders/fz/0b7ldhcd0rb8rnh3wct1_92c000gly/T/ipykernel_40291/4174190489.py:42: DtypeWarning: Columns (10) have mixed types.Specify dtype option on import or set low_memory=False.\n",
      "  foldx_results = self.get_foldx_results(seq_object)\n"
     ]
    },
    {
     "name": "stdout",
     "output_type": "stream",
     "text": [
      "Running ENSMUST00000087723 Notch3\n"
     ]
    },
    {
     "name": "stderr",
     "output_type": "stream",
     "text": [
      "/var/folders/fz/0b7ldhcd0rb8rnh3wct1_92c000gly/T/ipykernel_40291/4174190489.py:42: DtypeWarning: Columns (10) have mixed types.Specify dtype option on import or set low_memory=False.\n",
      "  foldx_results = self.get_foldx_results(seq_object)\n"
     ]
    },
    {
     "name": "stdout",
     "output_type": "stream",
     "text": [
      "Running ENSMUST00000015612 Notch4\n"
     ]
    },
    {
     "name": "stderr",
     "output_type": "stream",
     "text": [
      "/var/folders/fz/0b7ldhcd0rb8rnh3wct1_92c000gly/T/ipykernel_40291/4174190489.py:42: DtypeWarning: Columns (10) have mixed types.Specify dtype option on import or set low_memory=False.\n",
      "  foldx_results = self.get_foldx_results(seq_object)\n"
     ]
    },
    {
     "name": "stdout",
     "output_type": "stream",
     "text": [
      "Running ENSMUST00000024882 Ttc27\n",
      "Running ENSMUST00000025288 Zfp521\n",
      "Running ENSMUST00000025497 Fbn2\n",
      "Running ENSMUST00000025393 Smad4\n",
      "Running ENSMUST00000148341 Loxhd1\n",
      "Running ENSMUST00000013807 Pten\n",
      "Running ENSMUST00000226068 Myof\n",
      "Running ENSMUST00000026208 Abcc2\n"
     ]
    },
    {
     "name": "stderr",
     "output_type": "stream",
     "text": [
      "/var/folders/fz/0b7ldhcd0rb8rnh3wct1_92c000gly/T/ipykernel_40291/4174190489.py:42: DtypeWarning: Columns (10) have mixed types.Specify dtype option on import or set low_memory=False.\n",
      "  foldx_results = self.get_foldx_results(seq_object)\n"
     ]
    },
    {
     "name": "stdout",
     "output_type": "stream",
     "text": [
      "Running ENSMUST00000026217 Chuk\n"
     ]
    },
    {
     "name": "stderr",
     "output_type": "stream",
     "text": [
      "/var/folders/fz/0b7ldhcd0rb8rnh3wct1_92c000gly/T/ipykernel_40291/4174190489.py:42: DtypeWarning: Columns (10) have mixed types.Specify dtype option on import or set low_memory=False.\n",
      "  foldx_results = self.get_foldx_results(seq_object)\n"
     ]
    },
    {
     "name": "stdout",
     "output_type": "stream",
     "text": [
      "Running ENSMUST00000111867 Sufu\n",
      "Running ENSMUST00000182276 Dclre1a\n",
      "Running ENSMUST00000028288 Notch1\n"
     ]
    },
    {
     "name": "stderr",
     "output_type": "stream",
     "text": [
      "/var/folders/fz/0b7ldhcd0rb8rnh3wct1_92c000gly/T/ipykernel_40291/4174190489.py:42: DtypeWarning: Columns (10) have mixed types.Specify dtype option on import or set low_memory=False.\n",
      "  foldx_results = self.get_foldx_results(seq_object)\n"
     ]
    },
    {
     "name": "stdout",
     "output_type": "stream",
     "text": [
      "Running ENSMUST00000113889 Gtf3c5\n",
      "Running ENSMUST00000113869 Tsc1\n",
      "Running ENSMUST00000061578 Setx\n"
     ]
    },
    {
     "name": "stderr",
     "output_type": "stream",
     "text": [
      "/var/folders/fz/0b7ldhcd0rb8rnh3wct1_92c000gly/T/ipykernel_40291/4174190489.py:42: DtypeWarning: Columns (10) have mixed types.Specify dtype option on import or set low_memory=False.\n",
      "  foldx_results = self.get_foldx_results(seq_object)\n"
     ]
    },
    {
     "name": "stdout",
     "output_type": "stream",
     "text": [
      "Running ENSMUST00000065398 Nup214\n",
      "Running ENSMUST00000052550 Lrp1b\n",
      "Running ENSMUST00000112431 Cobll1\n",
      "FoldXLookupError FoldX: Found no results for /Users/mh28/Documents/Darwinian_shift_paper/2021/MouseResults/ - Unable to run for ENSMUST00000112431\n",
      "Running ENSMUST00000100069 Scn3a\n"
     ]
    },
    {
     "name": "stderr",
     "output_type": "stream",
     "text": [
      "/var/folders/fz/0b7ldhcd0rb8rnh3wct1_92c000gly/T/ipykernel_40291/4174190489.py:42: DtypeWarning: Columns (10) have mixed types.Specify dtype option on import or set low_memory=False.\n",
      "  foldx_results = self.get_foldx_results(seq_object)\n"
     ]
    },
    {
     "name": "stdout",
     "output_type": "stream",
     "text": [
      "Running ENSMUST00000112366 Scn1a\n"
     ]
    },
    {
     "name": "stderr",
     "output_type": "stream",
     "text": [
      "/var/folders/fz/0b7ldhcd0rb8rnh3wct1_92c000gly/T/ipykernel_40291/4174190489.py:42: DtypeWarning: Columns (10) have mixed types.Specify dtype option on import or set low_memory=False.\n",
      "  foldx_results = self.get_foldx_results(seq_object)\n"
     ]
    },
    {
     "name": "stdout",
     "output_type": "stream",
     "text": [
      "Running ENSMUST00000102710 Abcb11\n"
     ]
    },
    {
     "name": "stderr",
     "output_type": "stream",
     "text": [
      "/var/folders/fz/0b7ldhcd0rb8rnh3wct1_92c000gly/T/ipykernel_40291/4174190489.py:42: DtypeWarning: Columns (10) have mixed types.Specify dtype option on import or set low_memory=False.\n",
      "  foldx_results = self.get_foldx_results(seq_object)\n"
     ]
    },
    {
     "name": "stdout",
     "output_type": "stream",
     "text": [
      "Running ENSMUST00000080953 Lrp2\n",
      "Running ENSMUST00000102672 Nfe2l2\n",
      "Running ENSMUST00000102476 B2m\n",
      "Running ENSMUST00000110116 Plcb1\n",
      "Running ENSMUST00000109790 Asxl1\n",
      "Running ENSMUST00000109441 Ptprt\n",
      "Running ENSMUST00000028997 Aurka\n",
      "FoldXLookupError FoldX: Found no results for /Users/mh28/Documents/Darwinian_shift_paper/2021/MouseResults/ - Unable to run for ENSMUST00000028997\n",
      "Running ENSMUST00000108243 Pik3ca\n"
     ]
    },
    {
     "name": "stderr",
     "output_type": "stream",
     "text": [
      "/var/folders/fz/0b7ldhcd0rb8rnh3wct1_92c000gly/T/ipykernel_40291/4174190489.py:42: DtypeWarning: Columns (10) have mixed types.Specify dtype option on import or set low_memory=False.\n",
      "  foldx_results = self.get_foldx_results(seq_object)\n"
     ]
    },
    {
     "name": "stdout",
     "output_type": "stream",
     "text": [
      "Running ENSMUST00000099151 Sox2\n",
      "Running ENSMUST00000061260 Fat4\n",
      "Running ENSMUST00000054237 Dclk1\n",
      "Running ENSMUST00000167334 Sis\n",
      "FoldXLookupError FoldX: Found no results for /Users/mh28/Documents/Darwinian_shift_paper/2021/MouseResults/ - Unable to run for ENSMUST00000167334\n",
      "Running ENSMUST00000048647 Rbm46\n",
      "Running ENSMUST00000107679 Fbxw7\n",
      "Running ENSMUST00000029711 Insrr\n"
     ]
    },
    {
     "name": "stderr",
     "output_type": "stream",
     "text": [
      "/var/folders/fz/0b7ldhcd0rb8rnh3wct1_92c000gly/T/ipykernel_40291/4174190489.py:42: DtypeWarning: Columns (10) have mixed types.Specify dtype option on import or set low_memory=False.\n",
      "  foldx_results = self.get_foldx_results(seq_object)\n"
     ]
    },
    {
     "name": "stdout",
     "output_type": "stream",
     "text": [
      "Running ENSMUST00000098884 Flg2\n",
      "Running ENSMUST00000090750 Pde4dip\n"
     ]
    },
    {
     "name": "stderr",
     "output_type": "stream",
     "text": [
      "/var/folders/fz/0b7ldhcd0rb8rnh3wct1_92c000gly/T/ipykernel_40291/4174190489.py:42: DtypeWarning: Columns (10) have mixed types.Specify dtype option on import or set low_memory=False.\n",
      "  foldx_results = self.get_foldx_results(seq_object)\n"
     ]
    },
    {
     "name": "stdout",
     "output_type": "stream",
     "text": [
      "Running ENSMUST00000079812 Notch2\n"
     ]
    },
    {
     "name": "stderr",
     "output_type": "stream",
     "text": [
      "/var/folders/fz/0b7ldhcd0rb8rnh3wct1_92c000gly/T/ipykernel_40291/4174190489.py:42: DtypeWarning: Columns (10) have mixed types.Specify dtype option on import or set low_memory=False.\n",
      "  foldx_results = self.get_foldx_results(seq_object)\n"
     ]
    },
    {
     "name": "stdout",
     "output_type": "stream",
     "text": [
      "Running ENSMUST00000029445 Nras\n",
      "Running ENSMUST00000196398 Tet2\n",
      "Running ENSMUST00000029812 Nfkb1\n"
     ]
    },
    {
     "name": "stderr",
     "output_type": "stream",
     "text": [
      "/var/folders/fz/0b7ldhcd0rb8rnh3wct1_92c000gly/T/ipykernel_40291/4174190489.py:42: DtypeWarning: Columns (10) have mixed types.Specify dtype option on import or set low_memory=False.\n",
      "  foldx_results = self.get_foldx_results(seq_object)\n"
     ]
    },
    {
     "name": "stdout",
     "output_type": "stream",
     "text": [
      "Running ENSMUST00000037035 Ripk2\n",
      "Running ENSMUST00000107131 Cdkn2a\n",
      "Running ENSMUST00000165709 Usp24\n"
     ]
    },
    {
     "name": "stderr",
     "output_type": "stream",
     "text": [
      "/var/folders/fz/0b7ldhcd0rb8rnh3wct1_92c000gly/T/ipykernel_40291/4174190489.py:42: DtypeWarning: Columns (10) have mixed types.Specify dtype option on import or set low_memory=False.\n",
      "  foldx_results = self.get_foldx_results(seq_object)\n"
     ]
    },
    {
     "name": "stdout",
     "output_type": "stream",
     "text": [
      "Running ENSMUST00000145664 Arid1a\n",
      "Running ENSMUST00000006614 Epha2\n",
      "Running ENSMUST00000105786 Spen\n",
      "Running ENSMUST00000103221 Mtor\n"
     ]
    },
    {
     "name": "stderr",
     "output_type": "stream",
     "text": [
      "/var/folders/fz/0b7ldhcd0rb8rnh3wct1_92c000gly/T/ipykernel_40291/4174190489.py:42: DtypeWarning: Columns (10) have mixed types.Specify dtype option on import or set low_memory=False.\n",
      "  foldx_results = self.get_foldx_results(seq_object)\n"
     ]
    },
    {
     "name": "stdout",
     "output_type": "stream",
     "text": [
      "Running ENSMUST00000044492 Akap9\n",
      "FoldXLookupError FoldX: Found no results for /Users/mh28/Documents/Darwinian_shift_paper/2021/MouseResults/ - Unable to run for ENSMUST00000044492\n",
      "Running ENSMUST00000004076 Grm3\n",
      "Running ENSMUST00000045291 Kmt2c\n",
      "Running ENSMUST00000114411 Fgfr3\n",
      "Running ENSMUST00000005815 Kit\n",
      "Running ENSMUST00000113516 Kdr\n",
      "Running ENSMUST00000112696 Zfp644\n",
      "FoldXLookupError FoldX: Found no results for /Users/mh28/Documents/Darwinian_shift_paper/2021/MouseResults/ - Unable to run for ENSMUST00000112696\n",
      "Running ENSMUST00000202447 Fbxo21\n",
      "Running ENSMUST00000179939 Atp2a2\n",
      "Running ENSMUST00000117564 Zan\n",
      "Running ENSMUST00000000505 Mcm7\n"
     ]
    },
    {
     "name": "stderr",
     "output_type": "stream",
     "text": [
      "/var/folders/fz/0b7ldhcd0rb8rnh3wct1_92c000gly/T/ipykernel_40291/4174190489.py:42: DtypeWarning: Columns (10) have mixed types.Specify dtype option on import or set low_memory=False.\n",
      "  foldx_results = self.get_foldx_results(seq_object)\n"
     ]
    },
    {
     "name": "stdout",
     "output_type": "stream",
     "text": [
      "Running ENSMUST00000085786 Card11\n",
      "Running ENSMUST00000100489 Rac1\n",
      "Running ENSMUST00000213013 Trrap\n"
     ]
    },
    {
     "name": "stderr",
     "output_type": "stream",
     "text": [
      "/var/folders/fz/0b7ldhcd0rb8rnh3wct1_92c000gly/T/ipykernel_40291/4174190489.py:42: DtypeWarning: Columns (10) have mixed types.Specify dtype option on import or set low_memory=False.\n",
      "  foldx_results = self.get_foldx_results(seq_object)\n"
     ]
    },
    {
     "name": "stdout",
     "output_type": "stream",
     "text": [
      "Running ENSMUST00000049324 Flt3\n",
      "Running ENSMUST00000202313 Brca2\n"
     ]
    },
    {
     "name": "stderr",
     "output_type": "stream",
     "text": [
      "/var/folders/fz/0b7ldhcd0rb8rnh3wct1_92c000gly/T/ipykernel_40291/4174190489.py:42: DtypeWarning: Columns (10) have mixed types.Specify dtype option on import or set low_memory=False.\n",
      "  foldx_results = self.get_foldx_results(seq_object)\n"
     ]
    },
    {
     "name": "stdout",
     "output_type": "stream",
     "text": [
      "Running ENSMUST00000166678 Peg10\n",
      "Running ENSMUST00000115443 Met\n",
      "Running ENSMUST00000031713 Slc13a1\n",
      "Running ENSMUST00000001812 Smo\n",
      "Running ENSMUST00000002487 Braf\n",
      "Running ENSMUST00000081721 Ezh2\n",
      "Running ENSMUST00000035673 Vhl\n",
      "Running ENSMUST00000088644 Wnk1\n",
      "Running ENSMUST00000071149 Klrc3\n",
      "Running ENSMUST00000069268 Tas2r102\n",
      "Running ENSMUST00000111710 Kras\n",
      "Running ENSMUST00000108653 Nlrp12\n"
     ]
    },
    {
     "name": "stderr",
     "output_type": "stream",
     "text": [
      "/var/folders/fz/0b7ldhcd0rb8rnh3wct1_92c000gly/T/ipykernel_40291/4174190489.py:42: DtypeWarning: Columns (10) have mixed types.Specify dtype option on import or set low_memory=False.\n",
      "  foldx_results = self.get_foldx_results(seq_object)\n"
     ]
    },
    {
     "name": "stdout",
     "output_type": "stream",
     "text": [
      "Running ENSMUST00000005669 Cyp2b13\n",
      "Running ENSMUST00000108344 Akt2\n",
      "Running ENSMUST00000094388 Mrgprb4\n",
      "Running ENSMUST00000074233 Synm\n",
      "Running ENSMUST00000167377 Iqgap1\n",
      "Running ENSMUST00000122054 Fgfr2\n",
      "FoldXLookupError FoldX: Found no results for /Users/mh28/Documents/Darwinian_shift_paper/2021/MouseResults/ - Unable to run for ENSMUST00000122054\n",
      "Running ENSMUST00000026572 Hras\n",
      "Running ENSMUST00000093962 Ccnd1\n",
      "Running ENSMUST00000043962 Cdc16\n",
      "Running ENSMUST00000179592 Fgfr1\n",
      "Running ENSMUST00000215588 Fat1\n",
      "Running ENSMUST00000110378 Snx25\n",
      "Running ENSMUST00000053441 Adam29\n",
      "Running ENSMUST00000002259 Clgn\n",
      "Running ENSMUST00000209532 Cyld\n",
      "Running ENSMUST00000034090 Sall1\n",
      "Running ENSMUST00000098473 Cnot1\n"
     ]
    },
    {
     "name": "stderr",
     "output_type": "stream",
     "text": [
      "/var/folders/fz/0b7ldhcd0rb8rnh3wct1_92c000gly/T/ipykernel_40291/4174190489.py:42: DtypeWarning: Columns (10) have mixed types.Specify dtype option on import or set low_memory=False.\n",
      "  foldx_results = self.get_foldx_results(seq_object)\n"
     ]
    },
    {
     "name": "stdout",
     "output_type": "stream",
     "text": [
      "Running ENSMUST00000005841 Ctcf\n",
      "Running ENSMUST00000000312 Cdh1\n"
     ]
    },
    {
     "name": "stderr",
     "output_type": "stream",
     "text": [
      "/var/folders/fz/0b7ldhcd0rb8rnh3wct1_92c000gly/T/ipykernel_40291/4174190489.py:42: DtypeWarning: Columns (10) have mixed types.Specify dtype option on import or set low_memory=False.\n",
      "  foldx_results = self.get_foldx_results(seq_object)\n"
     ]
    },
    {
     "name": "stdout",
     "output_type": "stream",
     "text": [
      "Running ENSMUST00000220518 Zfhx3\n",
      "Running ENSMUST00000043141 Hydin\n",
      "Running ENSMUST00000118171 Cntnap4\n"
     ]
    },
    {
     "name": "stderr",
     "output_type": "stream",
     "text": [
      "/var/folders/fz/0b7ldhcd0rb8rnh3wct1_92c000gly/T/ipykernel_40291/4174190489.py:42: DtypeWarning: Columns (10) have mixed types.Specify dtype option on import or set low_memory=False.\n",
      "  foldx_results = self.get_foldx_results(seq_object)\n"
     ]
    },
    {
     "name": "stdout",
     "output_type": "stream",
     "text": [
      "Running ENSMUST00000160272 Pard3\n"
     ]
    },
    {
     "name": "stderr",
     "output_type": "stream",
     "text": [
      "/var/folders/fz/0b7ldhcd0rb8rnh3wct1_92c000gly/T/ipykernel_40291/4174190489.py:42: DtypeWarning: Columns (10) have mixed types.Specify dtype option on import or set low_memory=False.\n",
      "  foldx_results = self.get_foldx_results(seq_object)\n"
     ]
    },
    {
     "name": "stdout",
     "output_type": "stream",
     "text": [
      "Running ENSMUST00000194542 Keap1\n",
      "Running ENSMUST00000072362 Dnm2\n"
     ]
    },
    {
     "name": "stderr",
     "output_type": "stream",
     "text": [
      "/var/folders/fz/0b7ldhcd0rb8rnh3wct1_92c000gly/T/ipykernel_40291/4174190489.py:42: DtypeWarning: Columns (10) have mixed types.Specify dtype option on import or set low_memory=False.\n",
      "  foldx_results = self.get_foldx_results(seq_object)\n"
     ]
    },
    {
     "name": "stdout",
     "output_type": "stream",
     "text": [
      "Running ENSMUST00000098948 Smarca4\n",
      "Running ENSMUST00000147405 Bbs9\n",
      "Running ENSMUST00000232179 Atm\n",
      "Running ENSMUST00000118163 Dmxl2\n",
      "FoldXLookupError FoldX: Found no results for /Users/mh28/Documents/Darwinian_shift_paper/2021/MouseResults/ - Unable to run for ENSMUST00000118163\n",
      "Running ENSMUST00000067880 Adam10\n",
      "Running ENSMUST00000071750 Col12a1\n",
      "Running ENSMUST00000035033 Copb2\n"
     ]
    },
    {
     "name": "stderr",
     "output_type": "stream",
     "text": [
      "/var/folders/fz/0b7ldhcd0rb8rnh3wct1_92c000gly/T/ipykernel_40291/4174190489.py:42: DtypeWarning: Columns (10) have mixed types.Specify dtype option on import or set low_memory=False.\n",
      "  foldx_results = self.get_foldx_results(seq_object)\n"
     ]
    },
    {
     "name": "stdout",
     "output_type": "stream",
     "text": [
      "Running ENSMUST00000153838 Setd2\n",
      "Running ENSMUST00000035077 Ltf\n",
      "Running ENSMUST00000214408 Scn10a\n"
     ]
    },
    {
     "name": "stderr",
     "output_type": "stream",
     "text": [
      "/var/folders/fz/0b7ldhcd0rb8rnh3wct1_92c000gly/T/ipykernel_40291/4174190489.py:42: DtypeWarning: Columns (10) have mixed types.Specify dtype option on import or set low_memory=False.\n",
      "  foldx_results = self.get_foldx_results(seq_object)\n"
     ]
    },
    {
     "name": "stdout",
     "output_type": "stream",
     "text": [
      "Running ENSMUST00000215718 Scn11a\n"
     ]
    },
    {
     "name": "stderr",
     "output_type": "stream",
     "text": [
      "/var/folders/fz/0b7ldhcd0rb8rnh3wct1_92c000gly/T/ipykernel_40291/4174190489.py:42: DtypeWarning: Columns (10) have mixed types.Specify dtype option on import or set low_memory=False.\n",
      "  foldx_results = self.get_foldx_results(seq_object)\n"
     ]
    },
    {
     "name": "stdout",
     "output_type": "stream",
     "text": [
      "Running ENSMUST00000089302 Usp9x\n"
     ]
    },
    {
     "name": "stderr",
     "output_type": "stream",
     "text": [
      "/var/folders/fz/0b7ldhcd0rb8rnh3wct1_92c000gly/T/ipykernel_40291/4174190489.py:42: DtypeWarning: Columns (10) have mixed types.Specify dtype option on import or set low_memory=False.\n",
      "  foldx_results = self.get_foldx_results(seq_object)\n"
     ]
    },
    {
     "name": "stdout",
     "output_type": "stream",
     "text": [
      "Running ENSMUST00000052368 Kdm6a\n",
      "Running ENSMUST00000033442 Igsf1\n"
     ]
    },
    {
     "name": "stderr",
     "output_type": "stream",
     "text": [
      "/var/folders/fz/0b7ldhcd0rb8rnh3wct1_92c000gly/T/ipykernel_40291/4174190489.py:42: DtypeWarning: Columns (10) have mixed types.Specify dtype option on import or set low_memory=False.\n",
      "  foldx_results = self.get_foldx_results(seq_object)\n"
     ]
    },
    {
     "name": "stdout",
     "output_type": "stream",
     "text": [
      "Running ENSMUST00000114869 Usp26\n",
      "Running ENSMUST00000008826 Rpl10\n",
      "FoldXLookupError FoldX: Found no results for /Users/mh28/Documents/Darwinian_shift_paper/2021/MouseResults/ - Unable to run for ENSMUST00000008826\n",
      "Running ENSMUST00000113573 Atrx\n",
      "Running ENSMUST00000026292 Huwe1\n"
     ]
    }
   ],
   "source": [
    "d.run_all(verbose=True)"
   ]
  },
  {
   "cell_type": "code",
   "execution_count": 14,
   "metadata": {
    "ExecuteTime": {
     "end_time": "2022-08-14T17:25:47.752051Z",
     "start_time": "2022-08-14T17:25:47.743914Z"
    }
   },
   "outputs": [],
   "source": [
    "mer = pd.merge(d.results, dnds, left_on='gene', right_on='gene_name')"
   ]
  },
  {
   "cell_type": "code",
   "execution_count": 15,
   "metadata": {
    "ExecuteTime": {
     "end_time": "2022-08-14T17:25:47.766225Z",
     "start_time": "2022-08-14T17:25:47.754699Z"
    }
   },
   "outputs": [],
   "source": [
    "mer['shift'] = mer['CDF_MC_glob_k3_cdf_mean'] - 0.5"
   ]
  },
  {
   "cell_type": "code",
   "execution_count": 16,
   "metadata": {
    "ExecuteTime": {
     "end_time": "2022-08-14T17:25:47.786288Z",
     "start_time": "2022-08-14T17:25:47.770070Z"
    }
   },
   "outputs": [],
   "source": [
    "mer['wnon_cv'] = mer['wnon_cv'].astype(float)"
   ]
  },
  {
   "cell_type": "code",
   "execution_count": 17,
   "metadata": {
    "ExecuteTime": {
     "end_time": "2022-08-14T17:25:47.795065Z",
     "start_time": "2022-08-14T17:25:47.789598Z"
    }
   },
   "outputs": [],
   "source": [
    "mer50 = mer[mer['num_mutations'] >= 50]"
   ]
  },
  {
   "cell_type": "code",
   "execution_count": 18,
   "metadata": {
    "ExecuteTime": {
     "end_time": "2022-08-14T17:25:47.804190Z",
     "start_time": "2022-08-14T17:25:47.797222Z"
    }
   },
   "outputs": [
    {
     "data": {
      "text/plain": [
       "84"
      ]
     },
     "execution_count": 18,
     "metadata": {},
     "output_type": "execute_result"
    }
   ],
   "source": [
    "len(mer50)"
   ]
  },
  {
   "cell_type": "code",
   "execution_count": 19,
   "metadata": {
    "ExecuteTime": {
     "end_time": "2022-08-14T17:25:48.754562Z",
     "start_time": "2022-08-14T17:25:47.806225Z"
    }
   },
   "outputs": [
    {
     "data": {
      "image/png": "[encoded data removed]",
      "text/plain": [
       "<Figure size 360x360 with 1 Axes>"
      ]
     },
     "metadata": {
      "needs_background": "light"
     },
     "output_type": "display_data"
    }
   ],
   "source": [
    "plt.figure(figsize=(5, 5))\n",
    "sns.regplot(data=mer50, y='shift', x='wnon_cv', logx=True, truncate=True)\n",
    "plt.xscale('log')\n",
    "\n",
    "plt.xticks([0.3, 0.5, 1, 2, 5, 10], [0.3, 0.5, 1, 2, 5, 10])\n",
    "xlim = plt.gca().get_xlim()\n",
    "ylim = plt.gca().get_ylim()\n",
    "plt.plot([1, 1], [-5, 5], 'k--', linewidth=0.5, zorder=-1)\n",
    "plt.plot([-10, 50], [0, 0], 'k--', linewidth=0.5, zorder=-1)\n",
    "plt.xlim(xlim)\n",
    "plt.xlim(left=0.2)\n",
    "plt.ylim(ylim)\n",
    "plt.ylabel('Mean ∆∆G CDF shift')\n",
    "plt.xlabel('Truncating dN/dS')\n",
    "hide_top_and_right_axes()\n",
    "plt.tight_layout()\n",
    "plt.savefig(\"truncating_dnds_vs_foldx_cdf_shift_mouse.pdf\", transparent=True);"
   ]
  },
  {
   "cell_type": "code",
   "execution_count": 20,
   "metadata": {
    "ExecuteTime": {
     "end_time": "2022-08-14T17:25:48.768033Z",
     "start_time": "2022-08-14T17:25:48.757971Z"
    }
   },
   "outputs": [
    {
     "data": {
      "text/plain": [
       "(0.6383636489762576, 6.477309385853157e-11)"
      ]
     },
     "execution_count": 20,
     "metadata": {},
     "output_type": "execute_result"
    }
   ],
   "source": [
    "pearsonr(np.log(mer50['wnon_cv']), mer50['shift']) "
   ]
  },
  {
   "cell_type": "code",
   "execution_count": null,
   "metadata": {},
   "outputs": [],
   "source": []
  }
 ],
 "metadata": {
  "kernelspec": {
   "display_name": "Python 3 (ipykernel)",
   "language": "python",
   "name": "python3"
  },
  "language_info": {
   "codemirror_mode": {
    "name": "ipython",
    "version": 3
   },
   "file_extension": ".py",
   "mimetype": "text/x-python",
   "name": "python",
   "nbconvert_exporter": "python",
   "pygments_lexer": "ipython3",
   "version": "3.8.13"
  }
 },
 "nbformat": 4,
 "nbformat_minor": 4
}
