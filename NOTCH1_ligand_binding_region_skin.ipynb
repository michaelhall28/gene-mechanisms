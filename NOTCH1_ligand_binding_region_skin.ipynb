{
 "cells": [
  {
   "cell_type": "markdown",
   "metadata": {},
   "source": [
    "This notebook contains the code for recreating the plots and the statistics for analysis of missense mutations in the ligand-binding region of NOTCH1 in normal skin.  "
   ]
  },
  {
   "cell_type": "code",
   "execution_count": 1,
   "metadata": {
    "ExecuteTime": {
     "end_time": "2022-06-22T12:27:00.549316Z",
     "start_time": "2022-06-22T12:26:58.760717Z"
    }
   },
   "outputs": [],
   "source": [
    "import numpy as np\n",
    "import pandas as pd\n",
    "import matplotlib.pyplot as plt\n",
    "%matplotlib inline\n",
    "import matplotlib"
   ]
  },
  {
   "cell_type": "code",
   "execution_count": 2,
   "metadata": {
    "ExecuteTime": {
     "end_time": "2022-06-22T12:27:03.295758Z",
     "start_time": "2022-06-22T12:27:00.552777Z"
    }
   },
   "outputs": [
    {
     "name": "stderr",
     "output_type": "stream",
     "text": [
      "/Users/mh28/miniconda3/envs/dsenv3/lib/python3.8/site-packages/tqdm/auto.py:22: TqdmWarning: IProgress not found. Please update jupyter and ipywidgets. See https://ipywidgets.readthedocs.io/en/stable/user_install.html\n",
      "  from .autonotebook import tqdm as notebook_tqdm\n",
      "/Users/mh28/miniconda3/envs/dsenv3/lib/python3.8/site-packages/MDAnalysis/coordinates/TRJ.py:1209: DeprecationWarning: Please use `netcdf_file` from the `scipy.io` namespace, the `scipy.io.netcdf` namespace is deprecated.\n",
      "  class NCDFPicklable(scipy.io.netcdf.netcdf_file):\n"
     ]
    }
   ],
   "source": [
    "from darwinian_shift import DarwinianShift\n",
    "from darwinian_shift import CDFMonteCarloTest, BinomTest\n",
    "from darwinian_shift import FoldXLookup, SequenceDistanceLookup, StructureDistanceLookup\n",
    "from darwinian_shift import MutationExclusionLookup, ORLookup\n",
    "from darwinian_shift import hide_top_and_right_axes\n",
    "from darwinian_shift import plot_scatter_two_scores"
   ]
  },
  {
   "cell_type": "markdown",
   "metadata": {},
   "source": [
    "# Setup"
   ]
  },
  {
   "cell_type": "code",
   "execution_count": 3,
   "metadata": {
    "ExecuteTime": {
     "end_time": "2022-06-22T12:27:03.310713Z",
     "start_time": "2022-06-22T12:27:03.300241Z"
    }
   },
   "outputs": [],
   "source": [
    "# Define the region to test\n",
    "notch1_section_definition_egf11_12 = {\n",
    "    'transcript_id': 'ENST00000277541', 'pdb_id': '2vj3', 'pdb_chain': 'A', \n",
    "    'start': 412, 'end': 488, # Restrict to the residues in EGF11-12\n",
    "    'interface_residues': [413, 415, 418, 420, 421, 422, 423, 424, 425, \n",
    "                         435, 436, 444, 447, 448, 450, 451, 452, 454, \n",
    "                         466, 467, 468, 469, 470, 471, 475, 477, 478, \n",
    "                         479, 480],   # defined in Luca et al 2017\n",
    "    'ca_binding_residues': [412, 413, 415, 431, 432, 435, 452, 453, 455, 469, 470]  # Defined by MetalPDB\n",
    "}"
   ]
  },
  {
   "cell_type": "code",
   "execution_count": 4,
   "metadata": {
    "ExecuteTime": {
     "end_time": "2022-06-22T12:27:29.053057Z",
     "start_time": "2022-06-22T12:27:03.316081Z"
    }
   },
   "outputs": [],
   "source": [
    "d_skin = DarwinianShift(\n",
    "    data = pd.read_excel('248092_3_supp_6645104_q35h43.xlsx', sheet_name='Table S4', skiprows=4),\n",
    "    source_genome='GRCh37',\n",
    "    spectra='skin_trinuc_spectrum.txt',\n",
    "    included_mutation_types='missense'\n",
    ")"
   ]
  },
  {
   "cell_type": "code",
   "execution_count": 5,
   "metadata": {
    "ExecuteTime": {
     "end_time": "2022-06-22T12:27:29.063514Z",
     "start_time": "2022-06-22T12:27:29.056434Z"
    }
   },
   "outputs": [],
   "source": [
    "# Directories\n",
    "sifts_directory=\"SIFTS_files\"\n",
    "pdb_directory = \"PDB_files\"\n",
    "\n",
    "# Colours\n",
    "unobserved_colour = '#BBBBBB'  \n",
    "observed_colour = '#EE7733'\n",
    "foldx_expected_colour = '#EE6677'\n",
    "foldx_observed_colour = '#CC3311'\n",
    "interface_expected_colour = '#88CCEE'\n",
    "interface_observed_colour = '#0077BB'\n",
    "calcium_expected_colour = '#8DE0D7'\n",
    "calcium_observed_colour = '#009988'"
   ]
  },
  {
   "cell_type": "markdown",
   "metadata": {},
   "source": [
    "# Define the metrics"
   ]
  },
  {
   "cell_type": "markdown",
   "metadata": {},
   "source": [
    "## Individual metrics"
   ]
  },
  {
   "cell_type": "code",
   "execution_count": 6,
   "metadata": {
    "ExecuteTime": {
     "end_time": "2022-06-22T12:27:29.075421Z",
     "start_time": "2022-06-22T12:27:29.067449Z"
    }
   },
   "outputs": [],
   "source": [
    "# Define the FoldX lookup\n",
    "fold = FoldXLookup(foldx_results_directory=\"FoldX_results\",\n",
    "                   sifts_directory=sifts_directory,\n",
    "                   foldx_file_name_start=\"PS_f*\", download_sifts=True)"
   ]
  },
  {
   "cell_type": "code",
   "execution_count": 7,
   "metadata": {
    "ExecuteTime": {
     "end_time": "2022-06-22T12:27:29.085401Z",
     "start_time": "2022-06-22T12:27:29.078008Z"
    }
   },
   "outputs": [],
   "source": [
    "# Define a lookup object which determines whether mutations are on the NOTCH1-ligand interface. \n",
    "interface_lookup = SequenceDistanceLookup(\n",
    "    boolean=True,   # Just a boolean on/off interface. \n",
    "    target_key='interface_residues',   # Use this entry in the section_definition dict to define the target residues\n",
    "    position_type='residue',   # Use the residue number (as opposed to cdspos or chromosomal position)\n",
    "    name='On interface'  # Label to appear on plot axes\n",
    ")"
   ]
  },
  {
   "cell_type": "code",
   "execution_count": 8,
   "metadata": {
    "ExecuteTime": {
     "end_time": "2022-06-22T12:27:29.095095Z",
     "start_time": "2022-06-22T12:27:29.088295Z"
    }
   },
   "outputs": [],
   "source": [
    "ca_lookup = SequenceDistanceLookup(\n",
    "    boolean=True,   # Just a boolean binding/not binding. \n",
    "    target_key='ca_binding_residues',   # Use this entry in the section_definition dict to define the target residues\n",
    "    position_type='residue',   # Use the residue number (as opposed to cdspos or chromosomal position)\n",
    "    name='Calcium binding'  # Label to appear on plot axes\n",
    ")"
   ]
  },
  {
   "cell_type": "markdown",
   "metadata": {},
   "source": [
    "## Conditional tests "
   ]
  },
  {
   "cell_type": "code",
   "execution_count": 9,
   "metadata": {
    "ExecuteTime": {
     "end_time": "2022-06-22T12:27:29.107070Z",
     "start_time": "2022-06-22T12:27:29.098545Z"
    }
   },
   "outputs": [],
   "source": [
    "# First define a lookup that is 1 if the mutation is on the interface and or calcium binding\n",
    "interface_or_ca_lookup = ORLookup(\n",
    "    lookups=[interface_lookup, ca_lookup],  \n",
    "    thresholds=[0.5, 0.5],  # Set thresholds at 0.5\n",
    "    directions=[1, 1],  # Want to exclude mutations which score 1 for interface or calcium binding.\n",
    ")\n",
    "\n",
    "\n",
    "# Define the combined lookup.\n",
    "excllook_foldx = MutationExclusionLookup(\n",
    "    lookup=fold,   # Use the calcium binding lookup for the test\n",
    "    exclusion_lookup=interface_or_ca_lookup,\n",
    "    exclusion_threshold=0.5,  #  Scores from the exclusion are either 0, or 1, so can put threshold anywhere in between.\n",
    "    exclusion_direction=1,   # Exclude mutations with a score above the exclusion_threhold from the exclusion_lookup.\n",
    "    name=fold.name\n",
    ")"
   ]
  },
  {
   "cell_type": "code",
   "execution_count": 10,
   "metadata": {
    "ExecuteTime": {
     "end_time": "2022-06-22T12:27:29.136708Z",
     "start_time": "2022-06-22T12:27:29.116790Z"
    }
   },
   "outputs": [],
   "source": [
    "# Define a lookup to test the interface while excluding destabilising mutations. \n",
    "excllook_interface_foldx_only = MutationExclusionLookup(\n",
    "    lookup=interface_lookup,   # Use the interface lookup for the test\n",
    "    exclusion_lookup=fold,   \n",
    "    exclusion_threshold=2,  #  Exclude mutations with ∆∆G higher than 2kcal/mol.\n",
    "    exclusion_direction=1,   # Exclude mutations with a score above the exclusion_threhold from the exclusion_lookup.\n",
    "    name=interface_lookup.name\n",
    ")"
   ]
  },
  {
   "cell_type": "code",
   "execution_count": 11,
   "metadata": {
    "ExecuteTime": {
     "end_time": "2022-06-22T12:27:29.148470Z",
     "start_time": "2022-06-22T12:27:29.140698Z"
    }
   },
   "outputs": [],
   "source": [
    "# First define a lookup that is 1 if the mutation is destabilising or calcium binding\n",
    "destabilising_or_ca_lookup = ORLookup(\n",
    "    lookups=[fold, ca_lookup],  \n",
    "    thresholds=[2, 0.5],  # Use 2kcal/mol as the ∆∆G threshold. Ca score is 0 or 1, so set threshold at 0.5\n",
    "    directions=[1, 1],  # Want to exclude mutations which score 1 for calcium binding or > 2 for ∆G.\n",
    ")\n",
    "\n",
    "\n",
    "# Define the combined lookup.\n",
    "excllook_interface = MutationExclusionLookup(\n",
    "    lookup=interface_lookup,   # Use the inteface lookup for the test\n",
    "    exclusion_lookup=destabilising_or_ca_lookup,   \n",
    "    exclusion_threshold=0.5,  #  Scores from the exclusion are either 0, or 1, so can put threshold anywhere in between.\n",
    "    exclusion_direction=1,   # Exclude mutations with a score above the exclusion_threhold from the exclusion_lookup.\n",
    "    name=interface_lookup.name\n",
    ")"
   ]
  },
  {
   "cell_type": "code",
   "execution_count": 12,
   "metadata": {
    "ExecuteTime": {
     "end_time": "2022-06-22T12:27:29.168007Z",
     "start_time": "2022-06-22T12:27:29.152211Z"
    }
   },
   "outputs": [],
   "source": [
    "# First define a lookup that is 1 if the mutation is destabilising or on the interface and 0 otherwise.\n",
    "destabilising_or_interface_lookup = ORLookup(\n",
    "    lookups=[fold, interface_lookup],  # Use the FoldX and the interface lookups.  \n",
    "    thresholds=[2, 0.5],  # Again pick a threshold of 2kcal/mol for the FoldX result, interface results are either 0 or 1 so set threshold at 0.5. \n",
    "    directions=[1, 1],  # Want to exclude mutations with scores greater than the thresholds, so directions are both 1.\n",
    ")\n",
    "\n",
    "\n",
    "# Define the combined lookup.\n",
    "excllook_ca = MutationExclusionLookup(\n",
    "    lookup=ca_lookup,   # Use the calcium binding lookup for the test\n",
    "    exclusion_lookup=destabilising_or_interface_lookup,   \n",
    "    exclusion_threshold=0.5,  #  Scores from the exclusion are either 0, or 1, so can put threshold anywhere in between.\n",
    "    exclusion_direction=1,   # Exclude mutations with a score above the exclusion_threhold from the exclusion_lookup.\n",
    "    name=ca_lookup.name\n",
    ")"
   ]
  },
  {
   "cell_type": "markdown",
   "metadata": {},
   "source": [
    "# Tests"
   ]
  },
  {
   "cell_type": "markdown",
   "metadata": {},
   "source": [
    "## FoldX"
   ]
  },
  {
   "cell_type": "markdown",
   "metadata": {},
   "source": [
    "### FoldX - no exclusions"
   ]
  },
  {
   "cell_type": "code",
   "execution_count": 13,
   "metadata": {
    "ExecuteTime": {
     "end_time": "2022-06-22T12:27:37.194880Z",
     "start_time": "2022-06-22T12:27:29.171463Z"
    }
   },
   "outputs": [],
   "source": [
    "# Run an analysis of FoldX scores using the CDF Monte Carlo Test\n",
    "s = d_skin.run_section(notch1_section_definition_egf11_12, lookup=fold, \n",
    "                     statistics=CDFMonteCarloTest(num_draws=100000))"
   ]
  },
  {
   "cell_type": "code",
   "execution_count": 14,
   "metadata": {
    "ExecuteTime": {
     "end_time": "2022-06-22T12:27:37.209208Z",
     "start_time": "2022-06-22T12:27:37.198321Z"
    }
   },
   "outputs": [
    {
     "data": {
      "text/plain": [
       "{'gene': 'NOTCH1',\n",
       " 'transcript_id': 'ENST00000277541',\n",
       " 'chrom': '9',\n",
       " 'section_id': '2vj3:A',\n",
       " 'num_mutations': 905,\n",
       " 'observed_median': 1.96125,\n",
       " 'observed_mean': 3.567908390607735,\n",
       " 'expected_median_glob_k3': 0.72928,\n",
       " 'median_shift_glob_k3': 1.23197,\n",
       " 'expected_mean_glob_k3': 1.65968495845889,\n",
       " 'mean_shift_glob_k3': 1.9082234321488452,\n",
       " 'CDF_MC_glob_k3_num_smaller_or_equal': 100001,\n",
       " 'CDF_MC_glob_k3_num_larger_or_equal': 1,\n",
       " 'CDF_MC_glob_k3_pvalue': 1.999980000199998e-05,\n",
       " 'CDF_MC_glob_k3_cdf_mean': 0.6477728219584489}"
      ]
     },
     "execution_count": 14,
     "metadata": {},
     "output_type": "execute_result"
    }
   ],
   "source": [
    "s.get_results_dictionary()"
   ]
  },
  {
   "cell_type": "code",
   "execution_count": 15,
   "metadata": {
    "ExecuteTime": {
     "end_time": "2022-06-22T12:27:37.939741Z",
     "start_time": "2022-06-22T12:27:37.219885Z"
    }
   },
   "outputs": [
    {
     "data": {
      "image/png": "[encoded data removed]",
      "text/plain": [
       "<Figure size 180x216 with 1 Axes>"
      ]
     },
     "metadata": {
      "needs_background": "light"
     },
     "output_type": "display_data"
    }
   ],
   "source": [
    "s.plot_boxplot(figsize=(2.5, 3), plot_scale='symlog',\n",
    "                    colours=[foldx_observed_colour, foldx_expected_colour])\n",
    "hide_top_and_right_axes()\n",
    "plt.xticks(plt.gca().get_xticks(), ['Exp.', 'Obs.']);"
   ]
  },
  {
   "cell_type": "markdown",
   "metadata": {},
   "source": [
    "### Excluding CA binding and interface"
   ]
  },
  {
   "cell_type": "code",
   "execution_count": 16,
   "metadata": {
    "ExecuteTime": {
     "end_time": "2022-06-22T12:27:42.793492Z",
     "start_time": "2022-06-22T12:27:37.943906Z"
    }
   },
   "outputs": [],
   "source": [
    "# Run again, this time only on mutations which are not on the ligand-binding interface or calcium-binding residues.\n",
    "s = d_skin.run_section(notch1_section_definition_egf11_12, lookup=excllook_foldx, \n",
    "                     statistics=CDFMonteCarloTest(num_draws=100000))"
   ]
  },
  {
   "cell_type": "code",
   "execution_count": 17,
   "metadata": {
    "ExecuteTime": {
     "end_time": "2022-06-22T12:27:42.816305Z",
     "start_time": "2022-06-22T12:27:42.795838Z"
    }
   },
   "outputs": [
    {
     "data": {
      "text/plain": [
       "{'gene': 'NOTCH1',\n",
       " 'transcript_id': 'ENST00000277541',\n",
       " 'chrom': '9',\n",
       " 'section_id': '2vj3:A',\n",
       " 'num_mutations': 452,\n",
       " 'observed_median': 4.31605,\n",
       " 'observed_mean': 5.585752362831858,\n",
       " 'expected_median_glob_k3': 0.85534,\n",
       " 'median_shift_glob_k3': 3.4607099999999997,\n",
       " 'expected_mean_glob_k3': 2.2953249579660078,\n",
       " 'mean_shift_glob_k3': 3.2904274048658504,\n",
       " 'CDF_MC_glob_k3_num_smaller_or_equal': 100001,\n",
       " 'CDF_MC_glob_k3_num_larger_or_equal': 1,\n",
       " 'CDF_MC_glob_k3_pvalue': 1.999980000199998e-05,\n",
       " 'CDF_MC_glob_k3_cdf_mean': 0.7466097118473951}"
      ]
     },
     "execution_count": 17,
     "metadata": {},
     "output_type": "execute_result"
    }
   ],
   "source": [
    "s.get_results_dictionary()"
   ]
  },
  {
   "cell_type": "code",
   "execution_count": 18,
   "metadata": {
    "ExecuteTime": {
     "end_time": "2022-06-22T12:27:43.387365Z",
     "start_time": "2022-06-22T12:27:42.820133Z"
    }
   },
   "outputs": [
    {
     "data": {
      "image/png": "[encoded data removed]",
      "text/plain": [
       "<Figure size 180x216 with 1 Axes>"
      ]
     },
     "metadata": {
      "needs_background": "light"
     },
     "output_type": "display_data"
    }
   ],
   "source": [
    "s.plot_boxplot(figsize=(2.5, 3), plot_scale='symlog',\n",
    "                    colours=[foldx_observed_colour, foldx_expected_colour])\n",
    "hide_top_and_right_axes()\n",
    "plt.xticks(plt.gca().get_xticks(), ['Exp.', 'Obs.']);"
   ]
  },
  {
   "cell_type": "markdown",
   "metadata": {},
   "source": [
    "## Interface"
   ]
  },
  {
   "cell_type": "markdown",
   "metadata": {},
   "source": [
    "### Interface - no exclusions"
   ]
  },
  {
   "cell_type": "code",
   "execution_count": 19,
   "metadata": {
    "ExecuteTime": {
     "end_time": "2022-06-22T12:27:46.706812Z",
     "start_time": "2022-06-22T12:27:43.391102Z"
    }
   },
   "outputs": [],
   "source": [
    "# Test whether there is enrichment of mutations on the ligand-binding interface\n",
    "# Because the mutations are scored with only 1 and 0 (on/off the interface), we can use a binomial test\n",
    "s = d_skin.run_section(notch1_section_definition_egf11_12, lookup=interface_lookup, \n",
    "                    statistics=BinomTest())"
   ]
  },
  {
   "cell_type": "code",
   "execution_count": 20,
   "metadata": {
    "ExecuteTime": {
     "end_time": "2022-06-22T12:27:46.719619Z",
     "start_time": "2022-06-22T12:27:46.709032Z"
    }
   },
   "outputs": [
    {
     "data": {
      "text/plain": [
       "{'gene': 'NOTCH1',\n",
       " 'transcript_id': 'ENST00000277541',\n",
       " 'chrom': '9',\n",
       " 'section_id': '2vj3:A',\n",
       " 'num_mutations': 905,\n",
       " 'observed_median': 0.0,\n",
       " 'observed_mean': 0.3911602209944751,\n",
       " 'expected_median_glob_k3': 0.0,\n",
       " 'median_shift_glob_k3': 0.0,\n",
       " 'expected_mean_glob_k3': 0.3658104078440008,\n",
       " 'mean_shift_glob_k3': 0.0253498131504743,\n",
       " 'binom_glob_k3_pvalue': 0.12040433821002669,\n",
       " 'binom_glob_k3_expected_proportion': 0.3658104078440009,\n",
       " 'binom_glob_k3_observed_proportion': 0.3911602209944751,\n",
       " 'binom_glob_k3_expected_count': 331.05841909882076,\n",
       " 'binom_glob_k3_observed_count': 354,\n",
       " 'binom_glob_k3_threshold': 0.5,\n",
       " 'binom_glob_k3_expected_CI_high': 360.0,\n",
       " 'binom_glob_k3_expected_CI_low': 302.0,\n",
       " 'binom_glob_k3_observed_CI_low': 325.0,\n",
       " 'binom_glob_k3_observed_CI_high': 383.0}"
      ]
     },
     "execution_count": 20,
     "metadata": {},
     "output_type": "execute_result"
    }
   ],
   "source": [
    "s.get_results_dictionary()"
   ]
  },
  {
   "cell_type": "code",
   "execution_count": 21,
   "metadata": {
    "ExecuteTime": {
     "end_time": "2022-06-22T12:27:46.968008Z",
     "start_time": "2022-06-22T12:27:46.722582Z"
    }
   },
   "outputs": [
    {
     "data": {
      "image/png": "[encoded data removed]",
      "text/plain": [
       "<Figure size 144x216 with 1 Axes>"
      ]
     },
     "metadata": {
      "needs_background": "light"
     },
     "output_type": "display_data"
    }
   ],
   "source": [
    "s.plot_binomial(figsize=(2, 3), show_legend=False, colours=[interface_observed_colour, interface_expected_colour])\n",
    "plt.title(\"\")\n",
    "plt.ylabel('Mutations on interface')\n",
    "hide_top_and_right_axes(plt.gca())"
   ]
  },
  {
   "cell_type": "markdown",
   "metadata": {},
   "source": [
    "## CA binding"
   ]
  },
  {
   "cell_type": "markdown",
   "metadata": {},
   "source": [
    "### CA - no exclusions"
   ]
  },
  {
   "cell_type": "code",
   "execution_count": 22,
   "metadata": {
    "ExecuteTime": {
     "end_time": "2022-06-22T12:27:50.127264Z",
     "start_time": "2022-06-22T12:27:46.972272Z"
    }
   },
   "outputs": [
    {
     "name": "stderr",
     "output_type": "stream",
     "text": [
      "/Users/mh28/miniconda3/envs/dsenv3/lib/python3.8/site-packages/scipy/stats/_discrete_distns.py:69: RuntimeWarning: divide by zero encountered in _binom_pdf\n",
      "  return _boost._binom_pdf(x, n, p)\n"
     ]
    }
   ],
   "source": [
    "# Test for enrichment of calcium-binding mutations. \n",
    "# 1/0 scores so can use the binomial test\n",
    "s = d_skin.run_section(notch1_section_definition_egf11_12, lookup=ca_lookup, \n",
    "                    statistics=BinomTest())"
   ]
  },
  {
   "cell_type": "code",
   "execution_count": 23,
   "metadata": {
    "ExecuteTime": {
     "end_time": "2022-06-22T12:27:50.138924Z",
     "start_time": "2022-06-22T12:27:50.130448Z"
    }
   },
   "outputs": [
    {
     "data": {
      "text/plain": [
       "{'gene': 'NOTCH1',\n",
       " 'transcript_id': 'ENST00000277541',\n",
       " 'chrom': '9',\n",
       " 'section_id': '2vj3:A',\n",
       " 'num_mutations': 905,\n",
       " 'observed_median': 0.0,\n",
       " 'observed_mean': 0.17679558011049723,\n",
       " 'expected_median_glob_k3': 0.0,\n",
       " 'median_shift_glob_k3': 0.0,\n",
       " 'expected_mean_glob_k3': 0.18912403837279465,\n",
       " 'mean_shift_glob_k3': -0.01232845826229742,\n",
       " 'binom_glob_k3_pvalue': 0.3726709229900576,\n",
       " 'binom_glob_k3_expected_proportion': 0.18912403837279465,\n",
       " 'binom_glob_k3_observed_proportion': 0.17679558011049723,\n",
       " 'binom_glob_k3_expected_count': 171.15725472737915,\n",
       " 'binom_glob_k3_observed_count': 160,\n",
       " 'binom_glob_k3_threshold': 0.5,\n",
       " 'binom_glob_k3_expected_CI_high': 194.0,\n",
       " 'binom_glob_k3_expected_CI_low': 148.0,\n",
       " 'binom_glob_k3_observed_CI_low': 138.0,\n",
       " 'binom_glob_k3_observed_CI_high': 183.0}"
      ]
     },
     "execution_count": 23,
     "metadata": {},
     "output_type": "execute_result"
    }
   ],
   "source": [
    "s.get_results_dictionary()"
   ]
  },
  {
   "cell_type": "code",
   "execution_count": 24,
   "metadata": {
    "ExecuteTime": {
     "end_time": "2022-06-22T12:27:50.276517Z",
     "start_time": "2022-06-22T12:27:50.141772Z"
    }
   },
   "outputs": [
    {
     "data": {
      "image/png": "[encoded data removed]",
      "text/plain": [
       "<Figure size 144x216 with 1 Axes>"
      ]
     },
     "metadata": {
      "needs_background": "light"
     },
     "output_type": "display_data"
    }
   ],
   "source": [
    "s.plot_binomial(figsize=(2, 3), show_legend=False, # binom_test=d_sms.statistics[-1],\n",
    "                                      colours=[calcium_observed_colour, calcium_expected_colour])\n",
    "plt.title(\"\")\n",
    "plt.ylabel('Calcium binding mutations')\n",
    "hide_top_and_right_axes(plt.gca())"
   ]
  },
  {
   "cell_type": "markdown",
   "metadata": {},
   "source": [
    "# FoldX threshold checking"
   ]
  },
  {
   "cell_type": "code",
   "execution_count": 25,
   "metadata": {
    "ExecuteTime": {
     "end_time": "2022-06-22T12:27:50.291004Z",
     "start_time": "2022-06-22T12:27:50.284216Z"
    }
   },
   "outputs": [],
   "source": [
    " # Try different thresholds for excluding destabilising mutations to confirm the conclusions are not altered\n",
    "thresholds = [1, 1.5, 2, 2.5, 3] "
   ]
  },
  {
   "cell_type": "markdown",
   "metadata": {},
   "source": [
    "## Interface"
   ]
  },
  {
   "cell_type": "code",
   "execution_count": 26,
   "metadata": {
    "ExecuteTime": {
     "end_time": "2022-06-22T12:27:50.305852Z",
     "start_time": "2022-06-22T12:27:50.294655Z"
    }
   },
   "outputs": [],
   "source": [
    "excllookups = []\n",
    "for t in thresholds:\n",
    "    # First define a lookup that is 1 if the mutation is destabilising or calcium binding\n",
    "    l1 = ORLookup(\n",
    "        lookups=[fold, ca_lookup],  \n",
    "        thresholds=[t, 0.5],  \n",
    "        directions=[1, 1],  \n",
    "    )\n",
    "\n",
    "\n",
    "    # Define the combined lookup.\n",
    "    l2 = MutationExclusionLookup(\n",
    "        lookup=interface_lookup,   \n",
    "        exclusion_lookup=l1,   \n",
    "        exclusion_threshold=0.5,  \n",
    "        exclusion_direction=1,   \n",
    "        name=interface_lookup.name\n",
    "    )\n",
    "\n",
    "    excllookups.append(l2)"
   ]
  },
  {
   "cell_type": "code",
   "execution_count": 27,
   "metadata": {
    "ExecuteTime": {
     "end_time": "2022-06-22T12:28:04.593097Z",
     "start_time": "2022-06-22T12:27:50.309213Z"
    }
   },
   "outputs": [],
   "source": [
    "s_interfaces_with_thresholds = [\n",
    "    d_skin.run_section(notch1_section_definition_egf11_12, lookup=ll, statistics=BinomTest()) for ll in excllookups\n",
    "]\n",
    "results = [s.get_results_dictionary() for s in s_interfaces_with_thresholds]"
   ]
  },
  {
   "cell_type": "code",
   "execution_count": 28,
   "metadata": {
    "ExecuteTime": {
     "end_time": "2022-06-22T12:28:04.610745Z",
     "start_time": "2022-06-22T12:28:04.602100Z"
    }
   },
   "outputs": [],
   "source": [
    "observed_counts = np.array([r['binom_glob_k3_observed_count'] for r in results])\n",
    "expected_counts = np.array([r['binom_glob_k3_expected_count'] for r in results])\n",
    "observed_ci_low = np.array([r['binom_glob_k3_observed_CI_low'] for r in results])\n",
    "observed_ci_high = np.array([r['binom_glob_k3_observed_CI_high'] for r in results])\n",
    "expected_ci_low = np.array([r['binom_glob_k3_expected_CI_low'] for r in results])\n",
    "expected_ci_high = np.array([r['binom_glob_k3_expected_CI_high'] for r in results])\n",
    "pvalues_binom = [r['binom_glob_k3_pvalue'] for r in results]"
   ]
  },
  {
   "cell_type": "code",
   "execution_count": 29,
   "metadata": {
    "ExecuteTime": {
     "end_time": "2022-06-22T12:28:04.623957Z",
     "start_time": "2022-06-22T12:28:04.613153Z"
    }
   },
   "outputs": [
    {
     "data": {
      "text/plain": [
       "[6.010228146076045e-30,\n",
       " 6.665883812400356e-31,\n",
       " 2.4240652229094823e-25,\n",
       " 1.031427980288003e-18,\n",
       " 6.5610773793757904e-21]"
      ]
     },
     "execution_count": 29,
     "metadata": {},
     "output_type": "execute_result"
    }
   ],
   "source": [
    "pvalues_binom"
   ]
  },
  {
   "cell_type": "code",
   "execution_count": 30,
   "metadata": {
    "ExecuteTime": {
     "end_time": "2022-06-22T12:28:04.948961Z",
     "start_time": "2022-06-22T12:28:04.626800Z"
    }
   },
   "outputs": [
    {
     "data": {
      "image/png": "[encoded data removed]",
      "text/plain": [
       "<Figure size 504x252 with 2 Axes>"
      ]
     },
     "metadata": {
      "needs_background": "light"
     },
     "output_type": "display_data"
    }
   ],
   "source": [
    "fig, ax = plt.subplots(figsize=(7, 3.5))\n",
    "width = 0.4\n",
    "x_pos = np.arange(5)\n",
    "\n",
    "plt.bar(x_pos, expected_counts, yerr=[expected_counts-expected_ci_low, expected_ci_high-expected_counts],\n",
    "        width=width, color=interface_expected_colour)\n",
    "plt.bar(x_pos+width, observed_counts, yerr=[observed_counts-observed_ci_low, observed_ci_high-observed_counts],\n",
    "        width=width, color=interface_observed_colour)\n",
    "plt.xticks(sorted(list(x_pos) + list(x_pos+width)), ['Exp.', 'Obs.']*5, fontsize=10)\n",
    "ax.tick_params(axis='x', direction='out', pad=2, length=0)\n",
    "fig.subplots_adjust(bottom=0.25)\n",
    "ax2 = plt.gca().twiny()\n",
    "ax2.patch.set_visible(False)\n",
    "hide_top_and_right_axes(ax2)\n",
    "hide_top_and_right_axes(ax)\n",
    "ax2.xaxis.set_ticks_position('bottom')\n",
    "ax2.xaxis.set_label_position('bottom')\n",
    "ax2.set_xticks(x_pos+width/2)\n",
    "ax2.set_xticklabels(['∆∆G≤{}'.format(t) for t in thresholds], fontsize=12, ha='center')\n",
    "ax2.set_xlim(ax.get_xlim())\n",
    "ax2.tick_params(axis='x', length=0, pad=15)\n",
    "ax.set_ylabel('Mutations on interface', fontsize=13)\n",
    "plt.subplots_adjust(left=0.1, bottom=0.2, right=0.9, top=0.9)"
   ]
  },
  {
   "cell_type": "code",
   "execution_count": 31,
   "metadata": {
    "ExecuteTime": {
     "end_time": "2022-06-22T12:28:04.958890Z",
     "start_time": "2022-06-22T12:28:04.952552Z"
    }
   },
   "outputs": [],
   "source": [
    "for r, t in zip(results, thresholds):\n",
    "    r['foldx_threshold'] = t"
   ]
  },
  {
   "cell_type": "code",
   "execution_count": 32,
   "metadata": {
    "ExecuteTime": {
     "end_time": "2022-06-22T12:28:05.016273Z",
     "start_time": "2022-06-22T12:28:04.961963Z"
    }
   },
   "outputs": [
    {
     "data": {
      "text/html": [
       "<div>\n",
       "<style scoped>\n",
       "    .dataframe tbody tr th:only-of-type {\n",
       "        vertical-align: middle;\n",
       "    }\n",
       "\n",
       "    .dataframe tbody tr th {\n",
       "        vertical-align: top;\n",
       "    }\n",
       "\n",
       "    .dataframe thead th {\n",
       "        text-align: right;\n",
       "    }\n",
       "</style>\n",
       "<table border=\"1\" class=\"dataframe\">\n",
       "  <thead>\n",
       "    <tr style=\"text-align: right;\">\n",
       "      <th></th>\n",
       "      <th>gene</th>\n",
       "      <th>transcript_id</th>\n",
       "      <th>chrom</th>\n",
       "      <th>section_id</th>\n",
       "      <th>num_mutations</th>\n",
       "      <th>observed_median</th>\n",
       "      <th>observed_mean</th>\n",
       "      <th>expected_median_glob_k3</th>\n",
       "      <th>median_shift_glob_k3</th>\n",
       "      <th>expected_mean_glob_k3</th>\n",
       "      <th>...</th>\n",
       "      <th>binom_glob_k3_expected_proportion</th>\n",
       "      <th>binom_glob_k3_observed_proportion</th>\n",
       "      <th>binom_glob_k3_expected_count</th>\n",
       "      <th>binom_glob_k3_observed_count</th>\n",
       "      <th>binom_glob_k3_threshold</th>\n",
       "      <th>binom_glob_k3_expected_CI_high</th>\n",
       "      <th>binom_glob_k3_expected_CI_low</th>\n",
       "      <th>binom_glob_k3_observed_CI_low</th>\n",
       "      <th>binom_glob_k3_observed_CI_high</th>\n",
       "      <th>foldx_threshold</th>\n",
       "    </tr>\n",
       "  </thead>\n",
       "  <tbody>\n",
       "    <tr>\n",
       "      <th>0</th>\n",
       "      <td>NOTCH1</td>\n",
       "      <td>ENST00000277541</td>\n",
       "      <td>9</td>\n",
       "      <td>2vj3:A</td>\n",
       "      <td>169</td>\n",
       "      <td>1.0</td>\n",
       "      <td>0.692308</td>\n",
       "      <td>0.0</td>\n",
       "      <td>1.0</td>\n",
       "      <td>0.271367</td>\n",
       "      <td>...</td>\n",
       "      <td>0.271367</td>\n",
       "      <td>0.692308</td>\n",
       "      <td>45.860972</td>\n",
       "      <td>117</td>\n",
       "      <td>0.5</td>\n",
       "      <td>57.0</td>\n",
       "      <td>35.0</td>\n",
       "      <td>105.0</td>\n",
       "      <td>128.0</td>\n",
       "      <td>1.0</td>\n",
       "    </tr>\n",
       "    <tr>\n",
       "      <th>1</th>\n",
       "      <td>NOTCH1</td>\n",
       "      <td>ENST00000277541</td>\n",
       "      <td>9</td>\n",
       "      <td>2vj3:A</td>\n",
       "      <td>260</td>\n",
       "      <td>1.0</td>\n",
       "      <td>0.753846</td>\n",
       "      <td>0.0</td>\n",
       "      <td>1.0</td>\n",
       "      <td>0.399694</td>\n",
       "      <td>...</td>\n",
       "      <td>0.399694</td>\n",
       "      <td>0.753846</td>\n",
       "      <td>103.920493</td>\n",
       "      <td>196</td>\n",
       "      <td>0.5</td>\n",
       "      <td>120.0</td>\n",
       "      <td>88.0</td>\n",
       "      <td>182.0</td>\n",
       "      <td>209.0</td>\n",
       "      <td>1.5</td>\n",
       "    </tr>\n",
       "    <tr>\n",
       "      <th>2</th>\n",
       "      <td>NOTCH1</td>\n",
       "      <td>ENST00000277541</td>\n",
       "      <td>9</td>\n",
       "      <td>2vj3:A</td>\n",
       "      <td>315</td>\n",
       "      <td>1.0</td>\n",
       "      <td>0.685714</td>\n",
       "      <td>0.0</td>\n",
       "      <td>1.0</td>\n",
       "      <td>0.394800</td>\n",
       "      <td>...</td>\n",
       "      <td>0.394800</td>\n",
       "      <td>0.685714</td>\n",
       "      <td>124.361890</td>\n",
       "      <td>216</td>\n",
       "      <td>0.5</td>\n",
       "      <td>142.0</td>\n",
       "      <td>108.0</td>\n",
       "      <td>199.0</td>\n",
       "      <td>232.0</td>\n",
       "      <td>2.0</td>\n",
       "    </tr>\n",
       "    <tr>\n",
       "      <th>3</th>\n",
       "      <td>NOTCH1</td>\n",
       "      <td>ENST00000277541</td>\n",
       "      <td>9</td>\n",
       "      <td>2vj3:A</td>\n",
       "      <td>360</td>\n",
       "      <td>1.0</td>\n",
       "      <td>0.613889</td>\n",
       "      <td>0.0</td>\n",
       "      <td>1.0</td>\n",
       "      <td>0.383162</td>\n",
       "      <td>...</td>\n",
       "      <td>0.383162</td>\n",
       "      <td>0.613889</td>\n",
       "      <td>137.938205</td>\n",
       "      <td>221</td>\n",
       "      <td>0.5</td>\n",
       "      <td>156.0</td>\n",
       "      <td>120.0</td>\n",
       "      <td>202.0</td>\n",
       "      <td>239.0</td>\n",
       "      <td>2.5</td>\n",
       "    </tr>\n",
       "    <tr>\n",
       "      <th>4</th>\n",
       "      <td>NOTCH1</td>\n",
       "      <td>ENST00000277541</td>\n",
       "      <td>9</td>\n",
       "      <td>2vj3:A</td>\n",
       "      <td>425</td>\n",
       "      <td>1.0</td>\n",
       "      <td>0.625882</td>\n",
       "      <td>0.0</td>\n",
       "      <td>1.0</td>\n",
       "      <td>0.399197</td>\n",
       "      <td>...</td>\n",
       "      <td>0.399197</td>\n",
       "      <td>0.625882</td>\n",
       "      <td>169.658927</td>\n",
       "      <td>266</td>\n",
       "      <td>0.5</td>\n",
       "      <td>190.0</td>\n",
       "      <td>150.0</td>\n",
       "      <td>246.0</td>\n",
       "      <td>285.0</td>\n",
       "      <td>3.0</td>\n",
       "    </tr>\n",
       "  </tbody>\n",
       "</table>\n",
       "<p>5 rows × 22 columns</p>\n",
       "</div>"
      ],
      "text/plain": [
       "     gene    transcript_id chrom section_id  num_mutations  observed_median  \\\n",
       "0  NOTCH1  ENST00000277541     9     2vj3:A            169              1.0   \n",
       "1  NOTCH1  ENST00000277541     9     2vj3:A            260              1.0   \n",
       "2  NOTCH1  ENST00000277541     9     2vj3:A            315              1.0   \n",
       "3  NOTCH1  ENST00000277541     9     2vj3:A            360              1.0   \n",
       "4  NOTCH1  ENST00000277541     9     2vj3:A            425              1.0   \n",
       "\n",
       "   observed_mean  expected_median_glob_k3  median_shift_glob_k3  \\\n",
       "0       0.692308                      0.0                   1.0   \n",
       "1       0.753846                      0.0                   1.0   \n",
       "2       0.685714                      0.0                   1.0   \n",
       "3       0.613889                      0.0                   1.0   \n",
       "4       0.625882                      0.0                   1.0   \n",
       "\n",
       "   expected_mean_glob_k3  ...  binom_glob_k3_expected_proportion  \\\n",
       "0               0.271367  ...                           0.271367   \n",
       "1               0.399694  ...                           0.399694   \n",
       "2               0.394800  ...                           0.394800   \n",
       "3               0.383162  ...                           0.383162   \n",
       "4               0.399197  ...                           0.399197   \n",
       "\n",
       "   binom_glob_k3_observed_proportion  binom_glob_k3_expected_count  \\\n",
       "0                           0.692308                     45.860972   \n",
       "1                           0.753846                    103.920493   \n",
       "2                           0.685714                    124.361890   \n",
       "3                           0.613889                    137.938205   \n",
       "4                           0.625882                    169.658927   \n",
       "\n",
       "   binom_glob_k3_observed_count  binom_glob_k3_threshold  \\\n",
       "0                           117                      0.5   \n",
       "1                           196                      0.5   \n",
       "2                           216                      0.5   \n",
       "3                           221                      0.5   \n",
       "4                           266                      0.5   \n",
       "\n",
       "   binom_glob_k3_expected_CI_high  binom_glob_k3_expected_CI_low  \\\n",
       "0                            57.0                           35.0   \n",
       "1                           120.0                           88.0   \n",
       "2                           142.0                          108.0   \n",
       "3                           156.0                          120.0   \n",
       "4                           190.0                          150.0   \n",
       "\n",
       "   binom_glob_k3_observed_CI_low  binom_glob_k3_observed_CI_high  \\\n",
       "0                          105.0                           128.0   \n",
       "1                          182.0                           209.0   \n",
       "2                          199.0                           232.0   \n",
       "3                          202.0                           239.0   \n",
       "4                          246.0                           285.0   \n",
       "\n",
       "   foldx_threshold  \n",
       "0              1.0  \n",
       "1              1.5  \n",
       "2              2.0  \n",
       "3              2.5  \n",
       "4              3.0  \n",
       "\n",
       "[5 rows x 22 columns]"
      ]
     },
     "execution_count": 32,
     "metadata": {},
     "output_type": "execute_result"
    }
   ],
   "source": [
    "pd.DataFrame(results)"
   ]
  },
  {
   "cell_type": "markdown",
   "metadata": {},
   "source": [
    "## CA binding"
   ]
  },
  {
   "cell_type": "code",
   "execution_count": 33,
   "metadata": {
    "ExecuteTime": {
     "end_time": "2022-06-22T12:28:05.031802Z",
     "start_time": "2022-06-22T12:28:05.019586Z"
    }
   },
   "outputs": [],
   "source": [
    "excllookups = []\n",
    "for t in thresholds:\n",
    "    # First define a lookup that is 1 if the mutation is destabilising or calcium binding\n",
    "    l1 = ORLookup(\n",
    "        lookups=[fold, interface_lookup],  \n",
    "        thresholds=[t, 0.5],  \n",
    "        directions=[1, 1],  \n",
    "    )\n",
    "\n",
    "\n",
    "    # Define the combined lookup.\n",
    "    l2 = MutationExclusionLookup(\n",
    "        lookup=ca_lookup,   \n",
    "        exclusion_lookup=l1,   \n",
    "        exclusion_threshold=0.5,  \n",
    "        exclusion_direction=1,   \n",
    "        name=ca_lookup.name\n",
    "    )\n",
    "    \n",
    "    excllookups.append(l2)"
   ]
  },
  {
   "cell_type": "code",
   "execution_count": 34,
   "metadata": {
    "ExecuteTime": {
     "end_time": "2022-06-22T12:28:18.272317Z",
     "start_time": "2022-06-22T12:28:05.037836Z"
    }
   },
   "outputs": [],
   "source": [
    "s_with_thresholds = [\n",
    "    d_skin.run_section(notch1_section_definition_egf11_12, lookup=ll, statistics=BinomTest()) for ll in excllookups\n",
    "]\n",
    "results = [s.get_results_dictionary() for s in s_with_thresholds]\n",
    "for r, t in zip(results, thresholds):\n",
    "    r['foldx_threshold'] = t"
   ]
  },
  {
   "cell_type": "code",
   "execution_count": 35,
   "metadata": {
    "ExecuteTime": {
     "end_time": "2022-06-22T12:28:18.284316Z",
     "start_time": "2022-06-22T12:28:18.275103Z"
    }
   },
   "outputs": [],
   "source": [
    "observed_counts = np.array([r['binom_glob_k3_observed_count'] for r in results])\n",
    "expected_counts = np.array([r['binom_glob_k3_expected_count'] for r in results])\n",
    "observed_ci_low = np.array([r['binom_glob_k3_observed_CI_low'] for r in results])\n",
    "observed_ci_high = np.array([r['binom_glob_k3_observed_CI_high'] for r in results])\n",
    "expected_ci_low = np.array([r['binom_glob_k3_expected_CI_low'] for r in results])\n",
    "expected_ci_high = np.array([r['binom_glob_k3_expected_CI_high'] for r in results])\n",
    "pvalues_binom = [r['binom_glob_k3_pvalue'] for r in results]"
   ]
  },
  {
   "cell_type": "code",
   "execution_count": 36,
   "metadata": {
    "ExecuteTime": {
     "end_time": "2022-06-22T12:28:18.295060Z",
     "start_time": "2022-06-22T12:28:18.286597Z"
    }
   },
   "outputs": [
    {
     "data": {
      "text/plain": [
       "[5.917391361125157e-31,\n",
       " 1.962056703423747e-29,\n",
       " 2.2196487193789853e-22,\n",
       " 6.565456051070581e-17,\n",
       " 1.796501717065694e-15]"
      ]
     },
     "execution_count": 36,
     "metadata": {},
     "output_type": "execute_result"
    }
   ],
   "source": [
    "pvalues_binom"
   ]
  },
  {
   "cell_type": "code",
   "execution_count": 37,
   "metadata": {
    "ExecuteTime": {
     "end_time": "2022-06-22T12:28:18.613748Z",
     "start_time": "2022-06-22T12:28:18.298960Z"
    }
   },
   "outputs": [
    {
     "data": {
      "image/png": "[encoded data removed]",
      "text/plain": [
       "<Figure size 504x252 with 2 Axes>"
      ]
     },
     "metadata": {
      "needs_background": "light"
     },
     "output_type": "display_data"
    }
   ],
   "source": [
    "fig, ax = plt.subplots(figsize=(7, 3.5))\n",
    "width = 0.4\n",
    "x_pos = np.arange(5)\n",
    "\n",
    "plt.bar(x_pos, expected_counts, yerr=[expected_counts-expected_ci_low, expected_ci_high-expected_counts],\n",
    "        width=width, color=calcium_expected_colour)\n",
    "plt.bar(x_pos+width, observed_counts, yerr=[observed_counts-observed_ci_low, observed_ci_high-observed_counts],\n",
    "        width=width, color=calcium_observed_colour)\n",
    "plt.xticks(sorted(list(x_pos) + list(x_pos+width)), ['Exp.', 'Obs.']*5, fontsize=10) \n",
    "ax.tick_params(axis='x', direction='out', pad=2, length=0)\n",
    "fig.subplots_adjust(bottom=0.25)\n",
    "ax2 = plt.gca().twiny()\n",
    "ax2.patch.set_visible(False)\n",
    "hide_top_and_right_axes(ax2)\n",
    "hide_top_and_right_axes(ax)\n",
    "ax2.xaxis.set_ticks_position('bottom')\n",
    "ax2.xaxis.set_label_position('bottom')\n",
    "ax2.set_xticks(x_pos+width/2)\n",
    "ax2.set_xticklabels(['∆∆G≤{}'.format(t) for t in thresholds], fontsize=12, ha='center')\n",
    "ax2.set_xlim(ax.get_xlim())\n",
    "ax2.tick_params(axis='x', length=0, pad=15)\n",
    "ax.set_ylabel('Calcium binding mutations', fontsize=13)\n",
    "plt.subplots_adjust(left=0.1, bottom=0.2, right=0.9, top=0.9)"
   ]
  },
  {
   "cell_type": "code",
   "execution_count": 38,
   "metadata": {
    "ExecuteTime": {
     "end_time": "2022-06-22T12:28:18.677037Z",
     "start_time": "2022-06-22T12:28:18.621606Z"
    }
   },
   "outputs": [
    {
     "data": {
      "text/html": [
       "<div>\n",
       "<style scoped>\n",
       "    .dataframe tbody tr th:only-of-type {\n",
       "        vertical-align: middle;\n",
       "    }\n",
       "\n",
       "    .dataframe tbody tr th {\n",
       "        vertical-align: top;\n",
       "    }\n",
       "\n",
       "    .dataframe thead th {\n",
       "        text-align: right;\n",
       "    }\n",
       "</style>\n",
       "<table border=\"1\" class=\"dataframe\">\n",
       "  <thead>\n",
       "    <tr style=\"text-align: right;\">\n",
       "      <th></th>\n",
       "      <th>gene</th>\n",
       "      <th>transcript_id</th>\n",
       "      <th>chrom</th>\n",
       "      <th>section_id</th>\n",
       "      <th>num_mutations</th>\n",
       "      <th>observed_median</th>\n",
       "      <th>observed_mean</th>\n",
       "      <th>expected_median_glob_k3</th>\n",
       "      <th>median_shift_glob_k3</th>\n",
       "      <th>expected_mean_glob_k3</th>\n",
       "      <th>...</th>\n",
       "      <th>binom_glob_k3_expected_proportion</th>\n",
       "      <th>binom_glob_k3_observed_proportion</th>\n",
       "      <th>binom_glob_k3_expected_count</th>\n",
       "      <th>binom_glob_k3_observed_count</th>\n",
       "      <th>binom_glob_k3_threshold</th>\n",
       "      <th>binom_glob_k3_expected_CI_high</th>\n",
       "      <th>binom_glob_k3_expected_CI_low</th>\n",
       "      <th>binom_glob_k3_observed_CI_low</th>\n",
       "      <th>binom_glob_k3_observed_CI_high</th>\n",
       "      <th>foldx_threshold</th>\n",
       "    </tr>\n",
       "  </thead>\n",
       "  <tbody>\n",
       "    <tr>\n",
       "      <th>0</th>\n",
       "      <td>NOTCH1</td>\n",
       "      <td>ENST00000277541</td>\n",
       "      <td>9</td>\n",
       "      <td>2vj3:A</td>\n",
       "      <td>143</td>\n",
       "      <td>1.0</td>\n",
       "      <td>0.636364</td>\n",
       "      <td>0.0</td>\n",
       "      <td>1.0</td>\n",
       "      <td>0.193101</td>\n",
       "      <td>...</td>\n",
       "      <td>0.193101</td>\n",
       "      <td>0.636364</td>\n",
       "      <td>27.613451</td>\n",
       "      <td>91</td>\n",
       "      <td>0.5</td>\n",
       "      <td>37.0</td>\n",
       "      <td>19.0</td>\n",
       "      <td>79.0</td>\n",
       "      <td>102.0</td>\n",
       "      <td>1.0</td>\n",
       "    </tr>\n",
       "    <tr>\n",
       "      <th>1</th>\n",
       "      <td>NOTCH1</td>\n",
       "      <td>ENST00000277541</td>\n",
       "      <td>9</td>\n",
       "      <td>2vj3:A</td>\n",
       "      <td>160</td>\n",
       "      <td>1.0</td>\n",
       "      <td>0.600000</td>\n",
       "      <td>0.0</td>\n",
       "      <td>1.0</td>\n",
       "      <td>0.194055</td>\n",
       "      <td>...</td>\n",
       "      <td>0.194055</td>\n",
       "      <td>0.600000</td>\n",
       "      <td>31.048773</td>\n",
       "      <td>96</td>\n",
       "      <td>0.5</td>\n",
       "      <td>41.0</td>\n",
       "      <td>22.0</td>\n",
       "      <td>84.0</td>\n",
       "      <td>108.0</td>\n",
       "      <td>1.5</td>\n",
       "    </tr>\n",
       "    <tr>\n",
       "      <th>2</th>\n",
       "      <td>NOTCH1</td>\n",
       "      <td>ENST00000277541</td>\n",
       "      <td>9</td>\n",
       "      <td>2vj3:A</td>\n",
       "      <td>195</td>\n",
       "      <td>0.0</td>\n",
       "      <td>0.492308</td>\n",
       "      <td>0.0</td>\n",
       "      <td>0.0</td>\n",
       "      <td>0.184610</td>\n",
       "      <td>...</td>\n",
       "      <td>0.184610</td>\n",
       "      <td>0.492308</td>\n",
       "      <td>35.998978</td>\n",
       "      <td>96</td>\n",
       "      <td>0.5</td>\n",
       "      <td>47.0</td>\n",
       "      <td>26.0</td>\n",
       "      <td>82.0</td>\n",
       "      <td>110.0</td>\n",
       "      <td>2.0</td>\n",
       "    </tr>\n",
       "    <tr>\n",
       "      <th>3</th>\n",
       "      <td>NOTCH1</td>\n",
       "      <td>ENST00000277541</td>\n",
       "      <td>9</td>\n",
       "      <td>2vj3:A</td>\n",
       "      <td>236</td>\n",
       "      <td>0.0</td>\n",
       "      <td>0.411017</td>\n",
       "      <td>0.0</td>\n",
       "      <td>0.0</td>\n",
       "      <td>0.177919</td>\n",
       "      <td>...</td>\n",
       "      <td>0.177919</td>\n",
       "      <td>0.411017</td>\n",
       "      <td>41.988784</td>\n",
       "      <td>97</td>\n",
       "      <td>0.5</td>\n",
       "      <td>54.0</td>\n",
       "      <td>31.0</td>\n",
       "      <td>82.0</td>\n",
       "      <td>112.0</td>\n",
       "      <td>2.5</td>\n",
       "    </tr>\n",
       "    <tr>\n",
       "      <th>4</th>\n",
       "      <td>NOTCH1</td>\n",
       "      <td>ENST00000277541</td>\n",
       "      <td>9</td>\n",
       "      <td>2vj3:A</td>\n",
       "      <td>258</td>\n",
       "      <td>0.0</td>\n",
       "      <td>0.383721</td>\n",
       "      <td>0.0</td>\n",
       "      <td>0.0</td>\n",
       "      <td>0.174727</td>\n",
       "      <td>...</td>\n",
       "      <td>0.174727</td>\n",
       "      <td>0.383721</td>\n",
       "      <td>45.079540</td>\n",
       "      <td>99</td>\n",
       "      <td>0.5</td>\n",
       "      <td>58.0</td>\n",
       "      <td>33.0</td>\n",
       "      <td>84.0</td>\n",
       "      <td>114.0</td>\n",
       "      <td>3.0</td>\n",
       "    </tr>\n",
       "  </tbody>\n",
       "</table>\n",
       "<p>5 rows × 22 columns</p>\n",
       "</div>"
      ],
      "text/plain": [
       "     gene    transcript_id chrom section_id  num_mutations  observed_median  \\\n",
       "0  NOTCH1  ENST00000277541     9     2vj3:A            143              1.0   \n",
       "1  NOTCH1  ENST00000277541     9     2vj3:A            160              1.0   \n",
       "2  NOTCH1  ENST00000277541     9     2vj3:A            195              0.0   \n",
       "3  NOTCH1  ENST00000277541     9     2vj3:A            236              0.0   \n",
       "4  NOTCH1  ENST00000277541     9     2vj3:A            258              0.0   \n",
       "\n",
       "   observed_mean  expected_median_glob_k3  median_shift_glob_k3  \\\n",
       "0       0.636364                      0.0                   1.0   \n",
       "1       0.600000                      0.0                   1.0   \n",
       "2       0.492308                      0.0                   0.0   \n",
       "3       0.411017                      0.0                   0.0   \n",
       "4       0.383721                      0.0                   0.0   \n",
       "\n",
       "   expected_mean_glob_k3  ...  binom_glob_k3_expected_proportion  \\\n",
       "0               0.193101  ...                           0.193101   \n",
       "1               0.194055  ...                           0.194055   \n",
       "2               0.184610  ...                           0.184610   \n",
       "3               0.177919  ...                           0.177919   \n",
       "4               0.174727  ...                           0.174727   \n",
       "\n",
       "   binom_glob_k3_observed_proportion  binom_glob_k3_expected_count  \\\n",
       "0                           0.636364                     27.613451   \n",
       "1                           0.600000                     31.048773   \n",
       "2                           0.492308                     35.998978   \n",
       "3                           0.411017                     41.988784   \n",
       "4                           0.383721                     45.079540   \n",
       "\n",
       "   binom_glob_k3_observed_count  binom_glob_k3_threshold  \\\n",
       "0                            91                      0.5   \n",
       "1                            96                      0.5   \n",
       "2                            96                      0.5   \n",
       "3                            97                      0.5   \n",
       "4                            99                      0.5   \n",
       "\n",
       "   binom_glob_k3_expected_CI_high  binom_glob_k3_expected_CI_low  \\\n",
       "0                            37.0                           19.0   \n",
       "1                            41.0                           22.0   \n",
       "2                            47.0                           26.0   \n",
       "3                            54.0                           31.0   \n",
       "4                            58.0                           33.0   \n",
       "\n",
       "   binom_glob_k3_observed_CI_low  binom_glob_k3_observed_CI_high  \\\n",
       "0                           79.0                           102.0   \n",
       "1                           84.0                           108.0   \n",
       "2                           82.0                           110.0   \n",
       "3                           82.0                           112.0   \n",
       "4                           84.0                           114.0   \n",
       "\n",
       "   foldx_threshold  \n",
       "0              1.0  \n",
       "1              1.5  \n",
       "2              2.0  \n",
       "3              2.5  \n",
       "4              3.0  \n",
       "\n",
       "[5 rows x 22 columns]"
      ]
     },
     "execution_count": 38,
     "metadata": {},
     "output_type": "execute_result"
    }
   ],
   "source": [
    "pd.DataFrame(results)"
   ]
  },
  {
   "cell_type": "markdown",
   "metadata": {},
   "source": [
    "# All mutation categories"
   ]
  },
  {
   "cell_type": "markdown",
   "metadata": {},
   "source": [
    "Plot all of the mutations on one graph, highlighting the mutations in the different categories. "
   ]
  },
  {
   "cell_type": "code",
   "execution_count": 39,
   "metadata": {
    "ExecuteTime": {
     "end_time": "2022-06-22T12:28:18.702750Z",
     "start_time": "2022-06-22T12:28:18.689143Z"
    }
   },
   "outputs": [],
   "source": [
    "# Define the lookup that measures the distance in the structure from these selected residues\n",
    "\n",
    "target_selection_string = 'protein and segid A and resid {} and name CA'.format(\n",
    "    \" \".join([str(int(p)) for p in notch1_section_definition_egf11_12['interface_residues']]))\n",
    "notch1_section_definition_egf11_12['interface_residues_3D'] = target_selection_string\n",
    "\n",
    "\n",
    "interface_lookup3D = StructureDistanceLookup(\n",
    "    boolean=False,  # This time we use the distance\n",
    "    target_key='interface_residues_3D', \n",
    "    name='Distance from interface residues (A)',\n",
    "    \n",
    "    # Uses the pdb file and SIFTS. Provide paths to directories including those files.\n",
    "    pdb_directory=pdb_directory,\n",
    "    sifts_directory=sifts_directory, \n",
    "    download_sifts=True   # Download the SIFTS file if not already in the directory\n",
    "\n",
    ")"
   ]
  },
  {
   "cell_type": "code",
   "execution_count": 40,
   "metadata": {
    "ExecuteTime": {
     "end_time": "2022-06-22T12:28:25.438818Z",
     "start_time": "2022-06-22T12:28:18.708092Z"
    }
   },
   "outputs": [],
   "source": [
    "s_interface3D_notch1 = d_skin.run_section(notch1_section_definition_egf11_12, statistics=[], lookup=interface_lookup3D)\n",
    "s_ca_all_notch1 = d_skin.run_section(notch1_section_definition_egf11_12, statistics=[], lookup=ca_lookup)\n",
    "s_interface_all_notch1 = d_skin.run_section(notch1_section_definition_egf11_12, statistics=[], lookup=interface_lookup)\n",
    "s_fold_all_notch1 = d_skin.run_section(notch1_section_definition_egf11_12, statistics=[], lookup=fold)"
   ]
  },
  {
   "cell_type": "code",
   "execution_count": 41,
   "metadata": {
    "ExecuteTime": {
     "end_time": "2022-06-22T12:28:26.008656Z",
     "start_time": "2022-06-22T12:28:25.441657Z"
    }
   },
   "outputs": [
    {
     "data": {
      "image/png": "[encoded data removed]",
      "text/plain": [
       "<Figure size 360x360 with 1 Axes>"
      ]
     },
     "metadata": {
      "needs_background": "light"
     },
     "output_type": "display_data"
    }
   ],
   "source": [
    "plot_scatter_two_scores(s_interface3D_notch1, s_fold_all_notch1, \n",
    "                        sections_for_colours=[s_fold_all_notch1, s_interface3D_notch1, s_ca_all_notch1], \n",
    "                        score_regions_for_colours=[[2, 100], [-1, 0.1], [0.9,1.1]],\n",
    "                        score_region_colours=[foldx_observed_colour, interface_observed_colour, \n",
    "                                              calcium_observed_colour],\n",
    "                        unobserved_mutation_colour=unobserved_colour, \n",
    "                        missense_mutation_colour=observed_colour,\n",
    "                        plot_yscale='symlog', show_legend=False, figsize=(5, 5), unmutated_marker_size=5,\n",
    "                        base_marker_size=5)\n",
    "hide_top_and_right_axes()"
   ]
  },
  {
   "cell_type": "markdown",
   "metadata": {},
   "source": [
    "## Proportion in three categories together"
   ]
  },
  {
   "cell_type": "markdown",
   "metadata": {},
   "source": [
    "Check the expected and observed proportions of mutations in three selected categories. "
   ]
  },
  {
   "cell_type": "code",
   "execution_count": 42,
   "metadata": {
    "ExecuteTime": {
     "end_time": "2022-06-22T12:28:26.020231Z",
     "start_time": "2022-06-22T12:28:26.013373Z"
    }
   },
   "outputs": [],
   "source": [
    "# Define the lookup to check if a mutations is in any of the categories\n",
    "destabilising_or_interface_or_calcium_lookup = ORLookup(\n",
    "    lookups=[fold, interface_lookup, ca_lookup],  # Use the FoldX, interface and calcium lookups.  \n",
    "    thresholds=[2, 0.5, 0.5],  # Again pick a threshold of 2kcal/mol for the FoldX result, interface and calcium results are either 0 or 1 so set threshold at 0.5. \n",
    "    directions=[1, 1, 1],  # Want to exclude mutations with scores greater than the thresholds, so directions are all 1.\n",
    ")"
   ]
  },
  {
   "cell_type": "code",
   "execution_count": 43,
   "metadata": {
    "ExecuteTime": {
     "end_time": "2022-06-22T12:28:29.862383Z",
     "start_time": "2022-06-22T12:28:26.023581Z"
    }
   },
   "outputs": [
    {
     "name": "stdout",
     "output_type": "stream",
     "text": [
      "0.7029126213592233\n",
      "0.6612711421911491\n",
      "0.8906077348066298\n"
     ]
    }
   ],
   "source": [
    "s = d_skin.run_section(notch1_section_definition_egf11_12, lookup=destabilising_or_interface_or_calcium_lookup, \n",
    "                    statistics=BinomTest())\n",
    "# Proportion of mutations expected to occur in one of the three categories (not adjusting for spectrum)\n",
    "print(len(s.null_mutations[s.null_mutations['score'] == 1])/len(s.null_mutations))\n",
    "# Proportion of mutations expected to occur in one of the three categories (adjusting for spectrum)\n",
    "res = s.get_results_dictionary()\n",
    "print(res['binom_glob_k3_expected_proportion'])\n",
    "print(res['binom_glob_k3_observed_proportion'])"
   ]
  }
 ],
 "metadata": {
  "kernelspec": {
   "display_name": "Python 3 (ipykernel)",
   "language": "python",
   "name": "python3"
  },
  "language_info": {
   "codemirror_mode": {
    "name": "ipython",
    "version": 3
   },
   "file_extension": ".py",
   "mimetype": "text/x-python",
   "name": "python",
   "nbconvert_exporter": "python",
   "pygments_lexer": "ipython3",
   "version": "3.8.13"
  }
 },
 "nbformat": 4,
 "nbformat_minor": 4
}
