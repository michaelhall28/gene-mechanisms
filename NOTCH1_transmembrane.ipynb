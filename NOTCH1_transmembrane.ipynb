{
 "cells": [
  {
   "cell_type": "code",
   "execution_count": 1,
   "metadata": {
    "ExecuteTime": {
     "end_time": "2022-06-23T08:03:11.955146Z",
     "start_time": "2022-06-23T08:03:10.412252Z"
    }
   },
   "outputs": [],
   "source": [
    "import numpy as np\n",
    "import pandas as pd\n",
    "import matplotlib.pyplot as plt\n",
    "%matplotlib inline\n",
    "import matplotlib"
   ]
  },
  {
   "cell_type": "code",
   "execution_count": 2,
   "metadata": {
    "ExecuteTime": {
     "end_time": "2022-06-23T08:03:14.362229Z",
     "start_time": "2022-06-23T08:03:11.959108Z"
    }
   },
   "outputs": [
    {
     "name": "stderr",
     "output_type": "stream",
     "text": [
      "/Users/mh28/miniconda3/envs/dsenv3/lib/python3.8/site-packages/tqdm/auto.py:22: TqdmWarning: IProgress not found. Please update jupyter and ipywidgets. See https://ipywidgets.readthedocs.io/en/stable/user_install.html\n",
      "  from .autonotebook import tqdm as notebook_tqdm\n",
      "/Users/mh28/miniconda3/envs/dsenv3/lib/python3.8/site-packages/MDAnalysis/coordinates/TRJ.py:1209: DeprecationWarning: Please use `netcdf_file` from the `scipy.io` namespace, the `scipy.io.netcdf` namespace is deprecated.\n",
      "  class NCDFPicklable(scipy.io.netcdf.netcdf_file):\n"
     ]
    }
   ],
   "source": [
    "from darwinian_shift import DarwinianShift, BigwigLookup, hide_top_and_right_axes"
   ]
  },
  {
   "cell_type": "code",
   "execution_count": 3,
   "metadata": {
    "ExecuteTime": {
     "end_time": "2022-06-23T08:03:14.377242Z",
     "start_time": "2022-06-23T08:03:14.369137Z"
    }
   },
   "outputs": [],
   "source": [
    "# Colours\n",
    "unobserved_colour = '#979797'\n",
    "observed_colour = '#EE7733'"
   ]
  },
  {
   "cell_type": "code",
   "execution_count": 4,
   "metadata": {
    "ExecuteTime": {
     "end_time": "2022-06-23T08:03:14.390620Z",
     "start_time": "2022-06-23T08:03:14.382421Z"
    }
   },
   "outputs": [],
   "source": [
    "# The BigWig file can be downloaded from here http://hgdownload.soe.ucsc.edu/goldenPath/hg19/phyloP100way/\n",
    "# or by running \n",
    "# wget http://hgdownload.soe.ucsc.edu/goldenPath/hg19/phyloP100way/hg19.100way.phyloP100way.bw \n",
    "# Warning This file is approx 9Gb.\n",
    "bw = BigwigLookup(\"hg19.100way.phyloP100way.bw\", name='Phylop score')"
   ]
  },
  {
   "cell_type": "code",
   "execution_count": 5,
   "metadata": {
    "ExecuteTime": {
     "end_time": "2022-06-23T08:03:14.402728Z",
     "start_time": "2022-06-23T08:03:14.397098Z"
    }
   },
   "outputs": [],
   "source": [
    "transmembrane_section = {\n",
    "    'transcript_id': 'ENST00000277541', \n",
    "        'start': 1736, 'end': 1756\n",
    "}"
   ]
  },
  {
   "cell_type": "code",
   "execution_count": 6,
   "metadata": {
    "ExecuteTime": {
     "end_time": "2022-06-23T08:03:45.014441Z",
     "start_time": "2022-06-23T08:03:14.407423Z"
    }
   },
   "outputs": [],
   "source": [
    "d_skin = DarwinianShift(\n",
    "    data = pd.read_excel('248092_3_supp_6645104_q35h43.xlsx', sheet_name='Table S4', skiprows=4),\n",
    "    source_genome='GRCh37',\n",
    "    spectra='skin_trinuc_spectrum.txt',\n",
    "    lookup=bw,\n",
    "    included_mutation_types='missense'\n",
    ")"
   ]
  },
  {
   "cell_type": "code",
   "execution_count": 7,
   "metadata": {
    "ExecuteTime": {
     "end_time": "2022-06-23T08:03:50.622763Z",
     "start_time": "2022-06-23T08:03:45.018691Z"
    }
   },
   "outputs": [],
   "source": [
    "d_oe = DarwinianShift(\n",
    "    data=pd.read_excel('aau3879_TableS2.xlsx',\n",
    "                       sheet_name='Mutations_collapsed_by_distance', skiprows=17),\n",
    "    source_genome='GRCh37',\n",
    "    spectra='oesophagus_trinuc_spectrum.txt',\n",
    "    lookup=bw,\n",
    "    included_mutation_types='missense'\n",
    ")"
   ]
  },
  {
   "cell_type": "markdown",
   "metadata": {},
   "source": [
    "# Skin"
   ]
  },
  {
   "cell_type": "code",
   "execution_count": 8,
   "metadata": {
    "ExecuteTime": {
     "end_time": "2022-06-23T08:03:52.166185Z",
     "start_time": "2022-06-23T08:03:50.626421Z"
    }
   },
   "outputs": [],
   "source": [
    "s = d_skin.run_section(transmembrane_section)"
   ]
  },
  {
   "cell_type": "code",
   "execution_count": 9,
   "metadata": {
    "ExecuteTime": {
     "end_time": "2022-06-23T08:03:52.549177Z",
     "start_time": "2022-06-23T08:03:52.169487Z"
    }
   },
   "outputs": [
    {
     "data": {
      "image/png": "[encoded data removed]",
      "text/plain": [
       "<Figure size 432x216 with 2 Axes>"
      ]
     },
     "metadata": {
      "needs_background": "light"
     },
     "output_type": "display_data"
    }
   ],
   "source": [
    "s.plot_scatter(show_residues=True, show_legend=False, figsize=(6, 3),\n",
    "                    unobserved_mutation_colour=unobserved_colour, missense_mutation_colour=observed_colour,\n",
    "                    unmutated_marker_size=15, base_marker_size=15)\n",
    "hide_top_and_right_axes()\n",
    "plt.tight_layout()"
   ]
  },
  {
   "cell_type": "code",
   "execution_count": 10,
   "metadata": {
    "ExecuteTime": {
     "end_time": "2022-06-23T08:03:52.754863Z",
     "start_time": "2022-06-23T08:03:52.552283Z"
    }
   },
   "outputs": [
    {
     "data": {
      "image/png": "[encoded data removed]",
      "text/plain": [
       "<Figure size 216x216 with 1 Axes>"
      ]
     },
     "metadata": {
      "needs_background": "light"
     },
     "output_type": "display_data"
    }
   ],
   "source": [
    "s.plot_mutation_rate_scatter(figsize=(3, 3), show_legend=False,\n",
    "                            unobserved_mutation_colour=unobserved_colour, missense_mutation_colour=observed_colour,\n",
    "                            unmutated_marker_size=15, base_marker_size=15)\n",
    "hide_top_and_right_axes()\n",
    "plt.title('')\n",
    "plt.xlabel('Mutation rate (AU)')\n",
    "plt.tight_layout()"
   ]
  },
  {
   "cell_type": "markdown",
   "metadata": {},
   "source": [
    "# Oesophagus"
   ]
  },
  {
   "cell_type": "code",
   "execution_count": 11,
   "metadata": {
    "ExecuteTime": {
     "end_time": "2022-06-23T08:03:54.484112Z",
     "start_time": "2022-06-23T08:03:52.759169Z"
    }
   },
   "outputs": [],
   "source": [
    "s = d_oe.run_section(transmembrane_section)"
   ]
  },
  {
   "cell_type": "code",
   "execution_count": 12,
   "metadata": {
    "ExecuteTime": {
     "end_time": "2022-06-23T08:03:54.819194Z",
     "start_time": "2022-06-23T08:03:54.486714Z"
    }
   },
   "outputs": [
    {
     "data": {
      "image/png": "[encoded data removed]",
      "text/plain": [
       "<Figure size 432x216 with 2 Axes>"
      ]
     },
     "metadata": {
      "needs_background": "light"
     },
     "output_type": "display_data"
    }
   ],
   "source": [
    "s.plot_scatter(show_residues=True, show_legend=False, figsize=(6, 3),\n",
    "                    unobserved_mutation_colour=unobserved_colour, missense_mutation_colour=observed_colour,\n",
    "                    unmutated_marker_size=15, base_marker_size=15)\n",
    "hide_top_and_right_axes()\n",
    "plt.tight_layout()"
   ]
  },
  {
   "cell_type": "code",
   "execution_count": 13,
   "metadata": {
    "ExecuteTime": {
     "end_time": "2022-06-23T08:03:55.218492Z",
     "start_time": "2022-06-23T08:03:54.822674Z"
    }
   },
   "outputs": [
    {
     "data": {
      "image/png": "[encoded data removed]",
      "text/plain": [
       "<Figure size 216x216 with 1 Axes>"
      ]
     },
     "metadata": {
      "needs_background": "light"
     },
     "output_type": "display_data"
    }
   ],
   "source": [
    "s.plot_mutation_rate_scatter(figsize=(3, 3), show_legend=False,\n",
    "                            unobserved_mutation_colour=unobserved_colour, missense_mutation_colour=observed_colour,\n",
    "                            unmutated_marker_size=15, base_marker_size=15)\n",
    "hide_top_and_right_axes()\n",
    "plt.title('')\n",
    "plt.xlabel('Mutation rate (AU)')\n",
    "plt.tight_layout()"
   ]
  },
  {
   "cell_type": "code",
   "execution_count": null,
   "metadata": {},
   "outputs": [],
   "source": []
  }
 ],
 "metadata": {
  "kernelspec": {
   "display_name": "Python 3 (ipykernel)",
   "language": "python",
   "name": "python3"
  },
  "language_info": {
   "codemirror_mode": {
    "name": "ipython",
    "version": 3
   },
   "file_extension": ".py",
   "mimetype": "text/x-python",
   "name": "python",
   "nbconvert_exporter": "python",
   "pygments_lexer": "ipython3",
   "version": "3.8.13"
  }
 },
 "nbformat": 4,
 "nbformat_minor": 2
}
