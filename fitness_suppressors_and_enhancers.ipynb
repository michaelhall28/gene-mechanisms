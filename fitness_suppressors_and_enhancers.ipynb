{
 "cells": [
  {
   "cell_type": "code",
   "execution_count": 1,
   "id": "87068659",
   "metadata": {
    "ExecuteTime": {
     "end_time": "2022-06-24T15:51:23.530454Z",
     "start_time": "2022-06-24T15:51:21.897461Z"
    }
   },
   "outputs": [],
   "source": [
    "import numpy as np\n",
    "import pandas as pd\n",
    "import matplotlib.pyplot as plt\n",
    "%matplotlib inline\n",
    "import matplotlib"
   ]
  },
  {
   "cell_type": "code",
   "execution_count": 2,
   "id": "cfd8d404",
   "metadata": {
    "ExecuteTime": {
     "end_time": "2022-06-24T15:51:25.652322Z",
     "start_time": "2022-06-24T15:51:23.535852Z"
    }
   },
   "outputs": [
    {
     "name": "stderr",
     "output_type": "stream",
     "text": [
      "/Users/mh28/miniconda3/envs/dsenv3/lib/python3.8/site-packages/tqdm/auto.py:22: TqdmWarning: IProgress not found. Please update jupyter and ipywidgets. See https://ipywidgets.readthedocs.io/en/stable/user_install.html\n",
      "  from .autonotebook import tqdm as notebook_tqdm\n",
      "/Users/mh28/miniconda3/envs/dsenv3/lib/python3.8/site-packages/MDAnalysis/coordinates/TRJ.py:1209: DeprecationWarning: Please use `netcdf_file` from the `scipy.io` namespace, the `scipy.io.netcdf` namespace is deprecated.\n",
      "  class NCDFPicklable(scipy.io.netcdf.netcdf_file):\n"
     ]
    }
   ],
   "source": [
    "from darwinian_shift import DarwinianShift, CDFMonteCarloTest, BinomTest"
   ]
  },
  {
   "cell_type": "code",
   "execution_count": 3,
   "id": "afabbd75",
   "metadata": {
    "ExecuteTime": {
     "end_time": "2022-06-24T15:51:25.665098Z",
     "start_time": "2022-06-24T15:51:25.656261Z"
    }
   },
   "outputs": [],
   "source": [
    "from darwinian_shift import FreeSASALookup, SequenceDistanceLookup, MutationExclusionLookup, StructureDistanceLookup\n",
    "from darwinian_shift import FoldXLookup, ANDLookup, ORLookup\n",
    "from darwinian_shift import hide_top_and_right_axes"
   ]
  },
  {
   "cell_type": "code",
   "execution_count": 4,
   "id": "e1e47fd4",
   "metadata": {
    "ExecuteTime": {
     "end_time": "2022-06-24T15:51:25.677483Z",
     "start_time": "2022-06-24T15:51:25.670698Z"
    }
   },
   "outputs": [],
   "source": [
    "# Directories\n",
    "sifts_directory=\"SIFTS_files\"\n",
    "pdb_directory = \"PDB_files\"\n",
    "\n",
    "# Colours\n",
    "unobserved_colour = '#BBBBBB'  \n",
    "observed_colour = '#EE7733'\n",
    "foldx_expected_colour = '#EE6677'\n",
    "foldx_observed_colour = '#CC3311'\n",
    "interface_expected_colour = '#88CCEE'\n",
    "interface_observed_colour = '#0077BB'\n",
    "calcium_expected_colour = '#8DE0D7'\n",
    "calcium_observed_colour = '#009988'"
   ]
  },
  {
   "cell_type": "code",
   "execution_count": 5,
   "id": "294d2c40",
   "metadata": {
    "ExecuteTime": {
     "end_time": "2022-06-24T15:51:53.020607Z",
     "start_time": "2022-06-24T15:51:25.681725Z"
    }
   },
   "outputs": [],
   "source": [
    "d_skin = DarwinianShift(\n",
    "    data = pd.read_excel('248092_3_supp_6645104_q35h43.xlsx', sheet_name='Table S4', skiprows=4),\n",
    "    source_genome='GRCh37',\n",
    "    spectra='skin_trinuc_spectrum.txt',\n",
    "    included_mutation_types='missense', \n",
    "    statistics=CDFMonteCarloTest(num_draws=100000)\n",
    ")"
   ]
  },
  {
   "cell_type": "markdown",
   "id": "e45ce55b",
   "metadata": {},
   "source": [
    "# Solvent accessibility"
   ]
  },
  {
   "cell_type": "markdown",
   "id": "260e0cd4",
   "metadata": {},
   "source": [
    "Exclude mutations on key functional sites (interface with DNA/ligands, calcium binding residues, key regions with mutations that activate the protein), and test if there is a shift in the distribution of solvent accessibility of the remaining mutations. \n",
    "\n",
    "First need to create the lookup classes to score and exclude the mutations.  "
   ]
  },
  {
   "cell_type": "code",
   "execution_count": 6,
   "id": "9af61464",
   "metadata": {
    "ExecuteTime": {
     "end_time": "2022-06-24T15:51:53.031106Z",
     "start_time": "2022-06-24T15:51:53.025733Z"
    }
   },
   "outputs": [],
   "source": [
    "# A lookup for solvent accessibility.  \n",
    "sa = FreeSASALookup(metric='total', pdb_directory=pdb_directory, sifts_directory=sifts_directory, \n",
    "                    download_pdb_file=True)"
   ]
  },
  {
   "cell_type": "code",
   "execution_count": 7,
   "id": "1b272328",
   "metadata": {
    "ExecuteTime": {
     "end_time": "2022-06-24T15:51:53.042224Z",
     "start_time": "2022-06-24T15:51:53.035441Z"
    }
   },
   "outputs": [],
   "source": [
    "# Make a class to exclude mutations on key functional sites\n",
    "focus_lookup = SequenceDistanceLookup(\n",
    "    boolean=True,   # Just a boolean in/not in \"focus\" residues. \n",
    "    target_key='focus_residues',   # Use this entry in the section_definition dict to define the target residues\n",
    "    position_type='residue',   # Use the residue number (as opposed to cdspos or chromosomal position)\n",
    "    name=''  # Label to appear on plot axes\n",
    ")\n",
    "\n",
    "# And combine with the solvent accessibility class\n",
    "# This will test for the distribution of solvent accessibility among mutations not on the functional sites\n",
    "sa_excl = MutationExclusionLookup(\n",
    "    lookup=sa, \n",
    "    exclusion_lookup=focus_lookup,   \n",
    "    exclusion_threshold=0.5, \n",
    "    exclusion_direction=1,  \n",
    "    name='SA'\n",
    ")"
   ]
  },
  {
   "cell_type": "code",
   "execution_count": 8,
   "id": "a7bd31eb",
   "metadata": {
    "ExecuteTime": {
     "end_time": "2022-06-24T15:51:53.053248Z",
     "start_time": "2022-06-24T15:51:53.045220Z"
    }
   },
   "outputs": [],
   "source": [
    "# And make another class, this time to exclude mutations near to a molecule. \n",
    "\n",
    "# This measures the distance to the target\n",
    "struct = StructureDistanceLookup(pdb_directory=pdb_directory, \n",
    "                            sifts_directory=sifts_directory)\n",
    "\n",
    "# This converts to True/False if the distance is below or above the threshold\n",
    "struct_bool = ANDLookup(lookups=[struct], thresholds=[8], directions=[-1])\n",
    "\n",
    "# And this combines with the solvent accesibility\n",
    "# This will test for the distribution of solvent accessibility among mutations distant from the target molecules\n",
    "sa_excl2 = MutationExclusionLookup(\n",
    "    lookup=sa, \n",
    "    exclusion_lookup=struct_bool,   \n",
    "    exclusion_threshold=0.5, \n",
    "    exclusion_direction=1,  \n",
    "    name='SA'\n",
    ")"
   ]
  },
  {
   "cell_type": "markdown",
   "id": "8a356d7c",
   "metadata": {},
   "source": [
    "Define the key residues and the PDB structures to use for each protein. "
   ]
  },
  {
   "cell_type": "code",
   "execution_count": 9,
   "id": "4223a889",
   "metadata": {
    "ExecuteTime": {
     "end_time": "2022-06-24T15:51:53.081902Z",
     "start_time": "2022-06-24T15:51:53.057026Z"
    }
   },
   "outputs": [],
   "source": [
    "interface_residues = set([413, 415, 418, 420, 421, 422, 423, 424, 425, \n",
    "                         435, 436, 444, 447, 448, 450, 451, 452, 454, \n",
    "                         466, 467, 468, 469, 470, 471, 475, 477, 478, \n",
    "                         479, 480]) # defined in Luca et al 2017\n",
    "ca_binding_residues = set([412, 413, 415, 431, 432, 435, 452, 453, 455, 469, 470])  # Defined by MetalPDB\n",
    "focus_residues = interface_residues.union(ca_binding_residues)\n",
    "\n",
    "notch1_section_definition_egf11_12 = {\n",
    "    'transcript_id': 'ENST00000277541', 'pdb_id': '2vj3', 'pdb_chain': 'A', \n",
    "    'start': 412, 'end': 488, # Restrict to the residues in EGF11-12\n",
    "    'ca_binding_residues': ca_binding_residues,\n",
    "    'interface_residues': interface_residues,\n",
    "    'focus_residues': focus_residues,\n",
    "}"
   ]
  },
  {
   "cell_type": "code",
   "execution_count": 10,
   "id": "a79f98f7",
   "metadata": {
    "ExecuteTime": {
     "end_time": "2022-06-24T15:51:53.107809Z",
     "start_time": "2022-06-24T15:51:53.093881Z"
    }
   },
   "outputs": [],
   "source": [
    "interface_residues = set([418, 421, 424, 425, 426, 428, 429, 439, 440, 452, 454, 456, 470, 472, 473, 481]) \n",
    "ca_binding_residues = set([415, 416, 418, 435, 436, 439, 456, 457, 459, 473, 474]) \n",
    "focus_residues = interface_residues.union(ca_binding_residues)\n",
    "\n",
    "notch2_section_definition_egf11_12 = {\n",
    "    'transcript_id': 'ENST00000256646', 'pdb_id': '5mwb', 'pdb_chain': 'A', \n",
    "    'start': 415, 'end': 492, # Restrict to the residues in EGF11-12\n",
    "    'ca_binding_residues': ca_binding_residues,\n",
    "    'interface_residues': interface_residues,\n",
    "    'focus_residues': focus_residues\n",
    "}"
   ]
  },
  {
   "cell_type": "code",
   "execution_count": 11,
   "id": "adc679e9",
   "metadata": {
    "ExecuteTime": {
     "end_time": "2022-06-24T15:51:53.121628Z",
     "start_time": "2022-06-24T15:51:53.110501Z"
    }
   },
   "outputs": [],
   "source": [
    "p53_dbd_section = {\n",
    "    'transcript_id': 'ENST00000269305', 'pdb_id': '2ac0', 'pdb_chain': 'A', \n",
    "    'target_selection': 'segid E F G H'\n",
    "}"
   ]
  },
  {
   "cell_type": "code",
   "execution_count": 12,
   "id": "bf126e99",
   "metadata": {
    "ExecuteTime": {
     "end_time": "2022-06-24T15:51:53.139643Z",
     "start_time": "2022-06-24T15:51:53.124860Z"
    }
   },
   "outputs": [],
   "source": [
    "# Residues in the three significantly selected regions of PIK3CA\n",
    "selected_regions = np.concatenate([np.arange(100, 120), np.arange(444, 474), np.arange(962, 981)])\n",
    "\n",
    "pik3ca_section_definition = {'transcript_id':'ENST00000263967', 'included_mutation_types': 'missense',\n",
    "                            'pdb_id': '4l1b', 'pdb_chain': 'A', \n",
    "                             'focus_residues': selected_regions \n",
    "                            }"
   ]
  },
  {
   "cell_type": "code",
   "execution_count": 13,
   "id": "13c008bc",
   "metadata": {
    "ExecuteTime": {
     "end_time": "2022-06-24T15:51:53.155877Z",
     "start_time": "2022-06-24T15:51:53.143240Z"
    }
   },
   "outputs": [],
   "source": [
    "fbxw7_section_definition = {'gene': 'FBXW7', 'pdb_id': '2OVQ', 'pdb_chain': 'B', 'target_selection': 'protein and segid C'}"
   ]
  },
  {
   "cell_type": "code",
   "execution_count": 14,
   "id": "b9dd2981",
   "metadata": {
    "ExecuteTime": {
     "end_time": "2022-06-24T15:51:53.172448Z",
     "start_time": "2022-06-24T15:51:53.160371Z"
    }
   },
   "outputs": [],
   "source": [
    "# Create a function to make the plot\n",
    "\n",
    "from darwinian_shift.section import get_distribution_from_mutational_spectrum\n",
    "import seaborn as sns\n",
    "\n",
    "def get_combined_boxplot_data(sections):\n",
    "    \"\"\"\n",
    "    Boxplot of the expected and observed distributions of mutation scores.\n",
    "    :param spectra: The mutational spectrum or list of mutational spectra to use.\n",
    "    :param plot_scale:  Scale for the y-axis (mutation scores). Passed to matplotlib. 'log', 'symlog' etc.\n",
    "    :param show_plot: If True, will call plt.show().\n",
    "    :param colours: List of colours. First colour is for the observed data, the subsequent colours are\n",
    "    for plotting the null distributions from each of the mutational spectra given.\n",
    "    :param figsize: Size of the figure.\n",
    "    :param return_fig: If True, will return the figure. Used for testing.\n",
    "    :param ax: Matplotlib axis to plot on. If None, will create a new figure.\n",
    "    :return: By default, None. If return_fig=True, will return the figure.\n",
    "    \"\"\"\n",
    "    data = []\n",
    "    null_obs_labels = []\n",
    "    genes = []\n",
    "    \n",
    "    for self in sections:\n",
    "        spectrum = self._get_spectra(None)[0]\n",
    "        \n",
    "        null_dist = get_distribution_from_mutational_spectrum(self.null_scores,\n",
    "                                                          self.null_mutations[spectrum.rate_column])\n",
    "        data.extend(null_dist)\n",
    "        null_obs_labels.extend(['null'] * len(null_dist))\n",
    "        data.extend(self.observed_values)\n",
    "        null_obs_labels.extend(['obs'] * self.num_mutations)\n",
    "        \n",
    "        genes.extend([self.gene] * (len(null_dist) + self.num_mutations))\n",
    "        \n",
    "    d = pd.DataFrame({'Solvent Accesibility': data, \n",
    "                     'null_obs': null_obs_labels, \n",
    "                     'gene': genes})\n",
    "        \n",
    "    return d\n",
    "    \n"
   ]
  },
  {
   "cell_type": "markdown",
   "id": "7d7565d8",
   "metadata": {},
   "source": [
    "Calculate the expected and observed distributions of solvent accessibility in each protein. "
   ]
  },
  {
   "cell_type": "code",
   "execution_count": 15,
   "id": "93ed2090",
   "metadata": {
    "ExecuteTime": {
     "end_time": "2022-06-24T15:51:57.952917Z",
     "start_time": "2022-06-24T15:51:53.177459Z"
    }
   },
   "outputs": [],
   "source": [
    "notch1 = d_skin.run_section(notch1_section_definition_egf11_12, lookup=sa_excl)"
   ]
  },
  {
   "cell_type": "code",
   "execution_count": 16,
   "id": "dabe6ca0",
   "metadata": {
    "ExecuteTime": {
     "end_time": "2022-06-24T15:52:01.685505Z",
     "start_time": "2022-06-24T15:51:57.955430Z"
    }
   },
   "outputs": [],
   "source": [
    "notch2 = d_skin.run_section(notch2_section_definition_egf11_12, lookup=sa_excl)"
   ]
  },
  {
   "cell_type": "code",
   "execution_count": 17,
   "id": "eb8dda1b",
   "metadata": {
    "ExecuteTime": {
     "end_time": "2022-06-24T15:52:06.504323Z",
     "start_time": "2022-06-24T15:52:01.687867Z"
    }
   },
   "outputs": [],
   "source": [
    "tp53 = d_skin.run_section(p53_dbd_section, lookup=sa_excl2)"
   ]
  },
  {
   "cell_type": "code",
   "execution_count": 18,
   "id": "38921a6f",
   "metadata": {
    "ExecuteTime": {
     "end_time": "2022-06-24T15:52:09.908822Z",
     "start_time": "2022-06-24T15:52:06.506893Z"
    }
   },
   "outputs": [],
   "source": [
    "pik3ca = d_skin.run_section(pik3ca_section_definition, lookup=sa_excl)"
   ]
  },
  {
   "cell_type": "code",
   "execution_count": 19,
   "id": "4ac9a030",
   "metadata": {
    "ExecuteTime": {
     "end_time": "2022-06-24T15:52:12.454494Z",
     "start_time": "2022-06-24T15:52:09.912480Z"
    },
    "scrolled": true
   },
   "outputs": [],
   "source": [
    "fbxw7 = d_skin.run_section(fbxw7_section_definition, lookup=sa_excl2)"
   ]
  },
  {
   "cell_type": "code",
   "execution_count": 20,
   "id": "a227ef25",
   "metadata": {
    "ExecuteTime": {
     "end_time": "2022-06-24T15:52:14.698246Z",
     "start_time": "2022-06-24T15:52:12.456931Z"
    }
   },
   "outputs": [],
   "source": [
    "boxplot_data = get_combined_boxplot_data([notch1, notch2, tp53, pik3ca, fbxw7])"
   ]
  },
  {
   "cell_type": "code",
   "execution_count": 21,
   "id": "998e8ec8",
   "metadata": {
    "ExecuteTime": {
     "end_time": "2022-06-24T15:52:19.174748Z",
     "start_time": "2022-06-24T15:52:14.700554Z"
    }
   },
   "outputs": [
    {
     "data": {
      "image/png": "[encoded data removed]",
      "text/plain": [
       "<Figure size 360x288 with 1 Axes>"
      ]
     },
     "metadata": {
      "needs_background": "light"
     },
     "output_type": "display_data"
    }
   ],
   "source": [
    "plt.figure(figsize=(5, 4))\n",
    "p = sns.boxplot(data=boxplot_data, x='gene', y='Solvent Accesibility', hue='null_obs', dodge=True, \n",
    "               palette=[foldx_expected_colour, foldx_observed_colour])\n",
    "p.legend_.remove()\n",
    "hide_top_and_right_axes()\n",
    "plt.xlabel(\"\");"
   ]
  },
  {
   "cell_type": "code",
   "execution_count": 22,
   "id": "b91300da",
   "metadata": {
    "ExecuteTime": {
     "end_time": "2022-06-24T15:52:19.187562Z",
     "start_time": "2022-06-24T15:52:19.178706Z"
    }
   },
   "outputs": [
    {
     "data": {
      "text/plain": [
       "({'CDF_MC_glob_k3_pvalue': 1.999980000199998e-05},\n",
       " {'CDF_MC_glob_k3_pvalue': 1.999980000199998e-05},\n",
       " {'CDF_MC_glob_k3_pvalue': 1.999980000199998e-05})"
      ]
     },
     "execution_count": 22,
     "metadata": {},
     "output_type": "execute_result"
    }
   ],
   "source": [
    "notch1.get_pvalues(), notch2.get_pvalues(), tp53.get_pvalues()"
   ]
  },
  {
   "cell_type": "code",
   "execution_count": 23,
   "id": "d56be241",
   "metadata": {
    "ExecuteTime": {
     "end_time": "2022-06-24T15:52:19.214582Z",
     "start_time": "2022-06-24T15:52:19.190320Z"
    }
   },
   "outputs": [
    {
     "data": {
      "text/plain": [
       "({'CDF_MC_glob_k3_pvalue': 0.28623713762862374},\n",
       " {'CDF_MC_glob_k3_pvalue': 0.7238727612723873})"
      ]
     },
     "execution_count": 23,
     "metadata": {},
     "output_type": "execute_result"
    }
   ],
   "source": [
    "pik3ca.get_pvalues(), fbxw7.get_pvalues()"
   ]
  },
  {
   "cell_type": "markdown",
   "id": "36e9b70b",
   "metadata": {},
   "source": [
    "# Enrichment of structure disrupting and functional site mutations"
   ]
  },
  {
   "cell_type": "markdown",
   "id": "92ebe284",
   "metadata": {},
   "source": [
    "For each protein, calculate the observed/expected ratio of mutations that either disrupt the protein structure (destabilising mutations with high ∆∆G or mutations on calcium binding sites) or that are on key functional sites (protein-ligand interface, key regions in which activating mutations occur).   \n",
    "\n",
    "A ratio above one shows an enrichment (likely positive selection) compared to the expected frequency, and a value below one is a depletion (likely negative selection).   \n",
    "\n",
    "For each test, mutations in the other category are excluded to prevent the confounding effects of other selection. "
   ]
  },
  {
   "cell_type": "code",
   "execution_count": 24,
   "id": "160dcc0e",
   "metadata": {
    "ExecuteTime": {
     "end_time": "2022-06-24T15:52:19.249474Z",
     "start_time": "2022-06-24T15:52:19.222587Z"
    }
   },
   "outputs": [],
   "source": [
    "# Define the FoldX lookup\n",
    "fold = FoldXLookup(foldx_results_directory=\"FoldX_results\",\n",
    "                   sifts_directory=sifts_directory,\n",
    "                   foldx_file_name_start=\"PS_f*\", download_sifts=True)\n",
    "\n",
    "# Define a lookup object which determines whether mutations are on a ligand interface\n",
    "interface_lookup = SequenceDistanceLookup(\n",
    "    boolean=True,   # Just a boolean on/off interface. \n",
    "    target_key='interface_residues',   # Use this entry in the section_definition dict to define the target residues\n",
    "    position_type='residue',   # Use the residue number (as opposed to cdspos or chromosomal position)\n",
    "    name='On interface'  # Label to appear on plot axes\n",
    ")\n",
    "\n",
    "# A lookup for calcium binding mutations.\n",
    "ca_lookup = SequenceDistanceLookup(\n",
    "    boolean=True,   # Just a boolean binding/not binding. \n",
    "    target_key='ca_binding_residues',   # Use this entry in the section_definition dict to define the target residues\n",
    "    position_type='residue',   # Use the residue number (as opposed to cdspos or chromosomal position)\n",
    "    name='Calcium binding'  # Label to appear on plot axes\n",
    ")\n",
    "\n",
    "# A lookup to define mutations with 8A of a target molecule in the PDB structure\n",
    "struct = StructureDistanceLookup(pdb_directory=pdb_directory, \n",
    "                            sifts_directory=sifts_directory)\n",
    "\n",
    "struct_bool = ANDLookup(lookups=[struct], thresholds=[8], directions=[-1])"
   ]
  },
  {
   "cell_type": "markdown",
   "id": "b566c73f",
   "metadata": {},
   "source": [
    "## NOTCH1"
   ]
  },
  {
   "cell_type": "code",
   "execution_count": 25,
   "id": "f24c81b3",
   "metadata": {
    "ExecuteTime": {
     "end_time": "2022-06-24T15:52:19.269122Z",
     "start_time": "2022-06-24T15:52:19.258072Z"
    }
   },
   "outputs": [],
   "source": [
    "fold_ca = ORLookup(\n",
    "    lookups=[fold, ca_lookup],  \n",
    "    thresholds=[2, 0.5],\n",
    "    directions=[1, 1], \n",
    ")\n",
    "\n",
    "# Test for interface mutations (a function site), excluding the other categories\n",
    "interface_excl = MutationExclusionLookup(\n",
    "    lookup=interface_lookup, \n",
    "    exclusion_lookup=fold_ca,   \n",
    "    exclusion_threshold=0.5, \n",
    "    exclusion_direction=1,  \n",
    "    name='interface'\n",
    ")\n",
    "\n",
    "# Test for destabilising or calcium binding mutations, exluding interface mutations\n",
    "fold_ca_excl = MutationExclusionLookup(\n",
    "    lookup=fold_ca, \n",
    "    exclusion_lookup=interface_lookup,   \n",
    "    exclusion_threshold=0.5, \n",
    "    exclusion_direction=1,  \n",
    "    name='fold_ca'\n",
    ")"
   ]
  },
  {
   "cell_type": "code",
   "execution_count": 26,
   "id": "83bc49ac",
   "metadata": {
    "ExecuteTime": {
     "end_time": "2022-06-24T15:52:22.198238Z",
     "start_time": "2022-06-24T15:52:19.272913Z"
    }
   },
   "outputs": [],
   "source": [
    "notch1 = d_skin.run_section(notch1_section_definition_egf11_12, lookup=interface_excl, statistics=BinomTest())\n",
    "res_int = notch1.get_results_dictionary()\n",
    "ratio_interface = res_int['binom_glob_k3_observed_proportion']/res_int['binom_glob_k3_expected_proportion']"
   ]
  },
  {
   "cell_type": "code",
   "execution_count": 27,
   "id": "325c897d",
   "metadata": {
    "ExecuteTime": {
     "end_time": "2022-06-24T15:52:25.503169Z",
     "start_time": "2022-06-24T15:52:22.200419Z"
    }
   },
   "outputs": [],
   "source": [
    "notch1_foldca = d_skin.run_section(notch1_section_definition_egf11_12, lookup=fold_ca_excl, statistics=BinomTest())\n",
    "res_fc = notch1_foldca.get_results_dictionary()\n",
    "ratio_fc = res_fc['binom_glob_k3_observed_proportion']/res_fc['binom_glob_k3_expected_proportion']"
   ]
  },
  {
   "cell_type": "code",
   "execution_count": 28,
   "id": "3e1de485",
   "metadata": {
    "ExecuteTime": {
     "end_time": "2022-06-24T15:52:25.515554Z",
     "start_time": "2022-06-24T15:52:25.511244Z"
    }
   },
   "outputs": [],
   "source": [
    "notch1_res = [ratio_interface, ratio_fc]"
   ]
  },
  {
   "cell_type": "markdown",
   "id": "1b8509d6",
   "metadata": {},
   "source": [
    "## NOTCH2"
   ]
  },
  {
   "cell_type": "markdown",
   "id": "4eaa0528",
   "metadata": {},
   "source": [
    "NOTCH2 can use the same lookup classes as NOTCH1"
   ]
  },
  {
   "cell_type": "code",
   "execution_count": 29,
   "id": "6a55140a",
   "metadata": {
    "ExecuteTime": {
     "end_time": "2022-06-24T15:52:28.965515Z",
     "start_time": "2022-06-24T15:52:25.519466Z"
    }
   },
   "outputs": [],
   "source": [
    "notch2 = d_skin.run_section(notch2_section_definition_egf11_12, lookup=interface_excl, statistics=BinomTest())\n",
    "res_n2_int = notch2.get_results_dictionary()\n",
    "ratio_n2_int = res_n2_int['binom_glob_k3_observed_proportion']/res_n2_int['binom_glob_k3_expected_proportion']"
   ]
  },
  {
   "cell_type": "code",
   "execution_count": 30,
   "id": "1632ad67",
   "metadata": {
    "ExecuteTime": {
     "end_time": "2022-06-24T15:52:32.467016Z",
     "start_time": "2022-06-24T15:52:28.967785Z"
    }
   },
   "outputs": [],
   "source": [
    "notch2 = d_skin.run_section(notch2_section_definition_egf11_12, lookup=fold_ca_excl, statistics=BinomTest())\n",
    "res_n2_fold = notch2.get_results_dictionary()\n",
    "ratio_n2_fold = res_n2_fold['binom_glob_k3_observed_proportion']/res_n2_fold['binom_glob_k3_expected_proportion']"
   ]
  },
  {
   "cell_type": "code",
   "execution_count": 31,
   "id": "4859d2c1",
   "metadata": {
    "ExecuteTime": {
     "end_time": "2022-06-24T15:52:32.474156Z",
     "start_time": "2022-06-24T15:52:32.469364Z"
    }
   },
   "outputs": [],
   "source": [
    "notch2_res = [ratio_n2_int, ratio_n2_fold]"
   ]
  },
  {
   "cell_type": "markdown",
   "id": "136f3d5c",
   "metadata": {},
   "source": [
    "## TP53"
   ]
  },
  {
   "cell_type": "code",
   "execution_count": 32,
   "id": "2faee506",
   "metadata": {
    "ExecuteTime": {
     "end_time": "2022-06-24T15:52:32.484896Z",
     "start_time": "2022-06-24T15:52:32.478045Z"
    }
   },
   "outputs": [],
   "source": [
    "# TP53 needs different lookups, that use the distance in the structure from the DNA molecule\n",
    "interface_excl = MutationExclusionLookup(\n",
    "    lookup=struct_bool, \n",
    "    exclusion_lookup=fold,   \n",
    "    exclusion_threshold=2, \n",
    "    exclusion_direction=1,  \n",
    "    name='interface'\n",
    ")\n",
    "fold_excl = MutationExclusionLookup(\n",
    "    lookup=fold, \n",
    "    exclusion_lookup=struct_bool,   \n",
    "    exclusion_threshold=0.5, \n",
    "    exclusion_direction=1,  \n",
    "    name='fold'\n",
    ")"
   ]
  },
  {
   "cell_type": "code",
   "execution_count": 33,
   "id": "378da184",
   "metadata": {
    "ExecuteTime": {
     "end_time": "2022-06-24T15:52:35.139831Z",
     "start_time": "2022-06-24T15:52:32.488088Z"
    }
   },
   "outputs": [],
   "source": [
    "p53 = d_skin.run_section(p53_dbd_section, lookup=interface_excl, statistics=BinomTest())\n",
    "res_p53_int = p53.get_results_dictionary()\n",
    "ratio_p53_int = res_p53_int['binom_glob_k3_observed_proportion']/res_p53_int['binom_glob_k3_expected_proportion']"
   ]
  },
  {
   "cell_type": "code",
   "execution_count": 34,
   "id": "ab54b8ff",
   "metadata": {
    "ExecuteTime": {
     "end_time": "2022-06-24T15:52:38.235452Z",
     "start_time": "2022-06-24T15:52:35.142219Z"
    }
   },
   "outputs": [],
   "source": [
    "p53 = d_skin.run_section(p53_dbd_section, lookup=fold_excl, statistics=BinomTest())\n",
    "res_p53_fold = p53.get_results_dictionary()\n",
    "ratio_p53_fold = res_p53_fold['binom_glob_k3_observed_proportion']/res_p53_fold['binom_glob_k3_expected_proportion']"
   ]
  },
  {
   "cell_type": "code",
   "execution_count": 35,
   "id": "cfd14646",
   "metadata": {
    "ExecuteTime": {
     "end_time": "2022-06-24T15:52:38.243280Z",
     "start_time": "2022-06-24T15:52:38.237848Z"
    }
   },
   "outputs": [],
   "source": [
    "p53_res = [ratio_p53_int, ratio_p53_fold]"
   ]
  },
  {
   "cell_type": "markdown",
   "id": "897d4f54",
   "metadata": {},
   "source": [
    "## PIK3CA"
   ]
  },
  {
   "cell_type": "code",
   "execution_count": 36,
   "id": "02937ae4",
   "metadata": {
    "ExecuteTime": {
     "end_time": "2022-06-24T15:52:38.253566Z",
     "start_time": "2022-06-24T15:52:38.246051Z"
    }
   },
   "outputs": [],
   "source": [
    "focus_lookup = SequenceDistanceLookup(\n",
    "    boolean=True,  \n",
    "    target_key='focus_residues',  \n",
    "    position_type='residue',  \n",
    ")\n",
    "\n",
    "focus_excl = MutationExclusionLookup(\n",
    "    lookup=focus_lookup, \n",
    "    exclusion_lookup=fold,   \n",
    "    exclusion_threshold=2, \n",
    "    exclusion_direction=1,  \n",
    ")\n",
    "fold_excl = MutationExclusionLookup(\n",
    "    lookup=fold, \n",
    "    exclusion_lookup=focus_lookup,   \n",
    "    exclusion_threshold=0.5, \n",
    "    exclusion_direction=1,  \n",
    ")"
   ]
  },
  {
   "cell_type": "code",
   "execution_count": 37,
   "id": "7d670f1f",
   "metadata": {
    "ExecuteTime": {
     "end_time": "2022-06-24T15:52:42.474143Z",
     "start_time": "2022-06-24T15:52:38.257920Z"
    }
   },
   "outputs": [],
   "source": [
    "pik3ca = d_skin.run_section(pik3ca_section_definition, lookup=focus_excl, statistics=BinomTest())\n",
    "res_pik_int = pik3ca.get_results_dictionary()\n",
    "ratio_pik_int = res_pik_int['binom_glob_k3_observed_proportion']/res_pik_int['binom_glob_k3_expected_proportion']"
   ]
  },
  {
   "cell_type": "code",
   "execution_count": 38,
   "id": "bb37d9c6",
   "metadata": {
    "ExecuteTime": {
     "end_time": "2022-06-24T15:52:47.181731Z",
     "start_time": "2022-06-24T15:52:42.476827Z"
    }
   },
   "outputs": [],
   "source": [
    "pik3ca = d_skin.run_section(pik3ca_section_definition, lookup=fold_excl,  statistics=BinomTest())\n",
    "res_pik_fold = pik3ca.get_results_dictionary()\n",
    "ratio_pik_fold = res_pik_fold['binom_glob_k3_observed_proportion']/res_pik_fold['binom_glob_k3_expected_proportion']"
   ]
  },
  {
   "cell_type": "code",
   "execution_count": 39,
   "id": "384882b6",
   "metadata": {
    "ExecuteTime": {
     "end_time": "2022-06-24T15:52:47.190514Z",
     "start_time": "2022-06-24T15:52:47.183950Z"
    }
   },
   "outputs": [],
   "source": [
    "pik3ca_res = [ratio_pik_int, ratio_pik_fold]"
   ]
  },
  {
   "cell_type": "markdown",
   "id": "6fbe58b4",
   "metadata": {},
   "source": [
    "## FBXW7"
   ]
  },
  {
   "cell_type": "code",
   "execution_count": 41,
   "id": "6adeaba9",
   "metadata": {
    "ExecuteTime": {
     "end_time": "2022-06-24T15:52:47.214777Z",
     "start_time": "2022-06-24T15:52:47.205980Z"
    }
   },
   "outputs": [],
   "source": [
    "interface_excl = MutationExclusionLookup(\n",
    "    lookup=struct_bool, \n",
    "    exclusion_lookup=fold,   \n",
    "    exclusion_threshold=2, \n",
    "    exclusion_direction=1,  \n",
    "    name='interface'\n",
    ")\n",
    "fold_excl = MutationExclusionLookup(\n",
    "    lookup=fold, \n",
    "    exclusion_lookup=struct_bool,   \n",
    "    exclusion_threshold=0.5, \n",
    "    exclusion_direction=1,  \n",
    "    name='fold'\n",
    ")"
   ]
  },
  {
   "cell_type": "code",
   "execution_count": 43,
   "id": "419c6667",
   "metadata": {
    "ExecuteTime": {
     "end_time": "2022-06-24T15:53:15.390610Z",
     "start_time": "2022-06-24T15:53:13.914621Z"
    }
   },
   "outputs": [
    {
     "name": "stderr",
     "output_type": "stream",
     "text": [
      "/var/folders/fz/0b7ldhcd0rb8rnh3wct1_92c000gly/T/ipykernel_36606/3079415017.py:3: RuntimeWarning: invalid value encountered in double_scalars\n",
      "  ratio_fb_int = res_fb_int['binom_glob_k3_observed_proportion']/res_fb_int['binom_glob_k3_expected_proportion']\n"
     ]
    }
   ],
   "source": [
    "fbxw7 = d_skin.run_section(fbxw7, lookup=interface_excl, statistics=BinomTest())\n",
    "res_fb_int = fbxw7.get_results_dictionary()\n",
    "ratio_fb_int = res_fb_int['binom_glob_k3_observed_proportion']/res_fb_int['binom_glob_k3_expected_proportion']"
   ]
  },
  {
   "cell_type": "code",
   "execution_count": 44,
   "id": "9e0b2aaa",
   "metadata": {
    "ExecuteTime": {
     "end_time": "2022-06-24T15:53:20.209231Z",
     "start_time": "2022-06-24T15:53:18.712977Z"
    }
   },
   "outputs": [
    {
     "name": "stderr",
     "output_type": "stream",
     "text": [
      "/Users/mh28/PycharmProjects/darwinian_shift/darwinian_shift/section.py:247: FutureWarning: Passing 'suffixes' which cause duplicate columns {'score_x'} in the result is deprecated and will raise a MergeError in a future version.\n",
      "  self.observed_mutations = pd.merge(self.observed_mutations,\n"
     ]
    }
   ],
   "source": [
    "fbxw7 = d_skin.run_section(fbxw7, lookup=fold_excl, statistics=BinomTest())\n",
    "res_fb_fold = fbxw7.get_results_dictionary()\n",
    "ratio_fb_fold = res_fb_fold['binom_glob_k3_observed_proportion']/res_fb_fold['binom_glob_k3_expected_proportion']"
   ]
  },
  {
   "cell_type": "code",
   "execution_count": 45,
   "id": "f7890463",
   "metadata": {
    "ExecuteTime": {
     "end_time": "2022-06-24T15:53:22.540205Z",
     "start_time": "2022-06-24T15:53:22.535807Z"
    }
   },
   "outputs": [],
   "source": [
    "fbxw7_res = [ratio_fb_int, ratio_fb_fold]"
   ]
  },
  {
   "cell_type": "markdown",
   "id": "0b0af7e1",
   "metadata": {},
   "source": [
    "## Plot"
   ]
  },
  {
   "cell_type": "code",
   "execution_count": 46,
   "id": "6a3ac2d2",
   "metadata": {
    "ExecuteTime": {
     "end_time": "2022-06-24T15:53:25.470444Z",
     "start_time": "2022-06-24T15:53:25.458051Z"
    }
   },
   "outputs": [],
   "source": [
    "def hide_top_and_right_and_left_axes(ax=None):\n",
    "    if ax is None:\n",
    "        ax = plt.gca()\n",
    "    ax.spines['right'].set_visible(False)\n",
    "    ax.spines['left'].set_visible(False)\n",
    "    ax.spines['top'].set_visible(False)\n",
    "    ax.xaxis.set_ticks_position('bottom')\n",
    "    ax.yaxis.set_ticks_position('none')"
   ]
  },
  {
   "cell_type": "code",
   "execution_count": 47,
   "id": "8d9690e5",
   "metadata": {
    "ExecuteTime": {
     "end_time": "2022-06-24T15:53:26.200028Z",
     "start_time": "2022-06-24T15:53:25.480261Z"
    }
   },
   "outputs": [
    {
     "data": {
      "image/png": "[encoded data removed]",
      "text/plain": [
       "<Figure size 576x360 with 5 Axes>"
      ]
     },
     "metadata": {
      "needs_background": "light"
     },
     "output_type": "display_data"
    }
   ],
   "source": [
    "names = [0, 1]\n",
    "y_off = -0.1\n",
    "\n",
    "fig, axes = plt.subplots(1, 5, sharey=True, figsize=(8, 5))\n",
    "colours = [interface_observed_colour, foldx_observed_colour]\n",
    "\n",
    "axes[0].set_title(\"NOTCH1\", y=y_off)\n",
    "axes[0].bar(names, notch1_res, color=colours)\n",
    "axes[1].set_title(\"NOTCH2\", y=y_off)\n",
    "axes[1].bar(names, notch2_res, color=colours)\n",
    "axes[2].set_title(\"P53\", y=y_off)\n",
    "axes[2].bar(names, p53_res, color=colours)\n",
    "axes[3].set_title(\"PIK3CA\", y=y_off)\n",
    "axes[3].bar(names, pik3ca_res, color=colours)\n",
    "axes[4].set_title(\"FBXW7\", y=y_off)\n",
    "axes[4].bar(names, fbxw7_res, color=colours)\n",
    "\n",
    "hide_top_and_right_axes(axes[0])\n",
    "axes[0].set_xticks([])\n",
    "for ax in axes[1:]:\n",
    "    hide_top_and_right_and_left_axes(ax)\n",
    "    ax.set_xticks([])\n",
    "    \n",
    "axes[0].set_ylabel(\"Relative enrichment\", fontsize=12)\n",
    "\n",
    "axes[4].axhline(y=1,xmin=-4.8,xmax=1,c=\"k\", linestyle='--', linewidth=1, zorder=10,clip_on=False);"
   ]
  },
  {
   "cell_type": "markdown",
   "id": "74949ede",
   "metadata": {},
   "source": [
    "# Correlation of misfolding missense and nonsense selection"
   ]
  },
  {
   "cell_type": "code",
   "execution_count": 48,
   "id": "fddc8256",
   "metadata": {
    "ExecuteTime": {
     "end_time": "2022-06-24T15:53:53.552766Z",
     "start_time": "2022-06-24T15:53:26.207221Z"
    }
   },
   "outputs": [],
   "source": [
    "# Here we need to specify the transcripts to analyse explicitly because the default option (longest transcript)\n",
    "# does not match the canonical sequence (and the structure sequence) for PTPRT\n",
    "transcript_list = [list(v)[0] for k,v in d_skin.gene_transcripts_map.items() if k != 'PTPRT']\n",
    "transcript_list.append('ENST00000373187') # The canonical PTPRT transcript from uniprot\n",
    "\n",
    "# Load the data again, this will not load the correct exons for PTPRT, allowing the structure to be analysed. \n",
    "d_skin = DarwinianShift(\n",
    "    data = pd.read_excel('248092_3_supp_6645104_q35h43.xlsx', sheet_name='Table S4', skiprows=4),\n",
    "    source_genome='GRCh37',\n",
    "    spectra='skin_trinuc_spectrum.txt',\n",
    "    included_mutation_types='missense', \n",
    "    statistics=CDFMonteCarloTest(num_draws=100000),\n",
    "    transcript_list=transcript_list\n",
    ")"
   ]
  },
  {
   "cell_type": "code",
   "execution_count": 49,
   "id": "0bafd843",
   "metadata": {
    "ExecuteTime": {
     "end_time": "2022-06-24T15:53:53.567928Z",
     "start_time": "2022-06-24T15:53:53.557137Z"
    }
   },
   "outputs": [],
   "source": [
    "dnds = pd.read_csv('skin_dndscv_full_results.txt', sep=\"\\t\")"
   ]
  },
  {
   "cell_type": "code",
   "execution_count": 50,
   "id": "1a91d132",
   "metadata": {
    "ExecuteTime": {
     "end_time": "2022-06-24T15:53:53.581612Z",
     "start_time": "2022-06-24T15:53:53.570562Z"
    }
   },
   "outputs": [],
   "source": [
    "structures_run = pd.read_csv(\"FoldX_results/structures_run.txt\", sep=\"\\t\")"
   ]
  },
  {
   "cell_type": "code",
   "execution_count": 51,
   "id": "4073ad3b",
   "metadata": {
    "ExecuteTime": {
     "end_time": "2022-06-24T15:59:24.340078Z",
     "start_time": "2022-06-24T15:53:53.585466Z"
    },
    "scrolled": true
   },
   "outputs": [],
   "source": [
    "res = []\n",
    "for i, row in structures_run.iterrows():\n",
    "    s = d_skin.run_section(row, lookup=fold, statistics=CDFMonteCarloTest(num_draws=100000))\n",
    "    res.append(s.get_results_dictionary())\n",
    "\n",
    "res = pd.DataFrame(res)"
   ]
  },
  {
   "cell_type": "code",
   "execution_count": 52,
   "id": "6bcf0bbc",
   "metadata": {
    "ExecuteTime": {
     "end_time": "2022-06-24T15:59:24.374444Z",
     "start_time": "2022-06-24T15:59:24.342272Z"
    }
   },
   "outputs": [],
   "source": [
    "z_shifts = res.groupby('gene').agg(['mean', 'sem'])['CDF_MC_glob_k3_cdf_mean']"
   ]
  },
  {
   "cell_type": "code",
   "execution_count": 53,
   "id": "c624bac9",
   "metadata": {
    "ExecuteTime": {
     "end_time": "2022-06-24T15:59:24.387580Z",
     "start_time": "2022-06-24T15:59:24.378153Z"
    }
   },
   "outputs": [],
   "source": [
    "merged = pd.merge(z_shifts, dnds, left_index=True, right_on='gene_name')"
   ]
  },
  {
   "cell_type": "code",
   "execution_count": 54,
   "id": "5cf999ef",
   "metadata": {
    "ExecuteTime": {
     "end_time": "2022-06-24T15:59:24.401159Z",
     "start_time": "2022-06-24T15:59:24.390825Z"
    }
   },
   "outputs": [],
   "source": [
    "merged['shift'] = merged['mean'] - 0.5"
   ]
  },
  {
   "cell_type": "code",
   "execution_count": 55,
   "id": "4695d72a",
   "metadata": {
    "ExecuteTime": {
     "end_time": "2022-06-24T15:59:25.006350Z",
     "start_time": "2022-06-24T15:59:24.410285Z"
    }
   },
   "outputs": [
    {
     "name": "stderr",
     "output_type": "stream",
     "text": [
      "/Users/mh28/miniconda3/envs/dsenv3/lib/python3.8/site-packages/seaborn/regression.py:301: RuntimeWarning: invalid value encountered in log\n",
      "  grid = np.c_[np.ones(len(grid)), np.log(grid)]\n",
      "/Users/mh28/miniconda3/envs/dsenv3/lib/python3.8/site-packages/numpy/lib/nanfunctions.py:1395: RuntimeWarning: All-NaN slice encountered\n",
      "  result = np.apply_along_axis(_nanquantile_1d, axis, a, q,\n"
     ]
    },
    {
     "data": {
      "image/png": "[encoded data removed]",
      "text/plain": [
       "<Figure size 360x360 with 1 Axes>"
      ]
     },
     "metadata": {
      "needs_background": "light"
     },
     "output_type": "display_data"
    }
   ],
   "source": [
    "plt.figure(figsize=(5, 5))\n",
    "sns.regplot(data=merged, y='shift', x='wnon_cv', logx=True, truncate=False)\n",
    "plt.xscale('log')\n",
    "\n",
    "plt.xticks([0.3, 0.5, 1, 2, 5, 10], [0.3, 0.5, 1, 2, 5, 10])\n",
    "xlim = plt.gca().get_xlim()\n",
    "ylim = plt.gca().get_ylim()\n",
    "plt.plot([1, 1], [-5, 5], 'k--', linewidth=0.5, zorder=-1)\n",
    "plt.plot([-10, 50], [0, 0], 'k--', linewidth=0.5, zorder=-1)\n",
    "plt.xlim(xlim)\n",
    "plt.xlim(left=0.2)\n",
    "plt.ylim(ylim)\n",
    "plt.ylabel('Mean ∆∆G CDF shift')\n",
    "plt.xlabel('Truncating dN/dS')\n",
    "hide_top_and_right_axes()"
   ]
  },
  {
   "cell_type": "code",
   "execution_count": null,
   "id": "445f5c11",
   "metadata": {},
   "outputs": [],
   "source": []
  }
 ],
 "metadata": {
  "kernelspec": {
   "display_name": "Python 3 (ipykernel)",
   "language": "python",
   "name": "python3"
  },
  "language_info": {
   "codemirror_mode": {
    "name": "ipython",
    "version": 3
   },
   "file_extension": ".py",
   "mimetype": "text/x-python",
   "name": "python",
   "nbconvert_exporter": "python",
   "pygments_lexer": "ipython3",
   "version": "3.8.13"
  }
 },
 "nbformat": 4,
 "nbformat_minor": 5
}
